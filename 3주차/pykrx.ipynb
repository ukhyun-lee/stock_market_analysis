{
  "nbformat": 4,
  "nbformat_minor": 0,
  "metadata": {
    "colab": {
      "private_outputs": true,
      "provenance": [],
      "include_colab_link": true
    },
    "kernelspec": {
      "name": "python3",
      "display_name": "Python 3"
    },
    "language_info": {
      "name": "python"
    }
  },
  "cells": [
    {
      "cell_type": "markdown",
      "metadata": {
        "id": "view-in-github",
        "colab_type": "text"
      },
      "source": [
        "<a href=\"https://colab.research.google.com/github/ukhyun-lee/stock_market_analysis/blob/main/3%EC%A3%BC%EC%B0%A8/pykrx.ipynb\" target=\"_parent\"><img src=\"https://colab.research.google.com/assets/colab-badge.svg\" alt=\"Open In Colab\"/></a>"
      ]
    },
    {
      "cell_type": "markdown",
      "source": [
        "- [pykrx](https://github.com/sharebook-kr/pykrx)\n",
        "- [네이버증권](https://finance.naver.com/)"
      ],
      "metadata": {
        "id": "jbg2N3D8x273"
      }
    },
    {
      "cell_type": "markdown",
      "source": [
        "# 설치"
      ],
      "metadata": {
        "id": "lEzupsu9x8-N"
      }
    },
    {
      "cell_type": "code",
      "execution_count": null,
      "metadata": {
        "id": "3_xeFoXdx0mu"
      },
      "outputs": [],
      "source": [
        "!pip install pykrx"
      ]
    },
    {
      "cell_type": "markdown",
      "source": [
        "# 특정종목 주가 가져오기"
      ],
      "metadata": {
        "id": "d3giSVCgx_Wd"
      }
    },
    {
      "cell_type": "code",
      "source": [
        "start_date = \"20230101\"\n",
        "end_date = \"20230411\"\n",
        "today = \"20230410\"\n",
        "ticker = \"373220\" # LG에너지 솔루션"
      ],
      "metadata": {
        "id": "xTf4UndT0gVC"
      },
      "execution_count": null,
      "outputs": []
    },
    {
      "cell_type": "code",
      "source": [
        "from pykrx import stock\n",
        "\n",
        "df = stock.get_market_ohlcv(start_date, end_date, ticker)\n",
        "df.head(3)"
      ],
      "metadata": {
        "id": "A0bOUo7-yDzj"
      },
      "execution_count": null,
      "outputs": []
    },
    {
      "cell_type": "code",
      "source": [
        "df['종가'].plot()"
      ],
      "metadata": {
        "id": "UmQYJVML8Cvp"
      },
      "execution_count": null,
      "outputs": []
    },
    {
      "cell_type": "markdown",
      "source": [
        "## 전체 주가 가져오기"
      ],
      "metadata": {
        "id": "_I3uhe2YyYda"
      }
    },
    {
      "cell_type": "code",
      "source": [
        "# import time\n",
        "# for ticker in stock.get_stock_ticker_list():\n",
        "#     df = stock.get_market_ohlcv(\"20181210\", \"20181212\", ticker)\n",
        "#     print(df.head())\n",
        "#     time.sleep(1)"
      ],
      "metadata": {
        "id": "tpu4Dp-fyGww"
      },
      "execution_count": null,
      "outputs": []
    },
    {
      "cell_type": "markdown",
      "source": [
        "# 특정 날짜 전체 시세 조회"
      ],
      "metadata": {
        "id": "KgxJlPVSylSu"
      }
    },
    {
      "cell_type": "code",
      "source": [
        "# market: 코스피(KOSPI)/코스닥(KOSDAQ)/코넥스(KONEX)/전체(ALL)\n",
        "df = stock.get_market_ohlcv(today, market=\"KOSPI\")\n",
        "df.head(3)"
      ],
      "metadata": {
        "id": "hj_013CvyoVV"
      },
      "execution_count": null,
      "outputs": []
    },
    {
      "cell_type": "markdown",
      "source": [
        "# 펀더멘탈"
      ],
      "metadata": {
        "id": "cCJP1RwYy8hy"
      }
    },
    {
      "cell_type": "code",
      "source": [
        "df = stock.get_market_fundamental(start_date, end_date, ticker)\n",
        "df.head(3)"
      ],
      "metadata": {
        "id": "kuzU0Cn8zPyk"
      },
      "execution_count": null,
      "outputs": []
    },
    {
      "cell_type": "markdown",
      "source": [
        "**EPS**\n",
        "\n",
        "$$주당 순이익 = \\frac{당기순이익}{유통주식수}$$\n",
        "\n",
        "- 당기순이익: 회사가 연간 벌어들이는 순이익\n",
        "- 유통주식수: 회사에 의해 발행되어 유통되는 전체 주식 수"
      ],
      "metadata": {
        "id": "eAvv0Cdf2XtF"
      }
    },
    {
      "cell_type": "markdown",
      "source": [
        "**PER**\n",
        "\n",
        "- 주가수익비율\n",
        "- 투자한 돈을 돌려받는데 소요되는 기간\n",
        "- 가격(주가) / 주당순이익(EPS)\n",
        "    - 예: 삼성전자 주가 5만원, 주당순이익 5천원 → PER은 10\n",
        "    - 주당순이익이 주가를 채우려면 10년이 소요됨\n",
        "- 동일 업종과 비교해야함\n",
        "- PER 계산시 EPS가 지속적으로 상승한다는 것은 PER이 낮아진 다는 것을 의미. 좋은 회사의 경우 PER이 낮아지다보면 매력적이어서 너도나도 매수하여 주가가 상승함\n",
        "    - PER이 낮아야 매력적임\n",
        "    - EPS가 상승하는 추세이면 주가가 상승하게됨"
      ],
      "metadata": {
        "id": "rws8i6ad3csH"
      }
    },
    {
      "cell_type": "markdown",
      "source": [
        "**BPS**\n",
        "\n",
        "$$주당 순자산가치 = \\frac{순자산}{유통주식수}$$\n",
        "\n",
        "- 주당 순자산가치\n",
        "- 순자산\n",
        "    - 회사가 가진 모든 자산(유형+무형) 중 부채(빚)을 제외한 자산"
      ],
      "metadata": {
        "id": "jZdabO9D3juS"
      }
    },
    {
      "cell_type": "markdown",
      "source": [
        "**PBR**\n",
        "\n",
        "$$주가 순자산비율 = \\frac{주가}{BPS(주당 순 자산가치)}$$\n",
        "\n",
        "- 주가순자산비율\n",
        "- 회사가 망했을 때, 내 투자금이 얼마나 안전한지를 나타내는 지표\n",
        "    - PBR ≤ 1: 저렴\n",
        "    - 1<PBR≤1.5: 준수/적당\n",
        "    - PBR ≥ 1.5: 높음\n",
        "\n",
        "- PBR은 종목보다는 코스피(시장)의 Valuation을 판단할 때 많이 사용\n",
        "- 성장성이 높은 회사는 높은 주가로 거래됨"
      ],
      "metadata": {
        "id": "_D7IOlVp3t9G"
      }
    },
    {
      "cell_type": "markdown",
      "source": [
        "**DPS**\n",
        "\n",
        "$$주당배당금 = \\frac{배당금 총액}{발행 주식수}$$\n",
        "\n",
        "- 주당 배당금(Dividend per Share)\n"
      ],
      "metadata": {
        "id": "VvN5itPl4XH6"
      }
    },
    {
      "cell_type": "markdown",
      "source": [
        "## 거래대금"
      ],
      "metadata": {
        "id": "ZuM1MiTfzapr"
      }
    },
    {
      "cell_type": "markdown",
      "source": [
        "## 일자별"
      ],
      "metadata": {
        "id": "dk2b52nXzwqP"
      }
    },
    {
      "cell_type": "code",
      "source": [
        "df = stock.get_market_trading_value_by_date(start_date, end_date, ticker)\n",
        "df.head()"
      ],
      "metadata": {
        "id": "WCEr74qpzb4f"
      },
      "execution_count": null,
      "outputs": []
    },
    {
      "cell_type": "markdown",
      "source": [
        "## 투자자별"
      ],
      "metadata": {
        "id": "PkxZ2X93zvBf"
      }
    },
    {
      "cell_type": "code",
      "source": [
        "df = stock.get_market_trading_value_by_investor(start_date, end_date, ticker)\n",
        "df.head()"
      ],
      "metadata": {
        "id": "jLq2n2tWzune"
      },
      "execution_count": null,
      "outputs": []
    },
    {
      "cell_type": "markdown",
      "source": [
        "# 투자자별 순매수 상위종목"
      ],
      "metadata": {
        "id": "b72aMjqB0BOw"
      }
    },
    {
      "cell_type": "markdown",
      "source": [
        "투자자 항목: 금융투자 / 보험 / 투신 / 사모 / 은행 / 기타금융 / 연기금 / 기관합계 / 기타법인 / 개인 / 외국인 / 기타외국인 / 전체"
      ],
      "metadata": {
        "id": "HBR3_iOd0Mpr"
      }
    },
    {
      "cell_type": "code",
      "source": [
        "df = stock.get_market_net_purchases_of_equities(start_date, end_date, \"KOSPI\", \"개인\")\n",
        "df.head()"
      ],
      "metadata": {
        "id": "aq36_oAX0CNy"
      },
      "execution_count": null,
      "outputs": []
    }
  ]
}