{
  "nbformat": 4,
  "nbformat_minor": 0,
  "metadata": {
    "colab": {
      "provenance": [],
      "authorship_tag": "ABX9TyO4lxsr+CbfgxXTCLP/hkMo",
      "include_colab_link": true
    },
    "kernelspec": {
      "name": "python3",
      "display_name": "Python 3"
    },
    "language_info": {
      "name": "python"
    }
  },
  "cells": [
    {
      "cell_type": "markdown",
      "metadata": {
        "id": "view-in-github",
        "colab_type": "text"
      },
      "source": [
        "<a href=\"https://colab.research.google.com/github/ukhyun-lee/stock_market_analysis/blob/main/%EC%A4%91%EA%B8%89/19%EC%9D%BC%EC%B0%A8_%EC%8B%A4%EC%8A%B52.ipynb\" target=\"_parent\"><img src=\"https://colab.research.google.com/assets/colab-badge.svg\" alt=\"Open In Colab\"/></a>"
      ]
    },
    {
      "cell_type": "code",
      "execution_count": 1,
      "metadata": {
        "id": "or7uUH6BZG-9"
      },
      "outputs": [],
      "source": [
        "import tensorflow as tf"
      ]
    },
    {
      "cell_type": "code",
      "source": [
        "from sklearn.datasets import load_iris"
      ],
      "metadata": {
        "id": "XDaeaAe2ZdNd"
      },
      "execution_count": 2,
      "outputs": []
    },
    {
      "cell_type": "code",
      "source": [
        "data = load_iris()"
      ],
      "metadata": {
        "id": "R1_7pJF0aKWm"
      },
      "execution_count": 3,
      "outputs": []
    },
    {
      "cell_type": "code",
      "source": [
        "data.data.shape"
      ],
      "metadata": {
        "colab": {
          "base_uri": "https://localhost:8080/"
        },
        "id": "7krBE2UnaM29",
        "outputId": "4cfed185-cd60-49c3-d463-5cc7bc0df5a6"
      },
      "execution_count": 4,
      "outputs": [
        {
          "output_type": "execute_result",
          "data": {
            "text/plain": [
              "(150, 4)"
            ]
          },
          "metadata": {},
          "execution_count": 4
        }
      ]
    },
    {
      "cell_type": "code",
      "source": [
        "import numpy as np"
      ],
      "metadata": {
        "id": "M4C73JI4dSQk"
      },
      "execution_count": 10,
      "outputs": []
    },
    {
      "cell_type": "code",
      "source": [
        "np.unique(data.target, return_counts=True)"
      ],
      "metadata": {
        "colab": {
          "base_uri": "https://localhost:8080/"
        },
        "id": "XEHXboDgdWiT",
        "outputId": "fce005ab-b4c2-4267-8c92-b4c6f396c669"
      },
      "execution_count": 11,
      "outputs": [
        {
          "output_type": "execute_result",
          "data": {
            "text/plain": [
              "(array([0, 1, 2]), array([50, 50, 50]))"
            ]
          },
          "metadata": {},
          "execution_count": 11
        }
      ]
    },
    {
      "cell_type": "code",
      "source": [
        "input_ = tf.keras.Input(shape=(4,))"
      ],
      "metadata": {
        "id": "GHvaVICIdOud"
      },
      "execution_count": 12,
      "outputs": []
    },
    {
      "cell_type": "code",
      "source": [
        "layer1 = tf.keras.layers.Dense(16)"
      ],
      "metadata": {
        "id": "GvODvExLdnH2"
      },
      "execution_count": 13,
      "outputs": []
    },
    {
      "cell_type": "code",
      "source": [
        "activation1 = tf.keras.layers.ReLU()"
      ],
      "metadata": {
        "id": "ZxM5pv6rdm_z"
      },
      "execution_count": 18,
      "outputs": []
    },
    {
      "cell_type": "code",
      "source": [
        "output = tf.keras.layers.Dense(3)"
      ],
      "metadata": {
        "id": "WtsgXfZneCIS"
      },
      "execution_count": 19,
      "outputs": []
    },
    {
      "cell_type": "code",
      "source": [
        "output(activation1(layer1(input_)))"
      ],
      "metadata": {
        "colab": {
          "base_uri": "https://localhost:8080/"
        },
        "id": "pqOlpYx8dm5f",
        "outputId": "00eb3d1f-e3d1-4506-f596-a80bc8f83e23"
      },
      "execution_count": 22,
      "outputs": [
        {
          "output_type": "execute_result",
          "data": {
            "text/plain": [
              "<KerasTensor: shape=(None, 3) dtype=float32 (created by layer 'dense_4')>"
            ]
          },
          "metadata": {},
          "execution_count": 22
        }
      ]
    },
    {
      "cell_type": "code",
      "source": [
        "# Memorization Capacity (w가 많을수록, layer가 많을수록 ) 크면 성능 좋아짐\n",
        "# 데이터 충분해야 overfitting 되지 않음\n",
        "# 학습하는데 또 Memorization Capacity 필요해서"
      ],
      "metadata": {
        "id": "6qetPw9bbQxb"
      },
      "execution_count": null,
      "outputs": []
    },
    {
      "cell_type": "code",
      "source": [
        "input_ = tf.keras.Input(shape=(4,))\n",
        "x = tf.keras.layers.Dense(16)(input_)\n",
        "x = tf.keras.layers.ReLU()(x)\n",
        "output = tf.keras.layers.Dense(3)(x)\n",
        "# 16,4,3은 임의로"
      ],
      "metadata": {
        "id": "YKdLEseCcjPt"
      },
      "execution_count": 23,
      "outputs": []
    },
    {
      "cell_type": "code",
      "source": [
        "model = tf.keras.models.Model(input_, output)"
      ],
      "metadata": {
        "id": "R2hYTEsugeGk"
      },
      "execution_count": 24,
      "outputs": []
    },
    {
      "cell_type": "code",
      "source": [
        "model"
      ],
      "metadata": {
        "colab": {
          "base_uri": "https://localhost:8080/"
        },
        "id": "QzMagucNi1KQ",
        "outputId": "3d0188d4-efe7-4349-8c57-9cf7499fdb77"
      },
      "execution_count": 25,
      "outputs": [
        {
          "output_type": "execute_result",
          "data": {
            "text/plain": [
              "<keras.engine.functional.Functional at 0x7d37956316f0>"
            ]
          },
          "metadata": {},
          "execution_count": 25
        }
      ]
    },
    {
      "cell_type": "code",
      "source": [
        "import numpy as np"
      ],
      "metadata": {
        "id": "xvZ4hXkqkDxn"
      },
      "execution_count": 28,
      "outputs": []
    },
    {
      "cell_type": "code",
      "source": [
        "x = np.array([[1,1,1,1]])"
      ],
      "metadata": {
        "id": "ExC7gFgpkDvo"
      },
      "execution_count": 29,
      "outputs": []
    },
    {
      "cell_type": "code",
      "source": [
        "model(x)    # feedforward 자체가 Prediction"
      ],
      "metadata": {
        "colab": {
          "base_uri": "https://localhost:8080/"
        },
        "id": "eSAppIJ_kDtQ",
        "outputId": "19f44eb0-dfe2-4842-c4d2-8adc8a268f6f"
      },
      "execution_count": 30,
      "outputs": [
        {
          "output_type": "execute_result",
          "data": {
            "text/plain": [
              "<tf.Tensor: shape=(1, 3), dtype=float32, numpy=array([[-0.7397045 , -0.17163745, -0.73272264]], dtype=float32)>"
            ]
          },
          "metadata": {},
          "execution_count": 30
        }
      ]
    },
    {
      "cell_type": "code",
      "source": [
        "model.summary()"
      ],
      "metadata": {
        "colab": {
          "base_uri": "https://localhost:8080/"
        },
        "id": "RrG1CqJEgeEJ",
        "outputId": "b4436196-383e-4012-ca1e-9e89e76e9845"
      },
      "execution_count": 26,
      "outputs": [
        {
          "output_type": "stream",
          "name": "stdout",
          "text": [
            "Model: \"model\"\n",
            "_________________________________________________________________\n",
            " Layer (type)                Output Shape              Param #   \n",
            "=================================================================\n",
            " input_3 (InputLayer)        [(None, 4)]               0         \n",
            "                                                                 \n",
            " dense_5 (Dense)             (None, 16)                80        \n",
            "                                                                 \n",
            " re_lu_2 (ReLU)              (None, 16)                0         \n",
            "                                                                 \n",
            " dense_6 (Dense)             (None, 3)                 51        \n",
            "                                                                 \n",
            "=================================================================\n",
            "Total params: 131\n",
            "Trainable params: 131\n",
            "Non-trainable params: 0\n",
            "_________________________________________________________________\n"
          ]
        }
      ]
    },
    {
      "cell_type": "code",
      "source": [
        "4*16=64+16=80\n",
        "3*16=48+3=51"
      ],
      "metadata": {
        "id": "3Kby_uHVjYxg"
      },
      "execution_count": null,
      "outputs": []
    },
    {
      "cell_type": "code",
      "source": [
        "model.weights"
      ],
      "metadata": {
        "colab": {
          "base_uri": "https://localhost:8080/"
        },
        "id": "2bzJvJ7JgeCB",
        "outputId": "ccf23faa-e980-428a-df88-0712539d9b03"
      },
      "execution_count": 27,
      "outputs": [
        {
          "output_type": "execute_result",
          "data": {
            "text/plain": [
              "[<tf.Variable 'dense_5/kernel:0' shape=(4, 16) dtype=float32, numpy=\n",
              " array([[-0.4180975 ,  0.4046859 , -0.22390476, -0.5341304 ,  0.21330214,\n",
              "          0.03934175,  0.14344132,  0.09986097,  0.45203716,  0.48383117,\n",
              "          0.02705818, -0.18384501,  0.32146478,  0.51581466,  0.05231196,\n",
              "          0.38418776],\n",
              "        [ 0.08846307,  0.1101827 ,  0.07939941,  0.10630387, -0.35884655,\n",
              "         -0.33593804,  0.0298385 , -0.49016678,  0.46410775, -0.12915638,\n",
              "          0.34595305, -0.43762788,  0.32461482,  0.47148943, -0.17222655,\n",
              "          0.2822314 ],\n",
              "        [-0.1598675 , -0.5383063 , -0.2584153 , -0.35558122, -0.11775875,\n",
              "         -0.21153319,  0.11366689,  0.17102486,  0.19320774, -0.19563183,\n",
              "         -0.2839703 , -0.52987325, -0.1528166 , -0.4243008 , -0.4824257 ,\n",
              "         -0.40829694],\n",
              "        [ 0.17667383, -0.5272461 ,  0.30197126, -0.27462208, -0.32235694,\n",
              "         -0.40589702,  0.24843371,  0.45515466,  0.40048784, -0.01634336,\n",
              "         -0.31119424,  0.23648918, -0.07115346, -0.44444218, -0.25847995,\n",
              "          0.52533484]], dtype=float32)>,\n",
              " <tf.Variable 'dense_5/bias:0' shape=(16,) dtype=float32, numpy=\n",
              " array([0., 0., 0., 0., 0., 0., 0., 0., 0., 0., 0., 0., 0., 0., 0., 0.],\n",
              "       dtype=float32)>,\n",
              " <tf.Variable 'dense_6/kernel:0' shape=(16, 3) dtype=float32, numpy=\n",
              " array([[-0.28516138, -0.36583418, -0.381455  ],\n",
              "        [ 0.17589629, -0.01487255,  0.1594708 ],\n",
              "        [-0.16014296,  0.07903004, -0.34152502],\n",
              "        [-0.26076397,  0.17593658, -0.5469374 ],\n",
              "        [-0.41488427,  0.50466186,  0.16821158],\n",
              "        [-0.22061038,  0.52923125, -0.33053333],\n",
              "        [ 0.44904774, -0.4551438 ,  0.02537787],\n",
              "        [-0.5144341 , -0.2739678 , -0.5438062 ],\n",
              "        [-0.50540656,  0.183608  , -0.21443766],\n",
              "        [ 0.4043926 , -0.37639058, -0.5246936 ],\n",
              "        [ 0.10814303,  0.48232335, -0.22211376],\n",
              "        [ 0.29835558,  0.04767102,  0.09131235],\n",
              "        [-0.3461922 ,  0.23019809,  0.11807376],\n",
              "        [ 0.33543873,  0.36816472,  0.33645052],\n",
              "        [ 0.43583828, -0.27604756, -0.20740724],\n",
              "        [-0.06003737, -0.29059333, -0.39457133]], dtype=float32)>,\n",
              " <tf.Variable 'dense_6/bias:0' shape=(3,) dtype=float32, numpy=array([0., 0., 0.], dtype=float32)>]"
            ]
          },
          "metadata": {},
          "execution_count": 27
        }
      ]
    },
    {
      "cell_type": "code",
      "source": [],
      "metadata": {
        "id": "fFcFjXqRgd_8"
      },
      "execution_count": null,
      "outputs": []
    },
    {
      "cell_type": "code",
      "source": [
        "x = tf.keras.Input(shape=(4,))"
      ],
      "metadata": {
        "id": "FStyA5LxabNN"
      },
      "execution_count": 5,
      "outputs": []
    },
    {
      "cell_type": "code",
      "source": [
        "layer1 = tf.keras.layers.Dense(16)"
      ],
      "metadata": {
        "id": "DiDg7lN9a6gV"
      },
      "execution_count": 6,
      "outputs": []
    },
    {
      "cell_type": "code",
      "source": [
        "layer2 = tf.keras.layers.Dense(16)"
      ],
      "metadata": {
        "id": "tbhe9GYccmIt"
      },
      "execution_count": 8,
      "outputs": []
    }
  ]
}