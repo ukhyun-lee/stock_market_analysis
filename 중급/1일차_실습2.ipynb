{
  "nbformat": 4,
  "nbformat_minor": 0,
  "metadata": {
    "colab": {
      "provenance": [],
      "authorship_tag": "ABX9TyNkGdyqw6ROG/5A+NcwBySc",
      "include_colab_link": true
    },
    "kernelspec": {
      "name": "python3",
      "display_name": "Python 3"
    },
    "language_info": {
      "name": "python"
    }
  },
  "cells": [
    {
      "cell_type": "markdown",
      "metadata": {
        "id": "view-in-github",
        "colab_type": "text"
      },
      "source": [
        "<a href=\"https://colab.research.google.com/github/ukhyun-lee/stock_market_analysis/blob/main/%EC%A4%91%EA%B8%89/1%EC%9D%BC%EC%B0%A8_%EC%8B%A4%EC%8A%B52.ipynb\" target=\"_parent\"><img src=\"https://colab.research.google.com/assets/colab-badge.svg\" alt=\"Open In Colab\"/></a>"
      ]
    },
    {
      "cell_type": "code",
      "execution_count": null,
      "metadata": {
        "id": "zo6VMXWpqXhb"
      },
      "outputs": [],
      "source": [
        "import seaborn as sns"
      ]
    },
    {
      "cell_type": "code",
      "source": [
        "tips = sns.load_dataset('tips')"
      ],
      "metadata": {
        "id": "G_wKIi20qehn"
      },
      "execution_count": null,
      "outputs": []
    },
    {
      "cell_type": "code",
      "source": [
        "print(tips)"
      ],
      "metadata": {
        "colab": {
          "base_uri": "https://localhost:8080/"
        },
        "id": "wE-ECjjIq5PE",
        "outputId": "30524a6c-7877-410e-91b1-57ea51d294b1"
      },
      "execution_count": null,
      "outputs": [
        {
          "output_type": "stream",
          "name": "stdout",
          "text": [
            "     total_bill   tip     sex smoker   day    time  size\n",
            "0         16.99  1.01  Female     No   Sun  Dinner     2\n",
            "1         10.34  1.66    Male     No   Sun  Dinner     3\n",
            "2         21.01  3.50    Male     No   Sun  Dinner     3\n",
            "3         23.68  3.31    Male     No   Sun  Dinner     2\n",
            "4         24.59  3.61  Female     No   Sun  Dinner     4\n",
            "..          ...   ...     ...    ...   ...     ...   ...\n",
            "239       29.03  5.92    Male     No   Sat  Dinner     3\n",
            "240       27.18  2.00  Female    Yes   Sat  Dinner     2\n",
            "241       22.67  2.00    Male    Yes   Sat  Dinner     2\n",
            "242       17.82  1.75    Male     No   Sat  Dinner     2\n",
            "243       18.78  3.00  Female     No  Thur  Dinner     2\n",
            "\n",
            "[244 rows x 7 columns]\n"
          ]
        }
      ]
    },
    {
      "cell_type": "markdown",
      "source": [
        "#실수로 잘못 입력되어 있음 -1 > +1"
      ],
      "metadata": {
        "id": "Q46KHztwqjNT"
      }
    },
    {
      "cell_type": "code",
      "source": [
        "tips.duplicated()"
      ],
      "metadata": {
        "colab": {
          "base_uri": "https://localhost:8080/"
        },
        "id": "pEQYzLOXtscE",
        "outputId": "4ad9e15d-6f49-46d4-f198-f653972fcb4f"
      },
      "execution_count": null,
      "outputs": [
        {
          "output_type": "execute_result",
          "data": {
            "text/plain": [
              "0      False\n",
              "1      False\n",
              "2      False\n",
              "3      False\n",
              "4      False\n",
              "       ...  \n",
              "239    False\n",
              "240    False\n",
              "241    False\n",
              "242    False\n",
              "243    False\n",
              "Length: 244, dtype: bool"
            ]
          },
          "metadata": {},
          "execution_count": 31
        }
      ]
    },
    {
      "cell_type": "code",
      "source": [
        "for i in tips['total_bill'] :\n",
        "  print(i+1)"
      ],
      "metadata": {
        "colab": {
          "base_uri": "https://localhost:8080/"
        },
        "id": "REHL24D4qoSJ",
        "outputId": "ffa80b28-3ab6-4cd9-9355-91185466d00f"
      },
      "execution_count": null,
      "outputs": [
        {
          "output_type": "stream",
          "name": "stdout",
          "text": [
            "17.99\n",
            "11.34\n",
            "22.01\n",
            "24.68\n",
            "25.59\n",
            "26.29\n",
            "9.77\n",
            "27.88\n",
            "16.04\n",
            "15.78\n",
            "11.27\n",
            "36.26\n",
            "16.42\n",
            "19.43\n",
            "15.83\n",
            "22.58\n",
            "11.33\n",
            "17.29\n",
            "17.97\n",
            "21.65\n",
            "18.92\n",
            "21.29\n",
            "16.77\n",
            "40.42\n",
            "20.82\n",
            "18.81\n",
            "14.37\n",
            "13.69\n",
            "22.7\n",
            "20.65\n",
            "10.55\n",
            "19.35\n",
            "16.060000000000002\n",
            "21.69\n",
            "18.78\n",
            "25.06\n",
            "17.31\n",
            "17.93\n",
            "19.69\n",
            "32.269999999999996\n",
            "17.04\n",
            "18.46\n",
            "14.94\n",
            "10.68\n",
            "31.4\n",
            "19.29\n",
            "23.23\n",
            "33.4\n",
            "29.55\n",
            "19.04\n",
            "13.54\n",
            "11.29\n",
            "35.81\n",
            "10.94\n",
            "26.56\n",
            "20.49\n",
            "39.01\n",
            "27.41\n",
            "12.24\n",
            "49.27\n",
            "21.29\n",
            "14.81\n",
            "12.02\n",
            "19.29\n",
            "18.59\n",
            "21.08\n",
            "17.45\n",
            "4.07\n",
            "21.23\n",
            "16.009999999999998\n",
            "13.02\n",
            "18.07\n",
            "27.86\n",
            "26.28\n",
            "15.73\n",
            "11.51\n",
            "18.92\n",
            "28.2\n",
            "23.76\n",
            "18.29\n",
            "20.44\n",
            "17.66\n",
            "11.07\n",
            "33.68\n",
            "16.98\n",
            "35.83\n",
            "14.03\n",
            "19.28\n",
            "25.71\n",
            "22.16\n",
            "29.97\n",
            "23.49\n",
            "6.75\n",
            "17.32\n",
            "23.75\n",
            "41.17\n",
            "28.28\n",
            "13.03\n",
            "22.01\n",
            "13.46\n",
            "12.35\n",
            "16.380000000000003\n",
            "45.3\n",
            "23.42\n",
            "21.92\n",
            "16.36\n",
            "21.49\n",
            "26.21\n",
            "19.24\n",
            "15.31\n",
            "15.0\n",
            "8.25\n",
            "39.07\n",
            "24.95\n",
            "26.71\n",
            "18.31\n",
            "30.93\n",
            "11.65\n",
            "13.43\n",
            "25.08\n",
            "12.69\n",
            "14.42\n",
            "15.26\n",
            "16.95\n",
            "13.48\n",
            "30.8\n",
            "9.52\n",
            "15.52\n",
            "12.38\n",
            "23.82\n",
            "20.08\n",
            "21.27\n",
            "12.17\n",
            "13.26\n",
            "19.26\n",
            "9.51\n",
            "11.33\n",
            "15.15\n",
            "17.0\n",
            "14.16\n",
            "18.47\n",
            "35.3\n",
            "42.19\n",
            "28.05\n",
            "17.43\n",
            "9.35\n",
            "19.64\n",
            "12.87\n",
            "10.78\n",
            "8.51\n",
            "15.07\n",
            "14.13\n",
            "18.26\n",
            "25.55\n",
            "20.77\n",
            "30.85\n",
            "49.17\n",
            "26.0\n",
            "14.39\n",
            "17.49\n",
            "22.5\n",
            "13.66\n",
            "17.21\n",
            "14.81\n",
            "18.51\n",
            "25.52\n",
            "21.76\n",
            "32.71\n",
            "11.59\n",
            "11.63\n",
            "51.81\n",
            "16.810000000000002\n",
            "8.25\n",
            "32.85\n",
            "17.82\n",
            "33.9\n",
            "18.89\n",
            "15.48\n",
            "10.6\n",
            "35.63\n",
            "35.65\n",
            "24.33\n",
            "46.35\n",
            "24.17\n",
            "41.55\n",
            "21.69\n",
            "21.9\n",
            "31.46\n",
            "19.15\n",
            "24.1\n",
            "16.689999999999998\n",
            "20.81\n",
            "29.44\n",
            "16.48\n",
            "17.58\n",
            "8.559999999999999\n",
            "11.34\n",
            "44.11\n",
            "14.0\n",
            "14.51\n",
            "19.71\n",
            "13.74\n",
            "14.0\n",
            "17.4\n",
            "21.53\n",
            "17.47\n",
            "27.59\n",
            "39.73\n",
            "25.27\n",
            "13.76\n",
            "31.06\n",
            "26.89\n",
            "49.33\n",
            "14.27\n",
            "29.17\n",
            "13.9\n",
            "29.15\n",
            "12.59\n",
            "8.74\n",
            "31.14\n",
            "13.16\n",
            "14.42\n",
            "9.58\n",
            "16.98\n",
            "14.42\n",
            "17.27\n",
            "11.09\n",
            "21.45\n",
            "14.28\n",
            "23.12\n",
            "25.01\n",
            "16.689999999999998\n",
            "12.61\n",
            "11.77\n",
            "16.53\n",
            "11.07\n",
            "13.6\n",
            "33.83\n",
            "36.83\n",
            "30.03\n",
            "28.18\n",
            "23.67\n",
            "18.82\n",
            "19.78\n"
          ]
        }
      ]
    },
    {
      "cell_type": "code",
      "source": [
        "tips['total_bill'].map(lambda x:x+1)"
      ],
      "metadata": {
        "colab": {
          "base_uri": "https://localhost:8080/"
        },
        "id": "-TzlLHnQr_Bq",
        "outputId": "9033fb1d-d815-495a-fd54-3854fbb0f47a"
      },
      "execution_count": null,
      "outputs": [
        {
          "output_type": "execute_result",
          "data": {
            "text/plain": [
              "0      17.99\n",
              "1      11.34\n",
              "2      22.01\n",
              "3      24.68\n",
              "4      25.59\n",
              "       ...  \n",
              "239    30.03\n",
              "240    28.18\n",
              "241    23.67\n",
              "242    18.82\n",
              "243    19.78\n",
              "Name: total_bill, Length: 244, dtype: float64"
            ]
          },
          "metadata": {},
          "execution_count": 14
        }
      ]
    },
    {
      "cell_type": "code",
      "source": [
        "def x(t):\n",
        "    return t"
      ],
      "metadata": {
        "id": "3QZCVO6ksP2d"
      },
      "execution_count": null,
      "outputs": []
    },
    {
      "cell_type": "markdown",
      "source": [
        "다음중 함수는 => 이름 자체, ()는 별도\n",
        "1. x()\n",
        "2. x\n",
        "3. x(t)\n",
        "4. x(5)*이탤릭체 텍스트*"
      ],
      "metadata": {
        "id": "mrwACctGsimu"
      }
    },
    {
      "cell_type": "code",
      "source": [
        "x"
      ],
      "metadata": {
        "colab": {
          "base_uri": "https://localhost:8080/"
        },
        "id": "x6OhBRf4ssM7",
        "outputId": "f42c5904-ebbe-40aa-c095-2505516f9574"
      },
      "execution_count": null,
      "outputs": [
        {
          "output_type": "execute_result",
          "data": {
            "text/plain": [
              "<function __main__.x(t)>"
            ]
          },
          "metadata": {},
          "execution_count": 17
        }
      ]
    },
    {
      "cell_type": "code",
      "source": [
        "x(3)"
      ],
      "metadata": {
        "colab": {
          "base_uri": "https://localhost:8080/"
        },
        "id": "A_OafEUquQEo",
        "outputId": "4d8e21d6-1b3c-4752-cd5a-a8ee7669ec04"
      },
      "execution_count": null,
      "outputs": [
        {
          "output_type": "execute_result",
          "data": {
            "text/plain": [
              "3"
            ]
          },
          "metadata": {},
          "execution_count": 27
        }
      ]
    },
    {
      "cell_type": "code",
      "source": [
        "b = int(4)"
      ],
      "metadata": {
        "id": "9EPXy84OuR9g"
      },
      "execution_count": null,
      "outputs": []
    },
    {
      "cell_type": "code",
      "source": [
        "b"
      ],
      "metadata": {
        "colab": {
          "base_uri": "https://localhost:8080/"
        },
        "id": "A5YKvBv5uUym",
        "outputId": "bbba455b-243b-4113-bbdd-8145abcdae8c"
      },
      "execution_count": null,
      "outputs": [
        {
          "output_type": "execute_result",
          "data": {
            "text/plain": [
              "4"
            ]
          },
          "metadata": {},
          "execution_count": 29
        }
      ]
    },
    {
      "cell_type": "code",
      "source": [],
      "metadata": {
        "id": "wMy6zSyguYCw"
      },
      "execution_count": null,
      "outputs": []
    },
    {
      "cell_type": "code",
      "source": [
        "callable(x)"
      ],
      "metadata": {
        "colab": {
          "base_uri": "https://localhost:8080/"
        },
        "id": "43mjPSktsv6x",
        "outputId": "313b7f49-ca6e-4952-e47b-089acf427874"
      },
      "execution_count": null,
      "outputs": [
        {
          "output_type": "execute_result",
          "data": {
            "text/plain": [
              "True"
            ]
          },
          "metadata": {},
          "execution_count": 18
        }
      ]
    },
    {
      "cell_type": "code",
      "source": [
        "class A:\n",
        "  pass"
      ],
      "metadata": {
        "id": "0Y7IleXVtbCR"
      },
      "execution_count": null,
      "outputs": []
    },
    {
      "cell_type": "code",
      "source": [
        "callable(A)"
      ],
      "metadata": {
        "colab": {
          "base_uri": "https://localhost:8080/"
        },
        "id": "fiJAlIiptdwp",
        "outputId": "60955e5f-07f9-4919-bf5c-819918c5dc39"
      },
      "execution_count": null,
      "outputs": [
        {
          "output_type": "execute_result",
          "data": {
            "text/plain": [
              "True"
            ]
          },
          "metadata": {},
          "execution_count": 22
        }
      ]
    },
    {
      "cell_type": "code",
      "source": [
        "A()"
      ],
      "metadata": {
        "colab": {
          "base_uri": "https://localhost:8080/"
        },
        "id": "lEumN_iftiEg",
        "outputId": "25c8796c-88d2-4e4b-a78e-4f89a98ed445"
      },
      "execution_count": null,
      "outputs": [
        {
          "output_type": "execute_result",
          "data": {
            "text/plain": [
              "<__main__.A at 0x7fb4922bfa60>"
            ]
          },
          "metadata": {},
          "execution_count": 23
        }
      ]
    },
    {
      "cell_type": "code",
      "source": [
        "x(4)"
      ],
      "metadata": {
        "colab": {
          "base_uri": "https://localhost:8080/"
        },
        "id": "UEmq2c1ksztg",
        "outputId": "377a6f92-d470-4766-cb96-22d8a788e2ef"
      },
      "execution_count": null,
      "outputs": [
        {
          "output_type": "execute_result",
          "data": {
            "text/plain": [
              "4"
            ]
          },
          "metadata": {},
          "execution_count": 19
        }
      ]
    },
    {
      "cell_type": "code",
      "source": [
        "callable(4)"
      ],
      "metadata": {
        "colab": {
          "base_uri": "https://localhost:8080/"
        },
        "id": "CL5zwA2Bs2lt",
        "outputId": "60f9f9e5-6b6c-4b1c-fef0-0e7ccff16eb2"
      },
      "execution_count": null,
      "outputs": [
        {
          "output_type": "execute_result",
          "data": {
            "text/plain": [
              "False"
            ]
          },
          "metadata": {},
          "execution_count": 20
        }
      ]
    },
    {
      "cell_type": "code",
      "source": [
        "4()"
      ],
      "metadata": {
        "colab": {
          "base_uri": "https://localhost:8080/",
          "height": 248
        },
        "id": "Fo1poPA2t3hY",
        "outputId": "b7a44546-6bfb-4ecb-8772-d5ca46c3ec8a"
      },
      "execution_count": null,
      "outputs": [
        {
          "output_type": "stream",
          "name": "stderr",
          "text": [
            "<>:1: SyntaxWarning: 'int' object is not callable; perhaps you missed a comma?\n",
            "<>:1: SyntaxWarning: 'int' object is not callable; perhaps you missed a comma?\n",
            "<ipython-input-26-e1983674adb6>:1: SyntaxWarning: 'int' object is not callable; perhaps you missed a comma?\n",
            "  4()\n"
          ]
        },
        {
          "output_type": "error",
          "ename": "TypeError",
          "evalue": "ignored",
          "traceback": [
            "\u001b[0;31m---------------------------------------------------------------------------\u001b[0m",
            "\u001b[0;31mTypeError\u001b[0m                                 Traceback (most recent call last)",
            "\u001b[0;32m<ipython-input-26-e1983674adb6>\u001b[0m in \u001b[0;36m<cell line: 1>\u001b[0;34m()\u001b[0m\n\u001b[0;32m----> 1\u001b[0;31m \u001b[0;36m4\u001b[0m\u001b[0;34m(\u001b[0m\u001b[0;34m)\u001b[0m\u001b[0;34m\u001b[0m\u001b[0;34m\u001b[0m\u001b[0m\n\u001b[0m",
            "\u001b[0;31mTypeError\u001b[0m: 'int' object is not callable"
          ]
        }
      ]
    },
    {
      "cell_type": "markdown",
      "source": [
        "callable\n",
        " - function or method (class안에 정의된 함수)\n",
        " - class\n",
        " - call    __call__"
      ],
      "metadata": {
        "id": "YnlZPB-Euuo9"
      }
    },
    {
      "cell_type": "code",
      "source": [
        "[1,2,3,4]"
      ],
      "metadata": {
        "colab": {
          "base_uri": "https://localhost:8080/"
        },
        "id": "rAkV0kdmvSrA",
        "outputId": "f26ba72f-4735-446f-de50-d03e37bc95e5"
      },
      "execution_count": null,
      "outputs": [
        {
          "output_type": "execute_result",
          "data": {
            "text/plain": [
              "[1, 2, 3, 4]"
            ]
          },
          "metadata": {},
          "execution_count": 33
        }
      ]
    },
    {
      "cell_type": "code",
      "source": [
        "len([1,2,3,4])"
      ],
      "metadata": {
        "colab": {
          "base_uri": "https://localhost:8080/"
        },
        "id": "ZgkqkCMjvVw3",
        "outputId": "a4d8320e-373e-4aa0-9e10-bfde8c3ca79c"
      },
      "execution_count": null,
      "outputs": [
        {
          "output_type": "execute_result",
          "data": {
            "text/plain": [
              "4"
            ]
          },
          "metadata": {},
          "execution_count": 35
        }
      ]
    },
    {
      "cell_type": "code",
      "source": [
        "class A:\n",
        "  def x(self):\n",
        "    print('x')"
      ],
      "metadata": {
        "id": "10SU9rWSusv9"
      },
      "execution_count": null,
      "outputs": []
    },
    {
      "cell_type": "code",
      "source": [
        "def ttt(x):\n",
        "    return x"
      ],
      "metadata": {
        "id": "9k55OaKkwt2X"
      },
      "execution_count": null,
      "outputs": []
    },
    {
      "cell_type": "code",
      "source": [
        "ttt"
      ],
      "metadata": {
        "colab": {
          "base_uri": "https://localhost:8080/"
        },
        "id": "oR1-vlB3w-Yx",
        "outputId": "8d8ad805-6f01-4959-d2a3-eafbfbe919d8"
      },
      "execution_count": null,
      "outputs": [
        {
          "output_type": "execute_result",
          "data": {
            "text/plain": [
              "<function __main__.ttt(x)>"
            ]
          },
          "metadata": {},
          "execution_count": 38
        }
      ]
    },
    {
      "cell_type": "markdown",
      "source": [
        "main <- 현재 파일에서 직접 정의했다는 의미"
      ],
      "metadata": {
        "id": "E8C1g9y7w7Ed"
      }
    },
    {
      "cell_type": "code",
      "source": [
        "ttt.__name__"
      ],
      "metadata": {
        "colab": {
          "base_uri": "https://localhost:8080/",
          "height": 35
        },
        "id": "44h9cttpxPUs",
        "outputId": "a30c5c9d-64d8-48a6-a600-d02f20bb85aa"
      },
      "execution_count": null,
      "outputs": [
        {
          "output_type": "execute_result",
          "data": {
            "text/plain": [
              "'ttt'"
            ],
            "application/vnd.google.colaboratory.intrinsic+json": {
              "type": "string"
            }
          },
          "metadata": {},
          "execution_count": 39
        }
      ]
    },
    {
      "cell_type": "code",
      "source": [
        "print('sun')"
      ],
      "metadata": {
        "colab": {
          "base_uri": "https://localhost:8080/"
        },
        "id": "owu4p2suxtaa",
        "outputId": "4eabd4f2-1966-4f4a-ee4f-494e0cf2f6de"
      },
      "execution_count": null,
      "outputs": [
        {
          "output_type": "stream",
          "name": "stdout",
          "text": [
            "sun\n"
          ]
        }
      ]
    },
    {
      "cell_type": "code",
      "source": [
        "a = print"
      ],
      "metadata": {
        "id": "znfIXh1nxxUw"
      },
      "execution_count": null,
      "outputs": []
    },
    {
      "cell_type": "code",
      "source": [
        "a('sun')"
      ],
      "metadata": {
        "colab": {
          "base_uri": "https://localhost:8080/"
        },
        "id": "pwUNxFsUx2jm",
        "outputId": "6110fa96-8ee7-4e8a-d956-a8af737c3439"
      },
      "execution_count": null,
      "outputs": [
        {
          "output_type": "stream",
          "name": "stdout",
          "text": [
            "sun\n"
          ]
        }
      ]
    },
    {
      "cell_type": "code",
      "source": [
        "a.__name__"
      ],
      "metadata": {
        "colab": {
          "base_uri": "https://localhost:8080/",
          "height": 35
        },
        "id": "FBwgD4ozxzfP",
        "outputId": "b0027739-b4cb-4ce4-ad6b-e3a6f9218045"
      },
      "execution_count": null,
      "outputs": [
        {
          "output_type": "execute_result",
          "data": {
            "text/plain": [
              "'print'"
            ],
            "application/vnd.google.colaboratory.intrinsic+json": {
              "type": "string"
            }
          },
          "metadata": {},
          "execution_count": 42
        }
      ]
    },
    {
      "cell_type": "code",
      "source": [
        "a.__qualname__"
      ],
      "metadata": {
        "colab": {
          "base_uri": "https://localhost:8080/",
          "height": 35
        },
        "id": "_i3Yg6V7x49d",
        "outputId": "d17ac34c-b0f5-4817-ab89-b01aa662ec06"
      },
      "execution_count": null,
      "outputs": [
        {
          "output_type": "execute_result",
          "data": {
            "text/plain": [
              "'print'"
            ],
            "application/vnd.google.colaboratory.intrinsic+json": {
              "type": "string"
            }
          },
          "metadata": {},
          "execution_count": 44
        }
      ]
    },
    {
      "cell_type": "code",
      "source": [
        "def b(x) : \n",
        "    return x+1"
      ],
      "metadata": {
        "id": "A56C2Y9SyGpw"
      },
      "execution_count": null,
      "outputs": []
    },
    {
      "cell_type": "code",
      "source": [
        "b = lambda x:x+1"
      ],
      "metadata": {
        "id": "0e4OPfX6x_Iy"
      },
      "execution_count": null,
      "outputs": []
    },
    {
      "cell_type": "code",
      "source": [
        "b.__name__"
      ],
      "metadata": {
        "colab": {
          "base_uri": "https://localhost:8080/",
          "height": 35
        },
        "id": "aTJMql70yP70",
        "outputId": "8fd0dda9-0324-4a4e-dec7-c2ff49a9f71a"
      },
      "execution_count": null,
      "outputs": [
        {
          "output_type": "execute_result",
          "data": {
            "text/plain": [
              "'<lambda>'"
            ],
            "application/vnd.google.colaboratory.intrinsic+json": {
              "type": "string"
            }
          },
          "metadata": {},
          "execution_count": 48
        }
      ]
    },
    {
      "cell_type": "markdown",
      "source": [
        "이름을 정한다는 것은 재활용/재사용을 목적으로 \n",
        "그래서 휘발성인 메모리에 저장/관리"
      ],
      "metadata": {
        "id": "m8hnA3iFyVkc"
      }
    },
    {
      "cell_type": "markdown",
      "source": [
        "lambda ==> 익명 "
      ],
      "metadata": {
        "id": "Guq7lnXEyqkj"
      }
    },
    {
      "cell_type": "markdown",
      "source": [
        "#LEGB (local / global) -> 함수 안/ 함수 밖"
      ],
      "metadata": {
        "id": "OVj6J6fpzyzh"
      }
    },
    {
      "cell_type": "code",
      "source": [
        "ttt = 1\n",
        "def x():\n",
        "    return ttt"
      ],
      "metadata": {
        "id": "qpgL8HlDzY-a"
      },
      "execution_count": null,
      "outputs": []
    },
    {
      "cell_type": "code",
      "source": [
        "x()"
      ],
      "metadata": {
        "colab": {
          "base_uri": "https://localhost:8080/"
        },
        "id": "uLogMWy-zgX3",
        "outputId": "e892becf-7361-4da3-cf2e-d2ddd2ce9ba0"
      },
      "execution_count": null,
      "outputs": [
        {
          "output_type": "execute_result",
          "data": {
            "text/plain": [
              "1"
            ]
          },
          "metadata": {},
          "execution_count": 54
        }
      ]
    },
    {
      "cell_type": "code",
      "source": [
        "ttt = 1\n",
        "def y():\n",
        "    ttt = 2\n",
        "    return ttt"
      ],
      "metadata": {
        "id": "viAkzBT5znCF"
      },
      "execution_count": null,
      "outputs": []
    },
    {
      "cell_type": "code",
      "source": [
        "y()"
      ],
      "metadata": {
        "colab": {
          "base_uri": "https://localhost:8080/"
        },
        "id": "B9UacqsDztGj",
        "outputId": "af9d6f01-22fb-473d-e087-c4c89c55d87c"
      },
      "execution_count": null,
      "outputs": [
        {
          "output_type": "execute_result",
          "data": {
            "text/plain": [
              "2"
            ]
          },
          "metadata": {},
          "execution_count": 56
        }
      ]
    },
    {
      "cell_type": "code",
      "source": [
        "def z():\n",
        "  zzz = 3\n",
        "  return 1"
      ],
      "metadata": {
        "id": "jT0sG8t00X7t"
      },
      "execution_count": null,
      "outputs": []
    },
    {
      "cell_type": "code",
      "source": [
        "zzz"
      ],
      "metadata": {
        "colab": {
          "base_uri": "https://localhost:8080/",
          "height": 174
        },
        "id": "aTg9uzUt0dcb",
        "outputId": "b456ec40-9bd5-42b1-9cec-f5db9e8240b3"
      },
      "execution_count": null,
      "outputs": [
        {
          "output_type": "error",
          "ename": "NameError",
          "evalue": "ignored",
          "traceback": [
            "\u001b[0;31m---------------------------------------------------------------------------\u001b[0m",
            "\u001b[0;31mNameError\u001b[0m                                 Traceback (most recent call last)",
            "\u001b[0;32m<ipython-input-58-131521d12231>\u001b[0m in \u001b[0;36m<cell line: 1>\u001b[0;34m()\u001b[0m\n\u001b[0;32m----> 1\u001b[0;31m \u001b[0mzzz\u001b[0m\u001b[0;34m\u001b[0m\u001b[0;34m\u001b[0m\u001b[0m\n\u001b[0m",
            "\u001b[0;31mNameError\u001b[0m: name 'zzz' is not defined"
          ]
        }
      ]
    },
    {
      "cell_type": "code",
      "source": [
        "class A:\n",
        "  def __init__(self):\n",
        "    self.a = 3\n",
        "\n",
        "  def pp(self):\n",
        "    return self.a  "
      ],
      "metadata": {
        "id": "4oC3WW-W0pqO"
      },
      "execution_count": null,
      "outputs": []
    },
    {
      "cell_type": "code",
      "source": [
        "a = A()"
      ],
      "metadata": {
        "id": "_JfDOdnk03kh"
      },
      "execution_count": null,
      "outputs": []
    },
    {
      "cell_type": "code",
      "source": [
        "a.pp()"
      ],
      "metadata": {
        "colab": {
          "base_uri": "https://localhost:8080/"
        },
        "id": "8KRHPiRe05di",
        "outputId": "446052eb-62b0-48d5-db7b-88edf4793554"
      },
      "execution_count": null,
      "outputs": [
        {
          "output_type": "execute_result",
          "data": {
            "text/plain": [
              "3"
            ]
          },
          "metadata": {},
          "execution_count": 64
        }
      ]
    },
    {
      "cell_type": "code",
      "source": [
        "a.pp"
      ],
      "metadata": {
        "colab": {
          "base_uri": "https://localhost:8080/"
        },
        "id": "hPLVdp2U1UTI",
        "outputId": "6201014a-50a8-4eed-dd29-5ec6db3d445e"
      },
      "execution_count": null,
      "outputs": [
        {
          "output_type": "execute_result",
          "data": {
            "text/plain": [
              "<bound method A.pp of <__main__.A object at 0x7fb48f4eeb90>>"
            ]
          },
          "metadata": {},
          "execution_count": 65
        }
      ]
    },
    {
      "cell_type": "code",
      "source": [
        "A.pp"
      ],
      "metadata": {
        "colab": {
          "base_uri": "https://localhost:8080/"
        },
        "id": "BntzYRR41YGl",
        "outputId": "93d87cac-30a4-40c0-d717-a52140d1b970"
      },
      "execution_count": null,
      "outputs": [
        {
          "output_type": "execute_result",
          "data": {
            "text/plain": [
              "<function __main__.A.pp(self)>"
            ]
          },
          "metadata": {},
          "execution_count": 66
        }
      ]
    },
    {
      "cell_type": "code",
      "source": [
        "a.pp()"
      ],
      "metadata": {
        "colab": {
          "base_uri": "https://localhost:8080/"
        },
        "id": "jWFtHjDV22L9",
        "outputId": "cfae759a-1ce0-4b72-ac08-bfd954f5dcdb"
      },
      "execution_count": null,
      "outputs": [
        {
          "output_type": "execute_result",
          "data": {
            "text/plain": [
              "3"
            ]
          },
          "metadata": {},
          "execution_count": 67
        }
      ]
    },
    {
      "cell_type": "code",
      "source": [
        "A.pp(a)"
      ],
      "metadata": {
        "colab": {
          "base_uri": "https://localhost:8080/"
        },
        "id": "wl9ULb-h25Eb",
        "outputId": "b7cc4731-464e-4786-d8b6-20b510397d22"
      },
      "execution_count": null,
      "outputs": [
        {
          "output_type": "execute_result",
          "data": {
            "text/plain": [
              "3"
            ]
          },
          "metadata": {},
          "execution_count": 69
        }
      ]
    },
    {
      "cell_type": "code",
      "source": [
        "class B:\n",
        "  def __init__(self): #instance method 이름없는\n",
        "    print('init')\n",
        "  def s(self):\n",
        "    print('s')\n",
        "\n",
        "  @classmethod #class가 직접 사용할 수 있는\n",
        "  def t(cls):\n",
        "    print('t')\n",
        "  @staticmethod\n",
        "  def x():\n",
        "    print('x')  \n"
      ],
      "metadata": {
        "id": "38X0P7JY2-0S"
      },
      "execution_count": null,
      "outputs": []
    },
    {
      "cell_type": "code",
      "source": [
        "B.t()"
      ],
      "metadata": {
        "colab": {
          "base_uri": "https://localhost:8080/"
        },
        "id": "uWlZs8hq3fLc",
        "outputId": "cb3b4548-b807-4fbe-b0ec-077b837a1d49"
      },
      "execution_count": null,
      "outputs": [
        {
          "output_type": "stream",
          "name": "stdout",
          "text": [
            "t\n"
          ]
        }
      ]
    },
    {
      "cell_type": "code",
      "source": [
        "a = B()"
      ],
      "metadata": {
        "colab": {
          "base_uri": "https://localhost:8080/"
        },
        "id": "0dxcg9EB3jT8",
        "outputId": "a1afd032-6f8f-44f0-c5cb-e2c0d9654b57"
      },
      "execution_count": null,
      "outputs": [
        {
          "output_type": "stream",
          "name": "stdout",
          "text": [
            "init\n"
          ]
        }
      ]
    },
    {
      "cell_type": "code",
      "source": [
        "B.s(a)"
      ],
      "metadata": {
        "colab": {
          "base_uri": "https://localhost:8080/"
        },
        "id": "4YV2Ppvn3s-5",
        "outputId": "98710fb5-8fcb-4138-8666-7e72c8a062fe"
      },
      "execution_count": null,
      "outputs": [
        {
          "output_type": "stream",
          "name": "stdout",
          "text": [
            "s\n"
          ]
        }
      ]
    },
    {
      "cell_type": "code",
      "source": [
        "B.x()"
      ],
      "metadata": {
        "colab": {
          "base_uri": "https://localhost:8080/"
        },
        "id": "RvBWss1Q3wSR",
        "outputId": "fcb16f10-aa3d-4102-dc10-b5353e594d45"
      },
      "execution_count": null,
      "outputs": [
        {
          "output_type": "stream",
          "name": "stdout",
          "text": [
            "x\n"
          ]
        }
      ]
    },
    {
      "cell_type": "code",
      "source": [
        "class C:\n",
        "   def __init__(self):\n",
        "      self.a = 3\n",
        "\n",
        "   @property\n",
        "   def tt(self):\n",
        "      return self.a  "
      ],
      "metadata": {
        "id": "hkFt9YEo4KkP"
      },
      "execution_count": null,
      "outputs": []
    },
    {
      "cell_type": "code",
      "source": [
        "c = C()"
      ],
      "metadata": {
        "id": "dYZF9zty4b28"
      },
      "execution_count": null,
      "outputs": []
    },
    {
      "cell_type": "code",
      "source": [
        "c.tt"
      ],
      "metadata": {
        "colab": {
          "base_uri": "https://localhost:8080/"
        },
        "id": "SrfyJIVY4dyZ",
        "outputId": "84d3fa77-02e7-4bf5-df9d-b3df5587626f"
      },
      "execution_count": null,
      "outputs": [
        {
          "output_type": "execute_result",
          "data": {
            "text/plain": [
              "3"
            ]
          },
          "metadata": {},
          "execution_count": 80
        }
      ]
    },
    {
      "cell_type": "markdown",
      "source": [
        "dir -> 쓸 수 있는 명령어 # dir(tips)"
      ],
      "metadata": {
        "id": "eq-_Q3wF4rru"
      }
    },
    {
      "cell_type": "code",
      "source": [
        "tips.duplicated"
      ],
      "metadata": {
        "colab": {
          "base_uri": "https://localhost:8080/"
        },
        "id": "Nr7nQn6s4zVg",
        "outputId": "7f26cc45-32e0-4b78-a6fb-71ebd6d065fd"
      },
      "execution_count": null,
      "outputs": [
        {
          "output_type": "execute_result",
          "data": {
            "text/plain": [
              "<bound method DataFrame.duplicated of      total_bill   tip     sex smoker   day    time  size\n",
              "0         16.99  1.01  Female     No   Sun  Dinner     2\n",
              "1         10.34  1.66    Male     No   Sun  Dinner     3\n",
              "2         21.01  3.50    Male     No   Sun  Dinner     3\n",
              "3         23.68  3.31    Male     No   Sun  Dinner     2\n",
              "4         24.59  3.61  Female     No   Sun  Dinner     4\n",
              "..          ...   ...     ...    ...   ...     ...   ...\n",
              "239       29.03  5.92    Male     No   Sat  Dinner     3\n",
              "240       27.18  2.00  Female    Yes   Sat  Dinner     2\n",
              "241       22.67  2.00    Male    Yes   Sat  Dinner     2\n",
              "242       17.82  1.75    Male     No   Sat  Dinner     2\n",
              "243       18.78  3.00  Female     No  Thur  Dinner     2\n",
              "\n",
              "[244 rows x 7 columns]>"
            ]
          },
          "metadata": {},
          "execution_count": 81
        }
      ]
    },
    {
      "cell_type": "code",
      "source": [
        "tips.duplicated()"
      ],
      "metadata": {
        "colab": {
          "base_uri": "https://localhost:8080/"
        },
        "id": "fH9KYfG347N0",
        "outputId": "8d3aba9c-231f-4d3c-cc6c-d9ca5898aa83"
      },
      "execution_count": null,
      "outputs": [
        {
          "output_type": "execute_result",
          "data": {
            "text/plain": [
              "0      False\n",
              "1      False\n",
              "2      False\n",
              "3      False\n",
              "4      False\n",
              "       ...  \n",
              "239    False\n",
              "240    False\n",
              "241    False\n",
              "242    False\n",
              "243    False\n",
              "Length: 244, dtype: bool"
            ]
          },
          "metadata": {},
          "execution_count": 82
        }
      ]
    },
    {
      "cell_type": "code",
      "source": [
        "tips.nunique()"
      ],
      "metadata": {
        "colab": {
          "base_uri": "https://localhost:8080/"
        },
        "id": "fDMw9Dki4_i7",
        "outputId": "997f8dfd-2650-437c-e23e-01bbb2fcd775"
      },
      "execution_count": null,
      "outputs": [
        {
          "output_type": "execute_result",
          "data": {
            "text/plain": [
              "total_bill    229\n",
              "tip           123\n",
              "sex             2\n",
              "smoker          2\n",
              "day             4\n",
              "time            2\n",
              "size            6\n",
              "dtype: int64"
            ]
          },
          "metadata": {},
          "execution_count": 85
        }
      ]
    },
    {
      "cell_type": "markdown",
      "source": [
        "property는 ()안됨"
      ],
      "metadata": {
        "id": "wOrVhVek5RgM"
      }
    },
    {
      "cell_type": "code",
      "source": [
        "tips.size"
      ],
      "metadata": {
        "colab": {
          "base_uri": "https://localhost:8080/"
        },
        "id": "IYH90bij5LnI",
        "outputId": "6d23e313-c74e-42c9-8a75-55ede218f27c"
      },
      "execution_count": null,
      "outputs": [
        {
          "output_type": "execute_result",
          "data": {
            "text/plain": [
              "1708"
            ]
          },
          "metadata": {},
          "execution_count": 88
        }
      ]
    },
    {
      "cell_type": "markdown",
      "source": [
        "# closure"
      ],
      "metadata": {
        "id": "BRQsAXnX-AfD"
      }
    },
    {
      "cell_type": "markdown",
      "source": [
        "# higher-order-function\n",
        " - 함수를 인자로 받을 수 있음\n",
        " - 함수를 리턴값으로 둘 수 있음"
      ],
      "metadata": {
        "id": "KkJn5Tw2-Da5"
      }
    },
    {
      "cell_type": "code",
      "source": [
        "def x():\n",
        "    return 1"
      ],
      "metadata": {
        "id": "pjWdJ1wN-cex"
      },
      "execution_count": null,
      "outputs": []
    },
    {
      "cell_type": "code",
      "source": [
        "x()"
      ],
      "metadata": {
        "colab": {
          "base_uri": "https://localhost:8080/"
        },
        "id": "8oz00jHj-fZP",
        "outputId": "219c36d0-75e6-4302-c522-b8e991153707"
      },
      "execution_count": null,
      "outputs": [
        {
          "output_type": "execute_result",
          "data": {
            "text/plain": [
              "1"
            ]
          },
          "metadata": {},
          "execution_count": 92
        }
      ]
    },
    {
      "cell_type": "code",
      "source": [
        "def y():\n",
        "    print('1')"
      ],
      "metadata": {
        "id": "_6pJCjkI-Gx_"
      },
      "execution_count": null,
      "outputs": []
    },
    {
      "cell_type": "code",
      "source": [
        "y()"
      ],
      "metadata": {
        "colab": {
          "base_uri": "https://localhost:8080/"
        },
        "id": "zPD3rWKC-Vi6",
        "outputId": "ae1eca57-96ee-4783-d996-2390d38404d2"
      },
      "execution_count": null,
      "outputs": [
        {
          "output_type": "stream",
          "name": "stdout",
          "text": [
            "1\n"
          ]
        }
      ]
    },
    {
      "cell_type": "markdown",
      "source": [
        "python에서는 return 를 정의하지 않으면 자동적으로 return None이 붙음"
      ],
      "metadata": {
        "id": "5eLzY1Mp-k6F"
      }
    },
    {
      "cell_type": "code",
      "source": [
        "None"
      ],
      "metadata": {
        "id": "joTwhLz4-vda"
      },
      "execution_count": null,
      "outputs": []
    },
    {
      "cell_type": "code",
      "source": [
        "1"
      ],
      "metadata": {
        "colab": {
          "base_uri": "https://localhost:8080/"
        },
        "id": "IvU-K4hm-xjJ",
        "outputId": "05dd943e-1caa-4199-e487-cd0fce314e16"
      },
      "execution_count": null,
      "outputs": [
        {
          "output_type": "execute_result",
          "data": {
            "text/plain": [
              "1"
            ]
          },
          "metadata": {},
          "execution_count": 94
        }
      ]
    },
    {
      "cell_type": "code",
      "source": [
        "'abc'"
      ],
      "metadata": {
        "colab": {
          "base_uri": "https://localhost:8080/",
          "height": 35
        },
        "id": "KEwfmFS0-yXB",
        "outputId": "38f42f40-d331-494b-b9f0-09f8ffcb59ea"
      },
      "execution_count": null,
      "outputs": [
        {
          "output_type": "execute_result",
          "data": {
            "text/plain": [
              "'abc'"
            ],
            "application/vnd.google.colaboratory.intrinsic+json": {
              "type": "string"
            }
          },
          "metadata": {},
          "execution_count": 95
        }
      ]
    },
    {
      "cell_type": "code",
      "source": [
        "def z():\n",
        "    print('z')\n",
        "    return z"
      ],
      "metadata": {
        "id": "4koM7YTO-zCx"
      },
      "execution_count": null,
      "outputs": []
    },
    {
      "cell_type": "code",
      "source": [
        "z()()()"
      ],
      "metadata": {
        "colab": {
          "base_uri": "https://localhost:8080/"
        },
        "id": "f9aTOh9l_8GQ",
        "outputId": "514de050-cc27-4f8c-e9e7-4718f9567900"
      },
      "execution_count": null,
      "outputs": [
        {
          "output_type": "stream",
          "name": "stdout",
          "text": [
            "z\n",
            "z\n",
            "z\n"
          ]
        },
        {
          "output_type": "execute_result",
          "data": {
            "text/plain": [
              "<function __main__.z()>"
            ]
          },
          "metadata": {},
          "execution_count": 99
        }
      ]
    },
    {
      "cell_type": "code",
      "source": [
        "def xx(m):     # closurer m이 보관된 상태로 n\n",
        "    def yy(n):\n",
        "        return m+n\n",
        "    return yy"
      ],
      "metadata": {
        "id": "RhpE8dfUAPtA"
      },
      "execution_count": null,
      "outputs": []
    },
    {
      "cell_type": "code",
      "source": [
        "xx(3)(7) "
      ],
      "metadata": {
        "colab": {
          "base_uri": "https://localhost:8080/"
        },
        "id": "TcfIZvoKAPi5",
        "outputId": "cef55f70-518a-4167-bca1-167308815d5b"
      },
      "execution_count": null,
      "outputs": [
        {
          "output_type": "execute_result",
          "data": {
            "text/plain": [
              "10"
            ]
          },
          "metadata": {},
          "execution_count": 101
        }
      ]
    },
    {
      "cell_type": "code",
      "source": [
        "xx(1)(4)"
      ],
      "metadata": {
        "colab": {
          "base_uri": "https://localhost:8080/"
        },
        "id": "QkGGDRPlBN6C",
        "outputId": "6f0d96dc-b7f3-4910-d25d-85f9ae58fdb6"
      },
      "execution_count": null,
      "outputs": [
        {
          "output_type": "execute_result",
          "data": {
            "text/plain": [
              "5"
            ]
          },
          "metadata": {},
          "execution_count": 102
        }
      ]
    },
    {
      "cell_type": "code",
      "source": [
        "xx(5)"
      ],
      "metadata": {
        "colab": {
          "base_uri": "https://localhost:8080/"
        },
        "id": "24vf0PVfCMZD",
        "outputId": "196fc978-f1c5-48e5-9a61-9bc1b5c12f3a"
      },
      "execution_count": null,
      "outputs": [
        {
          "output_type": "execute_result",
          "data": {
            "text/plain": [
              "<function __main__.xx.<locals>.yy(n)>"
            ]
          },
          "metadata": {},
          "execution_count": 103
        }
      ]
    },
    {
      "cell_type": "code",
      "source": [
        "class D:\n",
        "    def __init__(self):\n",
        "      print('init')\n",
        "\n",
        "    def __call__(self):\n",
        "      print('call')"
      ],
      "metadata": {
        "id": "GTIXMQyBCPjr"
      },
      "execution_count": null,
      "outputs": []
    },
    {
      "cell_type": "code",
      "source": [
        "d = D()"
      ],
      "metadata": {
        "colab": {
          "base_uri": "https://localhost:8080/"
        },
        "id": "GMlz34jxCh9X",
        "outputId": "758723e3-90b5-49df-d1f9-38c1926ae455"
      },
      "execution_count": null,
      "outputs": [
        {
          "output_type": "stream",
          "name": "stdout",
          "text": [
            "init\n"
          ]
        }
      ]
    },
    {
      "cell_type": "code",
      "source": [
        "d()"
      ],
      "metadata": {
        "colab": {
          "base_uri": "https://localhost:8080/"
        },
        "id": "V4Faa0cZCjbs",
        "outputId": "0116e146-cea4-4d53-a4c1-cb1107604632"
      },
      "execution_count": null,
      "outputs": [
        {
          "output_type": "stream",
          "name": "stdout",
          "text": [
            "call\n"
          ]
        }
      ]
    },
    {
      "cell_type": "code",
      "source": [
        "D()()"
      ],
      "metadata": {
        "colab": {
          "base_uri": "https://localhost:8080/"
        },
        "id": "imFBXyEaC6UD",
        "outputId": "3eb2a18a-d183-4900-db44-044b6766cc1d"
      },
      "execution_count": null,
      "outputs": [
        {
          "output_type": "stream",
          "name": "stdout",
          "text": [
            "init\n",
            "call\n"
          ]
        }
      ]
    },
    {
      "cell_type": "code",
      "source": [
        "class E:\n",
        "    def __init__(self, m):\n",
        "        self.m = m\n",
        "    def __call__(self, n):\n",
        "        return self.m + n   "
      ],
      "metadata": {
        "id": "xtWY2BmeDjcN"
      },
      "execution_count": null,
      "outputs": []
    },
    {
      "cell_type": "code",
      "source": [
        "E(1)(3)"
      ],
      "metadata": {
        "colab": {
          "base_uri": "https://localhost:8080/"
        },
        "id": "ZX9CcyuGD2m_",
        "outputId": "87ba1ab4-e75a-4be4-fcf3-eda8f17addc3"
      },
      "execution_count": null,
      "outputs": [
        {
          "output_type": "execute_result",
          "data": {
            "text/plain": [
              "4"
            ]
          },
          "metadata": {},
          "execution_count": 115
        }
      ]
    },
    {
      "cell_type": "code",
      "source": [
        "e = E(2)"
      ],
      "metadata": {
        "id": "ygQjjDuOD5wg"
      },
      "execution_count": null,
      "outputs": []
    },
    {
      "cell_type": "code",
      "source": [
        "e(5)"
      ],
      "metadata": {
        "colab": {
          "base_uri": "https://localhost:8080/"
        },
        "id": "qzx7JN3cD9T8",
        "outputId": "a444ff34-19d7-426b-fd0d-1a1601a18917"
      },
      "execution_count": null,
      "outputs": [
        {
          "output_type": "execute_result",
          "data": {
            "text/plain": [
              "7"
            ]
          },
          "metadata": {},
          "execution_count": 117
        }
      ]
    }
  ]
}