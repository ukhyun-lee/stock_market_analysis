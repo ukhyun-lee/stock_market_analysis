{
  "nbformat": 4,
  "nbformat_minor": 0,
  "metadata": {
    "colab": {
      "provenance": [],
      "authorship_tag": "ABX9TyMNu3YjFCQ7GJVANBn4cuWH",
      "include_colab_link": true
    },
    "kernelspec": {
      "name": "python3",
      "display_name": "Python 3"
    },
    "language_info": {
      "name": "python"
    }
  },
  "cells": [
    {
      "cell_type": "markdown",
      "metadata": {
        "id": "view-in-github",
        "colab_type": "text"
      },
      "source": [
        "<a href=\"https://colab.research.google.com/github/ukhyun-lee/stock_market_analysis/blob/main/%EC%A4%91%EA%B8%89/1%EC%9D%BC%EC%B0%A8_%EC%8B%A4%EC%8A%B53.ipynb\" target=\"_parent\"><img src=\"https://colab.research.google.com/assets/colab-badge.svg\" alt=\"Open In Colab\"/></a>"
      ]
    },
    {
      "cell_type": "code",
      "execution_count": 1,
      "metadata": {
        "id": "v2xk_l-WFcwq"
      },
      "outputs": [],
      "source": [
        "a = print"
      ]
    },
    {
      "cell_type": "code",
      "source": [
        "a('bbb')"
      ],
      "metadata": {
        "colab": {
          "base_uri": "https://localhost:8080/"
        },
        "id": "C8SjINbeFvES",
        "outputId": "99aae09c-3b52-4cba-ba88-f47a24a64c01"
      },
      "execution_count": 2,
      "outputs": [
        {
          "output_type": "stream",
          "name": "stdout",
          "text": [
            "bbb\n"
          ]
        }
      ]
    },
    {
      "cell_type": "code",
      "source": [
        "print = 3   # global 영역에서 print 만든다"
      ],
      "metadata": {
        "id": "Tmt8HRb_GLUA"
      },
      "execution_count": 3,
      "outputs": []
    },
    {
      "cell_type": "code",
      "source": [
        "print"
      ],
      "metadata": {
        "colab": {
          "base_uri": "https://localhost:8080/"
        },
        "id": "-1KJHcUKGM4o",
        "outputId": "ffaa0b00-f10c-4a7b-fae9-b016ca9bfa70"
      },
      "execution_count": 4,
      "outputs": [
        {
          "output_type": "execute_result",
          "data": {
            "text/plain": [
              "3"
            ]
          },
          "metadata": {},
          "execution_count": 4
        }
      ]
    },
    {
      "cell_type": "code",
      "source": [
        "import builtins"
      ],
      "metadata": {
        "id": "KczlUf4mGTHm"
      },
      "execution_count": 5,
      "outputs": []
    },
    {
      "cell_type": "code",
      "source": [
        "builtins.print('asb')"
      ],
      "metadata": {
        "colab": {
          "base_uri": "https://localhost:8080/"
        },
        "id": "bbUFh5W9GYLc",
        "outputId": "70dfdff5-b284-4587-95c9-112138b6db47"
      },
      "execution_count": 6,
      "outputs": [
        {
          "output_type": "stream",
          "name": "stdout",
          "text": [
            "asb\n"
          ]
        }
      ]
    },
    {
      "cell_type": "code",
      "source": [
        "a = 1"
      ],
      "metadata": {
        "id": "D8OJXjOEG46g"
      },
      "execution_count": 7,
      "outputs": []
    },
    {
      "cell_type": "code",
      "source": [
        "a = 2"
      ],
      "metadata": {
        "id": "09y4wWM0G6a4"
      },
      "execution_count": 8,
      "outputs": []
    },
    {
      "cell_type": "code",
      "source": [
        "def x():\n",
        "    return 1"
      ],
      "metadata": {
        "id": "iEYmEVXTG9NH"
      },
      "execution_count": 9,
      "outputs": []
    },
    {
      "cell_type": "code",
      "source": [
        "def x(t):\n",
        "    return 2"
      ],
      "metadata": {
        "id": "CNVp0v-_HAZC"
      },
      "execution_count": 10,
      "outputs": []
    },
    {
      "cell_type": "code",
      "source": [
        "x()"
      ],
      "metadata": {
        "colab": {
          "base_uri": "https://localhost:8080/",
          "height": 174
        },
        "id": "NzyaAmG1HEIs",
        "outputId": "6211e1bd-0e2b-42d7-bee8-c07cf9f81702"
      },
      "execution_count": 11,
      "outputs": [
        {
          "output_type": "error",
          "ename": "TypeError",
          "evalue": "ignored",
          "traceback": [
            "\u001b[0;31m---------------------------------------------------------------------------\u001b[0m",
            "\u001b[0;31mTypeError\u001b[0m                                 Traceback (most recent call last)",
            "\u001b[0;32m<ipython-input-11-08f9d0828de0>\u001b[0m in \u001b[0;36m<cell line: 1>\u001b[0;34m()\u001b[0m\n\u001b[0;32m----> 1\u001b[0;31m \u001b[0mx\u001b[0m\u001b[0;34m(\u001b[0m\u001b[0;34m)\u001b[0m\u001b[0;34m\u001b[0m\u001b[0;34m\u001b[0m\u001b[0m\n\u001b[0m",
            "\u001b[0;31mTypeError\u001b[0m: x() missing 1 required positional argument: 't'"
          ]
        }
      ]
    },
    {
      "cell_type": "markdown",
      "source": [
        "# 용서가 쉽다 > 허락이 쉽다"
      ],
      "metadata": {
        "id": "hNeOmqvCHkjy"
      }
    },
    {
      "cell_type": "code",
      "source": [
        "len ([1,2,3])"
      ],
      "metadata": {
        "colab": {
          "base_uri": "https://localhost:8080/"
        },
        "id": "pNAEve8DHZzV",
        "outputId": "805eca79-ed08-4b3c-fcd4-0a7a9df418a1"
      },
      "execution_count": 19,
      "outputs": [
        {
          "output_type": "execute_result",
          "data": {
            "text/plain": [
              "3"
            ]
          },
          "metadata": {},
          "execution_count": 19
        }
      ]
    },
    {
      "cell_type": "code",
      "source": [
        "len ((1,2,3))"
      ],
      "metadata": {
        "colab": {
          "base_uri": "https://localhost:8080/"
        },
        "id": "threhcOeH1pT",
        "outputId": "85d397ee-de5b-4842-fab7-ea562528b0a5"
      },
      "execution_count": 20,
      "outputs": [
        {
          "output_type": "execute_result",
          "data": {
            "text/plain": [
              "3"
            ]
          },
          "metadata": {},
          "execution_count": 20
        }
      ]
    },
    {
      "cell_type": "code",
      "source": [
        "len ({1,2,3})"
      ],
      "metadata": {
        "colab": {
          "base_uri": "https://localhost:8080/"
        },
        "id": "_kdkviVLHs4W",
        "outputId": "b2965cdf-bc95-437e-83b9-29e88224a238"
      },
      "execution_count": 21,
      "outputs": [
        {
          "output_type": "execute_result",
          "data": {
            "text/plain": [
              "3"
            ]
          },
          "metadata": {},
          "execution_count": 21
        }
      ]
    },
    {
      "cell_type": "code",
      "source": [
        "del print"
      ],
      "metadata": {
        "id": "SMpJXXyCJLj1"
      },
      "execution_count": 27,
      "outputs": []
    },
    {
      "cell_type": "code",
      "source": [
        "dispatch : singledispatch "
      ],
      "metadata": {
        "id": "RMmJ_LlBIDM_"
      },
      "execution_count": null,
      "outputs": []
    },
    {
      "cell_type": "code",
      "source": [
        "from functools import singledispatch"
      ],
      "metadata": {
        "id": "MEcC4rpaIOYC"
      },
      "execution_count": 22,
      "outputs": []
    },
    {
      "cell_type": "code",
      "source": [
        "@singledispatch\n",
        "def x(t):\n",
        "    return t"
      ],
      "metadata": {
        "id": "q9GVX_dUIUdw"
      },
      "execution_count": 24,
      "outputs": []
    },
    {
      "cell_type": "code",
      "source": [
        "@x.register(int)\n",
        "def _x(t):\n",
        "  print('int')\n",
        "  return t\n",
        "@x.register(str)\n",
        "def _x(t):\n",
        "  print('str2')\n",
        "  return t"
      ],
      "metadata": {
        "id": "D9zwBXnUIc-l"
      },
      "execution_count": 25,
      "outputs": []
    },
    {
      "cell_type": "code",
      "source": [
        "x(3.)"
      ],
      "metadata": {
        "colab": {
          "base_uri": "https://localhost:8080/"
        },
        "id": "fYOy2gUFI099",
        "outputId": "b5475211-e1a3-4b5e-c284-677673ce210c"
      },
      "execution_count": 26,
      "outputs": [
        {
          "output_type": "execute_result",
          "data": {
            "text/plain": [
              "3.0"
            ]
          },
          "metadata": {},
          "execution_count": 26
        }
      ]
    },
    {
      "cell_type": "code",
      "source": [
        "len() <- generic function"
      ],
      "metadata": {
        "id": "lRDg152LJQXz"
      },
      "execution_count": null,
      "outputs": []
    },
    {
      "cell_type": "markdown",
      "source": [
        "C: LBYL (look befoe ..)\n",
        "python : LEGB"
      ],
      "metadata": {
        "id": "ItF91___Jhou"
      }
    }
  ]
}