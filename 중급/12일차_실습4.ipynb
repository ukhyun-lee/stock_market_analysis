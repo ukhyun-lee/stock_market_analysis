{
  "nbformat": 4,
  "nbformat_minor": 0,
  "metadata": {
    "colab": {
      "provenance": [],
      "authorship_tag": "ABX9TyOpxde0QfXx0G/7d9goUJhe",
      "include_colab_link": true
    },
    "kernelspec": {
      "name": "python3",
      "display_name": "Python 3"
    },
    "language_info": {
      "name": "python"
    }
  },
  "cells": [
    {
      "cell_type": "markdown",
      "metadata": {
        "id": "view-in-github",
        "colab_type": "text"
      },
      "source": [
        "<a href=\"https://colab.research.google.com/github/ukhyun-lee/stock_market_analysis/blob/main/%EC%A4%91%EA%B8%89/12%EC%9D%BC%EC%B0%A8_%EC%8B%A4%EC%8A%B54.ipynb\" target=\"_parent\"><img src=\"https://colab.research.google.com/assets/colab-badge.svg\" alt=\"Open In Colab\"/></a>"
      ]
    },
    {
      "cell_type": "markdown",
      "source": [
        "###data type에 따라서 가능한 연산의 종류가 있음\n"
      ],
      "metadata": {
        "id": "9cat_2VCYkkG"
      }
    },
    {
      "cell_type": "code",
      "source": [
        "[1,2,3] + [3,4]"
      ],
      "metadata": {
        "colab": {
          "base_uri": "https://localhost:8080/"
        },
        "id": "CMf_ft6EYrWO",
        "outputId": "a76da3f9-4a3e-4375-cb89-b591c126bb8c"
      },
      "execution_count": 17,
      "outputs": [
        {
          "output_type": "execute_result",
          "data": {
            "text/plain": [
              "[1, 2, 3, 3, 4]"
            ]
          },
          "metadata": {},
          "execution_count": 17
        }
      ]
    },
    {
      "cell_type": "code",
      "source": [
        "[1,2,3] -[3,4] ##  error"
      ],
      "metadata": {
        "id": "fWNRuwJ6YutO"
      },
      "execution_count": null,
      "outputs": []
    },
    {
      "cell_type": "markdown",
      "source": [
        "세개 datetime 인덱스 , **timestamp**, datetime64 다름"
      ],
      "metadata": {
        "id": "DBPS-wJBZEt-"
      }
    },
    {
      "cell_type": "markdown",
      "source": [
        "### 상속을 하면 물려받은 기능을 사용 가능\n",
        "### numpy array, element차이\n",
        "### composition"
      ],
      "metadata": {
        "id": "tsuA61T6ZRuU"
      }
    },
    {
      "cell_type": "code",
      "source": [
        "class A:\n",
        "    def __init__(self, a):\n",
        "      self.x = np.array(a)"
      ],
      "metadata": {
        "id": "VGugjuuYZqM0"
      },
      "execution_count": 18,
      "outputs": []
    },
    {
      "cell_type": "code",
      "source": [
        "a = A([1,2,3,4])"
      ],
      "metadata": {
        "id": "lPZo1QIpZqUc"
      },
      "execution_count": 19,
      "outputs": []
    },
    {
      "cell_type": "code",
      "source": [
        "a.x.sum()"
      ],
      "metadata": {
        "colab": {
          "base_uri": "https://localhost:8080/"
        },
        "id": "7Y4Vs1vEZqRz",
        "outputId": "f2a0ba5a-f465-4377-a766-b9e239656e75"
      },
      "execution_count": 20,
      "outputs": [
        {
          "output_type": "execute_result",
          "data": {
            "text/plain": [
              "10"
            ]
          },
          "metadata": {},
          "execution_count": 20
        }
      ]
    },
    {
      "cell_type": "code",
      "source": [],
      "metadata": {
        "id": "jBe49U-iZqPT"
      },
      "execution_count": null,
      "outputs": []
    },
    {
      "cell_type": "code",
      "execution_count": 1,
      "metadata": {
        "id": "_BDUiHrmUwwN"
      },
      "outputs": [],
      "source": [
        "import pandas as pd"
      ]
    },
    {
      "cell_type": "markdown",
      "source": [
        "# to_datetime"
      ],
      "metadata": {
        "id": "Kt7ilLCRajd9"
      }
    },
    {
      "cell_type": "code",
      "source": [
        "# dateutil\n",
        "pd.to_datetime('2023-07-09')"
      ],
      "metadata": {
        "colab": {
          "base_uri": "https://localhost:8080/"
        },
        "id": "8Zi_cb1mU0RT",
        "outputId": "0910b70e-8b50-4a9d-c22b-a0c878ee7274"
      },
      "execution_count": 3,
      "outputs": [
        {
          "output_type": "execute_result",
          "data": {
            "text/plain": [
              "Timestamp('2023-07-09 00:00:00')"
            ]
          },
          "metadata": {},
          "execution_count": 3
        }
      ]
    },
    {
      "cell_type": "code",
      "source": [
        "pd.to_datetime('jan 9, 2023')"
      ],
      "metadata": {
        "colab": {
          "base_uri": "https://localhost:8080/"
        },
        "id": "-bFMg9nTU33z",
        "outputId": "ac2bcb74-08a4-45c1-be42-320b058966ef"
      },
      "execution_count": 4,
      "outputs": [
        {
          "output_type": "execute_result",
          "data": {
            "text/plain": [
              "Timestamp('2023-01-09 00:00:00')"
            ]
          },
          "metadata": {},
          "execution_count": 4
        }
      ]
    },
    {
      "cell_type": "code",
      "source": [
        "pd.to_datetime('jan 9, 2023')"
      ],
      "metadata": {
        "colab": {
          "base_uri": "https://localhost:8080/"
        },
        "id": "2Q45qISbVDVb",
        "outputId": "fc74f80f-bd52-4b0d-b185-e6e162274174"
      },
      "execution_count": 5,
      "outputs": [
        {
          "output_type": "execute_result",
          "data": {
            "text/plain": [
              "Timestamp('2023-01-09 00:00:00')"
            ]
          },
          "metadata": {},
          "execution_count": 5
        }
      ]
    },
    {
      "cell_type": "code",
      "source": [
        "a = pd.to_datetime('01/02/03', yearfirst=True)"
      ],
      "metadata": {
        "id": "GIS4kiKEVIFL"
      },
      "execution_count": 7,
      "outputs": []
    },
    {
      "cell_type": "code",
      "source": [
        "a"
      ],
      "metadata": {
        "colab": {
          "base_uri": "https://localhost:8080/"
        },
        "id": "zK7v0QrfVQCT",
        "outputId": "ca18d791-d8c9-4f16-e2ad-16c800ff2674"
      },
      "execution_count": 8,
      "outputs": [
        {
          "output_type": "execute_result",
          "data": {
            "text/plain": [
              "Timestamp('2001-02-03 00:00:00')"
            ]
          },
          "metadata": {},
          "execution_count": 8
        }
      ]
    },
    {
      "cell_type": "code",
      "source": [
        "a.strftime('%A')   # datetime 상속했기때문에"
      ],
      "metadata": {
        "colab": {
          "base_uri": "https://localhost:8080/",
          "height": 36
        },
        "id": "OtTbwsWTVbU6",
        "outputId": "cd545990-e8ca-4549-eb74-62d58ab591ac"
      },
      "execution_count": 9,
      "outputs": [
        {
          "output_type": "execute_result",
          "data": {
            "text/plain": [
              "'Saturday'"
            ],
            "application/vnd.google.colaboratory.intrinsic+json": {
              "type": "string"
            }
          },
          "metadata": {},
          "execution_count": 9
        }
      ]
    },
    {
      "cell_type": "code",
      "source": [
        "a + np.arange(10)  # error  a가 numpy가 아님"
      ],
      "metadata": {
        "id": "Xo6lE4yHW-0v"
      },
      "execution_count": null,
      "outputs": []
    },
    {
      "cell_type": "code",
      "source": [
        "pd.to_datetime(['2023-07-09','2023-07-10'])"
      ],
      "metadata": {
        "colab": {
          "base_uri": "https://localhost:8080/"
        },
        "id": "Clap5WgrV2FK",
        "outputId": "73408303-6a85-46ab-e1f7-38a354e0e983"
      },
      "execution_count": 10,
      "outputs": [
        {
          "output_type": "execute_result",
          "data": {
            "text/plain": [
              "DatetimeIndex(['2023-07-09', '2023-07-10'], dtype='datetime64[ns]', freq=None)"
            ]
          },
          "metadata": {},
          "execution_count": 10
        }
      ]
    },
    {
      "cell_type": "code",
      "source": [
        "pd.to_datetime(['2023-07-09','2023-07-10']) + np.arange(2) #  error"
      ],
      "metadata": {
        "id": "5auoH5k1XtIe"
      },
      "execution_count": null,
      "outputs": []
    },
    {
      "cell_type": "code",
      "source": [
        "#pd.to_datetime(['2023-07-09','2023-07-10']) + 3 error"
      ],
      "metadata": {
        "id": "GoAC6STmV_Uw"
      },
      "execution_count": null,
      "outputs": []
    },
    {
      "cell_type": "code",
      "source": [
        "t = pd.to_datetime(['2023-07-09','2023-07-10'])"
      ],
      "metadata": {
        "id": "ost3A5fwWUOB"
      },
      "execution_count": 13,
      "outputs": []
    },
    {
      "cell_type": "code",
      "source": [
        "t.freq = 'D'"
      ],
      "metadata": {
        "id": "i6J65u3pWazA"
      },
      "execution_count": 14,
      "outputs": []
    },
    {
      "cell_type": "code",
      "source": [],
      "metadata": {
        "id": "0y264BmvWrUh"
      },
      "execution_count": null,
      "outputs": []
    },
    {
      "cell_type": "markdown",
      "source": [
        "# to_timedelta"
      ],
      "metadata": {
        "id": "49o5ljYzal-i"
      }
    },
    {
      "cell_type": "code",
      "source": [
        "pd.Timedelta\n",
        "pd.TimedeltaIndex"
      ],
      "metadata": {
        "colab": {
          "base_uri": "https://localhost:8080/"
        },
        "id": "Pn1CFQPXan47",
        "outputId": "b517345a-f40e-40f2-9bbd-7249ba9d39a9"
      },
      "execution_count": 22,
      "outputs": [
        {
          "output_type": "execute_result",
          "data": {
            "text/plain": [
              "pandas.core.indexes.timedeltas.TimedeltaIndex"
            ]
          },
          "metadata": {},
          "execution_count": 22
        }
      ]
    },
    {
      "cell_type": "code",
      "source": [
        "import datetime"
      ],
      "metadata": {
        "id": "cXZLcXChbBUh"
      },
      "execution_count": 24,
      "outputs": []
    },
    {
      "cell_type": "code",
      "source": [
        "issubclass(pd.Timedelta, datetime.timedelta)"
      ],
      "metadata": {
        "colab": {
          "base_uri": "https://localhost:8080/"
        },
        "id": "jahY7-7KaxAK",
        "outputId": "7717b8c7-acf9-4615-d946-fb86565085df"
      },
      "execution_count": 25,
      "outputs": [
        {
          "output_type": "execute_result",
          "data": {
            "text/plain": [
              "True"
            ]
          },
          "metadata": {},
          "execution_count": 25
        }
      ]
    },
    {
      "cell_type": "code",
      "source": [
        "dir(pd.Timedelta)"
      ],
      "metadata": {
        "id": "me2c_hrDbEwj"
      },
      "execution_count": null,
      "outputs": []
    },
    {
      "cell_type": "code",
      "source": [
        "pd.Timestamp('2023-07-09') + pd.Timedelta(3, 'D')   # 파이썬 timedelta와 같음"
      ],
      "metadata": {
        "colab": {
          "base_uri": "https://localhost:8080/"
        },
        "id": "hROH0ieTbQE5",
        "outputId": "f14823c7-09b1-49c5-981e-9f95a50d5673"
      },
      "execution_count": 31,
      "outputs": [
        {
          "output_type": "execute_result",
          "data": {
            "text/plain": [
              "Timestamp('2023-07-12 00:00:00')"
            ]
          },
          "metadata": {},
          "execution_count": 31
        }
      ]
    },
    {
      "cell_type": "code",
      "source": [
        "pd.Timestamp('2023-07-09') + pd.offsets.Day(3)"
      ],
      "metadata": {
        "colab": {
          "base_uri": "https://localhost:8080/"
        },
        "id": "H57For8sbhtI",
        "outputId": "f743442b-b6e6-4545-ffc6-02dfbb781196"
      },
      "execution_count": 29,
      "outputs": [
        {
          "output_type": "execute_result",
          "data": {
            "text/plain": [
              "Timestamp('2023-07-12 00:00:00')"
            ]
          },
          "metadata": {},
          "execution_count": 29
        }
      ]
    },
    {
      "cell_type": "code",
      "source": [
        "pd.Timedelta(3, 'D') == pd.offsets.Day(3)"
      ],
      "metadata": {
        "colab": {
          "base_uri": "https://localhost:8080/"
        },
        "id": "Zm9Jw0G3bmaA",
        "outputId": "0a9cbe10-f719-4ac4-8188-367c6ef413b0"
      },
      "execution_count": 33,
      "outputs": [
        {
          "output_type": "execute_result",
          "data": {
            "text/plain": [
              "True"
            ]
          },
          "metadata": {},
          "execution_count": 33
        }
      ]
    },
    {
      "cell_type": "code",
      "source": [
        "pd.offsets.Day.mro()"
      ],
      "metadata": {
        "colab": {
          "base_uri": "https://localhost:8080/"
        },
        "id": "38VvCDvPb8to",
        "outputId": "506cc88e-414a-4157-f561-8be267e86e7c"
      },
      "execution_count": 34,
      "outputs": [
        {
          "output_type": "execute_result",
          "data": {
            "text/plain": [
              "[pandas._libs.tslibs.offsets.Day,\n",
              " pandas._libs.tslibs.offsets.Tick,\n",
              " pandas._libs.tslibs.offsets.SingleConstructorOffset,\n",
              " pandas._libs.tslibs.offsets.BaseOffset,\n",
              " object]"
            ]
          },
          "metadata": {},
          "execution_count": 34
        }
      ]
    },
    {
      "cell_type": "code",
      "source": [
        "pd.Timedelta.mro()"
      ],
      "metadata": {
        "colab": {
          "base_uri": "https://localhost:8080/"
        },
        "id": "1A-cbNMpcBRI",
        "outputId": "994ff213-e3b5-4c28-c6d5-62cf09250384"
      },
      "execution_count": 35,
      "outputs": [
        {
          "output_type": "execute_result",
          "data": {
            "text/plain": [
              "[pandas._libs.tslibs.timedeltas.Timedelta,\n",
              " pandas._libs.tslibs.timedeltas._Timedelta,\n",
              " datetime.timedelta,\n",
              " object]"
            ]
          },
          "metadata": {},
          "execution_count": 35
        }
      ]
    },
    {
      "cell_type": "code",
      "source": [
        "class D:\n",
        "  def x(self):\n",
        "        return 3\n",
        "\n",
        "class E:\n",
        "  def y(self):\n",
        "      return 3"
      ],
      "metadata": {
        "id": "twWuyyXUcH_3"
      },
      "execution_count": 38,
      "outputs": []
    },
    {
      "cell_type": "code",
      "source": [
        "type(D())"
      ],
      "metadata": {
        "colab": {
          "base_uri": "https://localhost:8080/"
        },
        "id": "PI9t3Te0cydB",
        "outputId": "25229622-73da-4ac6-ca2c-57ce81154a39"
      },
      "execution_count": 39,
      "outputs": [
        {
          "output_type": "execute_result",
          "data": {
            "text/plain": [
              "__main__.D"
            ]
          },
          "metadata": {},
          "execution_count": 39
        }
      ]
    },
    {
      "cell_type": "code",
      "source": [
        "type(E())"
      ],
      "metadata": {
        "colab": {
          "base_uri": "https://localhost:8080/"
        },
        "id": "6miwKrYMc3am",
        "outputId": "5af2acb2-c054-4c06-c690-012bf45db5eb"
      },
      "execution_count": 40,
      "outputs": [
        {
          "output_type": "execute_result",
          "data": {
            "text/plain": [
              "__main__.E"
            ]
          },
          "metadata": {},
          "execution_count": 40
        }
      ]
    },
    {
      "cell_type": "code",
      "source": [
        "D().x() == E().y()"
      ],
      "metadata": {
        "colab": {
          "base_uri": "https://localhost:8080/"
        },
        "id": "NTsqPKgdc5fX",
        "outputId": "5df0e9c8-25c5-434c-f0c5-ea82fffd7df0"
      },
      "execution_count": 41,
      "outputs": [
        {
          "output_type": "execute_result",
          "data": {
            "text/plain": [
              "True"
            ]
          },
          "metadata": {},
          "execution_count": 41
        }
      ]
    },
    {
      "cell_type": "code",
      "source": [
        "pd.to_timedelta(3, unit='D')"
      ],
      "metadata": {
        "colab": {
          "base_uri": "https://localhost:8080/"
        },
        "id": "p3TALW-Bc-DA",
        "outputId": "19d4f289-3280-4964-f59d-eaaae010777c"
      },
      "execution_count": 42,
      "outputs": [
        {
          "output_type": "execute_result",
          "data": {
            "text/plain": [
              "Timedelta('3 days 00:00:00')"
            ]
          },
          "metadata": {},
          "execution_count": 42
        }
      ]
    },
    {
      "cell_type": "code",
      "source": [
        "pd.to_timedelta([1,2,3], unit='D')"
      ],
      "metadata": {
        "colab": {
          "base_uri": "https://localhost:8080/"
        },
        "id": "GzapOlU2dD9v",
        "outputId": "4d67525b-ade0-41c3-af67-772c45743408"
      },
      "execution_count": 43,
      "outputs": [
        {
          "output_type": "execute_result",
          "data": {
            "text/plain": [
              "TimedeltaIndex(['1 days', '2 days', '3 days'], dtype='timedelta64[ns]', freq=None)"
            ]
          },
          "metadata": {},
          "execution_count": 43
        }
      ]
    },
    {
      "cell_type": "code",
      "source": [
        "dir(pd.to_timedelta([1,2,3], unit='D'))"
      ],
      "metadata": {
        "id": "0vh5jD-4dI0u"
      },
      "execution_count": null,
      "outputs": []
    },
    {
      "cell_type": "markdown",
      "source": [
        "# to\n",
        "- 1개이냐\n",
        "- 여러개이냐 - index\n",
        "에 따라 바꿔지는 것이 다름\n"
      ],
      "metadata": {
        "id": "6AVLkIqUdWpm"
      }
    },
    {
      "cell_type": "code",
      "source": [],
      "metadata": {
        "id": "LOk-4hM_fj7s"
      },
      "execution_count": null,
      "outputs": []
    }
  ]
}