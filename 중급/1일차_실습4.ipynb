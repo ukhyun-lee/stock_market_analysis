{
  "nbformat": 4,
  "nbformat_minor": 0,
  "metadata": {
    "colab": {
      "provenance": [],
      "authorship_tag": "ABX9TyNHaXCxEo+Ys+UT9n9mgziE",
      "include_colab_link": true
    },
    "kernelspec": {
      "name": "python3",
      "display_name": "Python 3"
    },
    "language_info": {
      "name": "python"
    }
  },
  "cells": [
    {
      "cell_type": "markdown",
      "metadata": {
        "id": "view-in-github",
        "colab_type": "text"
      },
      "source": [
        "<a href=\"https://colab.research.google.com/github/ukhyun-lee/stock_market_analysis/blob/main/%EC%A4%91%EA%B8%89/1%EC%9D%BC%EC%B0%A8_%EC%8B%A4%EC%8A%B54.ipynb\" target=\"_parent\"><img src=\"https://colab.research.google.com/assets/colab-badge.svg\" alt=\"Open In Colab\"/></a>"
      ]
    },
    {
      "cell_type": "markdown",
      "source": [
        "# container <> atom(ic) : element 여부에 따라"
      ],
      "metadata": {
        "id": "0r7gOUdZPVC_"
      }
    },
    {
      "cell_type": "code",
      "source": [
        "'abcde'   12345"
      ],
      "metadata": {
        "id": "V7rScPnjPfhg"
      },
      "execution_count": null,
      "outputs": []
    },
    {
      "cell_type": "code",
      "source": [
        "container =>\n",
        "\n",
        "1. homo vs hetero\n",
        "2. sequence vs non sequence"
      ],
      "metadata": {
        "id": "2ush2xkyPjx9"
      },
      "execution_count": null,
      "outputs": []
    },
    {
      "cell_type": "code",
      "source": [
        "sequence > indexing, slicing"
      ],
      "metadata": {
        "id": "yORW_OriPrRS"
      },
      "execution_count": null,
      "outputs": []
    },
    {
      "cell_type": "code",
      "source": [
        "a = 'abcde'"
      ],
      "metadata": {
        "id": "YJoW1fiIPuvQ"
      },
      "execution_count": 1,
      "outputs": []
    },
    {
      "cell_type": "code",
      "source": [
        "a[0]"
      ],
      "metadata": {
        "colab": {
          "base_uri": "https://localhost:8080/",
          "height": 35
        },
        "id": "ShfKRQPLPwkI",
        "outputId": "48f1c70f-dcd9-480d-95af-3636fad37e3d"
      },
      "execution_count": 2,
      "outputs": [
        {
          "output_type": "execute_result",
          "data": {
            "text/plain": [
              "'a'"
            ],
            "application/vnd.google.colaboratory.intrinsic+json": {
              "type": "string"
            }
          },
          "metadata": {},
          "execution_count": 2
        }
      ]
    },
    {
      "cell_type": "code",
      "source": [
        "a[2:]"
      ],
      "metadata": {
        "colab": {
          "base_uri": "https://localhost:8080/",
          "height": 35
        },
        "id": "0TdC7WwsP0FZ",
        "outputId": "1628e8b0-0899-4733-e571-e6880f028eb5"
      },
      "execution_count": 3,
      "outputs": [
        {
          "output_type": "execute_result",
          "data": {
            "text/plain": [
              "'cde'"
            ],
            "application/vnd.google.colaboratory.intrinsic+json": {
              "type": "string"
            }
          },
          "metadata": {},
          "execution_count": 3
        }
      ]
    },
    {
      "cell_type": "code",
      "source": [
        "a+a"
      ],
      "metadata": {
        "colab": {
          "base_uri": "https://localhost:8080/",
          "height": 35
        },
        "id": "DZPlTypcP2B-",
        "outputId": "d4a4b1f7-2962-40f1-9e53-df7f936b7d79"
      },
      "execution_count": 4,
      "outputs": [
        {
          "output_type": "execute_result",
          "data": {
            "text/plain": [
              "'abcdeabcde'"
            ],
            "application/vnd.google.colaboratory.intrinsic+json": {
              "type": "string"
            }
          },
          "metadata": {},
          "execution_count": 4
        }
      ]
    },
    {
      "cell_type": "code",
      "source": [
        "b = [1,2,3]"
      ],
      "metadata": {
        "id": "rNMpcb1FP3sd"
      },
      "execution_count": 5,
      "outputs": []
    },
    {
      "cell_type": "code",
      "source": [
        "b+b"
      ],
      "metadata": {
        "colab": {
          "base_uri": "https://localhost:8080/"
        },
        "id": "FvrKH6mQP5x8",
        "outputId": "bbcc1360-b48f-47fc-fbb6-652a710776b8"
      },
      "execution_count": 6,
      "outputs": [
        {
          "output_type": "execute_result",
          "data": {
            "text/plain": [
              "[1, 2, 3, 1, 2, 3]"
            ]
          },
          "metadata": {},
          "execution_count": 6
        }
      ]
    },
    {
      "cell_type": "code",
      "source": [
        "import numpy as np"
      ],
      "metadata": {
        "id": "DYzBDvmrPzXH"
      },
      "execution_count": 7,
      "outputs": []
    },
    {
      "cell_type": "code",
      "source": [
        "x = np.array([1,2,3,4])"
      ],
      "metadata": {
        "id": "DwXilRFZRHEZ"
      },
      "execution_count": 18,
      "outputs": []
    },
    {
      "cell_type": "code",
      "source": [
        "x"
      ],
      "metadata": {
        "colab": {
          "base_uri": "https://localhost:8080/"
        },
        "id": "9ALDWJfYRLZX",
        "outputId": "57964fef-1c6b-43f7-a4e0-4415592a416e"
      },
      "execution_count": 19,
      "outputs": [
        {
          "output_type": "execute_result",
          "data": {
            "text/plain": [
              "array([1, 2, 3, 4])"
            ]
          },
          "metadata": {},
          "execution_count": 19
        }
      ]
    },
    {
      "cell_type": "code",
      "source": [
        "#x = np.array([1,2,3,'4'])"
      ],
      "metadata": {
        "id": "ToKps5ZFoH1z"
      },
      "execution_count": 22,
      "outputs": []
    },
    {
      "cell_type": "code",
      "source": [
        "#x"
      ],
      "metadata": {
        "colab": {
          "base_uri": "https://localhost:8080/"
        },
        "id": "4iPHROD4oNBJ",
        "outputId": "0acf7200-1117-48fd-92ad-7dad42aea672"
      },
      "execution_count": 23,
      "outputs": [
        {
          "output_type": "execute_result",
          "data": {
            "text/plain": [
              "array(['1', '2', '3', '4'], dtype='<U21')"
            ]
          },
          "metadata": {},
          "execution_count": 23
        }
      ]
    },
    {
      "cell_type": "code",
      "source": [
        "x[0]"
      ],
      "metadata": {
        "colab": {
          "base_uri": "https://localhost:8080/"
        },
        "id": "QPsWsVumRNqp",
        "outputId": "dd5941d8-d75a-4fc9-cd3e-568e8cd257fe"
      },
      "execution_count": 13,
      "outputs": [
        {
          "output_type": "execute_result",
          "data": {
            "text/plain": [
              "1"
            ]
          },
          "metadata": {},
          "execution_count": 13
        }
      ]
    },
    {
      "cell_type": "code",
      "source": [
        "x[2:]"
      ],
      "metadata": {
        "colab": {
          "base_uri": "https://localhost:8080/"
        },
        "id": "QTQGwlEcRTTN",
        "outputId": "61361909-914a-4abb-f6aa-521b61662275"
      },
      "execution_count": 20,
      "outputs": [
        {
          "output_type": "execute_result",
          "data": {
            "text/plain": [
              "array([3, 4])"
            ]
          },
          "metadata": {},
          "execution_count": 20
        }
      ]
    },
    {
      "cell_type": "code",
      "source": [
        "x + x"
      ],
      "metadata": {
        "colab": {
          "base_uri": "https://localhost:8080/"
        },
        "id": "CGdLSnLfRVhV",
        "outputId": "9659ecf3-4274-497e-8bf3-c147c6cb7d71"
      },
      "execution_count": 21,
      "outputs": [
        {
          "output_type": "execute_result",
          "data": {
            "text/plain": [
              "array([2, 4, 6, 8])"
            ]
          },
          "metadata": {},
          "execution_count": 21
        }
      ]
    },
    {
      "cell_type": "markdown",
      "source": [
        "elementwise operation을 하는 특별한 데이터 구조임 <- vector, matrix\n",
        "#수치해석에 적합한 구조"
      ],
      "metadata": {
        "id": "zYNo4ntam7Yf"
      }
    },
    {
      "cell_type": "markdown",
      "source": [
        "#수학 연산을 가지고 있지만 기본 파이썬 데이터 구조와 같다."
      ],
      "metadata": {
        "id": "Ra5eHFEco72i"
      }
    },
    {
      "cell_type": "markdown",
      "source": [
        "왜 tensor까지 나왔는지 그리고\n",
        "R이 아니라 Python이 대세\n",
        "\n",
        "> 들여쓴 블록\n",
        "\n"
      ],
      "metadata": {
        "id": "coo1qapNpRIQ"
      }
    },
    {
      "cell_type": "markdown",
      "source": [
        "Python 느림, 그러나 코드 작성 시간이 200배 빠름\n"
      ],
      "metadata": {
        "id": "LrwlkfhcpyCF"
      }
    },
    {
      "cell_type": "markdown",
      "source": [
        "MATLAB 기능을 Python으로 만들자 opensource 로\n",
        "\n",
        "느린 단점 해결\n",
        "동시에 여러 GPU, 여러 프로세서, 여러 컴퓨터 사용으로\n",
        "\n",
        "Python은 C로 만들어짐\n",
        "\n",
        "C속도의 버금가게 Python의 장점을 극대화 시킴 =>  NumPy 구조  2005년에 탄생\n",
        "\n",
        "Python은 머신러닝 역할 키움\n",
        "\n",
        "google과 facebook도 넘파이 기반으로 GPU가 적용되는 Tensor를 가지고 텐서플로와 파이토치 만듬"
      ],
      "metadata": {
        "id": "Tv6VoJ_eqCQH"
      }
    },
    {
      "cell_type": "markdown",
      "source": [
        "\n",
        "2차원 배열\n",
        "homosequence => array \n",
        "넘파이 array는 연산이 수학과 같은 elementwise operation"
      ],
      "metadata": {
        "id": "aIv87fvqsZJb"
      }
    },
    {
      "cell_type": "markdown",
      "source": [
        "첫번째 vectorized => 병렬 계산 멀티코어 홯용 => 속도 빠름\n",
        "넘파이는 대형 배열에 최적화된 라이브러리\n",
        "GPU 텐서와 파이토치에서도 지원\n",
        "\n",
        "두번째 쉽다."
      ],
      "metadata": {
        "id": "V1ATswt90Q63"
      }
    },
    {
      "cell_type": "markdown",
      "source": [
        "1차 Vector\n",
        "2차 Matrix\n",
        "3차 3D Array (3rd order Tensor)\n",
        "N   ND Array\n",
        "\n",
        "NumPy배워서 -> DataFrame(Table) 조작\n",
        "\n",
        "컬럼끼리는 데이터형 같음"
      ],
      "metadata": {
        "id": "GvVKx6c71SXB"
      }
    }
  ]
}