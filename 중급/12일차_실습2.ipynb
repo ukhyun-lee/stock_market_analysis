{
  "cells": [
    {
      "cell_type": "markdown",
      "metadata": {
        "id": "view-in-github",
        "colab_type": "text"
      },
      "source": [
        "<a href=\"https://colab.research.google.com/github/ukhyun-lee/stock_market_analysis/blob/main/%EC%A4%91%EA%B8%89/12%EC%9D%BC%EC%B0%A8_%EC%8B%A4%EC%8A%B52.ipynb\" target=\"_parent\"><img src=\"https://colab.research.google.com/assets/colab-badge.svg\" alt=\"Open In Colab\"/></a>"
      ]
    },
    {
      "cell_type": "markdown",
      "id": "5b9e50dc",
      "metadata": {
        "id": "5b9e50dc"
      },
      "source": [
        "# time"
      ]
    },
    {
      "cell_type": "code",
      "execution_count": 1,
      "id": "73f862e6",
      "metadata": {
        "id": "73f862e6"
      },
      "outputs": [],
      "source": [
        "import time"
      ]
    },
    {
      "cell_type": "code",
      "execution_count": 2,
      "id": "16819b7f",
      "metadata": {
        "id": "16819b7f"
      },
      "outputs": [],
      "source": [
        "start = time.time()"
      ]
    },
    {
      "cell_type": "code",
      "execution_count": 3,
      "id": "a41ff15a",
      "metadata": {
        "id": "a41ff15a"
      },
      "outputs": [],
      "source": [
        "end = time.time()"
      ]
    },
    {
      "cell_type": "code",
      "execution_count": 4,
      "id": "4dc464f2",
      "metadata": {
        "colab": {
          "base_uri": "https://localhost:8080/"
        },
        "id": "4dc464f2",
        "outputId": "1c0aa5e3-f580-4a9e-a7be-cc2259a8a8a9"
      },
      "outputs": [
        {
          "output_type": "execute_result",
          "data": {
            "text/plain": [
              "0.08411169052124023"
            ]
          },
          "metadata": {},
          "execution_count": 4
        }
      ],
      "source": [
        "end - start"
      ]
    },
    {
      "cell_type": "code",
      "execution_count": 5,
      "id": "6471bb03",
      "metadata": {
        "collapsed": true,
        "colab": {
          "base_uri": "https://localhost:8080/"
        },
        "id": "6471bb03",
        "outputId": "2bd60fce-84a9-4d4a-c678-63f020c36212"
      },
      "outputs": [
        {
          "output_type": "execute_result",
          "data": {
            "text/plain": [
              "['CLOCK_BOOTTIME',\n",
              " 'CLOCK_MONOTONIC',\n",
              " 'CLOCK_MONOTONIC_RAW',\n",
              " 'CLOCK_PROCESS_CPUTIME_ID',\n",
              " 'CLOCK_REALTIME',\n",
              " 'CLOCK_TAI',\n",
              " 'CLOCK_THREAD_CPUTIME_ID',\n",
              " '_STRUCT_TM_ITEMS',\n",
              " '__doc__',\n",
              " '__loader__',\n",
              " '__name__',\n",
              " '__package__',\n",
              " '__spec__',\n",
              " 'altzone',\n",
              " 'asctime',\n",
              " 'clock_getres',\n",
              " 'clock_gettime',\n",
              " 'clock_gettime_ns',\n",
              " 'clock_settime',\n",
              " 'clock_settime_ns',\n",
              " 'ctime',\n",
              " 'daylight',\n",
              " 'get_clock_info',\n",
              " 'gmtime',\n",
              " 'localtime',\n",
              " 'mktime',\n",
              " 'monotonic',\n",
              " 'monotonic_ns',\n",
              " 'perf_counter',\n",
              " 'perf_counter_ns',\n",
              " 'process_time',\n",
              " 'process_time_ns',\n",
              " 'pthread_getcpuclockid',\n",
              " 'sleep',\n",
              " 'strftime',\n",
              " 'strptime',\n",
              " 'struct_time',\n",
              " 'thread_time',\n",
              " 'thread_time_ns',\n",
              " 'time',\n",
              " 'time_ns',\n",
              " 'timezone',\n",
              " 'tzname',\n",
              " 'tzset']"
            ]
          },
          "metadata": {},
          "execution_count": 5
        }
      ],
      "source": [
        "dir(time)"
      ]
    },
    {
      "cell_type": "code",
      "execution_count": 6,
      "id": "abe0e2a7",
      "metadata": {
        "colab": {
          "base_uri": "https://localhost:8080/"
        },
        "id": "abe0e2a7",
        "outputId": "b6ddd61c-1711-4360-908a-41d83792f2d4"
      },
      "outputs": [
        {
          "output_type": "execute_result",
          "data": {
            "text/plain": [
              "time.struct_time(tm_year=2023, tm_mon=7, tm_mday=9, tm_hour=2, tm_min=29, tm_sec=21, tm_wday=6, tm_yday=190, tm_isdst=0)"
            ]
          },
          "metadata": {},
          "execution_count": 6
        }
      ],
      "source": [
        "time.localtime()"
      ]
    },
    {
      "cell_type": "code",
      "execution_count": 7,
      "id": "3496b64c",
      "metadata": {
        "colab": {
          "base_uri": "https://localhost:8080/",
          "height": 36
        },
        "id": "3496b64c",
        "outputId": "42d4f72f-1955-4bab-f033-a24351044a3d"
      },
      "outputs": [
        {
          "output_type": "execute_result",
          "data": {
            "text/plain": [
              "'Sun Jul  9 02:29:21 2023'"
            ],
            "application/vnd.google.colaboratory.intrinsic+json": {
              "type": "string"
            }
          },
          "metadata": {},
          "execution_count": 7
        }
      ],
      "source": [
        "time.asctime()"
      ]
    },
    {
      "cell_type": "markdown",
      "id": "aed0bd70",
      "metadata": {
        "id": "aed0bd70"
      },
      "source": [
        "# calendar"
      ]
    },
    {
      "cell_type": "code",
      "execution_count": 8,
      "id": "fe8249c3",
      "metadata": {
        "id": "fe8249c3"
      },
      "outputs": [],
      "source": [
        "import calendar"
      ]
    },
    {
      "cell_type": "code",
      "execution_count": 9,
      "id": "a66e710d",
      "metadata": {
        "id": "a66e710d"
      },
      "outputs": [],
      "source": [
        "c = calendar.Calendar()"
      ]
    },
    {
      "cell_type": "code",
      "execution_count": 10,
      "id": "61274020",
      "metadata": {
        "id": "61274020"
      },
      "outputs": [],
      "source": [
        "b = c.iterweekdays()"
      ]
    },
    {
      "cell_type": "code",
      "execution_count": 11,
      "id": "e4028824",
      "metadata": {
        "id": "e4028824"
      },
      "outputs": [],
      "source": [
        "d = c.itermonthdates(2023, 7)"
      ]
    },
    {
      "cell_type": "code",
      "execution_count": 14,
      "id": "3c97b329",
      "metadata": {
        "colab": {
          "base_uri": "https://localhost:8080/"
        },
        "id": "3c97b329",
        "outputId": "632e45e4-0a33-47a0-d808-ab2218bd97e2"
      },
      "outputs": [
        {
          "output_type": "execute_result",
          "data": {
            "text/plain": [
              "(5, 31)"
            ]
          },
          "metadata": {},
          "execution_count": 14
        }
      ],
      "source": [
        "calendar.monthrange(2023,7)\n",
        "\n"
      ]
    },
    {
      "cell_type": "markdown",
      "source": [
        "0 월\n",
        "1 화\n",
        "2 수\n",
        "3 목\n",
        "4 금\n",
        "5 토\n",
        "6 일"
      ],
      "metadata": {
        "id": "VfBD58GIe6LP"
      },
      "id": "VfBD58GIe6LP"
    },
    {
      "cell_type": "code",
      "execution_count": 15,
      "id": "5da8e8c5",
      "metadata": {
        "colab": {
          "base_uri": "https://localhost:8080/"
        },
        "id": "5da8e8c5",
        "outputId": "d975f749-f90b-45d7-fef8-8e15f794307d"
      },
      "outputs": [
        {
          "output_type": "execute_result",
          "data": {
            "text/plain": [
              "datetime.date(2023, 6, 26)"
            ]
          },
          "metadata": {},
          "execution_count": 15
        }
      ],
      "source": [
        "next(d)"
      ]
    },
    {
      "cell_type": "code",
      "execution_count": 16,
      "id": "8a0c227c",
      "metadata": {
        "colab": {
          "base_uri": "https://localhost:8080/"
        },
        "id": "8a0c227c",
        "outputId": "a03e7365-06be-47a4-c90b-c5d2973e9f53"
      },
      "outputs": [
        {
          "output_type": "execute_result",
          "data": {
            "text/plain": [
              "['Calendar',\n",
              " 'EPOCH',\n",
              " 'FRIDAY',\n",
              " 'February',\n",
              " 'HTMLCalendar',\n",
              " 'IllegalMonthError',\n",
              " 'IllegalWeekdayError',\n",
              " 'January',\n",
              " 'LocaleHTMLCalendar',\n",
              " 'LocaleTextCalendar',\n",
              " 'MONDAY',\n",
              " 'SATURDAY',\n",
              " 'SUNDAY',\n",
              " 'THURSDAY',\n",
              " 'TUESDAY',\n",
              " 'TextCalendar',\n",
              " 'WEDNESDAY',\n",
              " '_EPOCH_ORD',\n",
              " '__all__',\n",
              " '__builtins__',\n",
              " '__cached__',\n",
              " '__doc__',\n",
              " '__file__',\n",
              " '__loader__',\n",
              " '__name__',\n",
              " '__package__',\n",
              " '__spec__',\n",
              " '_colwidth',\n",
              " '_locale',\n",
              " '_localized_day',\n",
              " '_localized_month',\n",
              " '_monthlen',\n",
              " '_nextmonth',\n",
              " '_prevmonth',\n",
              " '_spacing',\n",
              " 'c',\n",
              " 'calendar',\n",
              " 'datetime',\n",
              " 'day_abbr',\n",
              " 'day_name',\n",
              " 'different_locale',\n",
              " 'error',\n",
              " 'firstweekday',\n",
              " 'format',\n",
              " 'formatstring',\n",
              " 'isleap',\n",
              " 'leapdays',\n",
              " 'main',\n",
              " 'mdays',\n",
              " 'month',\n",
              " 'month_abbr',\n",
              " 'month_name',\n",
              " 'monthcalendar',\n",
              " 'monthrange',\n",
              " 'prcal',\n",
              " 'prmonth',\n",
              " 'prweek',\n",
              " 'repeat',\n",
              " 'setfirstweekday',\n",
              " 'sys',\n",
              " 'timegm',\n",
              " 'week',\n",
              " 'weekday',\n",
              " 'weekheader']"
            ]
          },
          "metadata": {},
          "execution_count": 16
        }
      ],
      "source": [
        "dir(calendar)"
      ]
    },
    {
      "cell_type": "code",
      "execution_count": 17,
      "id": "2d19d890",
      "metadata": {
        "colab": {
          "base_uri": "https://localhost:8080/"
        },
        "id": "2d19d890",
        "outputId": "27cf8541-dcd0-485c-967c-bc8e622d9d01"
      },
      "outputs": [
        {
          "output_type": "stream",
          "name": "stdout",
          "text": [
            "     July 2023\n",
            "Mo Tu We Th Fr Sa Su\n",
            "                1  2\n",
            " 3  4  5  6  7  8  9\n",
            "10 11 12 13 14 15 16\n",
            "17 18 19 20 21 22 23\n",
            "24 25 26 27 28 29 30\n",
            "31\n",
            "\n"
          ]
        }
      ],
      "source": [
        "print(calendar.month(2023,7))"
      ]
    },
    {
      "cell_type": "code",
      "execution_count": 18,
      "id": "6c274d67",
      "metadata": {
        "colab": {
          "base_uri": "https://localhost:8080/"
        },
        "id": "6c274d67",
        "outputId": "163007f2-2b15-4d40-f2a8-d110b2b0cf94"
      },
      "outputs": [
        {
          "output_type": "stream",
          "name": "stdout",
          "text": [
            "                                  2023\n",
            "\n",
            "      January                   February                   March\n",
            "Mo Tu We Th Fr Sa Su      Mo Tu We Th Fr Sa Su      Mo Tu We Th Fr Sa Su\n",
            "                   1             1  2  3  4  5             1  2  3  4  5\n",
            " 2  3  4  5  6  7  8       6  7  8  9 10 11 12       6  7  8  9 10 11 12\n",
            " 9 10 11 12 13 14 15      13 14 15 16 17 18 19      13 14 15 16 17 18 19\n",
            "16 17 18 19 20 21 22      20 21 22 23 24 25 26      20 21 22 23 24 25 26\n",
            "23 24 25 26 27 28 29      27 28                     27 28 29 30 31\n",
            "30 31\n",
            "\n",
            "       April                      May                       June\n",
            "Mo Tu We Th Fr Sa Su      Mo Tu We Th Fr Sa Su      Mo Tu We Th Fr Sa Su\n",
            "                1  2       1  2  3  4  5  6  7                1  2  3  4\n",
            " 3  4  5  6  7  8  9       8  9 10 11 12 13 14       5  6  7  8  9 10 11\n",
            "10 11 12 13 14 15 16      15 16 17 18 19 20 21      12 13 14 15 16 17 18\n",
            "17 18 19 20 21 22 23      22 23 24 25 26 27 28      19 20 21 22 23 24 25\n",
            "24 25 26 27 28 29 30      29 30 31                  26 27 28 29 30\n",
            "\n",
            "        July                     August                  September\n",
            "Mo Tu We Th Fr Sa Su      Mo Tu We Th Fr Sa Su      Mo Tu We Th Fr Sa Su\n",
            "                1  2          1  2  3  4  5  6                   1  2  3\n",
            " 3  4  5  6  7  8  9       7  8  9 10 11 12 13       4  5  6  7  8  9 10\n",
            "10 11 12 13 14 15 16      14 15 16 17 18 19 20      11 12 13 14 15 16 17\n",
            "17 18 19 20 21 22 23      21 22 23 24 25 26 27      18 19 20 21 22 23 24\n",
            "24 25 26 27 28 29 30      28 29 30 31               25 26 27 28 29 30\n",
            "31\n",
            "\n",
            "      October                   November                  December\n",
            "Mo Tu We Th Fr Sa Su      Mo Tu We Th Fr Sa Su      Mo Tu We Th Fr Sa Su\n",
            "                   1             1  2  3  4  5                   1  2  3\n",
            " 2  3  4  5  6  7  8       6  7  8  9 10 11 12       4  5  6  7  8  9 10\n",
            " 9 10 11 12 13 14 15      13 14 15 16 17 18 19      11 12 13 14 15 16 17\n",
            "16 17 18 19 20 21 22      20 21 22 23 24 25 26      18 19 20 21 22 23 24\n",
            "23 24 25 26 27 28 29      27 28 29 30               25 26 27 28 29 30 31\n",
            "30 31\n",
            "\n"
          ]
        }
      ],
      "source": [
        "print(calendar.calendar(2023))"
      ]
    },
    {
      "cell_type": "markdown",
      "id": "15e62881",
      "metadata": {
        "id": "15e62881"
      },
      "source": [
        "# datetime"
      ]
    },
    {
      "cell_type": "code",
      "execution_count": 19,
      "id": "cb7ad5e3",
      "metadata": {
        "id": "cb7ad5e3"
      },
      "outputs": [],
      "source": [
        "import datetime"
      ]
    },
    {
      "cell_type": "code",
      "execution_count": 20,
      "id": "86f7a0fe",
      "metadata": {
        "colab": {
          "base_uri": "https://localhost:8080/"
        },
        "id": "86f7a0fe",
        "outputId": "79b10607-7914-406f-80af-4b5f54caa661"
      },
      "outputs": [
        {
          "output_type": "execute_result",
          "data": {
            "text/plain": [
              "['MAXYEAR',\n",
              " 'MINYEAR',\n",
              " '__all__',\n",
              " '__builtins__',\n",
              " '__cached__',\n",
              " '__doc__',\n",
              " '__file__',\n",
              " '__loader__',\n",
              " '__name__',\n",
              " '__package__',\n",
              " '__spec__',\n",
              " 'date',\n",
              " 'datetime',\n",
              " 'datetime_CAPI',\n",
              " 'sys',\n",
              " 'time',\n",
              " 'timedelta',\n",
              " 'timezone',\n",
              " 'tzinfo']"
            ]
          },
          "metadata": {},
          "execution_count": 20
        }
      ],
      "source": [
        "dir(datetime)"
      ]
    },
    {
      "cell_type": "markdown",
      "source": [
        "datetime\n",
        "- date  (시간이 필요없을 때)\n",
        "- time  (날짜가 필요없을 때)\n",
        "- datetime (기본)\n",
        "- timedelta"
      ],
      "metadata": {
        "id": "UzHF5vVne__Y"
      },
      "id": "UzHF5vVne__Y"
    },
    {
      "cell_type": "markdown",
      "source": [
        "#datetime 객체 관리시 =>\n"
      ],
      "metadata": {
        "id": "847wJrHVfUxJ"
      },
      "id": "847wJrHVfUxJ"
    },
    {
      "cell_type": "markdown",
      "source": [
        "## native(tz없는) / aware(tz 있는)\n"
      ],
      "metadata": {
        "id": "c7aoVyZKpMzq"
      },
      "id": "c7aoVyZKpMzq"
    },
    {
      "cell_type": "markdown",
      "source": [
        "##1. 각 시간에 대한 정보 추출 편함"
      ],
      "metadata": {
        "id": "hvMkcxLjqW6P"
      },
      "id": "hvMkcxLjqW6P"
    },
    {
      "cell_type": "code",
      "execution_count": 22,
      "id": "035c6be9",
      "metadata": {
        "colab": {
          "base_uri": "https://localhost:8080/"
        },
        "id": "035c6be9",
        "outputId": "d31ac9fe-5de3-477e-9e15-600404a3f15d"
      },
      "outputs": [
        {
          "output_type": "execute_result",
          "data": {
            "text/plain": [
              "datetime.datetime(2023, 7, 9, 0, 0)"
            ]
          },
          "metadata": {},
          "execution_count": 22
        }
      ],
      "source": [
        "datetime.datetime(2023,7,9)"
      ]
    },
    {
      "cell_type": "code",
      "execution_count": 23,
      "id": "39912ce1",
      "metadata": {
        "id": "39912ce1"
      },
      "outputs": [],
      "source": [
        "d = datetime.datetime(2023,7,9,11,16,30)"
      ]
    },
    {
      "cell_type": "code",
      "execution_count": 24,
      "id": "c088bb70",
      "metadata": {
        "colab": {
          "base_uri": "https://localhost:8080/"
        },
        "id": "c088bb70",
        "outputId": "1d1dd367-8e64-4775-97a4-adfbd9965cb7"
      },
      "outputs": [
        {
          "output_type": "execute_result",
          "data": {
            "text/plain": [
              "datetime.datetime(2023, 7, 9, 11, 16, 30)"
            ]
          },
          "metadata": {},
          "execution_count": 24
        }
      ],
      "source": [
        "d"
      ]
    },
    {
      "cell_type": "code",
      "execution_count": 25,
      "id": "fd8dc8f0",
      "metadata": {
        "colab": {
          "base_uri": "https://localhost:8080/"
        },
        "id": "fd8dc8f0",
        "outputId": "2c037e06-1ddd-4cd0-c7a7-56640a295096"
      },
      "outputs": [
        {
          "output_type": "execute_result",
          "data": {
            "text/plain": [
              "9"
            ]
          },
          "metadata": {},
          "execution_count": 25
        }
      ],
      "source": [
        "d.year\n",
        "d.month\n",
        "d.day"
      ]
    },
    {
      "cell_type": "code",
      "execution_count": 26,
      "id": "394f59cb",
      "metadata": {
        "colab": {
          "base_uri": "https://localhost:8080/"
        },
        "id": "394f59cb",
        "outputId": "266962f1-a0ed-4c7b-fa03-d946bb978fab"
      },
      "outputs": [
        {
          "output_type": "execute_result",
          "data": {
            "text/plain": [
              "30"
            ]
          },
          "metadata": {},
          "execution_count": 26
        }
      ],
      "source": [
        "d.hour\n",
        "d.minute\n",
        "d.second"
      ]
    },
    {
      "cell_type": "code",
      "execution_count": 27,
      "id": "388599e1",
      "metadata": {
        "colab": {
          "base_uri": "https://localhost:8080/"
        },
        "id": "388599e1",
        "outputId": "80208e30-4be2-4aa6-e4f9-752aa11ba176"
      },
      "outputs": [
        {
          "output_type": "execute_result",
          "data": {
            "text/plain": [
              "datetime.time(11, 16, 30)"
            ]
          },
          "metadata": {},
          "execution_count": 27
        }
      ],
      "source": [
        "d.date()\n",
        "d.time()"
      ]
    },
    {
      "cell_type": "markdown",
      "source": [
        "##2. 시간 계산"
      ],
      "metadata": {
        "id": "mMKs--0Pfm4P"
      },
      "id": "mMKs--0Pfm4P"
    },
    {
      "cell_type": "code",
      "source": [
        "d"
      ],
      "metadata": {
        "colab": {
          "base_uri": "https://localhost:8080/"
        },
        "id": "O0ctZQjtf3WV",
        "outputId": "ab678d7f-d0d1-482f-ff0a-956f67e0430a"
      },
      "id": "O0ctZQjtf3WV",
      "execution_count": 30,
      "outputs": [
        {
          "output_type": "execute_result",
          "data": {
            "text/plain": [
              "datetime.datetime(2023, 7, 9, 11, 16, 30)"
            ]
          },
          "metadata": {},
          "execution_count": 30
        }
      ]
    },
    {
      "cell_type": "code",
      "source": [
        "d + datetime.timedelta(days=5)"
      ],
      "metadata": {
        "colab": {
          "base_uri": "https://localhost:8080/"
        },
        "id": "_AK1HIiLf5o-",
        "outputId": "2382f78d-f847-4abf-c470-2ed9b2d36063"
      },
      "id": "_AK1HIiLf5o-",
      "execution_count": 31,
      "outputs": [
        {
          "output_type": "execute_result",
          "data": {
            "text/plain": [
              "datetime.datetime(2023, 7, 14, 11, 16, 30)"
            ]
          },
          "metadata": {},
          "execution_count": 31
        }
      ]
    },
    {
      "cell_type": "code",
      "source": [
        "d1 = datetime.datetime(2023,7,12)"
      ],
      "metadata": {
        "id": "nrtWfFOlgBZW"
      },
      "id": "nrtWfFOlgBZW",
      "execution_count": 32,
      "outputs": []
    },
    {
      "cell_type": "code",
      "source": [
        "d1 - d"
      ],
      "metadata": {
        "colab": {
          "base_uri": "https://localhost:8080/"
        },
        "id": "jNZO8697gIY-",
        "outputId": "363bf3f6-6bd7-426c-9763-745de7004e43"
      },
      "id": "jNZO8697gIY-",
      "execution_count": 33,
      "outputs": [
        {
          "output_type": "execute_result",
          "data": {
            "text/plain": [
              "datetime.timedelta(days=2, seconds=45810)"
            ]
          },
          "metadata": {},
          "execution_count": 33
        }
      ]
    },
    {
      "cell_type": "markdown",
      "source": [
        "# 3. 문자열과 변환 용이"
      ],
      "metadata": {
        "id": "HlQZ_F0rfjKH"
      },
      "id": "HlQZ_F0rfjKH"
    },
    {
      "cell_type": "code",
      "execution_count": 28,
      "id": "5a5c0f25",
      "metadata": {
        "colab": {
          "base_uri": "https://localhost:8080/",
          "height": 36
        },
        "id": "5a5c0f25",
        "outputId": "e53941bf-2767-4fcb-8660-79b4e8e00171"
      },
      "outputs": [
        {
          "output_type": "execute_result",
          "data": {
            "text/plain": [
              "'23-07-09'"
            ],
            "application/vnd.google.colaboratory.intrinsic+json": {
              "type": "string"
            }
          },
          "metadata": {},
          "execution_count": 28
        }
      ],
      "source": [
        "d.strftime('%y-%m-%d') # format"
      ]
    },
    {
      "cell_type": "code",
      "execution_count": 29,
      "id": "b6a3b74b",
      "metadata": {
        "colab": {
          "base_uri": "https://localhost:8080/"
        },
        "id": "b6a3b74b",
        "outputId": "cb3aa7ea-4e03-42a5-a68d-b98928add693"
      },
      "outputs": [
        {
          "output_type": "execute_result",
          "data": {
            "text/plain": [
              "datetime.datetime(2023, 7, 9, 0, 0)"
            ]
          },
          "metadata": {},
          "execution_count": 29
        }
      ],
      "source": [
        "datetime.datetime.strptime('2023-07-09', '%Y-%m-%d')  # parse"
      ]
    },
    {
      "cell_type": "markdown",
      "source": [
        "## 4. 추가 기능"
      ],
      "metadata": {
        "id": "7W0FjLQbgssM"
      },
      "id": "7W0FjLQbgssM"
    },
    {
      "cell_type": "markdown",
      "source": [
        "### 귀찮음"
      ],
      "metadata": {
        "id": "ObzmflZ5g_1c"
      },
      "id": "ObzmflZ5g_1c"
    },
    {
      "cell_type": "code",
      "execution_count": 34,
      "id": "4edbb308",
      "metadata": {
        "id": "4edbb308"
      },
      "outputs": [],
      "source": [
        "from datetime import datetime"
      ]
    },
    {
      "cell_type": "code",
      "source": [
        "import datetime"
      ],
      "metadata": {
        "id": "2oJqu516hNdm"
      },
      "id": "2oJqu516hNdm",
      "execution_count": 35,
      "outputs": []
    },
    {
      "cell_type": "code",
      "source": [
        "datetime.datetime.now()   #local"
      ],
      "metadata": {
        "colab": {
          "base_uri": "https://localhost:8080/"
        },
        "id": "ycn0v-BQhP70",
        "outputId": "bdda88b4-e4ad-4307-b349-00f4bee1f575"
      },
      "id": "ycn0v-BQhP70",
      "execution_count": 36,
      "outputs": [
        {
          "output_type": "execute_result",
          "data": {
            "text/plain": [
              "datetime.datetime(2023, 7, 9, 2, 40, 4, 54545)"
            ]
          },
          "metadata": {},
          "execution_count": 36
        }
      ]
    },
    {
      "cell_type": "code",
      "source": [
        "d"
      ],
      "metadata": {
        "colab": {
          "base_uri": "https://localhost:8080/"
        },
        "id": "aLFWrD-fiCpK",
        "outputId": "8faaca79-77b0-4ec8-d8fa-c0e0f0e49a8e"
      },
      "id": "aLFWrD-fiCpK",
      "execution_count": 41,
      "outputs": [
        {
          "output_type": "execute_result",
          "data": {
            "text/plain": [
              "datetime.datetime(2023, 7, 9, 11, 16, 30)"
            ]
          },
          "metadata": {},
          "execution_count": 41
        }
      ]
    },
    {
      "cell_type": "code",
      "source": [
        "datetime.datetime(2023, 7, 7, 11, 16, 30)"
      ],
      "metadata": {
        "colab": {
          "base_uri": "https://localhost:8080/"
        },
        "id": "EEX3xUZ0hVoU",
        "outputId": "20e27c06-51bf-4686-9adc-9c9651a92f61"
      },
      "id": "EEX3xUZ0hVoU",
      "execution_count": 37,
      "outputs": [
        {
          "output_type": "execute_result",
          "data": {
            "text/plain": [
              "datetime.datetime(2023, 7, 7, 11, 16, 30)"
            ]
          },
          "metadata": {},
          "execution_count": 37
        }
      ]
    },
    {
      "cell_type": "code",
      "source": [
        "datetime.datetime.utcnow()   #utc"
      ],
      "metadata": {
        "colab": {
          "base_uri": "https://localhost:8080/"
        },
        "id": "FsTb_JylhvRE",
        "outputId": "b22e0bc1-2545-4354-fedb-5f3167930bad"
      },
      "id": "FsTb_JylhvRE",
      "execution_count": 38,
      "outputs": [
        {
          "output_type": "execute_result",
          "data": {
            "text/plain": [
              "datetime.datetime(2023, 7, 9, 2, 42, 12, 326560)"
            ]
          },
          "metadata": {},
          "execution_count": 38
        }
      ]
    },
    {
      "cell_type": "code",
      "source": [
        "d.isoformat()"
      ],
      "metadata": {
        "colab": {
          "base_uri": "https://localhost:8080/",
          "height": 36
        },
        "id": "pnWTy_YCh0Y8",
        "outputId": "c79700f2-5c0c-475a-ec31-5286812d7891"
      },
      "id": "pnWTy_YCh0Y8",
      "execution_count": 39,
      "outputs": [
        {
          "output_type": "execute_result",
          "data": {
            "text/plain": [
              "'2023-07-09T11:16:30'"
            ],
            "application/vnd.google.colaboratory.intrinsic+json": {
              "type": "string"
            }
          },
          "metadata": {},
          "execution_count": 39
        }
      ]
    },
    {
      "cell_type": "code",
      "source": [
        "d.isocalendar()"
      ],
      "metadata": {
        "colab": {
          "base_uri": "https://localhost:8080/"
        },
        "id": "Vq9lZByEh2q7",
        "outputId": "1d279953-0772-45bd-9d9e-7e688876bb91"
      },
      "id": "Vq9lZByEh2q7",
      "execution_count": 40,
      "outputs": [
        {
          "output_type": "execute_result",
          "data": {
            "text/plain": [
              "datetime.IsoCalendarDate(year=2023, week=27, weekday=7)"
            ]
          },
          "metadata": {},
          "execution_count": 40
        }
      ]
    },
    {
      "cell_type": "code",
      "source": [
        "d.tzname()"
      ],
      "metadata": {
        "id": "9cyOKOibiH50"
      },
      "id": "9cyOKOibiH50",
      "execution_count": 42,
      "outputs": []
    },
    {
      "cell_type": "code",
      "source": [
        "datetime.tzinfo"
      ],
      "metadata": {
        "colab": {
          "base_uri": "https://localhost:8080/"
        },
        "id": "ZomjZZzviRbS",
        "outputId": "c36232e5-89a7-4372-b702-418b4cab273d"
      },
      "id": "ZomjZZzviRbS",
      "execution_count": 43,
      "outputs": [
        {
          "output_type": "execute_result",
          "data": {
            "text/plain": [
              "datetime.tzinfo"
            ]
          },
          "metadata": {},
          "execution_count": 43
        }
      ]
    },
    {
      "cell_type": "markdown",
      "source": [
        "# python 자체"
      ],
      "metadata": {
        "id": "4C5bx0nfjrap"
      },
      "id": "4C5bx0nfjrap"
    },
    {
      "cell_type": "code",
      "source": [
        "kst = datetime.timezone(datetime.timedelta(hours=9))"
      ],
      "metadata": {
        "id": "ytkhzlN-imFi"
      },
      "id": "ytkhzlN-imFi",
      "execution_count": 48,
      "outputs": []
    },
    {
      "cell_type": "markdown",
      "source": [
        "# pytz => 99프로 사용"
      ],
      "metadata": {
        "id": "D7YbkvTUju6p"
      },
      "id": "D7YbkvTUju6p"
    },
    {
      "cell_type": "code",
      "source": [
        "import pytz"
      ],
      "metadata": {
        "id": "QUmWiFgbjD_R"
      },
      "id": "QUmWiFgbjD_R",
      "execution_count": 47,
      "outputs": []
    },
    {
      "cell_type": "code",
      "source": [
        "dd = datetime.datetime(2023,7,9, tzinfo=kst)"
      ],
      "metadata": {
        "id": "5SXCERrXiKmy"
      },
      "id": "5SXCERrXiKmy",
      "execution_count": 49,
      "outputs": []
    },
    {
      "cell_type": "code",
      "source": [
        "dir(pytz)"
      ],
      "metadata": {
        "id": "rLXVQ_TQjKgE"
      },
      "id": "rLXVQ_TQjKgE",
      "execution_count": null,
      "outputs": []
    },
    {
      "cell_type": "code",
      "source": [
        "pytz.all_timezones"
      ],
      "metadata": {
        "id": "UMQuna2Nlwjl"
      },
      "id": "UMQuna2Nlwjl",
      "execution_count": null,
      "outputs": []
    },
    {
      "cell_type": "code",
      "source": [
        "pytz.all_timezones_set"
      ],
      "metadata": {
        "id": "6lXqfwLJmAC0"
      },
      "id": "6lXqfwLJmAC0",
      "execution_count": null,
      "outputs": []
    },
    {
      "cell_type": "code",
      "source": [
        "kst2 = pytz.timezone('Asia/Seoul')"
      ],
      "metadata": {
        "id": "ENjp9mkCjN2R"
      },
      "id": "ENjp9mkCjN2R",
      "execution_count": 51,
      "outputs": []
    },
    {
      "cell_type": "code",
      "source": [
        "af = pytz.timezone('Africa/Bissau')"
      ],
      "metadata": {
        "id": "ZbkTAFKJnOgz"
      },
      "id": "ZbkTAFKJnOgz",
      "execution_count": 77,
      "outputs": []
    },
    {
      "cell_type": "code",
      "source": [
        "utc = datetime.datetime.utcnow()"
      ],
      "metadata": {
        "id": "FIPnI9KhmjyE"
      },
      "id": "FIPnI9KhmjyE",
      "execution_count": 70,
      "outputs": []
    },
    {
      "cell_type": "code",
      "source": [
        "utc"
      ],
      "metadata": {
        "colab": {
          "base_uri": "https://localhost:8080/"
        },
        "id": "_sresi1zmo60",
        "outputId": "a14ac5e6-7025-47a7-e7ad-66044eb2ba7e"
      },
      "id": "_sresi1zmo60",
      "execution_count": 71,
      "outputs": [
        {
          "output_type": "execute_result",
          "data": {
            "text/plain": [
              "datetime.datetime(2023, 7, 9, 3, 3, 19, 281728)"
            ]
          },
          "metadata": {},
          "execution_count": 71
        }
      ]
    },
    {
      "cell_type": "code",
      "source": [
        "utc.tzinfo"
      ],
      "metadata": {
        "id": "UKp5qyQbmqi0"
      },
      "id": "UKp5qyQbmqi0",
      "execution_count": 72,
      "outputs": []
    },
    {
      "cell_type": "code",
      "source": [
        "pytz.utc.localize(utc)"
      ],
      "metadata": {
        "colab": {
          "base_uri": "https://localhost:8080/"
        },
        "id": "nQnpcVEMmZ4k",
        "outputId": "1c070eb2-db45-4a05-e03d-bf7fa3bb6ba8"
      },
      "id": "nQnpcVEMmZ4k",
      "execution_count": 73,
      "outputs": [
        {
          "output_type": "execute_result",
          "data": {
            "text/plain": [
              "datetime.datetime(2023, 7, 9, 3, 3, 19, 281728, tzinfo=<UTC>)"
            ]
          },
          "metadata": {},
          "execution_count": 73
        }
      ]
    },
    {
      "cell_type": "code",
      "source": [
        "kst2.localize(utc)"
      ],
      "metadata": {
        "colab": {
          "base_uri": "https://localhost:8080/"
        },
        "id": "QlCf-tmzmguE",
        "outputId": "1982c318-4cd5-47cc-e1f9-052d3ada59c2"
      },
      "id": "QlCf-tmzmguE",
      "execution_count": 74,
      "outputs": [
        {
          "output_type": "execute_result",
          "data": {
            "text/plain": [
              "datetime.datetime(2023, 7, 9, 3, 3, 19, 281728, tzinfo=<DstTzInfo 'Asia/Seoul' KST+9:00:00 STD>)"
            ]
          },
          "metadata": {},
          "execution_count": 74
        }
      ]
    },
    {
      "cell_type": "code",
      "source": [
        "d.replace(tzinfo=af)"
      ],
      "metadata": {
        "colab": {
          "base_uri": "https://localhost:8080/"
        },
        "id": "pYLq2ctSmgrs",
        "outputId": "f2f4ea77-50c3-4492-d965-ad5ed675d63e"
      },
      "id": "pYLq2ctSmgrs",
      "execution_count": 78,
      "outputs": [
        {
          "output_type": "execute_result",
          "data": {
            "text/plain": [
              "datetime.datetime(2023, 7, 9, 11, 16, 30, tzinfo=<DstTzInfo 'Africa/Bissau' LMT-1 day, 22:58:00 STD>)"
            ]
          },
          "metadata": {},
          "execution_count": 78
        }
      ]
    },
    {
      "cell_type": "code",
      "source": [],
      "metadata": {
        "id": "wGWjLqxrmgpE"
      },
      "id": "wGWjLqxrmgpE",
      "execution_count": null,
      "outputs": []
    },
    {
      "cell_type": "markdown",
      "source": [
        "## localize, replace"
      ],
      "metadata": {
        "id": "rT9qaryimhp-"
      },
      "id": "rT9qaryimhp-"
    },
    {
      "cell_type": "code",
      "source": [
        "pytz.utc.localize(utc)"
      ],
      "metadata": {
        "colab": {
          "base_uri": "https://localhost:8080/"
        },
        "id": "95fAjZLxnhm1",
        "outputId": "a0d1363c-56f9-4804-ed4a-d5441d795148"
      },
      "id": "95fAjZLxnhm1",
      "execution_count": 79,
      "outputs": [
        {
          "output_type": "execute_result",
          "data": {
            "text/plain": [
              "datetime.datetime(2023, 7, 9, 3, 3, 19, 281728, tzinfo=<UTC>)"
            ]
          },
          "metadata": {},
          "execution_count": 79
        }
      ]
    },
    {
      "cell_type": "code",
      "source": [
        "utc.replace(tzinfo=af)"
      ],
      "metadata": {
        "colab": {
          "base_uri": "https://localhost:8080/"
        },
        "id": "-loXUTSonlSP",
        "outputId": "8ecb96df-56c6-45cf-fe7b-c73c80730462"
      },
      "id": "-loXUTSonlSP",
      "execution_count": 81,
      "outputs": [
        {
          "output_type": "execute_result",
          "data": {
            "text/plain": [
              "datetime.datetime(2023, 7, 9, 3, 3, 19, 281728, tzinfo=<DstTzInfo 'Africa/Bissau' LMT-1 day, 22:58:00 STD>)"
            ]
          },
          "metadata": {},
          "execution_count": 81
        }
      ]
    },
    {
      "cell_type": "markdown",
      "source": [
        "## localize, replace"
      ],
      "metadata": {
        "id": "Sv-TR3-nn6L6"
      },
      "id": "Sv-TR3-nn6L6"
    },
    {
      "cell_type": "code",
      "source": [
        "utc"
      ],
      "metadata": {
        "colab": {
          "base_uri": "https://localhost:8080/"
        },
        "id": "XlTi1_rln-kj",
        "outputId": "c3d252bf-ac63-4d62-a03a-33d9b1a5ae0e"
      },
      "id": "XlTi1_rln-kj",
      "execution_count": 82,
      "outputs": [
        {
          "output_type": "execute_result",
          "data": {
            "text/plain": [
              "datetime.datetime(2023, 7, 9, 3, 3, 19, 281728)"
            ]
          },
          "metadata": {},
          "execution_count": 82
        }
      ]
    },
    {
      "cell_type": "code",
      "source": [
        "kst2.localize(utc)"
      ],
      "metadata": {
        "colab": {
          "base_uri": "https://localhost:8080/"
        },
        "id": "olXVEIjEoADD",
        "outputId": "61bb12db-f309-468a-d520-727e94cd3b62"
      },
      "id": "olXVEIjEoADD",
      "execution_count": 83,
      "outputs": [
        {
          "output_type": "execute_result",
          "data": {
            "text/plain": [
              "datetime.datetime(2023, 7, 9, 3, 3, 19, 281728, tzinfo=<DstTzInfo 'Asia/Seoul' KST+9:00:00 STD>)"
            ]
          },
          "metadata": {},
          "execution_count": 83
        }
      ]
    },
    {
      "cell_type": "code",
      "source": [
        "utc.replace(tzinfo=kst2)"
      ],
      "metadata": {
        "colab": {
          "base_uri": "https://localhost:8080/"
        },
        "id": "2OgWnqF6oEO6",
        "outputId": "14eb864d-ee87-4324-8de0-cb922b7cc129"
      },
      "id": "2OgWnqF6oEO6",
      "execution_count": 85,
      "outputs": [
        {
          "output_type": "execute_result",
          "data": {
            "text/plain": [
              "datetime.datetime(2023, 7, 9, 3, 3, 19, 281728, tzinfo=<DstTzInfo 'Asia/Seoul' LMT+8:28:00 STD>)"
            ]
          },
          "metadata": {},
          "execution_count": 85
        }
      ]
    },
    {
      "cell_type": "code",
      "source": [
        "utc.astimezone()"
      ],
      "metadata": {
        "colab": {
          "base_uri": "https://localhost:8080/"
        },
        "id": "jTBJ0UuuoZlL",
        "outputId": "4a821d1c-4169-4d77-bdd1-ee8ff431eeb9"
      },
      "id": "jTBJ0UuuoZlL",
      "execution_count": 87,
      "outputs": [
        {
          "output_type": "execute_result",
          "data": {
            "text/plain": [
              "datetime.datetime(2023, 7, 9, 3, 3, 19, 281728, tzinfo=datetime.timezone(datetime.timedelta(0), 'UTC'))"
            ]
          },
          "metadata": {},
          "execution_count": 87
        }
      ]
    },
    {
      "cell_type": "code",
      "source": [
        "kst2.localize(utc) == utc.replace(tzinfo=kst2)"
      ],
      "metadata": {
        "colab": {
          "base_uri": "https://localhost:8080/"
        },
        "id": "nZbI512UoNqi",
        "outputId": "f1369580-bd5c-40f8-e2a7-d70415d6df92"
      },
      "id": "nZbI512UoNqi",
      "execution_count": 86,
      "outputs": [
        {
          "output_type": "execute_result",
          "data": {
            "text/plain": [
              "False"
            ]
          },
          "metadata": {},
          "execution_count": 86
        }
      ]
    },
    {
      "cell_type": "markdown",
      "source": [
        "#"
      ],
      "metadata": {
        "id": "y_hyliOuoWT0"
      },
      "id": "y_hyliOuoWT0"
    },
    {
      "cell_type": "code",
      "source": [
        "dd = datetime.datetime(2023,7,9, tzinfo=kst)"
      ],
      "metadata": {
        "id": "fGEFNJ3_jUSE"
      },
      "id": "fGEFNJ3_jUSE",
      "execution_count": 52,
      "outputs": []
    },
    {
      "cell_type": "code",
      "source": [
        "dd"
      ],
      "metadata": {
        "colab": {
          "base_uri": "https://localhost:8080/"
        },
        "id": "eAuD1z3Ij8no",
        "outputId": "03cfb670-6f33-40a1-8ccf-f91ad7d677fe"
      },
      "id": "eAuD1z3Ij8no",
      "execution_count": 53,
      "outputs": [
        {
          "output_type": "execute_result",
          "data": {
            "text/plain": [
              "datetime.datetime(2023, 7, 9, 0, 0, tzinfo=datetime.timezone(datetime.timedelta(seconds=32400)))"
            ]
          },
          "metadata": {},
          "execution_count": 53
        }
      ]
    },
    {
      "cell_type": "code",
      "source": [
        "ddd = datetime.datetime(2023,7,9,tzinfo=kst2)"
      ],
      "metadata": {
        "id": "_q5XZaLDj9oH"
      },
      "id": "_q5XZaLDj9oH",
      "execution_count": 54,
      "outputs": []
    },
    {
      "cell_type": "code",
      "source": [
        "ddd"
      ],
      "metadata": {
        "colab": {
          "base_uri": "https://localhost:8080/"
        },
        "id": "YH2QoWEykF7n",
        "outputId": "cdaf9d6f-81a5-4122-8abd-d4a75b41d75e"
      },
      "id": "YH2QoWEykF7n",
      "execution_count": 55,
      "outputs": [
        {
          "output_type": "execute_result",
          "data": {
            "text/plain": [
              "datetime.datetime(2023, 7, 9, 0, 0, tzinfo=<DstTzInfo 'Asia/Seoul' LMT+8:28:00 STD>)"
            ]
          },
          "metadata": {},
          "execution_count": 55
        }
      ]
    },
    {
      "cell_type": "code",
      "source": [
        "d.timetz()"
      ],
      "metadata": {
        "colab": {
          "base_uri": "https://localhost:8080/"
        },
        "id": "hXKVYG1akH8Q",
        "outputId": "c8360425-237a-402f-faae-48443ed2f2df"
      },
      "id": "hXKVYG1akH8Q",
      "execution_count": 56,
      "outputs": [
        {
          "output_type": "execute_result",
          "data": {
            "text/plain": [
              "datetime.time(11, 16, 30)"
            ]
          },
          "metadata": {},
          "execution_count": 56
        }
      ]
    },
    {
      "cell_type": "code",
      "source": [
        "d.tzinfo"
      ],
      "metadata": {
        "id": "SAzbpWNbkLiw"
      },
      "id": "SAzbpWNbkLiw",
      "execution_count": 57,
      "outputs": []
    },
    {
      "cell_type": "code",
      "source": [
        "d.tzname()"
      ],
      "metadata": {
        "id": "g5dL0gLokOBJ"
      },
      "id": "g5dL0gLokOBJ",
      "execution_count": 61,
      "outputs": []
    },
    {
      "cell_type": "code",
      "source": [
        "dd.timetz()"
      ],
      "metadata": {
        "colab": {
          "base_uri": "https://localhost:8080/"
        },
        "id": "8-bXv1BqkREn",
        "outputId": "ac1016de-c500-4ac6-c466-2aa16074b8fe"
      },
      "id": "8-bXv1BqkREn",
      "execution_count": 62,
      "outputs": [
        {
          "output_type": "execute_result",
          "data": {
            "text/plain": [
              "datetime.time(0, 0, tzinfo=datetime.timezone(datetime.timedelta(seconds=32400)))"
            ]
          },
          "metadata": {},
          "execution_count": 62
        }
      ]
    },
    {
      "cell_type": "code",
      "source": [
        "dd.tzinfo"
      ],
      "metadata": {
        "colab": {
          "base_uri": "https://localhost:8080/"
        },
        "id": "6UuuGgrikenH",
        "outputId": "57303cf2-8dec-48c3-f01f-c194c253efcb"
      },
      "id": "6UuuGgrikenH",
      "execution_count": 63,
      "outputs": [
        {
          "output_type": "execute_result",
          "data": {
            "text/plain": [
              "datetime.timezone(datetime.timedelta(seconds=32400))"
            ]
          },
          "metadata": {},
          "execution_count": 63
        }
      ]
    },
    {
      "cell_type": "code",
      "source": [
        "us = pytz.timezone('US/Eastern')"
      ],
      "metadata": {
        "id": "-BbdJruTkpif"
      },
      "id": "-BbdJruTkpif",
      "execution_count": 65,
      "outputs": []
    },
    {
      "cell_type": "code",
      "source": [
        "dd.astimezone(us)"
      ],
      "metadata": {
        "colab": {
          "base_uri": "https://localhost:8080/"
        },
        "id": "aKHWMWzJkyHW",
        "outputId": "f957b435-80cf-4dbd-d53d-f5f9ef054655"
      },
      "id": "aKHWMWzJkyHW",
      "execution_count": 66,
      "outputs": [
        {
          "output_type": "execute_result",
          "data": {
            "text/plain": [
              "datetime.datetime(2023, 7, 8, 11, 0, tzinfo=<DstTzInfo 'US/Eastern' EDT-1 day, 20:00:00 DST>)"
            ]
          },
          "metadata": {},
          "execution_count": 66
        }
      ]
    },
    {
      "cell_type": "markdown",
      "source": [
        "# time, date"
      ],
      "metadata": {
        "id": "in_GyiefqcQ_"
      },
      "id": "in_GyiefqcQ_"
    },
    {
      "cell_type": "code",
      "source": [
        "t = datetime.time()"
      ],
      "metadata": {
        "id": "t8cPXIrlk1i3"
      },
      "id": "t8cPXIrlk1i3",
      "execution_count": 88,
      "outputs": []
    },
    {
      "cell_type": "code",
      "source": [
        "da = datetime.date(2023, 7,9)"
      ],
      "metadata": {
        "id": "J1_YDCdSqhPm"
      },
      "id": "J1_YDCdSqhPm",
      "execution_count": 90,
      "outputs": []
    },
    {
      "cell_type": "code",
      "source": [
        "datetime.datetime.combine(da, t)"
      ],
      "metadata": {
        "colab": {
          "base_uri": "https://localhost:8080/"
        },
        "id": "ofaC6HrUqlAV",
        "outputId": "689ed621-423d-4502-c9b8-e425d731b512"
      },
      "id": "ofaC6HrUqlAV",
      "execution_count": 91,
      "outputs": [
        {
          "output_type": "execute_result",
          "data": {
            "text/plain": [
              "datetime.datetime(2023, 7, 9, 0, 0)"
            ]
          },
          "metadata": {},
          "execution_count": 91
        }
      ]
    },
    {
      "cell_type": "code",
      "source": [
        "172792 / 86400"
      ],
      "metadata": {
        "colab": {
          "base_uri": "https://localhost:8080/"
        },
        "id": "l9liHtFqq0kg",
        "outputId": "4b01df94-bec5-41b2-e41d-0321dedc38e8"
      },
      "id": "l9liHtFqq0kg",
      "execution_count": 95,
      "outputs": [
        {
          "output_type": "execute_result",
          "data": {
            "text/plain": [
              "1.9999074074074075"
            ]
          },
          "metadata": {},
          "execution_count": 95
        }
      ]
    },
    {
      "cell_type": "code",
      "source": [
        "60 * 60 *24"
      ],
      "metadata": {
        "colab": {
          "base_uri": "https://localhost:8080/"
        },
        "id": "WNrj3ZiLrw7F",
        "outputId": "2f39ef71-a6fc-472e-c426-bc10d5efdc54"
      },
      "id": "WNrj3ZiLrw7F",
      "execution_count": 94,
      "outputs": [
        {
          "output_type": "execute_result",
          "data": {
            "text/plain": [
              "86400"
            ]
          },
          "metadata": {},
          "execution_count": 94
        }
      ]
    },
    {
      "cell_type": "markdown",
      "source": [
        "#dateutil"
      ],
      "metadata": {
        "id": "KgfpUlHMCDqY"
      },
      "id": "KgfpUlHMCDqY"
    },
    {
      "cell_type": "code",
      "source": [
        "import dateutil"
      ],
      "metadata": {
        "id": "YoytuMl1CGS_"
      },
      "id": "YoytuMl1CGS_",
      "execution_count": 97,
      "outputs": []
    },
    {
      "cell_type": "code",
      "source": [
        "dir(dateutil)"
      ],
      "metadata": {
        "id": "Q1yu2ICgCIng"
      },
      "id": "Q1yu2ICgCIng",
      "execution_count": null,
      "outputs": []
    },
    {
      "cell_type": "markdown",
      "source": [
        "pandas는 numpy기반 가져오지만\n",
        "-int64\n",
        "-float64\n",
        "-object <- str\n",
        "-category\n",
        "\n",
        "-단, datetime만 예외\n",
        "-pandas에서 datetime 이용"
      ],
      "metadata": {
        "id": "OsYtp3RFC95t"
      },
      "id": "OsYtp3RFC95t"
    },
    {
      "cell_type": "code",
      "source": [],
      "metadata": {
        "id": "PBXUOO_eCP7Y"
      },
      "id": "PBXUOO_eCP7Y",
      "execution_count": null,
      "outputs": []
    },
    {
      "cell_type": "markdown",
      "source": [
        "https://pandas.pydata.org/pandas-docs/stable/user_guide/timeseries.html#custom-frequency-ranges"
      ],
      "metadata": {
        "id": "en85yxw8yzBX"
      },
      "id": "en85yxw8yzBX"
    }
  ],
  "metadata": {
    "kernelspec": {
      "display_name": "Python 3 (ipykernel)",
      "language": "python",
      "name": "python3"
    },
    "language_info": {
      "codemirror_mode": {
        "name": "ipython",
        "version": 3
      },
      "file_extension": ".py",
      "mimetype": "text/x-python",
      "name": "python",
      "nbconvert_exporter": "python",
      "pygments_lexer": "ipython3",
      "version": "3.10.9"
    },
    "colab": {
      "provenance": [],
      "include_colab_link": true
    }
  },
  "nbformat": 4,
  "nbformat_minor": 5
}