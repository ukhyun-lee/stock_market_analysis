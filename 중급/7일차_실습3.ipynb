{
  "nbformat": 4,
  "nbformat_minor": 0,
  "metadata": {
    "colab": {
      "provenance": [],
      "authorship_tag": "ABX9TyNeY0hB+inFNLVT++KhbY8q",
      "include_colab_link": true
    },
    "kernelspec": {
      "name": "python3",
      "display_name": "Python 3"
    },
    "language_info": {
      "name": "python"
    }
  },
  "cells": [
    {
      "cell_type": "markdown",
      "metadata": {
        "id": "view-in-github",
        "colab_type": "text"
      },
      "source": [
        "<a href=\"https://colab.research.google.com/github/ukhyun-lee/stock_market_analysis/blob/main/%EC%A4%91%EA%B8%89/7%EC%9D%BC%EC%B0%A8_%EC%8B%A4%EC%8A%B53.ipynb\" target=\"_parent\"><img src=\"https://colab.research.google.com/assets/colab-badge.svg\" alt=\"Open In Colab\"/></a>"
      ]
    },
    {
      "cell_type": "code",
      "source": [
        "import statsmodels.api as sm   #=>해석관점 중요시 y=ax"
      ],
      "metadata": {
        "id": "Fuy4gFXDbY0t"
      },
      "execution_count": 5,
      "outputs": []
    },
    {
      "cell_type": "code",
      "source": [
        "import inspect"
      ],
      "metadata": {
        "id": "WckkMtIGbepA"
      },
      "execution_count": 6,
      "outputs": []
    },
    {
      "cell_type": "code",
      "source": [
        "print(inspect.getsource(sm.datasets.get_rdataset))"
      ],
      "metadata": {
        "colab": {
          "base_uri": "https://localhost:8080/"
        },
        "id": "p-oIsGDrbgwE",
        "outputId": "6c084b6d-5d5a-4abb-fee9-99207950df56"
      },
      "execution_count": 7,
      "outputs": [
        {
          "output_type": "stream",
          "name": "stdout",
          "text": [
            "def get_rdataset(dataname, package=\"datasets\", cache=False):\n",
            "    \"\"\"download and return R dataset\n",
            "\n",
            "    Parameters\n",
            "    ----------\n",
            "    dataname : str\n",
            "        The name of the dataset you want to download\n",
            "    package : str\n",
            "        The package in which the dataset is found. The default is the core\n",
            "        'datasets' package.\n",
            "    cache : bool or str\n",
            "        If True, will download this data into the STATSMODELS_DATA folder.\n",
            "        The default location is a folder called statsmodels_data in the\n",
            "        user home folder. Otherwise, you can specify a path to a folder to\n",
            "        use for caching the data. If False, the data will not be cached.\n",
            "\n",
            "    Returns\n",
            "    -------\n",
            "    dataset : Dataset\n",
            "        A `statsmodels.data.utils.Dataset` instance. This objects has\n",
            "        attributes:\n",
            "\n",
            "        * data - A pandas DataFrame containing the data\n",
            "        * title - The dataset title\n",
            "        * package - The package from which the data came\n",
            "        * from_cache - Whether not cached data was retrieved\n",
            "        * __doc__ - The verbatim R documentation.\n",
            "\n",
            "    Notes\n",
            "    -----\n",
            "    If the R dataset has an integer index. This is reset to be zero-based.\n",
            "    Otherwise the index is preserved. The caching facilities are dumb. That\n",
            "    is, no download dates, e-tags, or otherwise identifying information\n",
            "    is checked to see if the data should be downloaded again or not. If the\n",
            "    dataset is in the cache, it's used.\n",
            "    \"\"\"\n",
            "    # NOTE: use raw github bc html site might not be most up to date\n",
            "    data_base_url = (\"https://raw.githubusercontent.com/vincentarelbundock/Rdatasets/\"\n",
            "                     \"master/csv/\"+package+\"/\")\n",
            "    docs_base_url = (\"https://raw.githubusercontent.com/vincentarelbundock/Rdatasets/\"\n",
            "                     \"master/doc/\"+package+\"/rst/\")\n",
            "    cache = _get_cache(cache)\n",
            "    data, from_cache = _get_data(data_base_url, dataname, cache)\n",
            "    data = read_csv(data, index_col=0)\n",
            "    data = _maybe_reset_index(data)\n",
            "\n",
            "    title = _get_dataset_meta(dataname, package, cache)\n",
            "    doc, _ = _get_data(docs_base_url, dataname, cache, \"rst\")\n",
            "\n",
            "    return Dataset(data=data, __doc__=doc.read(), package=package, title=title,\n",
            "                   from_cache=from_cache)\n",
            "\n"
          ]
        }
      ]
    },
    {
      "cell_type": "code",
      "source": [
        "data = sm.datasets.get_rdataset('Galton','HistData')"
      ],
      "metadata": {
        "id": "hCDeq4wScDQr"
      },
      "execution_count": 8,
      "outputs": []
    },
    {
      "cell_type": "code",
      "source": [
        "data.title"
      ],
      "metadata": {
        "colab": {
          "base_uri": "https://localhost:8080/",
          "height": 36
        },
        "id": "gUIzsE5XcQI8",
        "outputId": "78d0e918-2cdb-4d8b-c777-8f4deae2dbdc"
      },
      "execution_count": 9,
      "outputs": [
        {
          "output_type": "execute_result",
          "data": {
            "text/plain": [
              "\"Galton's data on the heights of parents and their children\""
            ],
            "application/vnd.google.colaboratory.intrinsic+json": {
              "type": "string"
            }
          },
          "metadata": {},
          "execution_count": 9
        }
      ]
    },
    {
      "cell_type": "code",
      "source": [
        "data.keys()"
      ],
      "metadata": {
        "colab": {
          "base_uri": "https://localhost:8080/"
        },
        "id": "937Dy4b0cSOO",
        "outputId": "db76d657-e36e-4e53-f313-50bdaa48e1e8"
      },
      "execution_count": 10,
      "outputs": [
        {
          "output_type": "execute_result",
          "data": {
            "text/plain": [
              "dict_keys(['data', '__doc__', 'package', 'title', 'from_cache', 'raw_data'])"
            ]
          },
          "metadata": {},
          "execution_count": 10
        }
      ]
    },
    {
      "cell_type": "code",
      "source": [
        "data.data"
      ],
      "metadata": {
        "colab": {
          "base_uri": "https://localhost:8080/",
          "height": 423
        },
        "id": "F1pFZ6nccUnb",
        "outputId": "623d4822-7d36-4a94-c6e0-77dcac8e7a92"
      },
      "execution_count": 11,
      "outputs": [
        {
          "output_type": "execute_result",
          "data": {
            "text/plain": [
              "     parent  child\n",
              "0      70.5   61.7\n",
              "1      68.5   61.7\n",
              "2      65.5   61.7\n",
              "3      64.5   61.7\n",
              "4      64.0   61.7\n",
              "..      ...    ...\n",
              "923    69.5   73.7\n",
              "924    69.5   73.7\n",
              "925    69.5   73.7\n",
              "926    69.5   73.7\n",
              "927    69.5   73.7\n",
              "\n",
              "[928 rows x 2 columns]"
            ],
            "text/html": [
              "\n",
              "  <div id=\"df-799985db-5874-43ac-81b7-57a5322dd616\">\n",
              "    <div class=\"colab-df-container\">\n",
              "      <div>\n",
              "<style scoped>\n",
              "    .dataframe tbody tr th:only-of-type {\n",
              "        vertical-align: middle;\n",
              "    }\n",
              "\n",
              "    .dataframe tbody tr th {\n",
              "        vertical-align: top;\n",
              "    }\n",
              "\n",
              "    .dataframe thead th {\n",
              "        text-align: right;\n",
              "    }\n",
              "</style>\n",
              "<table border=\"1\" class=\"dataframe\">\n",
              "  <thead>\n",
              "    <tr style=\"text-align: right;\">\n",
              "      <th></th>\n",
              "      <th>parent</th>\n",
              "      <th>child</th>\n",
              "    </tr>\n",
              "  </thead>\n",
              "  <tbody>\n",
              "    <tr>\n",
              "      <th>0</th>\n",
              "      <td>70.5</td>\n",
              "      <td>61.7</td>\n",
              "    </tr>\n",
              "    <tr>\n",
              "      <th>1</th>\n",
              "      <td>68.5</td>\n",
              "      <td>61.7</td>\n",
              "    </tr>\n",
              "    <tr>\n",
              "      <th>2</th>\n",
              "      <td>65.5</td>\n",
              "      <td>61.7</td>\n",
              "    </tr>\n",
              "    <tr>\n",
              "      <th>3</th>\n",
              "      <td>64.5</td>\n",
              "      <td>61.7</td>\n",
              "    </tr>\n",
              "    <tr>\n",
              "      <th>4</th>\n",
              "      <td>64.0</td>\n",
              "      <td>61.7</td>\n",
              "    </tr>\n",
              "    <tr>\n",
              "      <th>...</th>\n",
              "      <td>...</td>\n",
              "      <td>...</td>\n",
              "    </tr>\n",
              "    <tr>\n",
              "      <th>923</th>\n",
              "      <td>69.5</td>\n",
              "      <td>73.7</td>\n",
              "    </tr>\n",
              "    <tr>\n",
              "      <th>924</th>\n",
              "      <td>69.5</td>\n",
              "      <td>73.7</td>\n",
              "    </tr>\n",
              "    <tr>\n",
              "      <th>925</th>\n",
              "      <td>69.5</td>\n",
              "      <td>73.7</td>\n",
              "    </tr>\n",
              "    <tr>\n",
              "      <th>926</th>\n",
              "      <td>69.5</td>\n",
              "      <td>73.7</td>\n",
              "    </tr>\n",
              "    <tr>\n",
              "      <th>927</th>\n",
              "      <td>69.5</td>\n",
              "      <td>73.7</td>\n",
              "    </tr>\n",
              "  </tbody>\n",
              "</table>\n",
              "<p>928 rows × 2 columns</p>\n",
              "</div>\n",
              "      <button class=\"colab-df-convert\" onclick=\"convertToInteractive('df-799985db-5874-43ac-81b7-57a5322dd616')\"\n",
              "              title=\"Convert this dataframe to an interactive table.\"\n",
              "              style=\"display:none;\">\n",
              "        \n",
              "  <svg xmlns=\"http://www.w3.org/2000/svg\" height=\"24px\"viewBox=\"0 0 24 24\"\n",
              "       width=\"24px\">\n",
              "    <path d=\"M0 0h24v24H0V0z\" fill=\"none\"/>\n",
              "    <path d=\"M18.56 5.44l.94 2.06.94-2.06 2.06-.94-2.06-.94-.94-2.06-.94 2.06-2.06.94zm-11 1L8.5 8.5l.94-2.06 2.06-.94-2.06-.94L8.5 2.5l-.94 2.06-2.06.94zm10 10l.94 2.06.94-2.06 2.06-.94-2.06-.94-.94-2.06-.94 2.06-2.06.94z\"/><path d=\"M17.41 7.96l-1.37-1.37c-.4-.4-.92-.59-1.43-.59-.52 0-1.04.2-1.43.59L10.3 9.45l-7.72 7.72c-.78.78-.78 2.05 0 2.83L4 21.41c.39.39.9.59 1.41.59.51 0 1.02-.2 1.41-.59l7.78-7.78 2.81-2.81c.8-.78.8-2.07 0-2.86zM5.41 20L4 18.59l7.72-7.72 1.47 1.35L5.41 20z\"/>\n",
              "  </svg>\n",
              "      </button>\n",
              "      \n",
              "  <style>\n",
              "    .colab-df-container {\n",
              "      display:flex;\n",
              "      flex-wrap:wrap;\n",
              "      gap: 12px;\n",
              "    }\n",
              "\n",
              "    .colab-df-convert {\n",
              "      background-color: #E8F0FE;\n",
              "      border: none;\n",
              "      border-radius: 50%;\n",
              "      cursor: pointer;\n",
              "      display: none;\n",
              "      fill: #1967D2;\n",
              "      height: 32px;\n",
              "      padding: 0 0 0 0;\n",
              "      width: 32px;\n",
              "    }\n",
              "\n",
              "    .colab-df-convert:hover {\n",
              "      background-color: #E2EBFA;\n",
              "      box-shadow: 0px 1px 2px rgba(60, 64, 67, 0.3), 0px 1px 3px 1px rgba(60, 64, 67, 0.15);\n",
              "      fill: #174EA6;\n",
              "    }\n",
              "\n",
              "    [theme=dark] .colab-df-convert {\n",
              "      background-color: #3B4455;\n",
              "      fill: #D2E3FC;\n",
              "    }\n",
              "\n",
              "    [theme=dark] .colab-df-convert:hover {\n",
              "      background-color: #434B5C;\n",
              "      box-shadow: 0px 1px 3px 1px rgba(0, 0, 0, 0.15);\n",
              "      filter: drop-shadow(0px 1px 2px rgba(0, 0, 0, 0.3));\n",
              "      fill: #FFFFFF;\n",
              "    }\n",
              "  </style>\n",
              "\n",
              "      <script>\n",
              "        const buttonEl =\n",
              "          document.querySelector('#df-799985db-5874-43ac-81b7-57a5322dd616 button.colab-df-convert');\n",
              "        buttonEl.style.display =\n",
              "          google.colab.kernel.accessAllowed ? 'block' : 'none';\n",
              "\n",
              "        async function convertToInteractive(key) {\n",
              "          const element = document.querySelector('#df-799985db-5874-43ac-81b7-57a5322dd616');\n",
              "          const dataTable =\n",
              "            await google.colab.kernel.invokeFunction('convertToInteractive',\n",
              "                                                     [key], {});\n",
              "          if (!dataTable) return;\n",
              "\n",
              "          const docLinkHtml = 'Like what you see? Visit the ' +\n",
              "            '<a target=\"_blank\" href=https://colab.research.google.com/notebooks/data_table.ipynb>data table notebook</a>'\n",
              "            + ' to learn more about interactive tables.';\n",
              "          element.innerHTML = '';\n",
              "          dataTable['output_type'] = 'display_data';\n",
              "          await google.colab.output.renderOutput(dataTable, element);\n",
              "          const docLink = document.createElement('div');\n",
              "          docLink.innerHTML = docLinkHtml;\n",
              "          element.appendChild(docLink);\n",
              "        }\n",
              "      </script>\n",
              "    </div>\n",
              "  </div>\n",
              "  "
            ]
          },
          "metadata": {},
          "execution_count": 11
        }
      ]
    },
    {
      "cell_type": "code",
      "source": [
        "m = sm.OLS(data.data.child, data.data.parent)  #=>ordinary linear square"
      ],
      "metadata": {
        "id": "1I20uW5xdrhd"
      },
      "execution_count": 12,
      "outputs": []
    },
    {
      "cell_type": "markdown",
      "source": [],
      "metadata": {
        "id": "4orDXbGqdpv0"
      }
    },
    {
      "cell_type": "code",
      "source": [
        "m.fit()"
      ],
      "metadata": {
        "colab": {
          "base_uri": "https://localhost:8080/"
        },
        "id": "USSJCxWfd5dr",
        "outputId": "6534a7ba-1891-4bcf-c65a-a9f747d5f6ad"
      },
      "execution_count": 13,
      "outputs": [
        {
          "output_type": "execute_result",
          "data": {
            "text/plain": [
              "<statsmodels.regression.linear_model.RegressionResultsWrapper at 0x7fba9d5c1d20>"
            ]
          },
          "metadata": {},
          "execution_count": 13
        }
      ]
    },
    {
      "cell_type": "code",
      "source": [
        "m2 = sm.OLS(data.data.child, data.data.parent).fit()"
      ],
      "metadata": {
        "id": "DwvoQ8awd_fK"
      },
      "execution_count": 14,
      "outputs": []
    },
    {
      "cell_type": "code",
      "source": [
        "m2.summary()"
      ],
      "metadata": {
        "colab": {
          "base_uri": "https://localhost:8080/",
          "height": 444
        },
        "id": "w6oLaCiNeI7y",
        "outputId": "2e56bb9a-bf37-4821-bc56-1af4c791579e"
      },
      "execution_count": 15,
      "outputs": [
        {
          "output_type": "execute_result",
          "data": {
            "text/plain": [
              "<class 'statsmodels.iolib.summary.Summary'>\n",
              "\"\"\"\n",
              "                                 OLS Regression Results                                \n",
              "=======================================================================================\n",
              "Dep. Variable:                  child   R-squared (uncentered):                   0.999\n",
              "Model:                            OLS   Adj. R-squared (uncentered):              0.999\n",
              "Method:                 Least Squares   F-statistic:                          7.972e+05\n",
              "Date:                Sat, 24 Jun 2023   Prob (F-statistic):                        0.00\n",
              "Time:                        10:41:31   Log-Likelihood:                         -2098.6\n",
              "No. Observations:                 928   AIC:                                      4199.\n",
              "Df Residuals:                     927   BIC:                                      4204.\n",
              "Df Model:                           1                                                  \n",
              "Covariance Type:            nonrobust                                                  \n",
              "==============================================================================\n",
              "                 coef    std err          t      P>|t|      [0.025      0.975]\n",
              "------------------------------------------------------------------------------\n",
              "parent         0.9965      0.001    892.855      0.000       0.994       0.999\n",
              "==============================================================================\n",
              "Omnibus:                        7.058   Durbin-Watson:                   0.116\n",
              "Prob(Omnibus):                  0.029   Jarque-Bera (JB):                7.174\n",
              "Skew:                          -0.212   Prob(JB):                       0.0277\n",
              "Kurtosis:                       2.929   Cond. No.                         1.00\n",
              "==============================================================================\n",
              "\n",
              "Notes:\n",
              "[1] R² is computed without centering (uncentered) since the model does not contain a constant.\n",
              "[2] Standard Errors assume that the covariance matrix of the errors is correctly specified.\n",
              "\"\"\""
            ],
            "text/html": [
              "<table class=\"simpletable\">\n",
              "<caption>OLS Regression Results</caption>\n",
              "<tr>\n",
              "  <th>Dep. Variable:</th>          <td>child</td>      <th>  R-squared (uncentered):</th>      <td>   0.999</td> \n",
              "</tr>\n",
              "<tr>\n",
              "  <th>Model:</th>                   <td>OLS</td>       <th>  Adj. R-squared (uncentered):</th> <td>   0.999</td> \n",
              "</tr>\n",
              "<tr>\n",
              "  <th>Method:</th>             <td>Least Squares</td>  <th>  F-statistic:       </th>          <td>7.972e+05</td>\n",
              "</tr>\n",
              "<tr>\n",
              "  <th>Date:</th>             <td>Sat, 24 Jun 2023</td> <th>  Prob (F-statistic):</th>           <td>  0.00</td>  \n",
              "</tr>\n",
              "<tr>\n",
              "  <th>Time:</th>                 <td>10:41:31</td>     <th>  Log-Likelihood:    </th>          <td> -2098.6</td> \n",
              "</tr>\n",
              "<tr>\n",
              "  <th>No. Observations:</th>      <td>   928</td>      <th>  AIC:               </th>          <td>   4199.</td> \n",
              "</tr>\n",
              "<tr>\n",
              "  <th>Df Residuals:</th>          <td>   927</td>      <th>  BIC:               </th>          <td>   4204.</td> \n",
              "</tr>\n",
              "<tr>\n",
              "  <th>Df Model:</th>              <td>     1</td>      <th>                     </th>              <td> </td>    \n",
              "</tr>\n",
              "<tr>\n",
              "  <th>Covariance Type:</th>      <td>nonrobust</td>    <th>                     </th>              <td> </td>    \n",
              "</tr>\n",
              "</table>\n",
              "<table class=\"simpletable\">\n",
              "<tr>\n",
              "     <td></td>       <th>coef</th>     <th>std err</th>      <th>t</th>      <th>P>|t|</th>  <th>[0.025</th>    <th>0.975]</th>  \n",
              "</tr>\n",
              "<tr>\n",
              "  <th>parent</th> <td>    0.9965</td> <td>    0.001</td> <td>  892.855</td> <td> 0.000</td> <td>    0.994</td> <td>    0.999</td>\n",
              "</tr>\n",
              "</table>\n",
              "<table class=\"simpletable\">\n",
              "<tr>\n",
              "  <th>Omnibus:</th>       <td> 7.058</td> <th>  Durbin-Watson:     </th> <td>   0.116</td>\n",
              "</tr>\n",
              "<tr>\n",
              "  <th>Prob(Omnibus):</th> <td> 0.029</td> <th>  Jarque-Bera (JB):  </th> <td>   7.174</td>\n",
              "</tr>\n",
              "<tr>\n",
              "  <th>Skew:</th>          <td>-0.212</td> <th>  Prob(JB):          </th> <td>  0.0277</td>\n",
              "</tr>\n",
              "<tr>\n",
              "  <th>Kurtosis:</th>      <td> 2.929</td> <th>  Cond. No.          </th> <td>    1.00</td>\n",
              "</tr>\n",
              "</table><br/><br/>Notes:<br/>[1] R² is computed without centering (uncentered) since the model does not contain a constant.<br/>[2] Standard Errors assume that the covariance matrix of the errors is correctly specified."
            ]
          },
          "metadata": {},
          "execution_count": 15
        }
      ]
    },
    {
      "cell_type": "code",
      "source": [
        "m2.summary2()  #=> 모델의 관련성 중요, 통계적 필요한것들 다 구함, 구하는 방식 sklearn과 다름"
      ],
      "metadata": {
        "colab": {
          "base_uri": "https://localhost:8080/",
          "height": 298
        },
        "id": "hL_YWocIe40M",
        "outputId": "52a21baf-a4e3-4fb2-a2c0-4de92e55ee66"
      },
      "execution_count": 16,
      "outputs": [
        {
          "output_type": "execute_result",
          "data": {
            "text/plain": [
              "<class 'statsmodels.iolib.summary2.Summary'>\n",
              "\"\"\"\n",
              "                        Results: Ordinary least squares\n",
              "===============================================================================\n",
              "Model:                  OLS              Adj. R-squared (uncentered): 0.999    \n",
              "Dependent Variable:     child            AIC:                         4199.1591\n",
              "Date:                   2023-06-24 10:41 BIC:                         4203.9921\n",
              "No. Observations:       928              Log-Likelihood:              -2098.6  \n",
              "Df Model:               1                F-statistic:                 7.972e+05\n",
              "Df Residuals:           927              Prob (F-statistic):          0.00     \n",
              "R-squared (uncentered): 0.999            Scale:                       5.3979   \n",
              "------------------------------------------------------------------------------------\n",
              "              Coef.       Std.Err.         t          P>|t|       [0.025      0.975]\n",
              "------------------------------------------------------------------------------------\n",
              "parent        0.9965        0.0011      892.8551      0.0000      0.9944      0.9987\n",
              "-------------------------------------------------------------------------------\n",
              "Omnibus:                   7.058             Durbin-Watson:               0.116\n",
              "Prob(Omnibus):             0.029             Jarque-Bera (JB):            7.174\n",
              "Skew:                      -0.212            Prob(JB):                    0.028\n",
              "Kurtosis:                  2.929             Condition No.:               1    \n",
              "===============================================================================\n",
              "\n",
              "\"\"\""
            ],
            "text/html": [
              "<table class=\"simpletable\">\n",
              "<tr>\n",
              "          <td>Model:</td>                 <td>OLS</td>       <td>Adj. R-squared (uncentered):</td>   <td>0.999</td>  \n",
              "</tr>\n",
              "<tr>\n",
              "    <td>Dependent Variable:</td>         <td>child</td>                  <td>AIC:</td>             <td>4199.1591</td>\n",
              "</tr>\n",
              "<tr>\n",
              "           <td>Date:</td>          <td>2023-06-24 10:41</td>             <td>BIC:</td>             <td>4203.9921</td>\n",
              "</tr>\n",
              "<tr>\n",
              "     <td>No. Observations:</td>           <td>928</td>              <td>Log-Likelihood:</td>        <td>-2098.6</td> \n",
              "</tr>\n",
              "<tr>\n",
              "         <td>Df Model:</td>                <td>1</td>                <td>F-statistic:</td>         <td>7.972e+05</td>\n",
              "</tr>\n",
              "<tr>\n",
              "       <td>Df Residuals:</td>             <td>927</td>            <td>Prob (F-statistic):</td>       <td>0.00</td>   \n",
              "</tr>\n",
              "<tr>\n",
              "  <td>R-squared (uncentered):</td>       <td>0.999</td>                 <td>Scale:</td>             <td>5.3979</td>  \n",
              "</tr>\n",
              "</table>\n",
              "<table class=\"simpletable\">\n",
              "<tr>\n",
              "     <td></td>     <th>Coef.</th> <th>Std.Err.</th>     <th>t</th>     <th>P>|t|</th> <th>[0.025</th> <th>0.975]</th>\n",
              "</tr>\n",
              "<tr>\n",
              "  <th>parent</th> <td>0.9965</td>  <td>0.0011</td>  <td>892.8551</td> <td>0.0000</td> <td>0.9944</td> <td>0.9987</td>\n",
              "</tr>\n",
              "</table>\n",
              "<table class=\"simpletable\">\n",
              "<tr>\n",
              "     <td>Omnibus:</td>     <td>7.058</td>  <td>Durbin-Watson:</td>   <td>0.116</td>\n",
              "</tr>\n",
              "<tr>\n",
              "  <td>Prob(Omnibus):</td>  <td>0.029</td> <td>Jarque-Bera (JB):</td> <td>7.174</td>\n",
              "</tr>\n",
              "<tr>\n",
              "       <td>Skew:</td>     <td>-0.212</td>     <td>Prob(JB):</td>     <td>0.028</td>\n",
              "</tr>\n",
              "<tr>\n",
              "     <td>Kurtosis:</td>    <td>2.929</td>  <td>Condition No.:</td>     <td>1</td>  \n",
              "</tr>\n",
              "</table>"
            ]
          },
          "metadata": {},
          "execution_count": 16
        }
      ]
    },
    {
      "cell_type": "code",
      "source": [
        "y = data.data.child"
      ],
      "metadata": {
        "id": "YngDBEL-f_ow"
      },
      "execution_count": 29,
      "outputs": []
    },
    {
      "cell_type": "code",
      "source": [
        "X = data.data.parent"
      ],
      "metadata": {
        "id": "8asnmRQ4gDDB"
      },
      "execution_count": 30,
      "outputs": []
    },
    {
      "cell_type": "code",
      "source": [
        "X = sm.add_constant(X)"
      ],
      "metadata": {
        "id": "dOy7kAvngFM8"
      },
      "execution_count": 31,
      "outputs": []
    },
    {
      "cell_type": "code",
      "source": [
        "m3 = sm.OLS(y, X).fit()"
      ],
      "metadata": {
        "id": "A9qs27EKgTng"
      },
      "execution_count": 32,
      "outputs": []
    },
    {
      "cell_type": "code",
      "source": [
        "m3.summary()"
      ],
      "metadata": {
        "colab": {
          "base_uri": "https://localhost:8080/",
          "height": 483
        },
        "id": "UbR_VBRAgX5o",
        "outputId": "ba13246c-5947-4761-9884-a3911dd554b4"
      },
      "execution_count": 33,
      "outputs": [
        {
          "output_type": "execute_result",
          "data": {
            "text/plain": [
              "<class 'statsmodels.iolib.summary.Summary'>\n",
              "\"\"\"\n",
              "                            OLS Regression Results                            \n",
              "==============================================================================\n",
              "Dep. Variable:                  child   R-squared:                       0.210\n",
              "Model:                            OLS   Adj. R-squared:                  0.210\n",
              "Method:                 Least Squares   F-statistic:                     246.8\n",
              "Date:                Sat, 24 Jun 2023   Prob (F-statistic):           1.73e-49\n",
              "Time:                        10:55:58   Log-Likelihood:                -2063.6\n",
              "No. Observations:                 928   AIC:                             4131.\n",
              "Df Residuals:                     926   BIC:                             4141.\n",
              "Df Model:                           1                                         \n",
              "Covariance Type:            nonrobust                                         \n",
              "==============================================================================\n",
              "                 coef    std err          t      P>|t|      [0.025      0.975]\n",
              "------------------------------------------------------------------------------\n",
              "const         23.9415      2.811      8.517      0.000      18.425      29.458\n",
              "parent         0.6463      0.041     15.711      0.000       0.566       0.727\n",
              "==============================================================================\n",
              "Omnibus:                       11.057   Durbin-Watson:                   0.046\n",
              "Prob(Omnibus):                  0.004   Jarque-Bera (JB):               10.944\n",
              "Skew:                          -0.241   Prob(JB):                      0.00420\n",
              "Kurtosis:                       2.775   Cond. No.                     2.61e+03\n",
              "==============================================================================\n",
              "\n",
              "Notes:\n",
              "[1] Standard Errors assume that the covariance matrix of the errors is correctly specified.\n",
              "[2] The condition number is large, 2.61e+03. This might indicate that there are\n",
              "strong multicollinearity or other numerical problems.\n",
              "\"\"\""
            ],
            "text/html": [
              "<table class=\"simpletable\">\n",
              "<caption>OLS Regression Results</caption>\n",
              "<tr>\n",
              "  <th>Dep. Variable:</th>          <td>child</td>      <th>  R-squared:         </th> <td>   0.210</td>\n",
              "</tr>\n",
              "<tr>\n",
              "  <th>Model:</th>                   <td>OLS</td>       <th>  Adj. R-squared:    </th> <td>   0.210</td>\n",
              "</tr>\n",
              "<tr>\n",
              "  <th>Method:</th>             <td>Least Squares</td>  <th>  F-statistic:       </th> <td>   246.8</td>\n",
              "</tr>\n",
              "<tr>\n",
              "  <th>Date:</th>             <td>Sat, 24 Jun 2023</td> <th>  Prob (F-statistic):</th> <td>1.73e-49</td>\n",
              "</tr>\n",
              "<tr>\n",
              "  <th>Time:</th>                 <td>10:55:58</td>     <th>  Log-Likelihood:    </th> <td> -2063.6</td>\n",
              "</tr>\n",
              "<tr>\n",
              "  <th>No. Observations:</th>      <td>   928</td>      <th>  AIC:               </th> <td>   4131.</td>\n",
              "</tr>\n",
              "<tr>\n",
              "  <th>Df Residuals:</th>          <td>   926</td>      <th>  BIC:               </th> <td>   4141.</td>\n",
              "</tr>\n",
              "<tr>\n",
              "  <th>Df Model:</th>              <td>     1</td>      <th>                     </th>     <td> </td>   \n",
              "</tr>\n",
              "<tr>\n",
              "  <th>Covariance Type:</th>      <td>nonrobust</td>    <th>                     </th>     <td> </td>   \n",
              "</tr>\n",
              "</table>\n",
              "<table class=\"simpletable\">\n",
              "<tr>\n",
              "     <td></td>       <th>coef</th>     <th>std err</th>      <th>t</th>      <th>P>|t|</th>  <th>[0.025</th>    <th>0.975]</th>  \n",
              "</tr>\n",
              "<tr>\n",
              "  <th>const</th>  <td>   23.9415</td> <td>    2.811</td> <td>    8.517</td> <td> 0.000</td> <td>   18.425</td> <td>   29.458</td>\n",
              "</tr>\n",
              "<tr>\n",
              "  <th>parent</th> <td>    0.6463</td> <td>    0.041</td> <td>   15.711</td> <td> 0.000</td> <td>    0.566</td> <td>    0.727</td>\n",
              "</tr>\n",
              "</table>\n",
              "<table class=\"simpletable\">\n",
              "<tr>\n",
              "  <th>Omnibus:</th>       <td>11.057</td> <th>  Durbin-Watson:     </th> <td>   0.046</td>\n",
              "</tr>\n",
              "<tr>\n",
              "  <th>Prob(Omnibus):</th> <td> 0.004</td> <th>  Jarque-Bera (JB):  </th> <td>  10.944</td>\n",
              "</tr>\n",
              "<tr>\n",
              "  <th>Skew:</th>          <td>-0.241</td> <th>  Prob(JB):          </th> <td> 0.00420</td>\n",
              "</tr>\n",
              "<tr>\n",
              "  <th>Kurtosis:</th>      <td> 2.775</td> <th>  Cond. No.          </th> <td>2.61e+03</td>\n",
              "</tr>\n",
              "</table><br/><br/>Notes:<br/>[1] Standard Errors assume that the covariance matrix of the errors is correctly specified.<br/>[2] The condition number is large, 2.61e+03. This might indicate that there are<br/>strong multicollinearity or other numerical problems."
            ]
          },
          "metadata": {},
          "execution_count": 33
        }
      ]
    },
    {
      "cell_type": "code",
      "source": [
        "m3.predict()   #=> 한값 예측이 아님"
      ],
      "metadata": {
        "colab": {
          "base_uri": "https://localhost:8080/"
        },
        "id": "4fRlHrKmg2gv",
        "outputId": "73bd5e79-1490-4ecf-d77d-a6ce87506ebc"
      },
      "execution_count": 34,
      "outputs": [
        {
          "output_type": "execute_result",
          "data": {
            "text/plain": [
              "array([69.50501621, 68.21243505, 66.2735633 , 65.62727272, 65.30412743,\n",
              "       67.56614446, 67.56614446, 67.56614446, 66.91985388, 66.91985388,\n",
              "       66.91985388, 65.62727272, 69.50501621, 68.85872563, 68.21243505,\n",
              "       68.21243505, 68.21243505, 68.21243505, 68.21243505, 68.21243505,\n",
              "       68.21243505, 67.56614446, 67.56614446, 67.56614446, 67.56614446,\n",
              "       67.56614446, 66.91985388, 66.91985388, 66.91985388, 66.2735633 ,\n",
              "       66.2735633 , 66.2735633 , 66.2735633 , 66.2735633 , 66.2735633 ,\n",
              "       66.2735633 , 66.2735633 , 66.2735633 , 65.62727272, 65.62727272,\n",
              "       65.62727272, 65.62727272, 65.30412743, 65.30412743, 68.85872563,\n",
              "       68.85872563, 68.85872563, 68.85872563, 68.85872563, 68.85872563,\n",
              "       68.85872563, 68.85872563, 68.85872563, 68.85872563, 68.85872563,\n",
              "       68.85872563, 68.85872563, 68.85872563, 68.85872563, 68.85872563,\n",
              "       68.21243505, 68.21243505, 68.21243505, 68.21243505, 68.21243505,\n",
              "       68.21243505, 68.21243505, 68.21243505, 68.21243505, 68.21243505,\n",
              "       68.21243505, 67.56614446, 67.56614446, 67.56614446, 67.56614446,\n",
              "       67.56614446, 67.56614446, 67.56614446, 67.56614446, 67.56614446,\n",
              "       67.56614446, 67.56614446, 67.56614446, 67.56614446, 67.56614446,\n",
              "       66.91985388, 66.91985388, 66.91985388, 66.91985388, 66.91985388,\n",
              "       66.2735633 , 66.2735633 , 66.2735633 , 66.2735633 , 66.2735633 ,\n",
              "       65.62727272, 65.62727272, 65.62727272, 65.62727272, 65.30412743,\n",
              "       65.30412743, 65.30412743, 65.30412743, 70.15130679, 69.50501621,\n",
              "       68.85872563, 68.85872563, 68.85872563, 68.85872563, 68.21243505,\n",
              "       68.21243505, 68.21243505, 68.21243505, 68.21243505, 68.21243505,\n",
              "       68.21243505, 68.21243505, 68.21243505, 68.21243505, 68.21243505,\n",
              "       68.21243505, 68.21243505, 68.21243505, 68.21243505, 68.21243505,\n",
              "       67.56614446, 67.56614446, 67.56614446, 67.56614446, 67.56614446,\n",
              "       67.56614446, 67.56614446, 67.56614446, 67.56614446, 67.56614446,\n",
              "       67.56614446, 67.56614446, 67.56614446, 67.56614446, 67.56614446,\n",
              "       66.91985388, 66.91985388, 66.2735633 , 66.2735633 , 66.2735633 ,\n",
              "       66.2735633 , 66.2735633 , 66.2735633 , 66.2735633 , 65.62727272,\n",
              "       65.30412743, 70.15130679, 70.15130679, 70.15130679, 69.50501621,\n",
              "       68.85872563, 68.85872563, 68.85872563, 68.85872563, 68.85872563,\n",
              "       68.85872563, 68.85872563, 68.85872563, 68.85872563, 68.85872563,\n",
              "       68.85872563, 68.85872563, 68.85872563, 68.85872563, 68.85872563,\n",
              "       68.85872563, 68.85872563, 68.21243505, 68.21243505, 68.21243505,\n",
              "       68.21243505, 68.21243505, 68.21243505, 68.21243505, 68.21243505,\n",
              "       68.21243505, 68.21243505, 68.21243505, 68.21243505, 68.21243505,\n",
              "       68.21243505, 68.21243505, 68.21243505, 68.21243505, 68.21243505,\n",
              "       68.21243505, 68.21243505, 68.21243505, 68.21243505, 68.21243505,\n",
              "       68.21243505, 68.21243505, 67.56614446, 67.56614446, 67.56614446,\n",
              "       67.56614446, 67.56614446, 67.56614446, 67.56614446, 67.56614446,\n",
              "       67.56614446, 67.56614446, 67.56614446, 67.56614446, 67.56614446,\n",
              "       67.56614446, 67.56614446, 67.56614446, 67.56614446, 67.56614446,\n",
              "       67.56614446, 67.56614446, 67.56614446, 67.56614446, 67.56614446,\n",
              "       67.56614446, 67.56614446, 67.56614446, 67.56614446, 67.56614446,\n",
              "       67.56614446, 67.56614446, 67.56614446, 67.56614446, 67.56614446,\n",
              "       67.56614446, 67.56614446, 67.56614446, 66.91985388, 66.91985388,\n",
              "       66.91985388, 66.91985388, 66.91985388, 66.91985388, 66.91985388,\n",
              "       66.91985388, 66.91985388, 66.91985388, 66.91985388, 66.91985388,\n",
              "       66.91985388, 66.91985388, 66.91985388, 66.91985388, 66.91985388,\n",
              "       66.2735633 , 66.2735633 , 66.2735633 , 66.2735633 , 66.2735633 ,\n",
              "       66.2735633 , 66.2735633 , 66.2735633 , 66.2735633 , 66.2735633 ,\n",
              "       66.2735633 , 65.62727272, 65.62727272, 65.62727272, 65.62727272,\n",
              "       65.62727272, 65.30412743, 65.30412743, 70.15130679, 70.15130679,\n",
              "       70.15130679, 70.15130679, 69.50501621, 69.50501621, 69.50501621,\n",
              "       68.85872563, 68.85872563, 68.85872563, 68.85872563, 68.85872563,\n",
              "       68.85872563, 68.85872563, 68.85872563, 68.85872563, 68.85872563,\n",
              "       68.85872563, 68.85872563, 68.85872563, 68.85872563, 68.85872563,\n",
              "       68.85872563, 68.85872563, 68.85872563, 68.85872563, 68.85872563,\n",
              "       68.85872563, 68.85872563, 68.85872563, 68.85872563, 68.85872563,\n",
              "       68.85872563, 68.85872563, 68.21243505, 68.21243505, 68.21243505,\n",
              "       68.21243505, 68.21243505, 68.21243505, 68.21243505, 68.21243505,\n",
              "       68.21243505, 68.21243505, 68.21243505, 68.21243505, 68.21243505,\n",
              "       68.21243505, 68.21243505, 68.21243505, 68.21243505, 68.21243505,\n",
              "       68.21243505, 68.21243505, 68.21243505, 68.21243505, 68.21243505,\n",
              "       68.21243505, 68.21243505, 68.21243505, 68.21243505, 68.21243505,\n",
              "       68.21243505, 68.21243505, 68.21243505, 67.56614446, 67.56614446,\n",
              "       67.56614446, 67.56614446, 67.56614446, 67.56614446, 67.56614446,\n",
              "       67.56614446, 67.56614446, 67.56614446, 67.56614446, 67.56614446,\n",
              "       67.56614446, 67.56614446, 67.56614446, 67.56614446, 67.56614446,\n",
              "       67.56614446, 67.56614446, 67.56614446, 67.56614446, 67.56614446,\n",
              "       67.56614446, 67.56614446, 67.56614446, 67.56614446, 67.56614446,\n",
              "       67.56614446, 67.56614446, 67.56614446, 67.56614446, 67.56614446,\n",
              "       67.56614446, 67.56614446, 67.56614446, 67.56614446, 67.56614446,\n",
              "       67.56614446, 66.91985388, 66.91985388, 66.91985388, 66.91985388,\n",
              "       66.91985388, 66.91985388, 66.91985388, 66.91985388, 66.91985388,\n",
              "       66.91985388, 66.91985388, 66.91985388, 66.91985388, 66.91985388,\n",
              "       66.91985388, 66.91985388, 66.91985388, 66.2735633 , 66.2735633 ,\n",
              "       66.2735633 , 66.2735633 , 66.2735633 , 66.2735633 , 66.2735633 ,\n",
              "       66.2735633 , 66.2735633 , 66.2735633 , 66.2735633 , 65.62727272,\n",
              "       65.62727272, 65.62727272, 65.62727272, 65.62727272, 65.30412743,\n",
              "       65.30412743, 70.79759737, 70.15130679, 70.15130679, 70.15130679,\n",
              "       69.50501621, 69.50501621, 69.50501621, 69.50501621, 69.50501621,\n",
              "       69.50501621, 69.50501621, 69.50501621, 69.50501621, 69.50501621,\n",
              "       69.50501621, 69.50501621, 68.85872563, 68.85872563, 68.85872563,\n",
              "       68.85872563, 68.85872563, 68.85872563, 68.85872563, 68.85872563,\n",
              "       68.85872563, 68.85872563, 68.85872563, 68.85872563, 68.85872563,\n",
              "       68.85872563, 68.85872563, 68.85872563, 68.85872563, 68.85872563,\n",
              "       68.85872563, 68.85872563, 68.21243505, 68.21243505, 68.21243505,\n",
              "       68.21243505, 68.21243505, 68.21243505, 68.21243505, 68.21243505,\n",
              "       68.21243505, 68.21243505, 68.21243505, 68.21243505, 68.21243505,\n",
              "       68.21243505, 68.21243505, 68.21243505, 68.21243505, 68.21243505,\n",
              "       68.21243505, 68.21243505, 68.21243505, 68.21243505, 68.21243505,\n",
              "       68.21243505, 68.21243505, 68.21243505, 68.21243505, 68.21243505,\n",
              "       68.21243505, 68.21243505, 68.21243505, 68.21243505, 68.21243505,\n",
              "       68.21243505, 67.56614446, 67.56614446, 67.56614446, 67.56614446,\n",
              "       67.56614446, 67.56614446, 67.56614446, 67.56614446, 67.56614446,\n",
              "       67.56614446, 67.56614446, 67.56614446, 67.56614446, 67.56614446,\n",
              "       67.56614446, 67.56614446, 67.56614446, 67.56614446, 67.56614446,\n",
              "       67.56614446, 67.56614446, 67.56614446, 67.56614446, 67.56614446,\n",
              "       67.56614446, 67.56614446, 67.56614446, 67.56614446, 66.91985388,\n",
              "       66.91985388, 66.91985388, 66.91985388, 66.91985388, 66.91985388,\n",
              "       66.91985388, 66.91985388, 66.91985388, 66.91985388, 66.91985388,\n",
              "       66.91985388, 66.91985388, 66.91985388, 66.2735633 , 66.2735633 ,\n",
              "       66.2735633 , 66.2735633 , 66.2735633 , 66.2735633 , 66.2735633 ,\n",
              "       65.30412743, 70.79759737, 70.79759737, 70.15130679, 70.15130679,\n",
              "       70.15130679, 70.15130679, 70.15130679, 69.50501621, 69.50501621,\n",
              "       69.50501621, 69.50501621, 69.50501621, 69.50501621, 69.50501621,\n",
              "       69.50501621, 69.50501621, 69.50501621, 69.50501621, 69.50501621,\n",
              "       69.50501621, 69.50501621, 69.50501621, 69.50501621, 69.50501621,\n",
              "       69.50501621, 68.85872563, 68.85872563, 68.85872563, 68.85872563,\n",
              "       68.85872563, 68.85872563, 68.85872563, 68.85872563, 68.85872563,\n",
              "       68.85872563, 68.85872563, 68.85872563, 68.85872563, 68.85872563,\n",
              "       68.85872563, 68.85872563, 68.85872563, 68.85872563, 68.85872563,\n",
              "       68.85872563, 68.85872563, 68.85872563, 68.85872563, 68.85872563,\n",
              "       68.85872563, 68.85872563, 68.85872563, 68.85872563, 68.85872563,\n",
              "       68.85872563, 68.85872563, 68.85872563, 68.85872563, 68.21243505,\n",
              "       68.21243505, 68.21243505, 68.21243505, 68.21243505, 68.21243505,\n",
              "       68.21243505, 68.21243505, 68.21243505, 68.21243505, 68.21243505,\n",
              "       68.21243505, 68.21243505, 68.21243505, 68.21243505, 68.21243505,\n",
              "       68.21243505, 68.21243505, 68.21243505, 68.21243505, 68.21243505,\n",
              "       68.21243505, 68.21243505, 68.21243505, 68.21243505, 68.21243505,\n",
              "       68.21243505, 68.21243505, 68.21243505, 68.21243505, 68.21243505,\n",
              "       68.21243505, 68.21243505, 68.21243505, 68.21243505, 68.21243505,\n",
              "       68.21243505, 68.21243505, 68.21243505, 68.21243505, 68.21243505,\n",
              "       68.21243505, 68.21243505, 68.21243505, 68.21243505, 68.21243505,\n",
              "       68.21243505, 68.21243505, 67.56614446, 67.56614446, 67.56614446,\n",
              "       67.56614446, 67.56614446, 67.56614446, 67.56614446, 67.56614446,\n",
              "       67.56614446, 67.56614446, 67.56614446, 67.56614446, 67.56614446,\n",
              "       67.56614446, 67.56614446, 67.56614446, 67.56614446, 67.56614446,\n",
              "       67.56614446, 67.56614446, 67.56614446, 67.56614446, 67.56614446,\n",
              "       67.56614446, 67.56614446, 67.56614446, 67.56614446, 67.56614446,\n",
              "       67.56614446, 67.56614446, 67.56614446, 67.56614446, 67.56614446,\n",
              "       67.56614446, 67.56614446, 67.56614446, 67.56614446, 67.56614446,\n",
              "       66.91985388, 66.91985388, 66.91985388, 66.91985388, 66.91985388,\n",
              "       66.91985388, 66.91985388, 66.91985388, 66.91985388, 66.91985388,\n",
              "       66.91985388, 66.91985388, 66.91985388, 66.2735633 , 66.2735633 ,\n",
              "       66.2735633 , 66.2735633 , 66.2735633 , 66.2735633 , 66.2735633 ,\n",
              "       65.62727272, 65.62727272, 65.30412743, 70.79759737, 70.15130679,\n",
              "       70.15130679, 70.15130679, 70.15130679, 70.15130679, 70.15130679,\n",
              "       70.15130679, 70.15130679, 70.15130679, 70.15130679, 69.50501621,\n",
              "       69.50501621, 69.50501621, 69.50501621, 69.50501621, 69.50501621,\n",
              "       69.50501621, 69.50501621, 69.50501621, 69.50501621, 69.50501621,\n",
              "       69.50501621, 69.50501621, 69.50501621, 68.85872563, 68.85872563,\n",
              "       68.85872563, 68.85872563, 68.85872563, 68.85872563, 68.85872563,\n",
              "       68.85872563, 68.85872563, 68.85872563, 68.85872563, 68.85872563,\n",
              "       68.85872563, 68.85872563, 68.85872563, 68.85872563, 68.85872563,\n",
              "       68.85872563, 68.85872563, 68.85872563, 68.85872563, 68.85872563,\n",
              "       68.85872563, 68.85872563, 68.85872563, 68.21243505, 68.21243505,\n",
              "       68.21243505, 68.21243505, 68.21243505, 68.21243505, 68.21243505,\n",
              "       68.21243505, 68.21243505, 68.21243505, 68.21243505, 68.21243505,\n",
              "       68.21243505, 68.21243505, 68.21243505, 68.21243505, 68.21243505,\n",
              "       68.21243505, 68.21243505, 68.21243505, 68.21243505, 67.56614446,\n",
              "       67.56614446, 67.56614446, 67.56614446, 67.56614446, 67.56614446,\n",
              "       67.56614446, 67.56614446, 67.56614446, 67.56614446, 67.56614446,\n",
              "       67.56614446, 67.56614446, 67.56614446, 67.56614446, 67.56614446,\n",
              "       67.56614446, 67.56614446, 67.56614446, 66.91985388, 66.91985388,\n",
              "       66.91985388, 66.91985388, 66.2735633 , 66.2735633 , 66.2735633 ,\n",
              "       66.2735633 , 66.2735633 , 70.79759737, 70.79759737, 70.15130679,\n",
              "       70.15130679, 70.15130679, 70.15130679, 69.50501621, 69.50501621,\n",
              "       69.50501621, 69.50501621, 69.50501621, 69.50501621, 69.50501621,\n",
              "       68.85872563, 68.85872563, 68.85872563, 68.85872563, 68.85872563,\n",
              "       68.85872563, 68.85872563, 68.85872563, 68.85872563, 68.85872563,\n",
              "       68.85872563, 68.85872563, 68.85872563, 68.85872563, 68.85872563,\n",
              "       68.85872563, 68.85872563, 68.85872563, 68.85872563, 68.85872563,\n",
              "       68.21243505, 68.21243505, 68.21243505, 68.21243505, 68.21243505,\n",
              "       68.21243505, 68.21243505, 68.21243505, 68.21243505, 68.21243505,\n",
              "       68.21243505, 68.21243505, 68.21243505, 68.21243505, 68.21243505,\n",
              "       68.21243505, 68.21243505, 68.21243505, 67.56614446, 67.56614446,\n",
              "       67.56614446, 67.56614446, 67.56614446, 67.56614446, 67.56614446,\n",
              "       67.56614446, 67.56614446, 67.56614446, 67.56614446, 66.2735633 ,\n",
              "       66.2735633 , 71.12074267, 70.79759737, 70.79759737, 70.79759737,\n",
              "       70.79759737, 70.79759737, 70.79759737, 70.79759737, 70.15130679,\n",
              "       70.15130679, 70.15130679, 70.15130679, 70.15130679, 70.15130679,\n",
              "       70.15130679, 70.15130679, 70.15130679, 69.50501621, 69.50501621,\n",
              "       69.50501621, 69.50501621, 68.85872563, 68.85872563, 68.85872563,\n",
              "       68.85872563, 68.85872563, 68.85872563, 68.85872563, 68.85872563,\n",
              "       68.85872563, 68.85872563, 68.85872563, 68.21243505, 68.21243505,\n",
              "       68.21243505, 68.21243505, 67.56614446, 67.56614446, 67.56614446,\n",
              "       67.56614446, 66.2735633 , 71.12074267, 71.12074267, 71.12074267,\n",
              "       70.79759737, 70.79759737, 70.15130679, 70.15130679, 69.50501621,\n",
              "       69.50501621, 69.50501621, 68.85872563, 68.85872563, 68.85872563,\n",
              "       68.85872563, 68.21243505, 68.21243505, 68.21243505, 70.79759737,\n",
              "       70.79759737, 70.79759737, 70.79759737, 70.15130679, 70.15130679,\n",
              "       69.50501621, 69.50501621, 69.50501621, 68.85872563, 68.85872563,\n",
              "       68.85872563, 68.85872563, 68.85872563])"
            ]
          },
          "metadata": {},
          "execution_count": 34
        }
      ]
    },
    {
      "cell_type": "code",
      "source": [
        "from sklearn.linear_model import LinearRegression    #=>예측관점 중요시 y=ax+b"
      ],
      "metadata": {
        "id": "OMBqpS1Meilh"
      },
      "execution_count": 21,
      "outputs": []
    },
    {
      "cell_type": "code",
      "source": [
        "lr = LinearRegression()"
      ],
      "metadata": {
        "id": "ng_59scIeokA"
      },
      "execution_count": 22,
      "outputs": []
    },
    {
      "cell_type": "code",
      "source": [
        "lr.fit(data.data[['parent']], data.data.child)"
      ],
      "metadata": {
        "colab": {
          "base_uri": "https://localhost:8080/",
          "height": 74
        },
        "id": "umMPQeUAerug",
        "outputId": "4d1f5320-1206-4d55-c39d-2efb0f249ea9"
      },
      "execution_count": 23,
      "outputs": [
        {
          "output_type": "execute_result",
          "data": {
            "text/plain": [
              "LinearRegression()"
            ],
            "text/html": [
              "<style>#sk-container-id-1 {color: black;background-color: white;}#sk-container-id-1 pre{padding: 0;}#sk-container-id-1 div.sk-toggleable {background-color: white;}#sk-container-id-1 label.sk-toggleable__label {cursor: pointer;display: block;width: 100%;margin-bottom: 0;padding: 0.3em;box-sizing: border-box;text-align: center;}#sk-container-id-1 label.sk-toggleable__label-arrow:before {content: \"▸\";float: left;margin-right: 0.25em;color: #696969;}#sk-container-id-1 label.sk-toggleable__label-arrow:hover:before {color: black;}#sk-container-id-1 div.sk-estimator:hover label.sk-toggleable__label-arrow:before {color: black;}#sk-container-id-1 div.sk-toggleable__content {max-height: 0;max-width: 0;overflow: hidden;text-align: left;background-color: #f0f8ff;}#sk-container-id-1 div.sk-toggleable__content pre {margin: 0.2em;color: black;border-radius: 0.25em;background-color: #f0f8ff;}#sk-container-id-1 input.sk-toggleable__control:checked~div.sk-toggleable__content {max-height: 200px;max-width: 100%;overflow: auto;}#sk-container-id-1 input.sk-toggleable__control:checked~label.sk-toggleable__label-arrow:before {content: \"▾\";}#sk-container-id-1 div.sk-estimator input.sk-toggleable__control:checked~label.sk-toggleable__label {background-color: #d4ebff;}#sk-container-id-1 div.sk-label input.sk-toggleable__control:checked~label.sk-toggleable__label {background-color: #d4ebff;}#sk-container-id-1 input.sk-hidden--visually {border: 0;clip: rect(1px 1px 1px 1px);clip: rect(1px, 1px, 1px, 1px);height: 1px;margin: -1px;overflow: hidden;padding: 0;position: absolute;width: 1px;}#sk-container-id-1 div.sk-estimator {font-family: monospace;background-color: #f0f8ff;border: 1px dotted black;border-radius: 0.25em;box-sizing: border-box;margin-bottom: 0.5em;}#sk-container-id-1 div.sk-estimator:hover {background-color: #d4ebff;}#sk-container-id-1 div.sk-parallel-item::after {content: \"\";width: 100%;border-bottom: 1px solid gray;flex-grow: 1;}#sk-container-id-1 div.sk-label:hover label.sk-toggleable__label {background-color: #d4ebff;}#sk-container-id-1 div.sk-serial::before {content: \"\";position: absolute;border-left: 1px solid gray;box-sizing: border-box;top: 0;bottom: 0;left: 50%;z-index: 0;}#sk-container-id-1 div.sk-serial {display: flex;flex-direction: column;align-items: center;background-color: white;padding-right: 0.2em;padding-left: 0.2em;position: relative;}#sk-container-id-1 div.sk-item {position: relative;z-index: 1;}#sk-container-id-1 div.sk-parallel {display: flex;align-items: stretch;justify-content: center;background-color: white;position: relative;}#sk-container-id-1 div.sk-item::before, #sk-container-id-1 div.sk-parallel-item::before {content: \"\";position: absolute;border-left: 1px solid gray;box-sizing: border-box;top: 0;bottom: 0;left: 50%;z-index: -1;}#sk-container-id-1 div.sk-parallel-item {display: flex;flex-direction: column;z-index: 1;position: relative;background-color: white;}#sk-container-id-1 div.sk-parallel-item:first-child::after {align-self: flex-end;width: 50%;}#sk-container-id-1 div.sk-parallel-item:last-child::after {align-self: flex-start;width: 50%;}#sk-container-id-1 div.sk-parallel-item:only-child::after {width: 0;}#sk-container-id-1 div.sk-dashed-wrapped {border: 1px dashed gray;margin: 0 0.4em 0.5em 0.4em;box-sizing: border-box;padding-bottom: 0.4em;background-color: white;}#sk-container-id-1 div.sk-label label {font-family: monospace;font-weight: bold;display: inline-block;line-height: 1.2em;}#sk-container-id-1 div.sk-label-container {text-align: center;}#sk-container-id-1 div.sk-container {/* jupyter's `normalize.less` sets `[hidden] { display: none; }` but bootstrap.min.css set `[hidden] { display: none !important; }` so we also need the `!important` here to be able to override the default hidden behavior on the sphinx rendered scikit-learn.org. See: https://github.com/scikit-learn/scikit-learn/issues/21755 */display: inline-block !important;position: relative;}#sk-container-id-1 div.sk-text-repr-fallback {display: none;}</style><div id=\"sk-container-id-1\" class=\"sk-top-container\"><div class=\"sk-text-repr-fallback\"><pre>LinearRegression()</pre><b>In a Jupyter environment, please rerun this cell to show the HTML representation or trust the notebook. <br />On GitHub, the HTML representation is unable to render, please try loading this page with nbviewer.org.</b></div><div class=\"sk-container\" hidden><div class=\"sk-item\"><div class=\"sk-estimator sk-toggleable\"><input class=\"sk-toggleable__control sk-hidden--visually\" id=\"sk-estimator-id-1\" type=\"checkbox\" checked><label for=\"sk-estimator-id-1\" class=\"sk-toggleable__label sk-toggleable__label-arrow\">LinearRegression</label><div class=\"sk-toggleable__content\"><pre>LinearRegression()</pre></div></div></div></div></div>"
            ]
          },
          "metadata": {},
          "execution_count": 23
        }
      ]
    },
    {
      "cell_type": "code",
      "source": [
        "vars(lr)"
      ],
      "metadata": {
        "colab": {
          "base_uri": "https://localhost:8080/"
        },
        "id": "QX_Y21_jf2K8",
        "outputId": "cf0ea86c-2406-4ec2-ea16-02b98445be91"
      },
      "execution_count": 24,
      "outputs": [
        {
          "output_type": "execute_result",
          "data": {
            "text/plain": [
              "{'fit_intercept': True,\n",
              " 'copy_X': True,\n",
              " 'n_jobs': None,\n",
              " 'positive': False,\n",
              " 'feature_names_in_': array(['parent'], dtype=object),\n",
              " 'n_features_in_': 1,\n",
              " 'coef_': array([0.64629058]),\n",
              " 'rank_': 1,\n",
              " 'singular_': array([54.41835865]),\n",
              " 'intercept_': 23.941530180412975}"
            ]
          },
          "metadata": {},
          "execution_count": 24
        }
      ]
    },
    {
      "cell_type": "code",
      "source": [
        "lr2 = LinearRegression(fit_intercept=False)"
      ],
      "metadata": {
        "id": "kJSH1sTjCFvj"
      },
      "execution_count": 26,
      "outputs": []
    },
    {
      "cell_type": "code",
      "source": [
        "lr2.fit(data.data[['parent']], data.data.child)"
      ],
      "metadata": {
        "colab": {
          "base_uri": "https://localhost:8080/",
          "height": 74
        },
        "id": "5cIoBnS6CUQx",
        "outputId": "20598d2e-c36a-4d1e-a722-8733d960a1e8"
      },
      "execution_count": 27,
      "outputs": [
        {
          "output_type": "execute_result",
          "data": {
            "text/plain": [
              "LinearRegression(fit_intercept=False)"
            ],
            "text/html": [
              "<style>#sk-container-id-2 {color: black;background-color: white;}#sk-container-id-2 pre{padding: 0;}#sk-container-id-2 div.sk-toggleable {background-color: white;}#sk-container-id-2 label.sk-toggleable__label {cursor: pointer;display: block;width: 100%;margin-bottom: 0;padding: 0.3em;box-sizing: border-box;text-align: center;}#sk-container-id-2 label.sk-toggleable__label-arrow:before {content: \"▸\";float: left;margin-right: 0.25em;color: #696969;}#sk-container-id-2 label.sk-toggleable__label-arrow:hover:before {color: black;}#sk-container-id-2 div.sk-estimator:hover label.sk-toggleable__label-arrow:before {color: black;}#sk-container-id-2 div.sk-toggleable__content {max-height: 0;max-width: 0;overflow: hidden;text-align: left;background-color: #f0f8ff;}#sk-container-id-2 div.sk-toggleable__content pre {margin: 0.2em;color: black;border-radius: 0.25em;background-color: #f0f8ff;}#sk-container-id-2 input.sk-toggleable__control:checked~div.sk-toggleable__content {max-height: 200px;max-width: 100%;overflow: auto;}#sk-container-id-2 input.sk-toggleable__control:checked~label.sk-toggleable__label-arrow:before {content: \"▾\";}#sk-container-id-2 div.sk-estimator input.sk-toggleable__control:checked~label.sk-toggleable__label {background-color: #d4ebff;}#sk-container-id-2 div.sk-label input.sk-toggleable__control:checked~label.sk-toggleable__label {background-color: #d4ebff;}#sk-container-id-2 input.sk-hidden--visually {border: 0;clip: rect(1px 1px 1px 1px);clip: rect(1px, 1px, 1px, 1px);height: 1px;margin: -1px;overflow: hidden;padding: 0;position: absolute;width: 1px;}#sk-container-id-2 div.sk-estimator {font-family: monospace;background-color: #f0f8ff;border: 1px dotted black;border-radius: 0.25em;box-sizing: border-box;margin-bottom: 0.5em;}#sk-container-id-2 div.sk-estimator:hover {background-color: #d4ebff;}#sk-container-id-2 div.sk-parallel-item::after {content: \"\";width: 100%;border-bottom: 1px solid gray;flex-grow: 1;}#sk-container-id-2 div.sk-label:hover label.sk-toggleable__label {background-color: #d4ebff;}#sk-container-id-2 div.sk-serial::before {content: \"\";position: absolute;border-left: 1px solid gray;box-sizing: border-box;top: 0;bottom: 0;left: 50%;z-index: 0;}#sk-container-id-2 div.sk-serial {display: flex;flex-direction: column;align-items: center;background-color: white;padding-right: 0.2em;padding-left: 0.2em;position: relative;}#sk-container-id-2 div.sk-item {position: relative;z-index: 1;}#sk-container-id-2 div.sk-parallel {display: flex;align-items: stretch;justify-content: center;background-color: white;position: relative;}#sk-container-id-2 div.sk-item::before, #sk-container-id-2 div.sk-parallel-item::before {content: \"\";position: absolute;border-left: 1px solid gray;box-sizing: border-box;top: 0;bottom: 0;left: 50%;z-index: -1;}#sk-container-id-2 div.sk-parallel-item {display: flex;flex-direction: column;z-index: 1;position: relative;background-color: white;}#sk-container-id-2 div.sk-parallel-item:first-child::after {align-self: flex-end;width: 50%;}#sk-container-id-2 div.sk-parallel-item:last-child::after {align-self: flex-start;width: 50%;}#sk-container-id-2 div.sk-parallel-item:only-child::after {width: 0;}#sk-container-id-2 div.sk-dashed-wrapped {border: 1px dashed gray;margin: 0 0.4em 0.5em 0.4em;box-sizing: border-box;padding-bottom: 0.4em;background-color: white;}#sk-container-id-2 div.sk-label label {font-family: monospace;font-weight: bold;display: inline-block;line-height: 1.2em;}#sk-container-id-2 div.sk-label-container {text-align: center;}#sk-container-id-2 div.sk-container {/* jupyter's `normalize.less` sets `[hidden] { display: none; }` but bootstrap.min.css set `[hidden] { display: none !important; }` so we also need the `!important` here to be able to override the default hidden behavior on the sphinx rendered scikit-learn.org. See: https://github.com/scikit-learn/scikit-learn/issues/21755 */display: inline-block !important;position: relative;}#sk-container-id-2 div.sk-text-repr-fallback {display: none;}</style><div id=\"sk-container-id-2\" class=\"sk-top-container\"><div class=\"sk-text-repr-fallback\"><pre>LinearRegression(fit_intercept=False)</pre><b>In a Jupyter environment, please rerun this cell to show the HTML representation or trust the notebook. <br />On GitHub, the HTML representation is unable to render, please try loading this page with nbviewer.org.</b></div><div class=\"sk-container\" hidden><div class=\"sk-item\"><div class=\"sk-estimator sk-toggleable\"><input class=\"sk-toggleable__control sk-hidden--visually\" id=\"sk-estimator-id-2\" type=\"checkbox\" checked><label for=\"sk-estimator-id-2\" class=\"sk-toggleable__label sk-toggleable__label-arrow\">LinearRegression</label><div class=\"sk-toggleable__content\"><pre>LinearRegression(fit_intercept=False)</pre></div></div></div></div></div>"
            ]
          },
          "metadata": {},
          "execution_count": 27
        }
      ]
    },
    {
      "cell_type": "code",
      "source": [
        "vars(lr2)"
      ],
      "metadata": {
        "colab": {
          "base_uri": "https://localhost:8080/"
        },
        "id": "3gSvaKYDCbdB",
        "outputId": "fe0bed4e-5ea6-4d56-b1e7-f1e5f9cf073c"
      },
      "execution_count": 28,
      "outputs": [
        {
          "output_type": "execute_result",
          "data": {
            "text/plain": [
              "{'fit_intercept': False,\n",
              " 'copy_X': True,\n",
              " 'n_jobs': None,\n",
              " 'positive': False,\n",
              " 'feature_names_in_': array(['parent'], dtype=object),\n",
              " 'n_features_in_': 1,\n",
              " 'coef_': array([0.99654386]),\n",
              " 'rank_': 1,\n",
              " 'singular_': array([2081.59013737]),\n",
              " 'intercept_': 0.0}"
            ]
          },
          "metadata": {},
          "execution_count": 28
        }
      ]
    }
  ]
}