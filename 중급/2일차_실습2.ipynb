{
  "nbformat": 4,
  "nbformat_minor": 0,
  "metadata": {
    "colab": {
      "provenance": [],
      "authorship_tag": "ABX9TyMHjPwdT7kMLMsoqYPMp5+0",
      "include_colab_link": true
    },
    "kernelspec": {
      "name": "python3",
      "display_name": "Python 3"
    },
    "language_info": {
      "name": "python"
    }
  },
  "cells": [
    {
      "cell_type": "markdown",
      "metadata": {
        "id": "view-in-github",
        "colab_type": "text"
      },
      "source": [
        "<a href=\"https://colab.research.google.com/github/ukhyun-lee/stock_market_analysis/blob/main/%EC%A4%91%EA%B8%89/2%EC%9D%BC%EC%B0%A8_%EC%8B%A4%EC%8A%B52.ipynb\" target=\"_parent\"><img src=\"https://colab.research.google.com/assets/colab-badge.svg\" alt=\"Open In Colab\"/></a>"
      ]
    },
    {
      "cell_type": "code",
      "execution_count": 1,
      "metadata": {
        "id": "XeXxLisR1clC"
      },
      "outputs": [],
      "source": [
        "import numpy as np"
      ]
    },
    {
      "cell_type": "markdown",
      "source": [
        "ndarray = n-dimentional / homo / sequence + elementwise"
      ],
      "metadata": {
        "id": "_z0m5QHe3r_A"
      }
    },
    {
      "cell_type": "code",
      "source": [
        "[1, 2, 3 ] + [4, 5, 6]"
      ],
      "metadata": {
        "colab": {
          "base_uri": "https://localhost:8080/"
        },
        "id": "UoekMc-f1qEv",
        "outputId": "cff8163e-723a-4a44-d9c3-1472e0fb5de6"
      },
      "execution_count": 2,
      "outputs": [
        {
          "output_type": "execute_result",
          "data": {
            "text/plain": [
              "[1, 2, 3, 4, 5, 6]"
            ]
          },
          "metadata": {},
          "execution_count": 2
        }
      ]
    },
    {
      "cell_type": "code",
      "source": [
        "'abc' + 'def'"
      ],
      "metadata": {
        "colab": {
          "base_uri": "https://localhost:8080/",
          "height": 35
        },
        "id": "tsu6QCNVK9ud",
        "outputId": "d1bf3f66-1c21-4f49-d7b5-79f478354c82"
      },
      "execution_count": 3,
      "outputs": [
        {
          "output_type": "execute_result",
          "data": {
            "text/plain": [
              "'abcdef'"
            ],
            "application/vnd.google.colaboratory.intrinsic+json": {
              "type": "string"
            }
          },
          "metadata": {},
          "execution_count": 3
        }
      ]
    },
    {
      "cell_type": "code",
      "source": [
        "(1,2,3) + (4, 5, 6)"
      ],
      "metadata": {
        "colab": {
          "base_uri": "https://localhost:8080/"
        },
        "id": "GnXNobJALA4s",
        "outputId": "0acbc49a-84e5-4f04-868b-35dc09b55a38"
      },
      "execution_count": 4,
      "outputs": [
        {
          "output_type": "execute_result",
          "data": {
            "text/plain": [
              "(1, 2, 3, 4, 5, 6)"
            ]
          },
          "metadata": {},
          "execution_count": 4
        }
      ]
    },
    {
      "cell_type": "code",
      "source": [
        "np.array([1,2,3]) + np.array([1,2,3])   #=> elementwise 연산 => 수학적 concept"
      ],
      "metadata": {
        "colab": {
          "base_uri": "https://localhost:8080/"
        },
        "id": "hLCXgBLsLFUi",
        "outputId": "dcb1dfcb-8a14-4363-fd66-f0faa5ab33ab"
      },
      "execution_count": 7,
      "outputs": [
        {
          "output_type": "execute_result",
          "data": {
            "text/plain": [
              "array([2, 4, 6])"
            ]
          },
          "metadata": {},
          "execution_count": 7
        }
      ]
    },
    {
      "cell_type": "markdown",
      "source": [],
      "metadata": {
        "id": "Q6Gt22aAPSl6"
      }
    },
    {
      "cell_type": "markdown",
      "source": [
        "# element-wise : shape / dtype  => 수학적 concept"
      ],
      "metadata": {
        "id": "NzsuyXB1L6h3"
      }
    },
    {
      "cell_type": "code",
      "source": [
        "a = np.array([[1,2,3],[4,5,6]])\n",
        "b = np.array([[1,2],[4,5]])"
      ],
      "metadata": {
        "id": "lnyDa0hbLrdn"
      },
      "execution_count": 11,
      "outputs": []
    },
    {
      "cell_type": "code",
      "source": [
        "a"
      ],
      "metadata": {
        "colab": {
          "base_uri": "https://localhost:8080/"
        },
        "id": "uLP3lf7QM3hC",
        "outputId": "25c0e430-7c3a-49c4-ab17-265b86e4c578"
      },
      "execution_count": 12,
      "outputs": [
        {
          "output_type": "execute_result",
          "data": {
            "text/plain": [
              "array([[1, 2, 3],\n",
              "       [4, 5, 6]])"
            ]
          },
          "metadata": {},
          "execution_count": 12
        }
      ]
    },
    {
      "cell_type": "code",
      "source": [
        "b"
      ],
      "metadata": {
        "colab": {
          "base_uri": "https://localhost:8080/"
        },
        "id": "13GwNBarM1Oz",
        "outputId": "7e85b701-d774-4eea-a8d2-146475ec2646"
      },
      "execution_count": 13,
      "outputs": [
        {
          "output_type": "execute_result",
          "data": {
            "text/plain": [
              "array([[1, 2],\n",
              "       [4, 5]])"
            ]
          },
          "metadata": {},
          "execution_count": 13
        }
      ]
    },
    {
      "cell_type": "code",
      "source": [
        "a + b"
      ],
      "metadata": {
        "colab": {
          "base_uri": "https://localhost:8080/",
          "height": 174
        },
        "id": "FlNmcOWdM883",
        "outputId": "8553c358-4ecc-4d5c-d401-e626137d68a1"
      },
      "execution_count": 14,
      "outputs": [
        {
          "output_type": "error",
          "ename": "ValueError",
          "evalue": "ignored",
          "traceback": [
            "\u001b[0;31m---------------------------------------------------------------------------\u001b[0m",
            "\u001b[0;31mValueError\u001b[0m                                Traceback (most recent call last)",
            "\u001b[0;32m<ipython-input-14-bd58363a63fc>\u001b[0m in \u001b[0;36m<cell line: 1>\u001b[0;34m()\u001b[0m\n\u001b[0;32m----> 1\u001b[0;31m \u001b[0ma\u001b[0m \u001b[0;34m+\u001b[0m \u001b[0mb\u001b[0m\u001b[0;34m\u001b[0m\u001b[0;34m\u001b[0m\u001b[0m\n\u001b[0m",
            "\u001b[0;31mValueError\u001b[0m: operands could not be broadcast together with shapes (2,3) (2,2) "
          ]
        }
      ]
    },
    {
      "cell_type": "code",
      "source": [
        "c = np.array([1,2,3])\n",
        "d = np.array(['1',2,3])"
      ],
      "metadata": {
        "id": "a1zyT5wNNAIv"
      },
      "execution_count": 16,
      "outputs": []
    },
    {
      "cell_type": "code",
      "source": [
        "c"
      ],
      "metadata": {
        "colab": {
          "base_uri": "https://localhost:8080/"
        },
        "id": "BjTJUFAANNAS",
        "outputId": "6f36fd4d-e803-4a95-a751-78815fb8afdd"
      },
      "execution_count": 17,
      "outputs": [
        {
          "output_type": "execute_result",
          "data": {
            "text/plain": [
              "array([1, 2, 3])"
            ]
          },
          "metadata": {},
          "execution_count": 17
        }
      ]
    },
    {
      "cell_type": "code",
      "source": [
        "d"
      ],
      "metadata": {
        "colab": {
          "base_uri": "https://localhost:8080/"
        },
        "id": "Jnk4Yrw5NPVB",
        "outputId": "b73dfb9e-4db3-4d1c-8b84-f595f4af3b94"
      },
      "execution_count": 18,
      "outputs": [
        {
          "output_type": "execute_result",
          "data": {
            "text/plain": [
              "array(['1', '2', '3'], dtype='<U21')"
            ]
          },
          "metadata": {},
          "execution_count": 18
        }
      ]
    },
    {
      "cell_type": "markdown",
      "source": [
        "broadcasting   => 상수, 행 또는 열 피연산자를 맞추어 nparray에 맞게 연산"
      ],
      "metadata": {
        "id": "jPSO71boNShX"
      }
    },
    {
      "cell_type": "code",
      "source": [
        "a    "
      ],
      "metadata": {
        "colab": {
          "base_uri": "https://localhost:8080/"
        },
        "id": "OoTy61wRNQ54",
        "outputId": "f3d2f354-5287-4a3f-e8af-e4e052974787"
      },
      "execution_count": 19,
      "outputs": [
        {
          "output_type": "execute_result",
          "data": {
            "text/plain": [
              "array([[1, 2, 3],\n",
              "       [4, 5, 6]])"
            ]
          },
          "metadata": {},
          "execution_count": 19
        }
      ]
    },
    {
      "cell_type": "code",
      "source": [
        "a + 5   #=> [[5 5 5]   \n",
        "        #=>  [5 5 5]]"
      ],
      "metadata": {
        "colab": {
          "base_uri": "https://localhost:8080/"
        },
        "id": "o1ZYrnKeNWaP",
        "outputId": "37f81606-68be-46e3-e126-ec0c4cab5221"
      },
      "execution_count": 20,
      "outputs": [
        {
          "output_type": "execute_result",
          "data": {
            "text/plain": [
              "array([[ 6,  7,  8],\n",
              "       [ 9, 10, 11]])"
            ]
          },
          "metadata": {},
          "execution_count": 20
        }
      ]
    },
    {
      "cell_type": "code",
      "source": [
        "a + np.array([3,4,5])"
      ],
      "metadata": {
        "colab": {
          "base_uri": "https://localhost:8080/"
        },
        "id": "FdvCNy0WNZJv",
        "outputId": "9976abfd-ec96-4041-e8ea-8a68b7767a1d"
      },
      "execution_count": 22,
      "outputs": [
        {
          "output_type": "execute_result",
          "data": {
            "text/plain": [
              "array([[ 4,  6,  8],\n",
              "       [ 7,  9, 11]])"
            ]
          },
          "metadata": {},
          "execution_count": 22
        }
      ]
    },
    {
      "cell_type": "code",
      "source": [
        "np.array([3,4,5])    "
      ],
      "metadata": {
        "colab": {
          "base_uri": "https://localhost:8080/"
        },
        "id": "sKi54-4LOkdD",
        "outputId": "08b0a0bc-ff5d-42d8-fe3c-aa2b7386989c"
      },
      "execution_count": 23,
      "outputs": [
        {
          "output_type": "execute_result",
          "data": {
            "text/plain": [
              "array([3, 4, 5])"
            ]
          },
          "metadata": {},
          "execution_count": 23
        }
      ]
    },
    {
      "cell_type": "markdown",
      "source": [
        "# shape에 따라 연산 방법이 다를 수 있음 => 즉 연산결과"
      ],
      "metadata": {
        "id": "mNI6tXrkPpfT"
      }
    },
    {
      "cell_type": "code",
      "source": [
        "a = np.array([1,2])\n",
        "b = np.array([3,4])"
      ],
      "metadata": {
        "id": "H-kGzak2P840"
      },
      "execution_count": 24,
      "outputs": []
    },
    {
      "cell_type": "code",
      "source": [
        "np.dot(a,b)   # 3 + 8  내적"
      ],
      "metadata": {
        "colab": {
          "base_uri": "https://localhost:8080/"
        },
        "id": "sGT1yF2VQIp4",
        "outputId": "ccfa76cc-e7da-448d-93df-242b34fe065f"
      },
      "execution_count": 25,
      "outputs": [
        {
          "output_type": "execute_result",
          "data": {
            "text/plain": [
              "11"
            ]
          },
          "metadata": {},
          "execution_count": 25
        }
      ]
    },
    {
      "cell_type": "code",
      "source": [
        "a @ b    # 내적"
      ],
      "metadata": {
        "colab": {
          "base_uri": "https://localhost:8080/"
        },
        "id": "-g1LDRKvQZXx",
        "outputId": "585fc477-b95e-4007-dce6-2251d82b41f2"
      },
      "execution_count": 26,
      "outputs": [
        {
          "output_type": "execute_result",
          "data": {
            "text/plain": [
              "11"
            ]
          },
          "metadata": {},
          "execution_count": 26
        }
      ]
    },
    {
      "cell_type": "code",
      "source": [
        "a * b"
      ],
      "metadata": {
        "colab": {
          "base_uri": "https://localhost:8080/"
        },
        "id": "GCpb7NhfQg5v",
        "outputId": "9fc7020f-ce39-4ab5-9d3f-355b837982da"
      },
      "execution_count": 27,
      "outputs": [
        {
          "output_type": "execute_result",
          "data": {
            "text/plain": [
              "array([3, 8])"
            ]
          },
          "metadata": {},
          "execution_count": 27
        }
      ]
    },
    {
      "cell_type": "code",
      "source": [
        "np.multiply(a,b)"
      ],
      "metadata": {
        "colab": {
          "base_uri": "https://localhost:8080/"
        },
        "id": "7Fb2-n2pR7Bw",
        "outputId": "dad2a0d9-57f6-461e-8528-67d22139dcd5"
      },
      "execution_count": 36,
      "outputs": [
        {
          "output_type": "execute_result",
          "data": {
            "text/plain": [
              "array([3, 8])"
            ]
          },
          "metadata": {},
          "execution_count": 36
        }
      ]
    },
    {
      "cell_type": "code",
      "source": [
        "aa = np.array([[1,2],[1,2]])\n",
        "bb = np.array([[3,4],[3,4]])"
      ],
      "metadata": {
        "id": "xNYPX4bPQnW0"
      },
      "execution_count": 28,
      "outputs": []
    },
    {
      "cell_type": "code",
      "source": [
        "np.dot(aa,bb)  # => 2차원일 경우 행렬곱"
      ],
      "metadata": {
        "colab": {
          "base_uri": "https://localhost:8080/"
        },
        "id": "AX53c9qUQ4pg",
        "outputId": "88812b86-abe6-41f4-db5b-ccb9e65b90bf"
      },
      "execution_count": 34,
      "outputs": [
        {
          "output_type": "execute_result",
          "data": {
            "text/plain": [
              "array([[ 9, 12],\n",
              "       [ 9, 12]])"
            ]
          },
          "metadata": {},
          "execution_count": 34
        }
      ]
    },
    {
      "cell_type": "code",
      "source": [
        "aa @ bb"
      ],
      "metadata": {
        "colab": {
          "base_uri": "https://localhost:8080/"
        },
        "id": "QXR08fhPQ7rV",
        "outputId": "feca8e30-d840-4a02-a100-826e39879a0b"
      },
      "execution_count": 31,
      "outputs": [
        {
          "output_type": "execute_result",
          "data": {
            "text/plain": [
              "array([[ 9, 12],\n",
              "       [ 9, 12]])"
            ]
          },
          "metadata": {},
          "execution_count": 31
        }
      ]
    },
    {
      "cell_type": "code",
      "source": [
        "aa  * bb"
      ],
      "metadata": {
        "colab": {
          "base_uri": "https://localhost:8080/"
        },
        "id": "cqm4dOqBRN2Z",
        "outputId": "543962da-c2d7-4d4a-fbff-5bf3bcd483a4"
      },
      "execution_count": 33,
      "outputs": [
        {
          "output_type": "execute_result",
          "data": {
            "text/plain": [
              "array([[3, 8],\n",
              "       [3, 8]])"
            ]
          },
          "metadata": {},
          "execution_count": 33
        }
      ]
    },
    {
      "cell_type": "code",
      "source": [
        "np.multiply(aa, bb)"
      ],
      "metadata": {
        "colab": {
          "base_uri": "https://localhost:8080/"
        },
        "id": "i87oj5YnRJXQ",
        "outputId": "214bc9b7-5118-4ac8-b2e8-70f1d4b94d48"
      },
      "execution_count": 35,
      "outputs": [
        {
          "output_type": "execute_result",
          "data": {
            "text/plain": [
              "array([[3, 8],\n",
              "       [3, 8]])"
            ]
          },
          "metadata": {},
          "execution_count": 35
        }
      ]
    },
    {
      "cell_type": "markdown",
      "source": [
        "#ufunc  => universial function"
      ],
      "metadata": {
        "id": "Qq6eOnwXSJds"
      }
    },
    {
      "cell_type": "code",
      "source": [
        "np.add(1,2)"
      ],
      "metadata": {
        "colab": {
          "base_uri": "https://localhost:8080/"
        },
        "id": "PKMJCVipSM9R",
        "outputId": "6b03798c-50ee-4313-b958-a08b4369e097"
      },
      "execution_count": 37,
      "outputs": [
        {
          "output_type": "execute_result",
          "data": {
            "text/plain": [
              "3"
            ]
          },
          "metadata": {},
          "execution_count": 37
        }
      ]
    },
    {
      "cell_type": "code",
      "source": [
        "np.add([1,2],[3,4])"
      ],
      "metadata": {
        "colab": {
          "base_uri": "https://localhost:8080/"
        },
        "id": "Xys-1Z2PSYHs",
        "outputId": "b14d74ed-d7fa-4991-84db-65a7c7b800e5"
      },
      "execution_count": 38,
      "outputs": [
        {
          "output_type": "execute_result",
          "data": {
            "text/plain": [
              "array([4, 6])"
            ]
          },
          "metadata": {},
          "execution_count": 38
        }
      ]
    },
    {
      "cell_type": "markdown",
      "source": [
        "# "
      ],
      "metadata": {
        "id": "ym1QKUHATUaw"
      }
    },
    {
      "cell_type": "code",
      "source": [
        "np.lookfor('add')"
      ],
      "metadata": {
        "colab": {
          "base_uri": "https://localhost:8080/"
        },
        "id": "bPN6dwIjTWBn",
        "outputId": "5c35f50e-88ee-439d-f8ce-73ce6ab54449"
      },
      "execution_count": 39,
      "outputs": [
        {
          "output_type": "stream",
          "name": "stdout",
          "text": [
            "Search results for 'add'\n",
            "------------------------\n",
            "numpy.add\n",
            "    Add arguments element-wise.\n",
            "numpy.logaddexp\n",
            "    Logarithm of the sum of exponentiations of the inputs.\n",
            "numpy.add_newdoc\n",
            "    Add documentation to an existing object, typically one defined in C\n",
            "numpy.logaddexp2\n",
            "    Logarithm of the sum of exponentiations of the inputs in base-2.\n",
            "numpy.ma.add\n",
            "    Add arguments element-wise.\n",
            "numpy.add_docstring\n",
            "    Add a docstring to a built-in obj if possible.\n",
            "numpy.quantile\n",
            "    Compute the q-th quantile of the data along the specified axis.\n",
            "numpy.deprecate\n",
            "    Issues a DeprecationWarning, adds warning to `old_name`'s\n",
            "numpy.array_api.add\n",
            "    Array API compatible wrapper for :py:func:`np.add <numpy.add>`.\n",
            "numpy._add_newdoc_ufunc\n",
            "    Replace the docstring for a ufunc with new_docstring.\n",
            "numpy.binary_repr\n",
            "    Return the binary representation of the input number as a string.\n",
            "numpy.ma.ids\n",
            "    ids(self)\n",
            "numpy.ma.append\n",
            "    Append values to the end of an array.\n",
            "numpy.bytes0.ljust\n",
            "    Return a left-justified string of length width.\n",
            "numpy.bytes0.rjust\n",
            "    Return a right-justified string of length width.\n",
            "numpy.array_api.logaddexp\n",
            "    Array API compatible wrapper for :py:func:`np.logaddexp <numpy.logaddexp>`.\n",
            "numpy.bytes0.center\n",
            "    Return a centered string of length width.\n",
            "numpy.str0.ljust\n",
            "    Return a left-justified string of length width.\n",
            "numpy.str0.rjust\n",
            "    Return a right-justified string of length width.\n",
            "numpy.str0.center\n",
            "    Return a centered string of length width.\n",
            "numpy.distutils.test\n",
            "    Pytest test runner.\n",
            "numpy.format_float_positional\n",
            "    Format a floating-point scalar as a decimal string in positional notation.\n",
            "numpy.format_float_scientific\n",
            "    Format a floating-point scalar as a decimal string in scientific notation.\n",
            "numpy.ma.mrecords.addfield\n",
            "    Adds a new field to the masked record array\n",
            "numpy._pytesttester.PytestTester\n",
            "    Pytest test runner.\n",
            "numpy.ma.MaskedArray.__add__\n",
            "    Add self to other, and return a new masked array.\n",
            "numpy.ma.MaskedArray.__iadd__\n",
            "    Add other to self in-place.\n",
            "numpy.ma.MaskedArray.__radd__\n",
            "    Add other to self, and return a new masked array.\n",
            "numpy.polynomial.Hermite._add\n",
            "    Add one Hermite series to another.\n",
            "numpy.ma.MaskedArray.ids\n",
            "    Return the addresses of the data and mask areas.\n",
            "numpy.polynomial.HermiteE._add\n",
            "    Add one Hermite series to another.\n",
            "numpy.polynomial.Laguerre._add\n",
            "    Add one Laguerre series to another.\n",
            "numpy.polynomial.Legendre._add\n",
            "    Add one Legendre series to another.\n",
            "numpy.core._dtype._is_packed\n",
            "    Checks whether the structured data type in 'dtype'\n",
            "numpy.polynomial.Chebyshev._add\n",
            "    Add one Chebyshev series to another.\n",
            "numpy.compat.contextlib_nullcontext\n",
            "    Context manager that does no additional processing.\n",
            "numpy.polynomial.Polynomial._add\n",
            "    Add one polynomial to another.\n",
            "numpy.core._internal._copy_fields\n",
            "    Return copy of structured array with padding between fields removed.\n",
            "numpy.core._internal._add_trailing_padding\n",
            "    Inject the specified number of padding bytes at the end of a dtype\n",
            "numpy.polynomial.Chebyshev.degree\n",
            "    The degree of the series.\n",
            "numpy.polyadd\n",
            "    Find the sum of two polynomials.\n",
            "numpy.distutils.log.Log.addFilter\n",
            "    Add the specified filter to this handler.\n",
            "numpy.all\n",
            "    Test whether all array elements along a given axis evaluate to True.\n",
            "numpy.any\n",
            "    Test whether any array element along a given axis evaluates to True.\n",
            "numpy.lib.recfunctions.append_fields\n",
            "    Add new fields to an existing array.\n",
            "numpy.cov\n",
            "    Estimate a covariance matrix, given data and weights.\n",
            "numpy.eye\n",
            "    Return a 2-D array with ones on the diagonal and zeros elsewhere.\n",
            "numpy.pad\n",
            "    Pad an array.\n",
            "numpy.ptp\n",
            "    Range of values (maximum - minimum) along an axis.\n",
            "numpy.put\n",
            "    Replaces specified elements of an array with given values.\n",
            "numpy.std\n",
            "    Compute the standard deviation along the specified axis.\n",
            "numpy.sum\n",
            "    Sum of array elements over a given axis.\n",
            "numpy.distutils.log.Log.addHandler\n",
            "    Add the specified handler to this logger.\n",
            "numpy.tri\n",
            "    An array with ones at and below the given diagonal and zeros elsewhere.\n",
            "numpy.var\n",
            "    Compute the variance along the specified axis.\n",
            "numpy.amax\n",
            "    Return the maximum of an array or maximum along an axis.\n",
            "numpy.amin\n",
            "    Return the minimum of an array or minimum along an axis.\n",
            "numpy.cbrt\n",
            "    Return the cube-root of an array, element-wise.\n",
            "numpy.clip\n",
            "    Clip (limit) the values in an array.\n",
            "numpy.copy\n",
            "    Return an array copy of the given object.\n",
            "numpy.diff\n",
            "    Calculate the n-th discrete difference along the given axis.\n",
            "numpy.exp2\n",
            "    Calculate `2**p` for all `p` in the input array.\n",
            "numpy.flip\n",
            "    Reverse the order of elements in an array along the given axis.\n",
            "numpy.fmax\n",
            "    Element-wise maximum of array elements.\n",
            "numpy.fmin\n",
            "    Element-wise minimum of array elements.\n",
            "numpy.full\n",
            "    Return a new array of given shape and type, filled with `fill_value`.\n",
            "numpy.in1d\n",
            "    Test whether each element of a 1-D array is also present in a second array.\n",
            "numpy.isin\n",
            "    Calculates `element in test_elements`, broadcasting over `element` only.\n",
            "numpy.log2\n",
            "    Base-2 logarithm of `x`.\n",
            "numpy.mean\n",
            "    Compute the arithmetic mean along the specified axis.\n",
            "numpy.ones\n",
            "    Return a new array of given shape and type, filled with ones.\n",
            "numpy.prod\n",
            "    Return the product of array elements over a given axis.\n",
            "numpy.roll\n",
            "    Roll array elements along a given axis.\n",
            "numpy.sort\n",
            "    Return a sorted copy of an array.\n",
            "numpy.take\n",
            "    Take elements from an array along an axis.\n",
            "numpy.array\n",
            "    array(object, dtype=None, *, copy=True, order='K', subok=False, ndmin=0,\n",
            "numpy.block\n",
            "    Assemble an nd-array from nested lists of blocks.\n",
            "numpy.cross\n",
            "    Return the cross product of two (arrays of) vectors.\n",
            "numpy.dtype\n",
            "    Create a data type object.\n",
            "numpy.empty\n",
            "    Return a new array of given shape and type, without initializing entries.\n",
            "numpy.inner\n",
            "    Inner product of two arrays.\n",
            "numpy.isnat\n",
            "    Test element-wise for NaT (not a time) and return result as a boolean array.\n",
            "numpy.outer\n",
            "    Compute the outer product of two vectors.\n",
            "numpy.rot90\n",
            "    Rotate an array by 90 degrees in the plane specified by axes.\n",
            "numpy.stack\n",
            "    Join a sequence of arrays along a new axis.\n",
            "numpy.trunc\n",
            "    Return the truncated value of the input, element-wise.\n",
            "numpy.zeros\n",
            "    Return a new array of given shape and type, filled with zeros.\n",
            "numpy.arange\n",
            "    Return evenly spaced values within a given interval.\n",
            "numpy.argmax\n",
            "    Returns the indices of the maximum values along an axis.\n",
            "numpy.argmin\n",
            "    Returns the indices of the minimum values along an axis.\n",
            "numpy.char.add\n",
            "    Return element-wise string concatenation for two arrays of str or unicode.\n",
            "numpy.copyto\n",
            "    Copies values from one array to another, broadcasting as necessary.\n",
            "numpy.divmod\n",
            "    Return element-wise quotient and remainder simultaneously.\n",
            "numpy.einsum\n",
            "    einsum(subscripts, *operands, out=None, dtype=None, order='K',\n",
            "numpy.insert\n",
            "    Insert values along the given axis before the given indices.\n",
            "numpy.interp\n",
            "    One-dimensional linear interpolation for monotonically increasing sample points.\n",
            "numpy.matmul\n",
            "    Matrix product of two arrays.\n",
            "numpy.median\n",
            "    Compute the median along the specified axis.\n",
            "numpy.memmap\n",
            "    Create a memory-map to an array stored in a *binary* file on disk.\n",
            "numpy.nanmax\n",
            "    Return the maximum of an array or maximum along an axis, ignoring any\n",
            "numpy.nanmin\n",
            "    Return minimum of an array or minimum along an axis, ignoring any NaNs.\n",
            "numpy.nanstd\n",
            "    Compute the standard deviation along the specified axis, while\n",
            "numpy.nansum\n",
            "    Return the sum of array elements over a given axis treating Not a\n",
            "numpy.nanvar\n",
            "    Compute the variance along the specified axis, while ignoring NaNs.\n",
            "numpy.nditer\n",
            "    Efficient multi-dimensional iterator object to iterate over arrays.\n",
            "numpy.poly1d\n",
            "    A one-dimensional polynomial class.\n",
            "numpy.resize\n",
            "    Return a new array with the specified shape.\n",
            "numpy.polynomial.Chebyshev.has_samecoef\n",
            "    Check if coefficients match.\n",
            "numpy.polynomial.Chebyshev.has_sametype\n",
            "    Check if types match.\n",
            "numpy.unique\n",
            "    Find the unique elements of an array.\n",
            "numpy.unwrap\n",
            "    Unwrap by taking the complement of large deltas with respect to the period.\n",
            "numpy.vander\n",
            "    Generate a Vandermonde matrix.\n",
            "numpy.testing.suppress_warnings.filter\n",
            "    Add a new suppressing filter or apply it if the state is entered.\n",
            "numpy.argsort\n",
            "    Returns the indices that would sort an array.\n",
            "numpy.lib.recfunctions.rec_append_fields\n",
            "    Add new fields to an existing array.\n",
            "numpy.asarray\n",
            "    Convert the input to an array.\n",
            "numpy.average\n",
            "    Compute the weighted average along the specified axis.\n",
            "numpy.deg2rad\n",
            "    Convert angles from degrees to radians.\n",
            "numpy.indices\n",
            "    Return an array representing the indices of a grid.\n",
            "numpy.isclose\n",
            "    Returns a boolean array where two arrays are element-wise equal within a\n",
            "numpy.loadtxt\n",
            "    Load data from a text file.\n",
            "numpy.nanmean\n",
            "    Compute the arithmetic mean along the specified axis, ignoring NaNs.\n",
            "numpy.nanprod\n",
            "    Return the product of array elements over a given axis treating Not a\n",
            "numpy.polydiv\n",
            "    Returns the quotient and remainder of polynomial division.\n",
            "numpy.polyfit\n",
            "    Least squares polynomial fit.\n",
            "numpy.polymul\n",
            "    Find the product of two polynomials.\n",
            "numpy.polysub\n",
            "    Difference (subtraction) of two polynomials.\n",
            "numpy.polyval\n",
            "    Evaluate a polynomial at specific values.\n",
            "numpy.rad2deg\n",
            "    Convert angles from radians to degrees.\n",
            "numpy.require\n",
            "    Return an ndarray of the provided type that satisfies requirements.\n",
            "numpy.savetxt\n",
            "    Save an array to a text file.\n",
            "numpy.squeeze\n",
            "    Remove axes of length one from `a`.\n",
            "numpy.allclose\n",
            "    Returns True if two arrays are element-wise equal within a tolerance.\n",
            "numpy.bincount\n",
            "    Count number of occurrences of each value in array of non-negative ints.\n",
            "numpy.blackman\n",
            "    Return the Blackman window.\n",
            "numpy.convolve\n",
            "    Returns the discrete, linear convolution of two one-dimensional sequences.\n",
            "numpy.corrcoef\n",
            "    Return Pearson product-moment correlation coefficients.\n",
            "numpy.digitize\n",
            "    Return the indices of the bins to which each value in input array belongs.\n",
            "numpy.fromfile\n",
            "    Construct an array from data in a text or binary file.\n",
            "numpy.fromiter\n",
            "    Create a new 1-dimensional array from an iterable object.\n",
            "numpy.gradient\n",
            "    Return the gradient of an N-dimensional array.\n",
            "numpy.identity\n",
            "    Return the identity array.\n",
            "numpy.array_api._array_object.Array.__add__\n",
            "    Performs the operation __add__.\n",
            "numpy.linspace\n",
            "    Return evenly spaced numbers over a specified interval.\n",
            "numpy.logspace\n",
            "    Return numbers spaced evenly on a log scale.\n",
            "numpy.meshgrid\n",
            "    Return coordinate matrices from coordinate vectors.\n",
            "numpy.moveaxis\n",
            "    Move axes of an array to new positions.\n",
            "numpy.packbits\n",
            "    Packs the elements of a binary-valued array into bits in a uint8 array.\n",
            "numpy.positive\n",
            "    Numerical positive, element-wise.\n",
            "numpy.rollaxis\n",
            "    Roll the specified axis backwards, until it lies in a given position.\n",
            "numpy.polynomial.Chebyshev.has_samedomain\n",
            "    Check if domains match.\n",
            "numpy.polynomial.Chebyshev.has_samewindow\n",
            "    Check if windows match.\n",
            "numpy.AxisError\n",
            "    Axis supplied was invalid.\n",
            "numpy.base_repr\n",
            "    Return a string representation of a number in the given base system.\n",
            "numpy.broadcast\n",
            "    Produce an object that mimics broadcasting.\n",
            "numpy.chararray\n",
            "    chararray(shape, itemsize=1, unicode=False, buffer=None, offset=0,\n",
            "numpy.core.overrides.array_function_dispatch\n",
            "    Decorator for adding dispatch with the __array_function__ protocol.\n",
            "numpy.correlate\n",
            "    Cross-correlation of two 1-dimensional sequences.\n",
            "numpy.fromregex\n",
            "    Construct an array from a text file, using regular expression parsing.\n",
            "numpy.full_like\n",
            "    Return a full array with the same shape and type as a given array.\n",
            "numpy.geomspace\n",
            "    Return numbers spaced evenly on a log scale (a geometric progression).\n",
            "numpy.heaviside\n",
            "    Compute the Heaviside step function.\n",
            "numpy.histogram\n",
            "    Compute the histogram of a dataset.\n",
            "numpy.is_busday\n",
            "    Calculates which of the given dates are valid days, and which are not.\n",
            "numpy.array_api._array_object.Array.__iadd__\n",
            "    Performs the operation __iadd__.\n",
            "numpy.array_api._array_object.Array.__radd__\n",
            "    Performs the operation __radd__.\n",
            "numpy.nanargmax\n",
            "    Return the indices of the maximum values in the specified axis ignoring\n",
            "numpy.nanargmin\n",
            "    Return the indices of the minimum values in the specified axis ignoring\n",
            "numpy.nancumsum\n",
            "    Return the cumulative sum of array elements over a given axis treating Not a\n",
            "numpy.nanmedian\n",
            "    Compute the median along the specified axis, while ignoring NaNs.\n",
            "numpy.ones_like\n",
            "    Return an array of ones with the same shape and type as a given array.\n",
            "numpy.partition\n",
            "    Return a partitioned copy of an array.\n",
            "numpy.vectorize\n",
            "    vectorize(pyfunc, otypes=None, doc=None, excluded=None, cache=False,\n",
            "numpy.asanyarray\n",
            "    Convert the input to an ndarray, but pass ndarray subclasses through.\n",
            "numpy.empty_like\n",
            "    Return a new array with the same shape and type as a given array.\n",
            "numpy.frombuffer\n",
            "    Interpret a buffer as a 1-dimensional array.\n",
            "numpy.frompyfunc\n",
            "    Takes an arbitrary Python function and returns a NumPy ufunc.\n",
            "numpy.fromstring\n",
            "    A new 1-D array initialized from text data in a string.\n",
            "numpy.genfromtxt\n",
            "    Load data from a text file, with missing values handled as specified.\n",
            "numpy.nan_to_num\n",
            "    Replace NaN with zero and infinity with large finite numbers (default\n",
            "numpy.nancumprod\n",
            "    Return the cumulative product of array elements over a given axis treating Not a\n",
            "numpy.percentile\n",
            "    Compute the q-th percentile of the data along the specified axis.\n",
            "numpy.unpackbits\n",
            "    Unpacks elements of a uint8 array into a binary-valued output array.\n",
            "numpy.zeros_like\n",
            "    Return an array of zeros with the same shape and type as a given array.\n",
            "numpy.array_equal\n",
            "    True if two arrays have the same shape and elements, False otherwise.\n",
            "numpy.concatenate\n",
            "    Join a sequence of arrays along an existing axis.\n",
            "numpy.einsum_path\n",
            "    Evaluates the lowest cost contraction order for an einsum expression by\n",
            "numpy.float_power\n",
            "    First array elements raised to powers from second array, element-wise.\n",
            "numpy.histogram2d\n",
            "    Compute the bi-dimensional histogram of two data samples.\n",
            "numpy.intersect1d\n",
            "    Find the intersection of two arrays.\n",
            "numpy.nanquantile\n",
            "    Compute the qth quantile of the data along the specified axis,\n",
            "numpy.result_type\n",
            "    result_type(*arrays_and_dtypes)\n",
            "numpy.argpartition\n",
            "    Perform an indirect partition along the given axis using the\n",
            "numpy.array2string\n",
            "    Return a string representation of an array.\n",
            "numpy.broadcast_to\n",
            "    Broadcast an array to a new shape.\n",
            "numpy.busday_count\n",
            "    Counts the number of valid days between `begindates` and\n",
            "numpy.fft.fft\n",
            "    Compute the one-dimensional discrete Fourier Transform.\n",
            "numpy.diag_indices\n",
            "    Return the indices to access the main diagonal of an array.\n",
            "numpy.ma.cov\n",
            "    Estimate the covariance matrix.\n",
            "numpy.ma.dot\n",
            "    Return the dot product of two arrays.\n",
            "numpy.fromfunction\n",
            "    Construct an array by executing a function over each coordinate.\n",
            "numpy.mask_indices\n",
            "    Return the indices to access (n, n) arrays, given a masking function.\n",
            "numpy.ma.var\n",
            "    Compute the variance along the specified axis.\n",
            "numpy.searchsorted\n",
            "    Find indices where elements should be inserted to maintain order.\n",
            "numpy.core.tests.test_extint128.exc_iter\n",
            "    Iterate over Cartesian product of *args, and if an exception is raised,\n",
            "numpy.tril_indices\n",
            "    Return the indices for the lower-triangle of an (n, m) array.\n",
            "numpy.triu_indices\n",
            "    Return the indices for the upper-triangle of an (n, m) array.\n",
            "numpy.busday_offset\n",
            "    First adjusts the date to fall on a valid day according to\n",
            "numpy.count_nonzero\n",
            "    Counts the number of non-zero values in the array ``a``.\n",
            "numpy.ma.clip\n",
            "    Clip (limit) the values in an array.\n",
            "numpy.fft.fft2\n",
            "    Compute the 2-dimensional discrete Fourier Transform.\n",
            "numpy.fft.fftn\n",
            "    Compute the N-dimensional discrete Fourier Transform.\n",
            "numpy.fft.hfft\n",
            "    Compute the FFT of a signal that has Hermitian symmetry, i.e., a real\n",
            "numpy.fft.ifft\n",
            "    Compute the one-dimensional inverse discrete Fourier Transform.\n",
            "numpy.fft.rfft\n",
            "    Compute the one-dimensional discrete Fourier Transform for real input.\n",
            "numpy.ma.diff\n",
            "    Calculate the n-th discrete difference along the given axis.\n",
            "numpy.fill_diagonal\n",
            "    Fill the main diagonal of the given array of any dimensionality.\n",
            "numpy.ma.in1d\n",
            "    Test whether each element of an array is also present in a second\n",
            "numpy.format_parser\n",
            "    Class to convert formats, names, titles description to a dtype.\n",
            "numpy.ma.isin\n",
            "    Calculates `element in test_elements`, broadcasting over\n",
            "numpy.ma.log2\n",
            "    Base-2 logarithm of `x`.\n",
            "numpy.ma.ones\n",
            "    Return a new array of given shape and type, filled with ones.\n",
            "numpy.nanpercentile\n",
            "    Compute the qth percentile of the data along the specified axis,\n",
            "numpy.promote_types\n",
            "    Returns the data type with the smallest size and smallest scalar\n",
            "numpy.unravel_index\n",
            "    Converts a flat index or array of flat indices into a tuple\n",
            "numpy.asfortranarray\n",
            "    Return an array (ndim >= 1) laid out in Fortran order in memory.\n",
            "numpy.char.array\n",
            "    Create a `chararray`.\n",
            "numpy.busdaycalendar\n",
            "    A business day calendar object that efficiently stores information\n",
            "numpy.char.ljust\n",
            "    Return an array with the elements of `a` left-justified in a\n",
            "numpy.char.rjust\n",
            "    Return an array with the elements of `a` right-justified in a\n",
            "numpy.fft.ifft2\n",
            "    Compute the 2-dimensional inverse discrete Fourier Transform.\n",
            "numpy.fft.ifftn\n",
            "    Compute the N-dimensional inverse discrete Fourier Transform.\n",
            "numpy.fft.ihfft\n",
            "    Compute the inverse FFT of a signal that has Hermitian symmetry.\n",
            "numpy.fft.irfft\n",
            "    Computes the inverse of `rfft`.\n",
            "numpy.ma.count\n",
            "    Count the non-masked elements of the array along the given axis.\n",
            "numpy.fft.rfft2\n",
            "    Compute the 2-dimensional FFT of a real array.\n",
            "numpy.fft.rfftn\n",
            "    Compute the N-dimensional discrete Fourier Transform for real input.\n",
            "numpy.ma.empty\n",
            "    Return a new array of given shape and type, without initializing entries.\n",
            "numpy.ma.inner\n",
            "    Inner product of two arrays.\n",
            "numpy.ma.outer\n",
            "    Compute the outer product of two vectors.\n",
            "numpy.ma.stack\n",
            "    Join a sequence of arrays along a new axis.\n",
            "numpy.ma.zeros\n",
            "    Return a new array of given shape and type, filled with zeros.\n",
            "numpy.put_along_axis\n",
            "    Put values into the destination array by matching 1d index and data slices.\n",
            "numpy.linalg.qr\n",
            "    Compute the qr factorization of a matrix.\n",
            "numpy.char.center\n",
            "    Return a copy of `a` with its elements centered in a string of\n",
            "numpy.ma.arange\n",
            "    Return evenly spaced values within a given interval.\n",
            "numpy.chararray.__add__\n",
            "    Return (self + other), that is string concatenation,\n",
            "numpy.fft.irfft2\n",
            "    Computes the inverse of `rfft2`.\n",
            "numpy.fft.irfftn\n",
            "    Computes the inverse of `rfftn`.\n",
            "numpy.ma.median\n",
            "    Compute the median along the specified axis.\n",
            "numpy.ma.vander\n",
            "    Generate a Vandermonde matrix.\n",
            "numpy.min_scalar_type\n",
            "    For scalar ``a``, returns the data type with the smallest size\n",
            "numpy.ufunc.at\n",
            "    Performs unbuffered in place operation on operand 'a' for elements\n",
            "numpy.set_numeric_ops\n",
            "    Set numerical operators for array objects.\n",
            "numpy.take_along_axis\n",
            "    Take values from the input array by matching 1d index and data slices.\n",
            "numpy.linalg.det\n",
            "    Compute the determinant of an array.\n",
            "numpy.linalg.eig\n",
            "    Compute the eigenvalues and right eigenvectors of a square array.\n",
            "numpy.linalg.inv\n",
            "    Compute the (multiplicative) inverse of a matrix.\n",
            "numpy.apply_along_axis\n",
            "    Apply a function to 1-D slices along the given axis.\n",
            "numpy.linalg.svd\n",
            "    Singular Value Decomposition.\n",
            "numpy.char.asarray\n",
            "    Convert the input to a `chararray`, copying the data only if\n",
            "numpy.broadcast_shapes\n",
            "    Broadcast the input shapes into a single shape.\n",
            "numpy.core.tests.test_mem_policy.get_module\n",
            "    Add a memory policy that returns a false pointer 64 bytes into the\n",
            "numpy.chararray.__radd__\n",
            "    Return (other + self), that is string concatenation,\n",
            "numpy.ma.indices\n",
            "    Return an array representing the indices of a grid.\n",
            "numpy.ma.polyfit\n",
            "    Least squares polynomial fit.\n",
            "numpy.ma.squeeze\n",
            "    Remove axes of length one from `a`.\n",
            "numpy.matlib.eye\n",
            "    Return a matrix with ones on the diagonal and zeros elsewhere.\n",
            "numpy.set_printoptions\n",
            "    Set printing options.\n",
            "numpy.linalg.eigh\n",
            "    Return the eigenvalues and eigenvectors of a complex Hermitian\n",
            "numpy.linalg.norm\n",
            "    Matrix or vector norm.\n",
            "numpy.linalg.pinv\n",
            "    Compute the (Moore-Penrose) pseudo-inverse of a matrix.\n",
            "numpy.ascontiguousarray\n",
            "    Return a contiguous array (ndim >= 1) in memory (C order).\n",
            "numpy.f2py.compile\n",
            "    Build extension module from a Fortran 77 source string with f2py.\n",
            "numpy.diag_indices_from\n",
            "    Return the indices to access the main diagonal of an n-dimensional array.\n",
            "numpy.ma.corrcoef\n",
            "    Return Pearson product-moment correlation coefficients.\n",
            "numpy.ma.identity\n",
            "    Return the identity array.\n",
            "numpy.ravel_multi_index\n",
            "    Converts a tuple of index arrays into an array of flat\n",
            "numpy.tril_indices_from\n",
            "    Return the indices for the lower-triangle of arr.\n",
            "numpy.triu_indices_from\n",
            "    Return the indices for the upper-triangle of arr.\n",
            "numpy.linalg.solve\n",
            "    Solve a linear matrix equation, or system of linear scalar equations.\n",
            "numpy.deprecate_with_doc\n",
            "    Deprecates a function and includes the deprecation in its docstring.\n",
            "numpy.ma.ones_like\n",
            "    Return an array of ones with the same shape and type as a given array.\n",
            "numpy.chararray.sort\n",
            "    Sort an array in-place. Refer to `numpy.sort` for full documentation.\n",
            "numpy.linalg.tests.test_linalg.apply_tag\n",
            "    Add the given tag (a string) to each of the cases (a list of LinalgCase\n",
            "numpy.nditer.close\n",
            "    close()\n",
            "numpy.byte.is_integer\n",
            "    integer.is_integer() -> bool\n",
            "numpy.ma.empty_like\n",
            "    empty_like(prototype, dtype=None, order='K', subok=True, shape=None)\n",
            "numpy.ma.frombuffer\n",
            "    Interpret a buffer as a 1-dimensional array.\n",
            "numpy.ma.zeros_like\n",
            "    Return an array of zeros with the same shape and type as a given array.\n",
            "numpy.ufunc.reduce\n",
            "    Reduces `array`'s dimension by one, by applying ufunc along one axis.\n",
            "numpy.linalg.eigvals\n",
            "    Compute the eigenvalues of a general matrix.\n",
            "numpy.linalg.slogdet\n",
            "    Compute the sign and (natural) logarithm of the determinant of an array.\n",
            "numpy.chararray.tolist\n",
            "    a.tolist()\n",
            "numpy.linalg.cholesky\n",
            "    Cholesky decomposition.\n",
            "numpy.linalg.eigvalsh\n",
            "    Compute the eigenvalues of a complex Hermitian or real symmetric matrix.\n",
            "numpy.distutils.misc_util.Configuration.add_headers\n",
            "    Add installable headers to configuration.\n",
            "numpy.distutils.misc_util.Configuration.add_library\n",
            "    Add library to configuration.\n",
            "numpy.distutils.misc_util.Configuration.add_scripts\n",
            "    Add scripts to configuration.\n",
            "numpy.f2py.get_include\n",
            "    Return the directory that contains the fortranobject.c and .h files.\n",
            "numpy.ma.clump_masked\n",
            "    Returns a list of slices corresponding to the masked clumps of a 1-D array.\n",
            "numpy.ma.fromfunction\n",
            "    Construct an array by executing a function over each coordinate.\n",
            "numpy.chararray.tobytes\n",
            "    Construct Python bytes containing the raw data bytes in the array.\n",
            "numpy.ufunc.reduceat\n",
            "    Performs a (local) reduce with specified slices over a single axis.\n",
            "numpy.distutils.armccompiler.ArmCCompiler.add_library\n",
            "    Add 'libname' to the list of libraries that will be included in\n",
            "numpy.lib.tests.test_arraypad.TestEmptyArray\n",
            "    Check how padding behaves on arrays with an empty dimension.\n",
            "numpy.distutils.misc_util.Configuration._add_library\n",
            "    Common implementation for add_library and add_installed_library. Do\n",
            "numpy.distutils.misc_util.Configuration.add_data_dir\n",
            "    Recursively add files under data_path to data_files list.\n",
            "numpy.linalg.multi_dot\n",
            "    Compute the dot product of two or more arrays in a single function call,\n",
            "numpy.double.is_integer\n",
            "    double.is_integer() -> bool\n",
            "numpy.testing.rundocs\n",
            "    Run doctests found in the given file.\n",
            "numpy.typing.NBitBase\n",
            "    A type representing `numpy.number` precision during static type checking.\n",
            "numpy.matrix.partition\n",
            "    Rearranges the elements in the array in such a way that the value of the\n",
            "numpy.lib.tests.test_io.TextIO.writelines\n",
            "    Write lines to the file.\n",
            "numpy.random.Generator\n",
            "    Generator(bit_generator)\n",
            "numpy.distutils.misc_util.Configuration.add_extension\n",
            "    Add extension to configuration.\n",
            "numpy.ma.clump_unmasked\n",
            "    Return list of slices corresponding to the unmasked clumps of a 1-D array.\n",
            "numpy.float16.is_integer\n",
            "    half.is_integer() -> bool\n",
            "numpy.float32.is_integer\n",
            "    single.is_integer() -> bool\n",
            "numpy.ufunc.accumulate\n",
            "    Accumulate the result of applying the operator to all elements.\n",
            "numpy.chararray.transpose\n",
            "    a.transpose(*axes)\n",
            "numpy.core.tests.test_numerictypes.normalize_descr\n",
            "    Normalize a description adding the platform byteorder.\n",
            "numpy.distutils.command.sdist.sdist.add_defaults\n",
            "    Add all the default files to self.filelist:\n",
            "numpy.distutils.misc_util.Configuration.add_data_files\n",
            "    Add data files to configuration data_files.\n",
            "numpy.linalg.matrix_rank\n",
            "    Return matrix rank of array using SVD method\n",
            "numpy.distutils.misc_util.Configuration.add_subpackage\n",
            "    Add a sub-package to the current Configuration instance.\n",
            "numpy._globals._NoValueType\n",
            "    Special keyword value.\n",
            "numpy.float128.is_integer\n",
            "    longdouble.is_integer() -> bool\n",
            "numpy.polynomial.Hermite\n",
            "    An Hermite series class.\n",
            "numpy.random.RandomState\n",
            "    Container for the slow Mersenne Twister pseudo-random number generator.\n",
            "numpy.random.default_rng\n",
            "    Construct a new Generator with the default BitGenerator (PCG64).\n",
            "numpy.double.__setformat__\n",
            "    You probably don't want to use this function.\n",
            "numpy.ma.apply_along_axis\n",
            "    Apply a function to 1-D slices along the given axis.\n",
            "numpy.distutils.fcompiler.FCompiler.library_option\n",
            "    Return the compiler option to add 'lib' to the list of libraries\n",
            "numpy.distutils.armccompiler.ArmCCompiler.add_include_dir\n",
            "    Add 'dir' to the list of directories that will be searched for\n",
            "numpy.distutils.armccompiler.ArmCCompiler.add_library_dir\n",
            "    Add 'dir' to the list of directories that will be searched for\n",
            "numpy.distutils.armccompiler.ArmCCompiler.add_link_object\n",
            "    Add 'object' to the list of object files (or analogues, such as\n",
            "numpy.byte.__class_getitem__\n",
            "    Return a parametrized wrapper around the `~numpy.number` type.\n",
            "numpy.polynomial.HermiteE\n",
            "    An HermiteE series class.\n",
            "numpy.polynomial.Laguerre\n",
            "    A Laguerre series class.\n",
            "numpy.polynomial.Legendre\n",
            "    A Legendre series class.\n",
            "numpy.distutils.misc_util.Configuration.add_include_dirs\n",
            "    Add paths to configuration include directories.\n",
            "numpy.tests.test_public_api.test_all_modules_are_expected\n",
            "    Test that we don't add anything that looks like a new public module by\n",
            "numpy.chararray.argpartition\n",
            "    Returns the indices that would partition this array.\n",
            "numpy.lib._iotools.StringConverter.upgrade_mapper\n",
            "    Upgrade the mapper of a StringConverter by adding a new function and\n",
            "numpy.compat.npy_load_module\n",
            "    Load a module. Uses ``load_module`` which will be deprecated in python\n",
            "numpy.distutils.command.sdist.sdist._add_data_files\n",
            "    Add data files as found in build_py.data_files.\n",
            "numpy.polynomial.Chebyshev\n",
            "    A Chebyshev series class.\n",
            "numpy.distutils.misc_util.Configuration.add_define_macros\n",
            "    Add define macros to configuration\n",
            "numpy.testing.assert_warns\n",
            "    Fail unless the given callable throws the specified warning.\n",
            "numpy.int0.__class_getitem__\n",
            "    Return a parametrized wrapper around the `~numpy.number` type.\n",
            "numpy.polynomial.Polynomial\n",
            "    A power series class.\n",
            "numpy.dtype.__class_getitem__\n",
            "    Return a parametrized wrapper around the `~numpy.dtype` type.\n",
            "numpy.int16.__class_getitem__\n",
            "    Return a parametrized wrapper around the `~numpy.number` type.\n",
            "numpy.int32.__class_getitem__\n",
            "    Return a parametrized wrapper around the `~numpy.number` type.\n",
            "numpy.ctypeslib.as_ctypes_type\n",
            "    Convert a dtype into a ctypes type.\n",
            "numpy.random.tests.test_seed_sequence.test_zero_padding\n",
            "    Ensure that the implicit zero-padding does not cause problems.\n",
            "numpy.double.__class_getitem__\n",
            "    Return a parametrized wrapper around the `~numpy.number` type.\n",
            "numpy.cdouble.__class_getitem__\n",
            "    Return a parametrized wrapper around the `~numpy.number` type.\n",
            "numpy.distutils.fcompiler.FCompiler.library_dir_option\n",
            "    Return the compiler option to add 'dir' to the list of\n",
            "numpy.uint.__class_getitem__\n",
            "    Return a parametrized wrapper around the `~numpy.number` type.\n",
            "numpy.testing.assert_allclose\n",
            "    Raises an AssertionError if two objects are not equal up to desired\n",
            "numpy.float16.__class_getitem__\n",
            "    Return a parametrized wrapper around the `~numpy.number` type.\n",
            "numpy.ubyte.__class_getitem__\n",
            "    Return a parametrized wrapper around the `~numpy.number` type.\n",
            "numpy.float32.__class_getitem__\n",
            "    Return a parametrized wrapper around the `~numpy.number` type.\n",
            "numpy.matrix.__class_getitem__\n",
            "    Return a parametrized wrapper around the `~numpy.ndarray` type.\n",
            "numpy.inexact.__class_getitem__\n",
            "    Return a parametrized wrapper around the `~numpy.number` type.\n",
            "numpy.memmap.__class_getitem__\n",
            "    Return a parametrized wrapper around the `~numpy.ndarray` type.\n",
            "numpy.distutils.armccompiler.ArmCCompiler.library_option\n",
            "    Return the compiler option to add 'lib' to the list of libraries\n",
            "numpy.number.__class_getitem__\n",
            "    Return a parametrized wrapper around the `~numpy.number` type.\n",
            "numpy.integer.__class_getitem__\n",
            "    Return a parametrized wrapper around the `~numpy.number` type.\n",
            "numpy.distutils.misc_util.Configuration.add_installed_library\n",
            "    Similar to add_library, but the specified library is installed.\n",
            "numpy.chararray.__class_getitem__\n",
            "    Return a parametrized wrapper around the `~numpy.ndarray` type.\n",
            "numpy.float128.__class_getitem__\n",
            "    Return a parametrized wrapper around the `~numpy.number` type.\n",
            "numpy.testing.run_module_suite\n",
            "    Run a test module.\n",
            "numpy.ma.MaskedArray.dot\n",
            "    Masked dot product of two arrays. Note that `out` and `strict` are\n",
            "numpy.ma.MaskedArray.var\n",
            "    Compute the variance along the specified axis.\n",
            "numpy.floating.__class_getitem__\n",
            "    Return a parametrized wrapper around the `~numpy.number` type.\n",
            "numpy.uint16.__class_getitem__\n",
            "    Return a parametrized wrapper around the `~numpy.number` type.\n",
            "numpy.ndarray.__class_getitem__\n",
            "    Return a parametrized wrapper around the `~numpy.ndarray` type.\n",
            "numpy.complex64.__class_getitem__\n",
            "    Return a parametrized wrapper around the `~numpy.number` type.\n",
            "numpy.uint32.__class_getitem__\n",
            "    Return a parametrized wrapper around the `~numpy.number` type.\n",
            "numpy.distutils.command.sdist.sdist.write_manifest\n",
            "    Write the file list in 'self.filelist' (presumably as filled in\n",
            "numpy.longlong.__class_getitem__\n",
            "    Return a parametrized wrapper around the `~numpy.number` type.\n",
            "numpy.distutils.msvccompiler.MSVCCompiler.library_option\n",
            "    Return the compiler option to add 'lib' to the list of libraries\n",
            "numpy.testing.suppress_warnings\n",
            "    Context manager and decorator doing much the same as\n",
            "numpy.distutils.armccompiler.ArmCCompiler.set_include_dirs\n",
            "    Set the list of directories that will be searched to 'dirs' (a\n",
            "numpy.recarray.__class_getitem__\n",
            "    Return a parametrized wrapper around the `~numpy.ndarray` type.\n",
            "numpy.testing.assert_no_warnings\n",
            "    Fail if the given callable produces any warnings.\n",
            "numpy.ma.MaskedArray.count\n",
            "    Count the non-masked elements of the array along the given axis.\n",
            "numpy.clongdouble.__class_getitem__\n",
            "    Return a parametrized wrapper around the `~numpy.number` type.\n",
            "numpy.distutils.armccompiler.ArmCCompiler.add_runtime_library_dir\n",
            "    Add 'dir' to the list of directories that will be searched for\n",
            "numpy.distutils.command.develop.develop.create_index.add\n",
            "    Add `dist` if we ``can_add()`` it and it has not already been added\n",
            "numpy.testing.assert_no_gc_cycles\n",
            "    Fail if the given callable produces any reference cycles.\n",
            "numpy.testing.assert_raises_regex\n",
            "    assert_raises_regex(exception_class, expected_regexp, callable, *args,\n",
            "numpy.distutils.armccompiler.ArmCCompiler.library_dir_option\n",
            "    Return the compiler option to add 'dir' to the list of\n",
            "numpy.ulonglong.__class_getitem__\n",
            "    Return a parametrized wrapper around the `~numpy.number` type.\n",
            "numpy.ma.MaskedArray.tobytes\n",
            "    Return the array data as a string containing the raw bytes in the array.\n",
            "numpy.polynomial.Hermite.fit\n",
            "    Least squares fit to data.\n",
            "numpy.distutils.msvccompiler.MSVCCompiler.library_dir_option\n",
            "    Return the compiler option to add 'dir' to the list of\n",
            "numpy.distutils.numpy_distribution.NumpyDistribution.include\n",
            "    Add items to distribution that are named in keyword arguments\n",
            "numpy.timedelta64.__class_getitem__\n",
            "    Return a parametrized wrapper around the `~numpy.number` type.\n",
            "numpy.polynomial.Hermite._der\n",
            "    Differentiate a Hermite series.\n",
            "numpy.polynomial.Hermite._div\n",
            "    Divide one Hermite series by another.\n",
            "numpy.polynomial.Hermite._int\n",
            "    Integrate a Hermite series.\n",
            "numpy.polynomial.Hermite._mul\n",
            "    Multiply one Hermite series by another.\n",
            "numpy.polynomial.Hermite._pow\n",
            "    Raise a Hermite series to a power.\n",
            "numpy.polynomial.Hermite._sub\n",
            "    Subtract one Hermite series from another.\n",
            "numpy.polynomial.Hermite._val\n",
            "    Evaluate an Hermite series at points x.\n",
            "numpy.polynomial.Hermite.cast\n",
            "    Convert series to series of this class.\n",
            "numpy.polynomial.HermiteE.fit\n",
            "    Least squares fit to data.\n",
            "numpy.polynomial.Laguerre.fit\n",
            "    Least squares fit to data.\n",
            "numpy.polynomial.Legendre.fit\n",
            "    Least squares fit to data.\n",
            "numpy.distutils.fcompiler.FCompiler.runtime_library_dir_option\n",
            "    Return the compiler option to add 'dir' to the list of\n",
            "numpy.ma.MaskedArray.partition\n",
            "    Rearranges the elements in the array in such a way that the value of the\n",
            "numpy.random.Generator.pareto\n",
            "    Draw samples from a Pareto II or Lomax distribution with\n",
            "numpy.ma.MaskedArray.transpose\n",
            "    a.transpose(*axes)\n",
            "numpy.random.Generator.random\n",
            "    Return random floats in the half-open interval [0.0, 1.0).\n",
            "numpy.complexfloating.__class_getitem__\n",
            "    Return a parametrized wrapper around the `~numpy.number` type.\n",
            "numpy.polynomial.Chebyshev.fit\n",
            "    Least squares fit to data.\n",
            "numpy.distutils.command.develop.develop.create_index.__add__\n",
            "    Add an environment or distribution to an environment\n",
            "numpy.polynomial.Hermite.basis\n",
            "    Series basis polynomial of degree `deg`.\n",
            "numpy.polynomial.HermiteE._der\n",
            "    Differentiate a Hermite_e series.\n",
            "numpy.polynomial.HermiteE._div\n",
            "    Divide one Hermite series by another.\n",
            "numpy.polynomial.HermiteE._int\n",
            "    Integrate a Hermite_e series.\n",
            "numpy.polynomial.HermiteE._mul\n",
            "    Multiply one Hermite series by another.\n",
            "numpy.polynomial.HermiteE._pow\n",
            "    Raise a Hermite series to a power.\n",
            "numpy.polynomial.HermiteE._sub\n",
            "    Subtract one Hermite series from another.\n",
            "numpy.polynomial.HermiteE._val\n",
            "    Evaluate an HermiteE series at points x.\n",
            "numpy.polynomial.HermiteE.cast\n",
            "    Convert series to series of this class.\n",
            "numpy.polynomial.Laguerre._der\n",
            "    Differentiate a Laguerre series.\n",
            "numpy.polynomial.Laguerre._div\n",
            "    Divide one Laguerre series by another.\n",
            "numpy.polynomial.Laguerre._int\n",
            "    Integrate a Laguerre series.\n",
            "numpy.lib._version.NumpyVersion\n",
            "    Parse and compare numpy version strings.\n",
            "numpy.polynomial.Laguerre._mul\n",
            "    Multiply one Laguerre series by another.\n",
            "numpy.polynomial.Laguerre._pow\n",
            "    Raise a Laguerre series to a power.\n",
            "numpy.polynomial.Laguerre._sub\n",
            "    Subtract one Laguerre series from another.\n",
            "numpy.polynomial.Laguerre._val\n",
            "    Evaluate a Laguerre series at points x.\n",
            "numpy.polynomial.Laguerre.cast\n",
            "    Convert series to series of this class.\n",
            "numpy.polynomial.Legendre._der\n",
            "    Differentiate a Legendre series.\n",
            "numpy.polynomial.Legendre._div\n",
            "    Divide one Legendre series by another.\n",
            "numpy.polynomial.Legendre._fit\n",
            "    Least squares fit of Legendre series to data.\n",
            "numpy.polynomial.Legendre._int\n",
            "    Integrate a Legendre series.\n",
            "numpy.polynomial.Legendre._mul\n",
            "    Multiply one Legendre series by another.\n",
            "numpy.polynomial.Legendre._pow\n",
            "    Raise a Legendre series to a power.\n",
            "numpy.polynomial.Legendre._sub\n",
            "    Subtract one Legendre series from another.\n",
            "numpy.polynomial.Legendre._val\n",
            "    Evaluate a Legendre series at points x.\n",
            "numpy.polynomial.Legendre.cast\n",
            "    Convert series to series of this class.\n",
            "numpy.signedinteger.__class_getitem__\n",
            "    Return a parametrized wrapper around the `~numpy.number` type.\n",
            "numpy.polynomial.Chebyshev._der\n",
            "    Differentiate a Chebyshev series.\n",
            "numpy.polynomial.Chebyshev._div\n",
            "    Divide one Chebyshev series by another.\n",
            "numpy.polynomial.Chebyshev._fit\n",
            "    Least squares fit of Chebyshev series to data.\n",
            "numpy.polynomial.Chebyshev._int\n",
            "    Integrate a Chebyshev series.\n",
            "numpy.polynomial.Chebyshev._mul\n",
            "    Multiply one Chebyshev series by another.\n",
            "numpy.polynomial.Chebyshev._pow\n",
            "    Raise a Chebyshev series to a power.\n",
            "numpy.polynomial.Chebyshev._sub\n",
            "    Subtract one Chebyshev series from another.\n",
            "numpy.polynomial.Chebyshev._val\n",
            "    Evaluate a Chebyshev series at points x.\n",
            "numpy.polynomial.Chebyshev.cast\n",
            "    Convert series to series of this class.\n",
            "numpy.distutils.command.develop.develop.create_index.__iadd__\n",
            "    In-place addition of a distribution or environment\n",
            "numpy.lib.tests.test_format.BytesIOSRandomSize.writelines\n",
            "    Write lines to the file.\n",
            "numpy.distutils.command.build_ext.build_ext.get_libraries\n",
            "    Return the list of libraries to link against when building a\n",
            "numpy.core._multiarray_umath.inner\n",
            "    Inner product of two arrays.\n",
            "numpy.polynomial.HermiteE.basis\n",
            "    Series basis polynomial of degree `deg`.\n",
            "numpy.polynomial.Laguerre.basis\n",
            "    Series basis polynomial of degree `deg`.\n",
            "numpy.polynomial.Legendre.basis\n",
            "    Series basis polynomial of degree `deg`.\n",
            "numpy.polynomial.Polynomial.fit\n",
            "    Least squares fit to data.\n",
            "numpy.testing.clear_and_catch_warnings\n",
            "    Context manager that resets warning registry for catching warnings\n",
            "numpy.ma.mvoid.__class_getitem__\n",
            "    Return a parametrized wrapper around the `~numpy.ndarray` type.\n",
            "numpy.random.RandomState.choice\n",
            "    Generates a random sample from a given 1-D array\n",
            "numpy.random.RandomState.pareto\n",
            "    Draw samples from a Pareto II or Lomax distribution with\n",
            "numpy.polynomial.Chebyshev.basis\n",
            "    Series basis polynomial of degree `deg`.\n",
            "numpy.distutils.misc_util.get_info\n",
            "    Return an info dict for a given C library.\n",
            "numpy.core._multiarray_umath.copyto\n",
            "    Copies values from one array to another, broadcasting as necessary.\n",
            "numpy.polynomial.Polynomial._der\n",
            "    Differentiate a polynomial.\n",
            "numpy.polynomial.Polynomial._div\n",
            "    Divide one polynomial by another.\n",
            "numpy.polynomial.Polynomial._fit\n",
            "    Least-squares fit of a polynomial to data.\n",
            "numpy.polynomial.Polynomial._int\n",
            "    Integrate a polynomial.\n",
            "numpy.polynomial.Polynomial._mul\n",
            "    Multiply one polynomial by another.\n",
            "numpy.polynomial.Polynomial._pow\n",
            "    Raise a polynomial to a power.\n",
            "numpy.polynomial.Polynomial._sub\n",
            "    Subtract one polynomial from another.\n",
            "numpy.polynomial.Polynomial._val\n",
            "    Evaluate a polynomial at points x.\n",
            "numpy.polynomial.Polynomial.cast\n",
            "    Convert series to series of this class.\n",
            "numpy.ma.MaskedArray.argpartition\n",
            "    Returns the indices that would partition this array.\n",
            "numpy.core._dtype._construction_repr\n",
            "    Creates a string repr of the dtype, excluding the 'dtype()' part\n",
            "numpy.random.RandomState.randint\n",
            "    Return random integers from `low` (inclusive) to `high` (exclusive).\n",
            "numpy.polynomial.Chebyshev.cutdeg\n",
            "    Truncate series to the given degree.\n",
            "numpy.distutils.command.develop.develop.create_index.scan\n",
            "    Scan `search_path` for distributions usable in this environment\n",
            "numpy.unsignedinteger.__class_getitem__\n",
            "    Return a parametrized wrapper around the `~numpy.number` type.\n",
            "numpy.polynomial.Polynomial.basis\n",
            "    Series basis polynomial of degree `deg`.\n",
            "numpy.polynomial.hermite.hermmulx\n",
            "    Multiply a Hermite series by x.\n",
            "numpy.polynomial.laguerre.lagmulx\n",
            "    Multiply a Laguerre series by x.\n",
            "numpy.polynomial.legendre.legmulx\n",
            "    Multiply a Legendre series by x.\n",
            "numpy.distutils.ccompiler_opt._Parse\n",
            "    A helper class that parsing main arguments of `CCompilerOpt`,\n",
            "numpy.distutils.command.develop.develop._set_fetcher_options\n",
            "    When easy_install is about to run bdist_egg on a source dist, that\n",
            "numpy.distutils.command.build_ext.build_ext.get_ext_fullname\n",
            "    Returns the fullname of a given extension name.\n",
            "numpy.core.tests.test_records.TestRecord.test_nested_dtype_padding\n",
            "    test that trailing padding is preserved\n",
            "numpy.core._multiarray_umath.bincount\n",
            "    Count number of occurrences of each value in array of non-negative ints.\n",
            "numpy.core._multiarray_umath.c_einsum\n",
            "    c_einsum(subscripts, *operands, out=None, dtype=None, order='K',\n",
            "numpy.core._multiarray_umath.packbits\n",
            "    Packs the elements of a binary-valued array into bits in a uint8 array.\n",
            "numpy.polynomial.hermite.hermgauss\n",
            "    Gauss-Hermite quadrature.\n",
            "numpy.polynomial.hermite.hermval2d\n",
            "    Evaluate a 2-D Hermite series at points (x, y).\n",
            "numpy.polynomial.hermite.hermval3d\n",
            "    Evaluate a 3-D Hermite series at points (x, y, z).\n",
            "numpy.polynomial.laguerre.laggauss\n",
            "    Gauss-Laguerre quadrature.\n",
            "numpy.polynomial.laguerre.lagval2d\n",
            "    Evaluate a 2-D Laguerre series at points (x, y).\n",
            "numpy.polynomial.laguerre.lagval3d\n",
            "    Evaluate a 3-D Laguerre series at points (x, y, z).\n",
            "numpy.polynomial.legendre.leggauss\n",
            "    Gauss-Legendre quadrature.\n",
            "numpy.polynomial.legendre.legval2d\n",
            "    Evaluate a 2-D Legendre series at points (x, y).\n",
            "numpy.polynomial.legendre.legval3d\n",
            "    Evaluate a 3-D Legendre series at points (x, y, z).\n",
            "numpy.distutils.ccompiler_opt._Config\n",
            "    An abstract class holds all configurable attributes of `CCompilerOpt`,\n",
            "numpy.distutils.armccompiler.ArmCCompiler.runtime_library_dir_option\n",
            "    Return the compiler option to add 'dir' to the list of\n",
            "numpy.polynomial.Chebyshev.linspace\n",
            "    Return x, y values at equally spaced points in domain.\n",
            "numpy.core._multiarray_umath.is_busday\n",
            "    Calculates which of the given dates are valid days, and which are not.\n",
            "numpy.lib.recfunctions.repack_fields\n",
            "    Re-pack the fields of a structured array or dtype in memory.\n",
            "numpy.polynomial.chebyshev.chebmulx\n",
            "    Multiply a Chebyshev series by x.\n",
            "numpy.polynomial.chebyshev.chebpts1\n",
            "    Chebyshev points of the first kind.\n",
            "numpy.polynomial.chebyshev.chebpts2\n",
            "    Chebyshev points of the second kind.\n",
            "numpy.polynomial.hermite.hermgrid2d\n",
            "    Evaluate a 2-D Hermite series on the Cartesian product of x and y.\n",
            "numpy.polynomial.hermite.hermgrid3d\n",
            "    Evaluate a 3-D Hermite series on the Cartesian product of x, y, and z.\n",
            "numpy.polynomial.hermite.hermweight\n",
            "    Weight function of the Hermite polynomials.\n",
            "numpy.polynomial.laguerre.laggrid2d\n",
            "    Evaluate a 2-D Laguerre series on the Cartesian product of x and y.\n",
            "numpy.polynomial.laguerre.laggrid3d\n",
            "    Evaluate a 3-D Laguerre series on the Cartesian product of x, y, and z.\n",
            "numpy.polynomial.laguerre.lagweight\n",
            "    Weight function of the Laguerre polynomials.\n",
            "numpy.polynomial.legendre.leggrid2d\n",
            "    Evaluate a 2-D Legendre series on the Cartesian product of x and y.\n",
            "numpy.polynomial.legendre.leggrid3d\n",
            "    Evaluate a 3-D Legendre series on the Cartesian product of x, y, and z.\n",
            "numpy.polynomial.legendre.legweight\n",
            "    Weight function of the Legendre polynomials.\n",
            "numpy.distutils.misc_util.get_pkg_info\n",
            "    Return library info for the given package.\n",
            "numpy.core._multiarray_umath.empty_like\n",
            "    Return a new array with the same shape and type as a given array.\n",
            "numpy.core._multiarray_umath.unpackbits\n",
            "    Unpacks elements of a uint8 array into a binary-valued output array.\n",
            "numpy.distutils.msvccompiler.MSVCCompiler.runtime_library_dir_option\n",
            "    Return the compiler option to add 'dir' to the list of\n",
            "numpy.polynomial.chebyshev.chebgauss\n",
            "    Gauss-Chebyshev quadrature.\n",
            "numpy.polynomial.chebyshev.chebval2d\n",
            "    Evaluate a 2-D Chebyshev series at points (x, y).\n",
            "numpy.polynomial.chebyshev.chebval3d\n",
            "    Evaluate a 3-D Chebyshev series at points (x, y, z).\n",
            "numpy.tests.test_warnings.FindFuncs\n",
            "    A node visitor base class that walks the abstract syntax tree and calls a\n",
            "numpy.tests.test_warnings.ParseCall\n",
            "    A node visitor base class that walks the abstract syntax tree and calls a\n",
            "numpy.polynomial.polynomial.polymulx\n",
            "    Multiply a polynomial by x.\n",
            "numpy.distutils.command.develop.develop.create_index.add_find_links\n",
            "    Add `urls` to the list that will be prescanned for searches\n",
            "numpy.distutils.command.develop.develop.create_index.__init__\n",
            "    Snapshot distributions available on a search path\n",
            "numpy.distutils.fcompiler.absoft.AbsoftFCompiler.library_option\n",
            "    Return the compiler option to add 'lib' to the list of libraries\n",
            "numpy.core._multiarray_umath.concatenate\n",
            "    Join a sequence of arrays along an existing axis.\n",
            "numpy.core._multiarray_umath.result_type\n",
            "    result_type(*arrays_and_dtypes)\n",
            "numpy.lib.mixins.NDArrayOperatorsMixin\n",
            "    Mixin defining all operator special methods using __array_ufunc__.\n",
            "numpy.polynomial.chebyshev.chebgrid2d\n",
            "    Evaluate a 2-D Chebyshev series on the Cartesian product of x and y.\n",
            "numpy.polynomial.chebyshev.chebgrid3d\n",
            "    Evaluate a 3-D Chebyshev series on the Cartesian product of x, y, and z.\n",
            "numpy.polynomial.chebyshev.chebweight\n",
            "    The weight function of the Chebyshev polynomials.\n",
            "numpy.polynomial.hermite.hermvander2d\n",
            "    Pseudo-Vandermonde matrix of given degrees.\n",
            "numpy.polynomial.hermite.hermvander3d\n",
            "    Pseudo-Vandermonde matrix of given degrees.\n",
            "numpy.polynomial.hermite_e.hermegauss\n",
            "    Gauss-HermiteE quadrature.\n",
            "numpy.polynomial.hermite_e.hermeval2d\n",
            "    Evaluate a 2-D HermiteE series at points (x, y).\n",
            "numpy.polynomial.hermite_e.hermeval3d\n",
            "    Evaluate a 3-D Hermite_e series at points (x, y, z).\n",
            "numpy.polynomial.laguerre.lagvander2d\n",
            "    Pseudo-Vandermonde matrix of given degrees.\n",
            "numpy.polynomial.laguerre.lagvander3d\n",
            "    Pseudo-Vandermonde matrix of given degrees.\n",
            "numpy.ma.MaskedArray.__class_getitem__\n",
            "    Return a parametrized wrapper around the `~numpy.ndarray` type.\n",
            "numpy.polynomial.legendre.legvander2d\n",
            "    Pseudo-Vandermonde matrix of given degrees.\n",
            "numpy.polynomial.legendre.legvander3d\n",
            "    Pseudo-Vandermonde matrix of given degrees.\n",
            "numpy.polynomial.polynomial.polyval2d\n",
            "    Evaluate a 2-D polynomial at points (x, y).\n",
            "numpy.polynomial.polynomial.polyval3d\n",
            "    Evaluate a 3-D polynomial at points (x, y, z).\n",
            "numpy.polynomial.Chebyshev.interpolate\n",
            "    Interpolate a function at the Chebyshev points of the first kind.\n",
            "numpy.core._multiarray_umath.busday_count\n",
            "    Counts the number of valid days between `begindates` and\n",
            "numpy.polynomial._polybase.ABCPolyBase\n",
            "    An abstract base class for immutable series classes.\n",
            "numpy.polynomial.hermite.hermcompanion\n",
            "    Return the scaled companion matrix of c.\n",
            "numpy.polynomial.hermite_e.hermegrid2d\n",
            "    Evaluate a 2-D HermiteE series on the Cartesian product of x and y.\n",
            "numpy.polynomial.hermite_e.hermegrid3d\n",
            "    Evaluate a 3-D HermiteE series on the Cartesian product of x, y, and z.\n",
            "numpy.polynomial.hermite_e.hermeweight\n",
            "    Weight function of the Hermite_e polynomials.\n",
            "numpy.polynomial.laguerre.lagcompanion\n",
            "    Return the companion matrix of c.\n",
            "numpy.polynomial.legendre.legcompanion\n",
            "    Return the scaled companion matrix of c.\n",
            "numpy.polynomial.polynomial.polygrid2d\n",
            "    Evaluate a 2-D polynomial on the Cartesian product of x and y.\n",
            "numpy.polynomial.polynomial.polygrid3d\n",
            "    Evaluate a 3-D polynomial on the Cartesian product of x, y and z.\n",
            "numpy.distutils.ccompiler.CCompiler_spawn\n",
            "    Execute a command in a sub-process.\n",
            "numpy.random.Generator.standard_normal\n",
            "    Draw samples from a standard Normal distribution (mean=0, stdev=1).\n",
            "numpy.random.RandomState.random_sample\n",
            "    Return random floats in the half-open interval [0.0, 1.0).\n",
            "numpy.core._multiarray_umath.busday_offset\n",
            "    First adjusts the date to fall on a valid day according to\n",
            "numpy.core._multiarray_umath.unravel_index\n",
            "    Converts a flat index or array of flat indices into a tuple\n",
            "numpy.testing.suppress_warnings.record\n",
            "    Append a new recording filter or apply it if the state is entered.\n",
            "numpy.polynomial.chebyshev.chebvander2d\n",
            "    Pseudo-Vandermonde matrix of given degrees.\n",
            "numpy.polynomial.chebyshev.chebvander3d\n",
            "    Pseudo-Vandermonde matrix of given degrees.\n",
            "numpy.core.tests.test_custom_dtypes.TestSFloat.test_addition_cast_safety\n",
            "    The addition method is special for the scaled float, because it\n",
            "numpy.polynomial.chebyshev.chebcompanion\n",
            "    Return the scaled companion matrix of c.\n",
            "numpy.polynomial.hermite_e.hermevander2d\n",
            "    Pseudo-Vandermonde matrix of given degrees.\n",
            "numpy.polynomial.hermite_e.hermevander3d\n",
            "    Pseudo-Vandermonde matrix of given degrees.\n",
            "numpy.polynomial.polynomial.polyvander3d\n",
            "    Pseudo-Vandermonde matrix of given degrees.\n",
            "numpy.distutils.ccompiler.CCompiler_compile\n",
            "    Compile one or more source files.\n",
            "numpy.random.RandomState.standard_normal\n",
            "    Draw samples from a standard Normal distribution (mean=0, stdev=1).\n",
            "numpy.distutils.tests.test_ccompiler_opt_conf.TestConfFeatures.addCleanup\n",
            "    Add a function, with arguments, to be called when the test is\n",
            "numpy.distutils.fcompiler.absoft.AbsoftFCompiler.library_dir_option\n",
            "    Return the compiler option to add 'dir' to the list of\n",
            "numpy.core._multiarray_umath.min_scalar_type\n",
            "    For scalar ``a``, returns the data type with the smallest size\n",
            "numpy.polynomial.hermite_e.hermecompanion\n",
            "    Return the scaled companion matrix of c.\n",
            "numpy.polynomial.chebyshev.chebinterpolate\n",
            "    Interpolate a function at the Chebyshev points of the first kind.\n",
            "numpy.random.Generator.multivariate_normal\n",
            "    multivariate_normal(mean, cov, size=None, check_valid='warn',\n",
            "numpy.distutils.fcompiler.sun.SunFCompiler.runtime_library_dir_option\n",
            "    Return the compiler option to add 'dir' to the list of\n",
            "numpy.core._multiarray_umath.ravel_multi_index\n",
            "    Converts a tuple of index arrays into an array of flat\n",
            "numpy.core.tests.test_cython.pytestmark\n",
            "    A decorator for applying a mark on test functions and classes.\n",
            "numpy.polynomial.Chebyshev._get_coefficients\n",
            "    Interpret other as polynomial coefficients.\n",
            "numpy.distutils.fcompiler.nv.NVHPCFCompiler.runtime_library_dir_option\n",
            "    Return the compiler option to add 'dir' to the list of\n",
            "numpy.distutils.mingw32ccompiler.Mingw32CCompiler.runtime_library_dir_option\n",
            "    Return the compiler option to add 'dir' to the list of\n",
            "numpy.polynomial.polynomial.polyvalfromroots\n",
            "    Evaluate a polynomial specified by its roots at points x.\n",
            "numpy.distutils.fcompiler.pg.PGroupFCompiler.runtime_library_dir_option\n",
            "    Return the compiler option to add 'dir' to the list of\n",
            "numpy.distutils.fcompiler.gnu.Gnu95FCompiler.runtime_library_dir_option\n",
            "    Return the compiler option to add 'dir' to the list of\n",
            "numpy.distutils.tests.test_ccompiler_opt_conf.TestConfFeatures.addClassCleanup\n",
            "    Same as addCleanup, except the cleanup items are called even if\n",
            "numpy.core._multiarray_umath.normalize_axis_index\n",
            "    Normalizes an axis index, `axis`, such that is a valid positive index into\n",
            "numpy.distutils.numpy_distribution.NumpyDistribution._get_project_config_files\n",
            "    Add default file and split between INI and TOML\n",
            "numpy.distutils.fcompiler.arm.ArmFlangCompiler.runtime_library_dir_option\n",
            "    Return the compiler option to add 'dir' to the list of\n",
            "numpy.lib.tests.test_mixins.ArrayLike\n",
            "    Mixin defining all operator special methods using __array_ufunc__.\n",
            "numpy.distutils.fcompiler.FCompiler.link\n",
            "    Link a bunch of stuff together to create an executable or\n",
            "numpy.lib.tests.test_histograms.TestHistogramOptimBinNums.test_simple_range\n",
            "    Straightforward testing with a mixture of linspace data (for\n",
            "numpy.distutils.fcompiler.pg.PGroupFlangCompiler.runtime_library_dir_option\n",
            "    Return the compiler option to add 'dir' to the list of\n",
            "numpy.distutils.tests.test_ccompiler_opt_conf.TestConfFeatures.addTypeEqualityFunc\n",
            "    Add a type specific assertEqual style function to compare a type.\n",
            "numpy.core.tests.test_simd.Test_SIMD_ALL_128_SSE42_f32.test_mask_conditional\n",
            "    Conditional addition and subtraction for all supported data types.\n",
            "numpy.testing.tests.test_utils.my_cacw\n",
            "    Context manager that resets warning registry for catching warnings\n",
            "numpy.distutils.numpy_distribution.NumpyDistribution\n",
            "    Distribution with support for tests and package data\n",
            "numpy.random.Generator.multivariate_hypergeometric\n",
            "    multivariate_hypergeometric(colors, nsample, size=None,\n",
            "numpy.distutils.fcompiler.intel.BaseIntelFCompiler.runtime_library_dir_option\n",
            "    Return the compiler option to add 'dir' to the list of\n",
            "numpy.distutils.fcompiler.fujitsu.FujitsuFCompiler.runtime_library_dir_option\n",
            "    Return the compiler option to add 'dir' to the list of\n",
            "numpy.distutils.armccompiler.ArmCCompiler.link\n",
            "    Link a bunch of stuff together to create an executable or\n",
            "numpy.distutils.tests.test_ccompiler_opt_conf.TestConfFeatures.assertWarnsRegex\n",
            "    Asserts that the message in a triggered warning matches a regexp.\n",
            "numpy.core.tests._locales.CommaDecimalPointLocale\n",
            "    Sets LC_NUMERIC to a locale with comma as decimal point.\n",
            "numpy.polynomial._polybase.ABCPolyBase.fit\n",
            "    Least squares fit to data.\n",
            "numpy.distutils.fcompiler.FCompiler.preprocess\n",
            "    Preprocess a single C/C++ source file, named in 'source'.\n",
            "numpy.distutils.msvccompiler.MSVCCompiler.link\n",
            "    Link a bunch of stuff together to create an executable or\n",
            "numpy.polynomial._polybase.ABCPolyBase.cast\n",
            "    Convert series to series of this class.\n",
            "numpy.array_api._array_object.Array._validate_index\n",
            "    Validate an index according to the array API.\n",
            "numpy.polynomial._polybase.ABCPolyBase.basis\n",
            "    Series basis polynomial of degree `deg`.\n",
            "numpy.core.tests.test_umath_complex.platform_skip\n",
            "    A decorator for applying a mark on test functions and classes.\n",
            "numpy.testing._private.nosetester.NoseTester\n",
            "    Nose test runner.\n",
            "numpy.core.tests.test_umath_accuracy.platform_skip\n",
            "    A decorator for applying a mark on test functions and classes.\n",
            "numpy.distutils.fcompiler.intel.IntelEM64VisualFCompiler.runtime_library_dir_option\n",
            "    Return the compiler option to add 'dir' to the list of\n",
            "numpy.array_api._array_object.Array._normalize_two_args\n",
            "    Normalize inputs to two arg functions to fix type promotion rules\n",
            "numpy.distutils.armccompiler.ArmCCompiler.preprocess\n",
            "    Preprocess a single C/C++ source file, named in 'source'.\n",
            "numpy.ma.mrecords.MaskedRecords.__class_getitem__\n",
            "    Return a parametrized wrapper around the `~numpy.ndarray` type.\n",
            "numpy.distutils.misc_util.Configuration.add_npy_pkg_config\n",
            "    Generate and install a npy-pkg config file from a template.\n",
            "numpy.distutils.fcompiler.FCompiler.create_static_lib\n",
            "    Link a bunch of stuff together to create a static library file.\n",
            "numpy.array_api._array_object.Array._check_allowed_dtypes\n",
            "    Helper function for operators to only allow specific input dtypes\n",
            "numpy.core.tests.test_overrides.requires_array_function\n",
            "    A decorator for applying a mark on test functions and classes.\n",
            "numpy.core.tests.test_print.TestCommaDecimalPointLocale\n",
            "    Sets LC_NUMERIC to a locale with comma as decimal point.\n",
            "numpy.distutils.armccompiler.ArmCCompiler.has_function\n",
            "    Return a boolean indicating whether funcname is provided as\n",
            "numpy.random.tests.test_random.TestRandint.rfunc\n",
            "    Return random integers from `low` (inclusive) to `high` (exclusive).\n",
            "numpy.testing._private.parameterized.parameterized\n",
            "    Parameterize a test case::\n",
            "numpy.core.tests.test_scalarinherit.D.__setformat__\n",
            "    You probably don't want to use this function.\n",
            "numpy.core.tests.test_scalarinherit.C.__setformat__\n",
            "    You probably don't want to use this function.\n",
            "numpy.core.tests.test_scalarinherit.B.__setformat__\n",
            "    You probably don't want to use this function.\n",
            "numpy.core.tests.test_longdouble.TestCommaDecimalPointLocale\n",
            "    Sets LC_NUMERIC to a locale with comma as decimal point.\n",
            "numpy.core.tests.test_ufunc.TestUfunc.test_all_ufunc\n",
            "    Try to check presence and results of all ufuncs.\n",
            "numpy.core.tests.test_scalarinherit.C0.__setformat__\n",
            "    You probably don't want to use this function.\n",
            "numpy.core.tests.test_scalarinherit.B1.__setformat__\n",
            "    You probably don't want to use this function.\n",
            "numpy.core.tests.test_scalarinherit.B0.__setformat__\n",
            "    You probably don't want to use this function.\n",
            "numpy.distutils.msvccompiler.MSVCCompiler.create_static_lib\n",
            "    Link a bunch of stuff together to create a static library file.\n",
            "numpy.ma.tests.test_core.suppress_copy_mask_on_assignment\n",
            "    Context manager and decorator doing much the same as\n",
            "numpy.distutils.numpy_distribution.NumpyDistribution.exclude\n",
            "    Remove items from distribution that are named in keyword arguments\n",
            "numpy.core.tests.test_scalarinherit.D.__class_getitem__\n",
            "    Return a parametrized wrapper around the `~numpy.number` type.\n",
            "numpy.core.tests.test_scalarinherit.C.__class_getitem__\n",
            "    Return a parametrized wrapper around the `~numpy.number` type.\n",
            "numpy.core.tests.test_scalarinherit.B.__class_getitem__\n",
            "    Return a parametrized wrapper around the `~numpy.number` type.\n",
            "numpy.core.tests.test_scalarinherit.C0.__class_getitem__\n",
            "    Return a parametrized wrapper around the `~numpy.number` type.\n",
            "numpy.core.tests.test_scalarinherit.B1.__class_getitem__\n",
            "    Return a parametrized wrapper around the `~numpy.number` type.\n",
            "numpy.core.tests.test_scalarinherit.B0.__class_getitem__\n",
            "    Return a parametrized wrapper around the `~numpy.number` type.\n",
            "numpy.distutils.tests.test_ccompiler_opt_conf.TestConfFeatures\n",
            "    A class whose instances are single test cases.\n",
            "numpy.testing._private.parameterized.parameterized.expand\n",
            "    A \"brute force\" method of parameterizing test cases. Creates new\n",
            "numpy.ma.tests.test_subclassing.SubArray.__class_getitem__\n",
            "    Return a parametrized wrapper around the `~numpy.ndarray` type.\n",
            "numpy.ma.tests.test_subclassing.MSubArray.__class_getitem__\n",
            "    Return a parametrized wrapper around the `~numpy.ndarray` type.\n",
            "numpy.ma.tests.test_subclassing.SubMaskedArray.__class_getitem__\n",
            "    Return a parametrized wrapper around the `~numpy.ndarray` type.\n",
            "numpy.core.tests.test_function_base.PhysicalQuantity.__setformat__\n",
            "    You probably don't want to use this function.\n",
            "numpy.lib.tests.test_stride_tricks.SimpleSubClass.__class_getitem__\n",
            "    Return a parametrized wrapper around the `~numpy.ndarray` type.\n",
            "numpy.ma.tests.test_subclassing.ComplicatedSubArray.__class_getitem__\n",
            "    Return a parametrized wrapper around the `~numpy.ndarray` type.\n",
            "numpy.testing._private.parameterized.parameterized_argument_value_pairs\n",
            "    Return tuples of parameterized arguments and their values.\n",
            "numpy.lib.tests.test_stride_tricks.VerySimpleSubClass.__class_getitem__\n",
            "    Return a parametrized wrapper around the `~numpy.ndarray` type.\n",
            "numpy.core.tests.test_function_base.PhysicalQuantity2.__class_getitem__\n",
            "    Return a parametrized wrapper around the `~numpy.ndarray` type."
          ]
        }
      ]
    },
    {
      "cell_type": "code",
      "source": [
        "np.info(np.add)"
      ],
      "metadata": {
        "id": "KjjoCVQoTi6i"
      },
      "execution_count": 41,
      "outputs": []
    },
    {
      "cell_type": "code",
      "source": [
        "a = np.arange(12).reshape(4,3)"
      ],
      "metadata": {
        "id": "1o1-SklAUNoC"
      },
      "execution_count": 42,
      "outputs": []
    },
    {
      "cell_type": "code",
      "source": [
        "a"
      ],
      "metadata": {
        "colab": {
          "base_uri": "https://localhost:8080/"
        },
        "id": "9YmVubDYWrqk",
        "outputId": "0162d7b7-135c-4550-897d-dd94ed14cbeb"
      },
      "execution_count": 47,
      "outputs": [
        {
          "output_type": "execute_result",
          "data": {
            "text/plain": [
              "array([[ 0,  1,  2],\n",
              "       [ 3,  4,  5],\n",
              "       [ 6,  7,  8],\n",
              "       [ 9, 10, 11]])"
            ]
          },
          "metadata": {},
          "execution_count": 47
        }
      ]
    },
    {
      "cell_type": "code",
      "source": [
        "a.data"
      ],
      "metadata": {
        "colab": {
          "base_uri": "https://localhost:8080/"
        },
        "id": "KU208ypdWs99",
        "outputId": "dfb6e881-79cb-4151-9924-88e0d447e4aa"
      },
      "execution_count": 48,
      "outputs": [
        {
          "output_type": "execute_result",
          "data": {
            "text/plain": [
              "<memory at 0x7fc33b7782b0>"
            ]
          },
          "metadata": {},
          "execution_count": 48
        }
      ]
    },
    {
      "cell_type": "code",
      "source": [
        "a.strides    #=> 8byte씩 한행은 24byte 이동  axis 연산 한열로 행으로 연산이 아주 빠르다"
      ],
      "metadata": {
        "colab": {
          "base_uri": "https://localhost:8080/"
        },
        "id": "Y1H4S9n1W2QY",
        "outputId": "e00277ac-7af1-431c-bd3f-d4f501ff9c10"
      },
      "execution_count": 49,
      "outputs": [
        {
          "output_type": "execute_result",
          "data": {
            "text/plain": [
              "(24, 8)"
            ]
          },
          "metadata": {},
          "execution_count": 49
        }
      ]
    },
    {
      "cell_type": "code",
      "source": [
        "a.sum(axis=0)"
      ],
      "metadata": {
        "colab": {
          "base_uri": "https://localhost:8080/"
        },
        "id": "B014QCupYNsw",
        "outputId": "3d8b70ca-899d-4d43-8e58-3b3c5db64b2a"
      },
      "execution_count": 50,
      "outputs": [
        {
          "output_type": "execute_result",
          "data": {
            "text/plain": [
              "array([18, 22, 26])"
            ]
          },
          "metadata": {},
          "execution_count": 50
        }
      ]
    },
    {
      "cell_type": "code",
      "source": [
        "a.max(axis=1)"
      ],
      "metadata": {
        "colab": {
          "base_uri": "https://localhost:8080/"
        },
        "id": "Bwr9SSFBZ9Gq",
        "outputId": "468e65db-e510-4efb-b25f-fd9884932b41"
      },
      "execution_count": 53,
      "outputs": [
        {
          "output_type": "execute_result",
          "data": {
            "text/plain": [
              "array([ 2,  5,  8, 11])"
            ]
          },
          "metadata": {},
          "execution_count": 53
        }
      ]
    },
    {
      "cell_type": "code",
      "source": [
        "a.sum(axis=1)"
      ],
      "metadata": {
        "colab": {
          "base_uri": "https://localhost:8080/"
        },
        "id": "7wJHhM24YjPJ",
        "outputId": "c2873c4f-5c7f-4d59-ff9e-2fc06ae42ebb"
      },
      "execution_count": 51,
      "outputs": [
        {
          "output_type": "execute_result",
          "data": {
            "text/plain": [
              "array([ 3, 12, 21, 30])"
            ]
          },
          "metadata": {},
          "execution_count": 51
        }
      ]
    },
    {
      "cell_type": "code",
      "source": [
        "a.min(axis=1)"
      ],
      "metadata": {
        "colab": {
          "base_uri": "https://localhost:8080/"
        },
        "id": "NwVyQm5NY2AD",
        "outputId": "c57cf2df-ab06-49ef-8c17-84d123081891"
      },
      "execution_count": 52,
      "outputs": [
        {
          "output_type": "execute_result",
          "data": {
            "text/plain": [
              "array([0, 3, 6, 9])"
            ]
          },
          "metadata": {},
          "execution_count": 52
        }
      ]
    },
    {
      "cell_type": "code",
      "source": [
        "a = np.arange(12)"
      ],
      "metadata": {
        "id": "6FiHBF8GaoWS"
      },
      "execution_count": 66,
      "outputs": []
    },
    {
      "cell_type": "code",
      "source": [
        "a"
      ],
      "metadata": {
        "colab": {
          "base_uri": "https://localhost:8080/"
        },
        "id": "t6QKEdTgarFJ",
        "outputId": "adec191f-a64f-4548-9f24-3229a5ee2b8a"
      },
      "execution_count": 64,
      "outputs": [
        {
          "output_type": "execute_result",
          "data": {
            "text/plain": [
              "[1, 2, 3, 4]"
            ]
          },
          "metadata": {},
          "execution_count": 64
        }
      ]
    },
    {
      "cell_type": "code",
      "source": [
        "a.reshape(3,4)   # (3,7)은 안됨"
      ],
      "metadata": {
        "colab": {
          "base_uri": "https://localhost:8080/"
        },
        "id": "cErguZsTas2x",
        "outputId": "8ab1368a-09ff-4368-9bb5-ebd3585f2a58"
      },
      "execution_count": 67,
      "outputs": [
        {
          "output_type": "execute_result",
          "data": {
            "text/plain": [
              "array([[ 0,  1,  2,  3],\n",
              "       [ 4,  5,  6,  7],\n",
              "       [ 8,  9, 10, 11]])"
            ]
          },
          "metadata": {},
          "execution_count": 67
        }
      ]
    },
    {
      "cell_type": "code",
      "source": [
        "a"
      ],
      "metadata": {
        "colab": {
          "base_uri": "https://localhost:8080/"
        },
        "id": "QAf8IRzKbXlJ",
        "outputId": "97a5f4c2-ee0b-4bd9-f102-84aa45944271"
      },
      "execution_count": 68,
      "outputs": [
        {
          "output_type": "execute_result",
          "data": {
            "text/plain": [
              "array([ 0,  1,  2,  3,  4,  5,  6,  7,  8,  9, 10, 11])"
            ]
          },
          "metadata": {},
          "execution_count": 68
        }
      ]
    },
    {
      "cell_type": "code",
      "source": [
        "a = a.reshape(3,4)   # reaassign : 재할당"
      ],
      "metadata": {
        "id": "2FQnkTV-bjxU"
      },
      "execution_count": 69,
      "outputs": []
    },
    {
      "cell_type": "code",
      "source": [
        "a"
      ],
      "metadata": {
        "colab": {
          "base_uri": "https://localhost:8080/"
        },
        "id": "Go6JAGwSbtwj",
        "outputId": "482f18b0-48cc-415d-db0d-0144fe89767f"
      },
      "execution_count": 70,
      "outputs": [
        {
          "output_type": "execute_result",
          "data": {
            "text/plain": [
              "array([[ 0,  1,  2,  3],\n",
              "       [ 4,  5,  6,  7],\n",
              "       [ 8,  9, 10, 11]])"
            ]
          },
          "metadata": {},
          "execution_count": 70
        }
      ]
    },
    {
      "cell_type": "markdown",
      "source": [
        "# mutable, -> inplace  => 재할당하지 않고 (메모리번지를 변경) 자신의 값을 변경\n",
        "\n",
        "inplace가 mutable연산의 힌트\n",
        "대부분의 연산은 inplace가 기본이 아님 왜)실수로 바뀔수있으니 \n"
      ],
      "metadata": {
        "id": "4Um46Y37azXe"
      }
    },
    {
      "cell_type": "code",
      "source": [
        "a = [1,2,3,]"
      ],
      "metadata": {
        "id": "SvUxgEDDa4l8"
      },
      "execution_count": 57,
      "outputs": []
    },
    {
      "cell_type": "code",
      "source": [
        "id(a)"
      ],
      "metadata": {
        "colab": {
          "base_uri": "https://localhost:8080/"
        },
        "id": "_F_uLatWa8xz",
        "outputId": "233e186c-fe66-4358-ebf1-ef33b8c5d40b"
      },
      "execution_count": 58,
      "outputs": [
        {
          "output_type": "execute_result",
          "data": {
            "text/plain": [
              "140476505645184"
            ]
          },
          "metadata": {},
          "execution_count": 58
        }
      ]
    },
    {
      "cell_type": "code",
      "source": [
        "a.append(4)"
      ],
      "metadata": {
        "id": "CTwa9JAMbAwR"
      },
      "execution_count": 59,
      "outputs": []
    },
    {
      "cell_type": "code",
      "source": [
        "a"
      ],
      "metadata": {
        "colab": {
          "base_uri": "https://localhost:8080/"
        },
        "id": "6RfUzH80bDxR",
        "outputId": "36aea99d-03c0-4dfc-eae1-d169bb74cc68"
      },
      "execution_count": 60,
      "outputs": [
        {
          "output_type": "execute_result",
          "data": {
            "text/plain": [
              "[1, 2, 3, 4]"
            ]
          },
          "metadata": {},
          "execution_count": 60
        }
      ]
    },
    {
      "cell_type": "code",
      "source": [
        "id(a)"
      ],
      "metadata": {
        "colab": {
          "base_uri": "https://localhost:8080/"
        },
        "id": "-oBSJ_cNbGLX",
        "outputId": "d8125a3d-ce64-41b8-aac2-4c8a24392db8"
      },
      "execution_count": 61,
      "outputs": [
        {
          "output_type": "execute_result",
          "data": {
            "text/plain": [
              "140476505645184"
            ]
          },
          "metadata": {},
          "execution_count": 61
        }
      ]
    },
    {
      "cell_type": "code",
      "source": [
        "a"
      ],
      "metadata": {
        "colab": {
          "base_uri": "https://localhost:8080/"
        },
        "id": "fJY4SzpCcPZV",
        "outputId": "2e65724e-9d62-4a5e-8884-d897a7205a00"
      },
      "execution_count": 71,
      "outputs": [
        {
          "output_type": "execute_result",
          "data": {
            "text/plain": [
              "array([[ 0,  1,  2,  3],\n",
              "       [ 4,  5,  6,  7],\n",
              "       [ 8,  9, 10, 11]])"
            ]
          },
          "metadata": {},
          "execution_count": 71
        }
      ]
    },
    {
      "cell_type": "code",
      "source": [
        "a.resize(6,2)"
      ],
      "metadata": {
        "id": "DQCZKwstcTd0"
      },
      "execution_count": 72,
      "outputs": []
    },
    {
      "cell_type": "code",
      "source": [
        "a"
      ],
      "metadata": {
        "colab": {
          "base_uri": "https://localhost:8080/"
        },
        "id": "AJPvSXBccXny",
        "outputId": "ae635baf-2ab2-4656-e7b4-38b0c784ce51"
      },
      "execution_count": 73,
      "outputs": [
        {
          "output_type": "execute_result",
          "data": {
            "text/plain": [
              "array([[ 0,  1],\n",
              "       [ 2,  3],\n",
              "       [ 4,  5],\n",
              "       [ 6,  7],\n",
              "       [ 8,  9],\n",
              "       [10, 11]])"
            ]
          },
          "metadata": {},
          "execution_count": 73
        }
      ]
    },
    {
      "cell_type": "code",
      "source": [
        "np.split(a,2)"
      ],
      "metadata": {
        "colab": {
          "base_uri": "https://localhost:8080/"
        },
        "id": "P_nx2vIpdEhi",
        "outputId": "b3898c0a-18f2-402d-bc6f-2938091de216"
      },
      "execution_count": 74,
      "outputs": [
        {
          "output_type": "execute_result",
          "data": {
            "text/plain": [
              "[array([[0, 1],\n",
              "        [2, 3],\n",
              "        [4, 5]]),\n",
              " array([[ 6,  7],\n",
              "        [ 8,  9],\n",
              "        [10, 11]])]"
            ]
          },
          "metadata": {},
          "execution_count": 74
        }
      ]
    },
    {
      "cell_type": "code",
      "source": [
        "np.split(a,2, axis=1)"
      ],
      "metadata": {
        "colab": {
          "base_uri": "https://localhost:8080/"
        },
        "id": "htQRZRwCdLGY",
        "outputId": "aa08ceb6-5485-4346-a841-37ab1870704d"
      },
      "execution_count": 75,
      "outputs": [
        {
          "output_type": "execute_result",
          "data": {
            "text/plain": [
              "[array([[ 0],\n",
              "        [ 2],\n",
              "        [ 4],\n",
              "        [ 6],\n",
              "        [ 8],\n",
              "        [10]]),\n",
              " array([[ 1],\n",
              "        [ 3],\n",
              "        [ 5],\n",
              "        [ 7],\n",
              "        [ 9],\n",
              "        [11]])]"
            ]
          },
          "metadata": {},
          "execution_count": 75
        }
      ]
    },
    {
      "cell_type": "markdown",
      "source": [
        "#len테크닉 => unpacking"
      ],
      "metadata": {
        "id": "CVQpQX2Odlu-"
      }
    },
    {
      "cell_type": "code",
      "source": [
        "len(np.split(a,2,axis=1))"
      ],
      "metadata": {
        "colab": {
          "base_uri": "https://localhost:8080/"
        },
        "id": "GGFoZMWFdn9G",
        "outputId": "742fce9d-d329-4af3-86e5-be4124d446de"
      },
      "execution_count": 76,
      "outputs": [
        {
          "output_type": "execute_result",
          "data": {
            "text/plain": [
              "2"
            ]
          },
          "metadata": {},
          "execution_count": 76
        }
      ]
    },
    {
      "cell_type": "code",
      "source": [
        "x, y = np.split(a, 2, axis=1)"
      ],
      "metadata": {
        "id": "MvUN-8FBd07a"
      },
      "execution_count": 78,
      "outputs": []
    },
    {
      "cell_type": "code",
      "source": [
        "x"
      ],
      "metadata": {
        "colab": {
          "base_uri": "https://localhost:8080/"
        },
        "id": "8s7xYYl3d7kn",
        "outputId": "ecfd9af6-f7cf-4f2a-f690-00a4e4217234"
      },
      "execution_count": 79,
      "outputs": [
        {
          "output_type": "execute_result",
          "data": {
            "text/plain": [
              "array([[ 0],\n",
              "       [ 2],\n",
              "       [ 4],\n",
              "       [ 6],\n",
              "       [ 8],\n",
              "       [10]])"
            ]
          },
          "metadata": {},
          "execution_count": 79
        }
      ]
    },
    {
      "cell_type": "code",
      "source": [
        "y"
      ],
      "metadata": {
        "colab": {
          "base_uri": "https://localhost:8080/"
        },
        "id": "Bg8Sr9Urd-KY",
        "outputId": "64670c7b-6f8e-40ea-89f2-fe17c71d2be4"
      },
      "execution_count": 80,
      "outputs": [
        {
          "output_type": "execute_result",
          "data": {
            "text/plain": [
              "array([[ 1],\n",
              "       [ 3],\n",
              "       [ 5],\n",
              "       [ 7],\n",
              "       [ 9],\n",
              "       [11]])"
            ]
          },
          "metadata": {},
          "execution_count": 80
        }
      ]
    },
    {
      "cell_type": "code",
      "source": [
        "x, y = np.split(a, 2, axis=0)"
      ],
      "metadata": {
        "id": "gr4mMQYPeWjq"
      },
      "execution_count": 82,
      "outputs": []
    },
    {
      "cell_type": "code",
      "source": [
        "x"
      ],
      "metadata": {
        "colab": {
          "base_uri": "https://localhost:8080/"
        },
        "id": "rVekDu2oee1t",
        "outputId": "c38181cc-aa99-48b1-efd6-5de4b597df0b"
      },
      "execution_count": 83,
      "outputs": [
        {
          "output_type": "execute_result",
          "data": {
            "text/plain": [
              "array([[0, 1],\n",
              "       [2, 3],\n",
              "       [4, 5]])"
            ]
          },
          "metadata": {},
          "execution_count": 83
        }
      ]
    },
    {
      "cell_type": "code",
      "source": [
        "np.hsplit(a,2)"
      ],
      "metadata": {
        "colab": {
          "base_uri": "https://localhost:8080/"
        },
        "id": "4ys4StyhegEB",
        "outputId": "fd1925dc-946c-4b50-cb1d-5bad1fb8c739"
      },
      "execution_count": 84,
      "outputs": [
        {
          "output_type": "execute_result",
          "data": {
            "text/plain": [
              "[array([[ 0],\n",
              "        [ 2],\n",
              "        [ 4],\n",
              "        [ 6],\n",
              "        [ 8],\n",
              "        [10]]),\n",
              " array([[ 1],\n",
              "        [ 3],\n",
              "        [ 5],\n",
              "        [ 7],\n",
              "        [ 9],\n",
              "        [11]])]"
            ]
          },
          "metadata": {},
          "execution_count": 84
        }
      ]
    },
    {
      "cell_type": "code",
      "source": [
        "np.vsplit(a,2)"
      ],
      "metadata": {
        "colab": {
          "base_uri": "https://localhost:8080/"
        },
        "id": "zxNUVH1eelGB",
        "outputId": "7b41573b-10df-4a6e-95d0-15bc25fe1bd7"
      },
      "execution_count": 85,
      "outputs": [
        {
          "output_type": "execute_result",
          "data": {
            "text/plain": [
              "[array([[0, 1],\n",
              "        [2, 3],\n",
              "        [4, 5]]),\n",
              " array([[ 6,  7],\n",
              "        [ 8,  9],\n",
              "        [10, 11]])]"
            ]
          },
          "metadata": {},
          "execution_count": 85
        }
      ]
    },
    {
      "cell_type": "code",
      "source": [
        "x"
      ],
      "metadata": {
        "colab": {
          "base_uri": "https://localhost:8080/"
        },
        "id": "rjVLkQ66e2sK",
        "outputId": "4080f004-6b6a-4a1d-b93a-71057174f90c"
      },
      "execution_count": 86,
      "outputs": [
        {
          "output_type": "execute_result",
          "data": {
            "text/plain": [
              "array([[0, 1],\n",
              "       [2, 3],\n",
              "       [4, 5]])"
            ]
          },
          "metadata": {},
          "execution_count": 86
        }
      ]
    },
    {
      "cell_type": "code",
      "source": [
        "y"
      ],
      "metadata": {
        "colab": {
          "base_uri": "https://localhost:8080/"
        },
        "id": "wKvw1RHQe4B0",
        "outputId": "b739c903-a44b-40f9-b3eb-319193ef9821"
      },
      "execution_count": 87,
      "outputs": [
        {
          "output_type": "execute_result",
          "data": {
            "text/plain": [
              "array([[ 6,  7],\n",
              "       [ 8,  9],\n",
              "       [10, 11]])"
            ]
          },
          "metadata": {},
          "execution_count": 87
        }
      ]
    },
    {
      "cell_type": "code",
      "source": [
        "np.concatenate((x,y), axis=0)"
      ],
      "metadata": {
        "colab": {
          "base_uri": "https://localhost:8080/"
        },
        "id": "t_TAYMj0e6Gq",
        "outputId": "ec7fad79-c614-4169-8dc6-f5c5a2d21447"
      },
      "execution_count": 88,
      "outputs": [
        {
          "output_type": "execute_result",
          "data": {
            "text/plain": [
              "array([[ 0,  1],\n",
              "       [ 2,  3],\n",
              "       [ 4,  5],\n",
              "       [ 6,  7],\n",
              "       [ 8,  9],\n",
              "       [10, 11]])"
            ]
          },
          "metadata": {},
          "execution_count": 88
        }
      ]
    },
    {
      "cell_type": "code",
      "source": [
        "np.concatenate((x,y), axis=1)"
      ],
      "metadata": {
        "colab": {
          "base_uri": "https://localhost:8080/"
        },
        "id": "S9YgNdJkfFAm",
        "outputId": "7a356b78-b8d3-448f-aa5e-b3653913aff7"
      },
      "execution_count": 89,
      "outputs": [
        {
          "output_type": "execute_result",
          "data": {
            "text/plain": [
              "array([[ 0,  1,  6,  7],\n",
              "       [ 2,  3,  8,  9],\n",
              "       [ 4,  5, 10, 11]])"
            ]
          },
          "metadata": {},
          "execution_count": 89
        }
      ]
    },
    {
      "cell_type": "code",
      "source": [
        "np.stack((x,y))   #차원증가"
      ],
      "metadata": {
        "colab": {
          "base_uri": "https://localhost:8080/"
        },
        "id": "OTGnZkREfSXw",
        "outputId": "47ee2af1-72f7-4d67-93ae-e1955e7ca656"
      },
      "execution_count": 90,
      "outputs": [
        {
          "output_type": "execute_result",
          "data": {
            "text/plain": [
              "array([[[ 0,  1],\n",
              "        [ 2,  3],\n",
              "        [ 4,  5]],\n",
              "\n",
              "       [[ 6,  7],\n",
              "        [ 8,  9],\n",
              "        [10, 11]]])"
            ]
          },
          "metadata": {},
          "execution_count": 90
        }
      ]
    },
    {
      "cell_type": "code",
      "source": [
        "np.stack((x,y), axis=1)   #차원증가"
      ],
      "metadata": {
        "colab": {
          "base_uri": "https://localhost:8080/"
        },
        "id": "qys_5berfnmj",
        "outputId": "7722d5b3-e65f-46dd-98c3-5318e21017f0"
      },
      "execution_count": 94,
      "outputs": [
        {
          "output_type": "execute_result",
          "data": {
            "text/plain": [
              "array([[[ 0,  1],\n",
              "        [ 6,  7]],\n",
              "\n",
              "       [[ 2,  3],\n",
              "        [ 8,  9]],\n",
              "\n",
              "       [[ 4,  5],\n",
              "        [10, 11]]])"
            ]
          },
          "metadata": {},
          "execution_count": 94
        }
      ]
    },
    {
      "cell_type": "code",
      "source": [
        "np.hstack((x,y))"
      ],
      "metadata": {
        "colab": {
          "base_uri": "https://localhost:8080/"
        },
        "id": "pYzWdqLlfWEv",
        "outputId": "9f611434-5e4f-47e8-e4b6-3416c2868c08"
      },
      "execution_count": 91,
      "outputs": [
        {
          "output_type": "execute_result",
          "data": {
            "text/plain": [
              "array([[ 0,  1,  6,  7],\n",
              "       [ 2,  3,  8,  9],\n",
              "       [ 4,  5, 10, 11]])"
            ]
          },
          "metadata": {},
          "execution_count": 91
        }
      ]
    },
    {
      "cell_type": "code",
      "source": [
        "np.vstack((x,y))"
      ],
      "metadata": {
        "colab": {
          "base_uri": "https://localhost:8080/"
        },
        "id": "dHUT2qE9fcyX",
        "outputId": "8aaddc5b-5f51-4a4c-ef3d-0d0d6e34c435"
      },
      "execution_count": 92,
      "outputs": [
        {
          "output_type": "execute_result",
          "data": {
            "text/plain": [
              "array([[ 0,  1],\n",
              "       [ 2,  3],\n",
              "       [ 4,  5],\n",
              "       [ 6,  7],\n",
              "       [ 8,  9],\n",
              "       [10, 11]])"
            ]
          },
          "metadata": {},
          "execution_count": 92
        }
      ]
    },
    {
      "cell_type": "code",
      "source": [
        "np.dstack((x,y))"
      ],
      "metadata": {
        "colab": {
          "base_uri": "https://localhost:8080/"
        },
        "id": "Zv-GvI7rf8J5",
        "outputId": "9f29aede-119f-41fa-d24e-d14b3202429d"
      },
      "execution_count": 95,
      "outputs": [
        {
          "output_type": "execute_result",
          "data": {
            "text/plain": [
              "array([[[ 0,  6],\n",
              "        [ 1,  7]],\n",
              "\n",
              "       [[ 2,  8],\n",
              "        [ 3,  9]],\n",
              "\n",
              "       [[ 4, 10],\n",
              "        [ 5, 11]]])"
            ]
          },
          "metadata": {},
          "execution_count": 95
        }
      ]
    },
    {
      "cell_type": "code",
      "source": [
        "a = [1,2,3]"
      ],
      "metadata": {
        "id": "Iwud9mnUg5oU"
      },
      "execution_count": 96,
      "outputs": []
    },
    {
      "cell_type": "code",
      "source": [
        "b = a   #mutable은 메모리를 공유"
      ],
      "metadata": {
        "id": "UHm43EJRg8Ar"
      },
      "execution_count": 97,
      "outputs": []
    },
    {
      "cell_type": "code",
      "source": [
        "b[0] =100"
      ],
      "metadata": {
        "id": "3Skxfn_Wg9my"
      },
      "execution_count": 98,
      "outputs": []
    },
    {
      "cell_type": "code",
      "source": [
        "a"
      ],
      "metadata": {
        "colab": {
          "base_uri": "https://localhost:8080/"
        },
        "id": "emvmESPhhCTA",
        "outputId": "fb65ad73-fa43-4ba3-f794-5fad8170f256"
      },
      "execution_count": 99,
      "outputs": [
        {
          "output_type": "execute_result",
          "data": {
            "text/plain": [
              "[100, 2, 3]"
            ]
          },
          "metadata": {},
          "execution_count": 99
        }
      ]
    },
    {
      "cell_type": "code",
      "source": [
        "a = [1,2,3]"
      ],
      "metadata": {
        "id": "cnufOTBNhjql"
      },
      "execution_count": 103,
      "outputs": []
    },
    {
      "cell_type": "code",
      "source": [
        "b = a[:]    #=> b = a.copy()"
      ],
      "metadata": {
        "id": "j46wwz3FhsJC"
      },
      "execution_count": 105,
      "outputs": []
    },
    {
      "cell_type": "code",
      "source": [
        "b[0]=100"
      ],
      "metadata": {
        "id": "jGxiHPjIhxl4"
      },
      "execution_count": 106,
      "outputs": []
    },
    {
      "cell_type": "code",
      "source": [
        "b"
      ],
      "metadata": {
        "colab": {
          "base_uri": "https://localhost:8080/"
        },
        "id": "jOne_KcKh7uF",
        "outputId": "6f06e4c2-3f62-46a0-f89e-62249ffc941e"
      },
      "execution_count": 109,
      "outputs": [
        {
          "output_type": "execute_result",
          "data": {
            "text/plain": [
              "[100, 2, 3]"
            ]
          },
          "metadata": {},
          "execution_count": 109
        }
      ]
    },
    {
      "cell_type": "code",
      "source": [
        "a"
      ],
      "metadata": {
        "colab": {
          "base_uri": "https://localhost:8080/"
        },
        "id": "tfODBYhch0x6",
        "outputId": "9981bbbe-c220-463d-e912-2aa5451aeeab"
      },
      "execution_count": 107,
      "outputs": [
        {
          "output_type": "execute_result",
          "data": {
            "text/plain": [
              "[1, 2, 3]"
            ]
          },
          "metadata": {},
          "execution_count": 107
        }
      ]
    },
    {
      "cell_type": "code",
      "source": [
        "aa = [[1,2],[3,4]]  # => 1차까지만(shallow) copy 2차는 메모리 공유 "
      ],
      "metadata": {
        "id": "tteKnplBiG6K"
      },
      "execution_count": 110,
      "outputs": []
    },
    {
      "cell_type": "code",
      "source": [
        "bb = aa.copy()   #shallow"
      ],
      "metadata": {
        "id": "M8piAwRwiOMf"
      },
      "execution_count": 111,
      "outputs": []
    },
    {
      "cell_type": "code",
      "source": [
        "bb[0][0] = 100"
      ],
      "metadata": {
        "id": "Aw_lMg9PiQQU"
      },
      "execution_count": 113,
      "outputs": []
    },
    {
      "cell_type": "code",
      "source": [
        "c = (1,2,3)    #=> tuple"
      ],
      "metadata": {
        "id": "LnBhEQ6NhNok"
      },
      "execution_count": 100,
      "outputs": []
    },
    {
      "cell_type": "code",
      "source": [
        "aa"
      ],
      "metadata": {
        "colab": {
          "base_uri": "https://localhost:8080/"
        },
        "id": "4bzzHktKiVgq",
        "outputId": "debf176e-617e-4642-ef36-880475012d60"
      },
      "execution_count": 114,
      "outputs": [
        {
          "output_type": "execute_result",
          "data": {
            "text/plain": [
              "[[100, 2], [3, 4]]"
            ]
          },
          "metadata": {},
          "execution_count": 114
        }
      ]
    },
    {
      "cell_type": "code",
      "source": [
        "import copy"
      ],
      "metadata": {
        "id": "OukkZcA2iuvK"
      },
      "execution_count": 115,
      "outputs": []
    },
    {
      "cell_type": "code",
      "source": [
        "aa = [[1,2],[3,4]]"
      ],
      "metadata": {
        "id": "BJtVixdSiw4q"
      },
      "execution_count": 116,
      "outputs": []
    },
    {
      "cell_type": "code",
      "source": [
        "bb = copy.deepcopy(aa)"
      ],
      "metadata": {
        "id": "Dd_hhr1Di0Lg"
      },
      "execution_count": 117,
      "outputs": []
    },
    {
      "cell_type": "code",
      "source": [
        "bb[0][0] = 100"
      ],
      "metadata": {
        "id": "1RE9AVxHi33X"
      },
      "execution_count": 118,
      "outputs": []
    },
    {
      "cell_type": "code",
      "source": [
        "aa"
      ],
      "metadata": {
        "colab": {
          "base_uri": "https://localhost:8080/"
        },
        "id": "2WfdxexDi-vd",
        "outputId": "9354c25a-58d4-4069-94c6-c77651568145"
      },
      "execution_count": 119,
      "outputs": [
        {
          "output_type": "execute_result",
          "data": {
            "text/plain": [
              "[[1, 2], [3, 4]]"
            ]
          },
          "metadata": {},
          "execution_count": 119
        }
      ]
    },
    {
      "cell_type": "code",
      "source": [
        "d = c"
      ],
      "metadata": {
        "id": "vlRKuB1ohRWb"
      },
      "execution_count": 101,
      "outputs": []
    },
    {
      "cell_type": "code",
      "source": [
        "d[0] =100"
      ],
      "metadata": {
        "colab": {
          "base_uri": "https://localhost:8080/",
          "height": 174
        },
        "id": "CWCQc7HhhS7M",
        "outputId": "a2067620-1049-4a6d-8b4e-5985efe8f6bd"
      },
      "execution_count": 102,
      "outputs": [
        {
          "output_type": "error",
          "ename": "TypeError",
          "evalue": "ignored",
          "traceback": [
            "\u001b[0;31m---------------------------------------------------------------------------\u001b[0m",
            "\u001b[0;31mTypeError\u001b[0m                                 Traceback (most recent call last)",
            "\u001b[0;32m<ipython-input-102-0a3b1b4aa831>\u001b[0m in \u001b[0;36m<cell line: 1>\u001b[0;34m()\u001b[0m\n\u001b[0;32m----> 1\u001b[0;31m \u001b[0md\u001b[0m\u001b[0;34m[\u001b[0m\u001b[0;36m0\u001b[0m\u001b[0;34m]\u001b[0m \u001b[0;34m=\u001b[0m\u001b[0;36m100\u001b[0m\u001b[0;34m\u001b[0m\u001b[0;34m\u001b[0m\u001b[0m\n\u001b[0m",
            "\u001b[0;31mTypeError\u001b[0m: 'tuple' object does not support item assignment"
          ]
        }
      ]
    },
    {
      "cell_type": "code",
      "source": [
        "a = np.arange(24).reshape(4,6)"
      ],
      "metadata": {
        "id": "FsdaGfXXjFmK"
      },
      "execution_count": 121,
      "outputs": []
    },
    {
      "cell_type": "code",
      "source": [
        "b = a.copy()  # shallow (x)  deep(0)"
      ],
      "metadata": {
        "id": "2-MBFx-rjNLe"
      },
      "execution_count": 123,
      "outputs": []
    },
    {
      "cell_type": "code",
      "source": [
        "b[0,0] = 100"
      ],
      "metadata": {
        "id": "IGDU6WYpjZQi"
      },
      "execution_count": 125,
      "outputs": []
    },
    {
      "cell_type": "code",
      "source": [
        "a"
      ],
      "metadata": {
        "colab": {
          "base_uri": "https://localhost:8080/"
        },
        "id": "JsFRLRh0jjMo",
        "outputId": "e9aecac0-f9c8-4c99-fdff-cd2a9c7d23a6"
      },
      "execution_count": 126,
      "outputs": [
        {
          "output_type": "execute_result",
          "data": {
            "text/plain": [
              "array([[ 0,  1,  2,  3,  4,  5],\n",
              "       [ 6,  7,  8,  9, 10, 11],\n",
              "       [12, 13, 14, 15, 16, 17],\n",
              "       [18, 19, 20, 21, 22, 23]])"
            ]
          },
          "metadata": {},
          "execution_count": 126
        }
      ]
    },
    {
      "cell_type": "markdown",
      "source": [
        "#copy? why<-ctrl+zb(데이터분석 (numpy에서)\n",
        "데이터 재복구 어려움 => 돌아갈 수 있는 checkpoint를 만들어놓음"
      ],
      "metadata": {
        "id": "VE8VXTlXjt17"
      }
    }
  ]
}