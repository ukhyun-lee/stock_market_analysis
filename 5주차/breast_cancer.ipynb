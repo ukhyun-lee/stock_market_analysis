{
  "cells": [
    {
      "cell_type": "markdown",
      "metadata": {
        "id": "view-in-github",
        "colab_type": "text"
      },
      "source": [
        "<a href=\"https://colab.research.google.com/github/ukhyun-lee/stock_market_analysis/blob/main/5%EC%A3%BC%EC%B0%A8/breast_cancer.ipynb\" target=\"_parent\"><img src=\"https://colab.research.google.com/assets/colab-badge.svg\" alt=\"Open In Colab\"/></a>"
      ]
    },
    {
      "cell_type": "markdown",
      "metadata": {
        "id": "xA1gTOzI6mbh"
      },
      "source": [
        "# Breast cancer\n",
        "\n",
        "- [데이터 설명](https://scikit-learn.org/stable/modules/generated/sklearn.datasets.load_breast_cancer.html#sklearn.datasets.load_breast_cancer)\n",
        "  "
      ]
    },
    {
      "cell_type": "markdown",
      "metadata": {
        "id": "zWz4L1Ah6mbn"
      },
      "source": [
        "## Load library"
      ]
    },
    {
      "cell_type": "code",
      "execution_count": 2,
      "metadata": {
        "id": "9xSxU82h6mbn"
      },
      "outputs": [],
      "source": [
        "import pandas as pd\n",
        "import seaborn as sns\n",
        "from sklearn.datasets import load_breast_cancer"
      ]
    },
    {
      "cell_type": "markdown",
      "metadata": {
        "id": "Vh6GciKX6mbn"
      },
      "source": [
        "## Load Data"
      ]
    },
    {
      "cell_type": "code",
      "execution_count": 4,
      "metadata": {
        "colab": {
          "base_uri": "https://localhost:8080/",
          "height": 334
        },
        "id": "PTQC_YgU6mbo",
        "outputId": "ff17104b-d4b5-42b5-9fc3-a9ea8c990351"
      },
      "outputs": [
        {
          "output_type": "execute_result",
          "data": {
            "text/plain": [
              "   mean radius  mean texture  mean perimeter  mean area  mean smoothness  \\\n",
              "0        17.99         10.38          122.80     1001.0          0.11840   \n",
              "1        20.57         17.77          132.90     1326.0          0.08474   \n",
              "2        19.69         21.25          130.00     1203.0          0.10960   \n",
              "3        11.42         20.38           77.58      386.1          0.14250   \n",
              "4        20.29         14.34          135.10     1297.0          0.10030   \n",
              "\n",
              "   mean compactness  mean concavity  mean concave points  mean symmetry  \\\n",
              "0           0.27760          0.3001              0.14710         0.2419   \n",
              "1           0.07864          0.0869              0.07017         0.1812   \n",
              "2           0.15990          0.1974              0.12790         0.2069   \n",
              "3           0.28390          0.2414              0.10520         0.2597   \n",
              "4           0.13280          0.1980              0.10430         0.1809   \n",
              "\n",
              "   mean fractal dimension  ...  worst texture  worst perimeter  worst area  \\\n",
              "0                 0.07871  ...          17.33           184.60      2019.0   \n",
              "1                 0.05667  ...          23.41           158.80      1956.0   \n",
              "2                 0.05999  ...          25.53           152.50      1709.0   \n",
              "3                 0.09744  ...          26.50            98.87       567.7   \n",
              "4                 0.05883  ...          16.67           152.20      1575.0   \n",
              "\n",
              "   worst smoothness  worst compactness  worst concavity  worst concave points  \\\n",
              "0            0.1622             0.6656           0.7119                0.2654   \n",
              "1            0.1238             0.1866           0.2416                0.1860   \n",
              "2            0.1444             0.4245           0.4504                0.2430   \n",
              "3            0.2098             0.8663           0.6869                0.2575   \n",
              "4            0.1374             0.2050           0.4000                0.1625   \n",
              "\n",
              "   worst symmetry  worst fractal dimension  label  \n",
              "0          0.4601                  0.11890      0  \n",
              "1          0.2750                  0.08902      0  \n",
              "2          0.3613                  0.08758      0  \n",
              "3          0.6638                  0.17300      0  \n",
              "4          0.2364                  0.07678      0  \n",
              "\n",
              "[5 rows x 31 columns]"
            ],
            "text/html": [
              "\n",
              "  <div id=\"df-3ad71ef3-dd5c-4d37-8b64-c5b62f143fa8\">\n",
              "    <div class=\"colab-df-container\">\n",
              "      <div>\n",
              "<style scoped>\n",
              "    .dataframe tbody tr th:only-of-type {\n",
              "        vertical-align: middle;\n",
              "    }\n",
              "\n",
              "    .dataframe tbody tr th {\n",
              "        vertical-align: top;\n",
              "    }\n",
              "\n",
              "    .dataframe thead th {\n",
              "        text-align: right;\n",
              "    }\n",
              "</style>\n",
              "<table border=\"1\" class=\"dataframe\">\n",
              "  <thead>\n",
              "    <tr style=\"text-align: right;\">\n",
              "      <th></th>\n",
              "      <th>mean radius</th>\n",
              "      <th>mean texture</th>\n",
              "      <th>mean perimeter</th>\n",
              "      <th>mean area</th>\n",
              "      <th>mean smoothness</th>\n",
              "      <th>mean compactness</th>\n",
              "      <th>mean concavity</th>\n",
              "      <th>mean concave points</th>\n",
              "      <th>mean symmetry</th>\n",
              "      <th>mean fractal dimension</th>\n",
              "      <th>...</th>\n",
              "      <th>worst texture</th>\n",
              "      <th>worst perimeter</th>\n",
              "      <th>worst area</th>\n",
              "      <th>worst smoothness</th>\n",
              "      <th>worst compactness</th>\n",
              "      <th>worst concavity</th>\n",
              "      <th>worst concave points</th>\n",
              "      <th>worst symmetry</th>\n",
              "      <th>worst fractal dimension</th>\n",
              "      <th>label</th>\n",
              "    </tr>\n",
              "  </thead>\n",
              "  <tbody>\n",
              "    <tr>\n",
              "      <th>0</th>\n",
              "      <td>17.99</td>\n",
              "      <td>10.38</td>\n",
              "      <td>122.80</td>\n",
              "      <td>1001.0</td>\n",
              "      <td>0.11840</td>\n",
              "      <td>0.27760</td>\n",
              "      <td>0.3001</td>\n",
              "      <td>0.14710</td>\n",
              "      <td>0.2419</td>\n",
              "      <td>0.07871</td>\n",
              "      <td>...</td>\n",
              "      <td>17.33</td>\n",
              "      <td>184.60</td>\n",
              "      <td>2019.0</td>\n",
              "      <td>0.1622</td>\n",
              "      <td>0.6656</td>\n",
              "      <td>0.7119</td>\n",
              "      <td>0.2654</td>\n",
              "      <td>0.4601</td>\n",
              "      <td>0.11890</td>\n",
              "      <td>0</td>\n",
              "    </tr>\n",
              "    <tr>\n",
              "      <th>1</th>\n",
              "      <td>20.57</td>\n",
              "      <td>17.77</td>\n",
              "      <td>132.90</td>\n",
              "      <td>1326.0</td>\n",
              "      <td>0.08474</td>\n",
              "      <td>0.07864</td>\n",
              "      <td>0.0869</td>\n",
              "      <td>0.07017</td>\n",
              "      <td>0.1812</td>\n",
              "      <td>0.05667</td>\n",
              "      <td>...</td>\n",
              "      <td>23.41</td>\n",
              "      <td>158.80</td>\n",
              "      <td>1956.0</td>\n",
              "      <td>0.1238</td>\n",
              "      <td>0.1866</td>\n",
              "      <td>0.2416</td>\n",
              "      <td>0.1860</td>\n",
              "      <td>0.2750</td>\n",
              "      <td>0.08902</td>\n",
              "      <td>0</td>\n",
              "    </tr>\n",
              "    <tr>\n",
              "      <th>2</th>\n",
              "      <td>19.69</td>\n",
              "      <td>21.25</td>\n",
              "      <td>130.00</td>\n",
              "      <td>1203.0</td>\n",
              "      <td>0.10960</td>\n",
              "      <td>0.15990</td>\n",
              "      <td>0.1974</td>\n",
              "      <td>0.12790</td>\n",
              "      <td>0.2069</td>\n",
              "      <td>0.05999</td>\n",
              "      <td>...</td>\n",
              "      <td>25.53</td>\n",
              "      <td>152.50</td>\n",
              "      <td>1709.0</td>\n",
              "      <td>0.1444</td>\n",
              "      <td>0.4245</td>\n",
              "      <td>0.4504</td>\n",
              "      <td>0.2430</td>\n",
              "      <td>0.3613</td>\n",
              "      <td>0.08758</td>\n",
              "      <td>0</td>\n",
              "    </tr>\n",
              "    <tr>\n",
              "      <th>3</th>\n",
              "      <td>11.42</td>\n",
              "      <td>20.38</td>\n",
              "      <td>77.58</td>\n",
              "      <td>386.1</td>\n",
              "      <td>0.14250</td>\n",
              "      <td>0.28390</td>\n",
              "      <td>0.2414</td>\n",
              "      <td>0.10520</td>\n",
              "      <td>0.2597</td>\n",
              "      <td>0.09744</td>\n",
              "      <td>...</td>\n",
              "      <td>26.50</td>\n",
              "      <td>98.87</td>\n",
              "      <td>567.7</td>\n",
              "      <td>0.2098</td>\n",
              "      <td>0.8663</td>\n",
              "      <td>0.6869</td>\n",
              "      <td>0.2575</td>\n",
              "      <td>0.6638</td>\n",
              "      <td>0.17300</td>\n",
              "      <td>0</td>\n",
              "    </tr>\n",
              "    <tr>\n",
              "      <th>4</th>\n",
              "      <td>20.29</td>\n",
              "      <td>14.34</td>\n",
              "      <td>135.10</td>\n",
              "      <td>1297.0</td>\n",
              "      <td>0.10030</td>\n",
              "      <td>0.13280</td>\n",
              "      <td>0.1980</td>\n",
              "      <td>0.10430</td>\n",
              "      <td>0.1809</td>\n",
              "      <td>0.05883</td>\n",
              "      <td>...</td>\n",
              "      <td>16.67</td>\n",
              "      <td>152.20</td>\n",
              "      <td>1575.0</td>\n",
              "      <td>0.1374</td>\n",
              "      <td>0.2050</td>\n",
              "      <td>0.4000</td>\n",
              "      <td>0.1625</td>\n",
              "      <td>0.2364</td>\n",
              "      <td>0.07678</td>\n",
              "      <td>0</td>\n",
              "    </tr>\n",
              "  </tbody>\n",
              "</table>\n",
              "<p>5 rows × 31 columns</p>\n",
              "</div>\n",
              "      <button class=\"colab-df-convert\" onclick=\"convertToInteractive('df-3ad71ef3-dd5c-4d37-8b64-c5b62f143fa8')\"\n",
              "              title=\"Convert this dataframe to an interactive table.\"\n",
              "              style=\"display:none;\">\n",
              "        \n",
              "  <svg xmlns=\"http://www.w3.org/2000/svg\" height=\"24px\"viewBox=\"0 0 24 24\"\n",
              "       width=\"24px\">\n",
              "    <path d=\"M0 0h24v24H0V0z\" fill=\"none\"/>\n",
              "    <path d=\"M18.56 5.44l.94 2.06.94-2.06 2.06-.94-2.06-.94-.94-2.06-.94 2.06-2.06.94zm-11 1L8.5 8.5l.94-2.06 2.06-.94-2.06-.94L8.5 2.5l-.94 2.06-2.06.94zm10 10l.94 2.06.94-2.06 2.06-.94-2.06-.94-.94-2.06-.94 2.06-2.06.94z\"/><path d=\"M17.41 7.96l-1.37-1.37c-.4-.4-.92-.59-1.43-.59-.52 0-1.04.2-1.43.59L10.3 9.45l-7.72 7.72c-.78.78-.78 2.05 0 2.83L4 21.41c.39.39.9.59 1.41.59.51 0 1.02-.2 1.41-.59l7.78-7.78 2.81-2.81c.8-.78.8-2.07 0-2.86zM5.41 20L4 18.59l7.72-7.72 1.47 1.35L5.41 20z\"/>\n",
              "  </svg>\n",
              "      </button>\n",
              "      \n",
              "  <style>\n",
              "    .colab-df-container {\n",
              "      display:flex;\n",
              "      flex-wrap:wrap;\n",
              "      gap: 12px;\n",
              "    }\n",
              "\n",
              "    .colab-df-convert {\n",
              "      background-color: #E8F0FE;\n",
              "      border: none;\n",
              "      border-radius: 50%;\n",
              "      cursor: pointer;\n",
              "      display: none;\n",
              "      fill: #1967D2;\n",
              "      height: 32px;\n",
              "      padding: 0 0 0 0;\n",
              "      width: 32px;\n",
              "    }\n",
              "\n",
              "    .colab-df-convert:hover {\n",
              "      background-color: #E2EBFA;\n",
              "      box-shadow: 0px 1px 2px rgba(60, 64, 67, 0.3), 0px 1px 3px 1px rgba(60, 64, 67, 0.15);\n",
              "      fill: #174EA6;\n",
              "    }\n",
              "\n",
              "    [theme=dark] .colab-df-convert {\n",
              "      background-color: #3B4455;\n",
              "      fill: #D2E3FC;\n",
              "    }\n",
              "\n",
              "    [theme=dark] .colab-df-convert:hover {\n",
              "      background-color: #434B5C;\n",
              "      box-shadow: 0px 1px 3px 1px rgba(0, 0, 0, 0.15);\n",
              "      filter: drop-shadow(0px 1px 2px rgba(0, 0, 0, 0.3));\n",
              "      fill: #FFFFFF;\n",
              "    }\n",
              "  </style>\n",
              "\n",
              "      <script>\n",
              "        const buttonEl =\n",
              "          document.querySelector('#df-3ad71ef3-dd5c-4d37-8b64-c5b62f143fa8 button.colab-df-convert');\n",
              "        buttonEl.style.display =\n",
              "          google.colab.kernel.accessAllowed ? 'block' : 'none';\n",
              "\n",
              "        async function convertToInteractive(key) {\n",
              "          const element = document.querySelector('#df-3ad71ef3-dd5c-4d37-8b64-c5b62f143fa8');\n",
              "          const dataTable =\n",
              "            await google.colab.kernel.invokeFunction('convertToInteractive',\n",
              "                                                     [key], {});\n",
              "          if (!dataTable) return;\n",
              "\n",
              "          const docLinkHtml = 'Like what you see? Visit the ' +\n",
              "            '<a target=\"_blank\" href=https://colab.research.google.com/notebooks/data_table.ipynb>data table notebook</a>'\n",
              "            + ' to learn more about interactive tables.';\n",
              "          element.innerHTML = '';\n",
              "          dataTable['output_type'] = 'display_data';\n",
              "          await google.colab.output.renderOutput(dataTable, element);\n",
              "          const docLink = document.createElement('div');\n",
              "          docLink.innerHTML = docLinkHtml;\n",
              "          element.appendChild(docLink);\n",
              "        }\n",
              "      </script>\n",
              "    </div>\n",
              "  </div>\n",
              "  "
            ]
          },
          "metadata": {},
          "execution_count": 4
        }
      ],
      "source": [
        "breast_cancer = load_breast_cancer()\n",
        "breast_cancer_df = pd.DataFrame(data=breast_cancer.data, columns=breast_cancer.feature_names)\n",
        "breast_cancer_df['label'] = breast_cancer.target\n",
        "breast_cancer_df.head()"
      ]
    },
    {
      "cell_type": "markdown",
      "metadata": {
        "id": "V4CP56XU6mbq"
      },
      "source": [
        "## Step1. 데이터 탐색 및 준비"
      ]
    },
    {
      "cell_type": "markdown",
      "metadata": {
        "id": "LlGUiwGQ6mbq"
      },
      "source": [
        "### [Q1] 데이터 구조\n",
        "분석할 데이터는 몇 개의 feature, 몇 개의 데이터로 구성되어 있습니까?"
      ]
    },
    {
      "cell_type": "code",
      "execution_count": 5,
      "metadata": {
        "colab": {
          "base_uri": "https://localhost:8080/"
        },
        "id": "DqnWG0p76mbq",
        "outputId": "ead739bc-929e-486d-989a-4f3e7a98b342"
      },
      "outputs": [
        {
          "output_type": "execute_result",
          "data": {
            "text/plain": [
              "(569, 31)"
            ]
          },
          "metadata": {},
          "execution_count": 5
        }
      ],
      "source": [
        "breast_cancer_df.shape"
      ]
    },
    {
      "cell_type": "code",
      "execution_count": 6,
      "metadata": {
        "colab": {
          "base_uri": "https://localhost:8080/"
        },
        "id": "1OQmmB4P6mbr",
        "outputId": "b4dcbe11-91d0-4c53-9c40-f9bb46b8ec89"
      },
      "outputs": [
        {
          "output_type": "stream",
          "name": "stdout",
          "text": [
            "<class 'pandas.core.frame.DataFrame'>\n",
            "RangeIndex: 569 entries, 0 to 568\n",
            "Data columns (total 31 columns):\n",
            " #   Column                   Non-Null Count  Dtype  \n",
            "---  ------                   --------------  -----  \n",
            " 0   mean radius              569 non-null    float64\n",
            " 1   mean texture             569 non-null    float64\n",
            " 2   mean perimeter           569 non-null    float64\n",
            " 3   mean area                569 non-null    float64\n",
            " 4   mean smoothness          569 non-null    float64\n",
            " 5   mean compactness         569 non-null    float64\n",
            " 6   mean concavity           569 non-null    float64\n",
            " 7   mean concave points      569 non-null    float64\n",
            " 8   mean symmetry            569 non-null    float64\n",
            " 9   mean fractal dimension   569 non-null    float64\n",
            " 10  radius error             569 non-null    float64\n",
            " 11  texture error            569 non-null    float64\n",
            " 12  perimeter error          569 non-null    float64\n",
            " 13  area error               569 non-null    float64\n",
            " 14  smoothness error         569 non-null    float64\n",
            " 15  compactness error        569 non-null    float64\n",
            " 16  concavity error          569 non-null    float64\n",
            " 17  concave points error     569 non-null    float64\n",
            " 18  symmetry error           569 non-null    float64\n",
            " 19  fractal dimension error  569 non-null    float64\n",
            " 20  worst radius             569 non-null    float64\n",
            " 21  worst texture            569 non-null    float64\n",
            " 22  worst perimeter          569 non-null    float64\n",
            " 23  worst area               569 non-null    float64\n",
            " 24  worst smoothness         569 non-null    float64\n",
            " 25  worst compactness        569 non-null    float64\n",
            " 26  worst concavity          569 non-null    float64\n",
            " 27  worst concave points     569 non-null    float64\n",
            " 28  worst symmetry           569 non-null    float64\n",
            " 29  worst fractal dimension  569 non-null    float64\n",
            " 30  label                    569 non-null    int64  \n",
            "dtypes: float64(30), int64(1)\n",
            "memory usage: 137.9 KB\n"
          ]
        }
      ],
      "source": [
        "# 데이터프레임의 요약 정보\n",
        "breast_cancer_df.info()"
      ]
    },
    {
      "cell_type": "markdown",
      "metadata": {
        "id": "vlypJL7M6mbr"
      },
      "source": [
        "### [Q2] 데이터 통계정보\n",
        "분석할 데이터의 통계정보를 살펴보세요"
      ]
    },
    {
      "cell_type": "code",
      "execution_count": 7,
      "metadata": {
        "colab": {
          "base_uri": "https://localhost:8080/",
          "height": 428
        },
        "id": "8A0SrXlM6mbr",
        "outputId": "7efa545f-76f0-472b-c4bc-03d40e2db026"
      },
      "outputs": [
        {
          "output_type": "execute_result",
          "data": {
            "text/plain": [
              "       mean radius  mean texture  mean perimeter    mean area  \\\n",
              "count   569.000000    569.000000      569.000000   569.000000   \n",
              "mean     14.127292     19.289649       91.969033   654.889104   \n",
              "std       3.524049      4.301036       24.298981   351.914129   \n",
              "min       6.981000      9.710000       43.790000   143.500000   \n",
              "25%      11.700000     16.170000       75.170000   420.300000   \n",
              "50%      13.370000     18.840000       86.240000   551.100000   \n",
              "75%      15.780000     21.800000      104.100000   782.700000   \n",
              "max      28.110000     39.280000      188.500000  2501.000000   \n",
              "\n",
              "       mean smoothness  mean compactness  mean concavity  mean concave points  \\\n",
              "count       569.000000        569.000000      569.000000           569.000000   \n",
              "mean          0.096360          0.104341        0.088799             0.048919   \n",
              "std           0.014064          0.052813        0.079720             0.038803   \n",
              "min           0.052630          0.019380        0.000000             0.000000   \n",
              "25%           0.086370          0.064920        0.029560             0.020310   \n",
              "50%           0.095870          0.092630        0.061540             0.033500   \n",
              "75%           0.105300          0.130400        0.130700             0.074000   \n",
              "max           0.163400          0.345400        0.426800             0.201200   \n",
              "\n",
              "       mean symmetry  mean fractal dimension  ...  worst texture  \\\n",
              "count     569.000000              569.000000  ...     569.000000   \n",
              "mean        0.181162                0.062798  ...      25.677223   \n",
              "std         0.027414                0.007060  ...       6.146258   \n",
              "min         0.106000                0.049960  ...      12.020000   \n",
              "25%         0.161900                0.057700  ...      21.080000   \n",
              "50%         0.179200                0.061540  ...      25.410000   \n",
              "75%         0.195700                0.066120  ...      29.720000   \n",
              "max         0.304000                0.097440  ...      49.540000   \n",
              "\n",
              "       worst perimeter   worst area  worst smoothness  worst compactness  \\\n",
              "count       569.000000   569.000000        569.000000         569.000000   \n",
              "mean        107.261213   880.583128          0.132369           0.254265   \n",
              "std          33.602542   569.356993          0.022832           0.157336   \n",
              "min          50.410000   185.200000          0.071170           0.027290   \n",
              "25%          84.110000   515.300000          0.116600           0.147200   \n",
              "50%          97.660000   686.500000          0.131300           0.211900   \n",
              "75%         125.400000  1084.000000          0.146000           0.339100   \n",
              "max         251.200000  4254.000000          0.222600           1.058000   \n",
              "\n",
              "       worst concavity  worst concave points  worst symmetry  \\\n",
              "count       569.000000            569.000000      569.000000   \n",
              "mean          0.272188              0.114606        0.290076   \n",
              "std           0.208624              0.065732        0.061867   \n",
              "min           0.000000              0.000000        0.156500   \n",
              "25%           0.114500              0.064930        0.250400   \n",
              "50%           0.226700              0.099930        0.282200   \n",
              "75%           0.382900              0.161400        0.317900   \n",
              "max           1.252000              0.291000        0.663800   \n",
              "\n",
              "       worst fractal dimension       label  \n",
              "count               569.000000  569.000000  \n",
              "mean                  0.083946    0.627417  \n",
              "std                   0.018061    0.483918  \n",
              "min                   0.055040    0.000000  \n",
              "25%                   0.071460    0.000000  \n",
              "50%                   0.080040    1.000000  \n",
              "75%                   0.092080    1.000000  \n",
              "max                   0.207500    1.000000  \n",
              "\n",
              "[8 rows x 31 columns]"
            ],
            "text/html": [
              "\n",
              "  <div id=\"df-92afef2c-05c9-4707-8307-7a0786956f11\">\n",
              "    <div class=\"colab-df-container\">\n",
              "      <div>\n",
              "<style scoped>\n",
              "    .dataframe tbody tr th:only-of-type {\n",
              "        vertical-align: middle;\n",
              "    }\n",
              "\n",
              "    .dataframe tbody tr th {\n",
              "        vertical-align: top;\n",
              "    }\n",
              "\n",
              "    .dataframe thead th {\n",
              "        text-align: right;\n",
              "    }\n",
              "</style>\n",
              "<table border=\"1\" class=\"dataframe\">\n",
              "  <thead>\n",
              "    <tr style=\"text-align: right;\">\n",
              "      <th></th>\n",
              "      <th>mean radius</th>\n",
              "      <th>mean texture</th>\n",
              "      <th>mean perimeter</th>\n",
              "      <th>mean area</th>\n",
              "      <th>mean smoothness</th>\n",
              "      <th>mean compactness</th>\n",
              "      <th>mean concavity</th>\n",
              "      <th>mean concave points</th>\n",
              "      <th>mean symmetry</th>\n",
              "      <th>mean fractal dimension</th>\n",
              "      <th>...</th>\n",
              "      <th>worst texture</th>\n",
              "      <th>worst perimeter</th>\n",
              "      <th>worst area</th>\n",
              "      <th>worst smoothness</th>\n",
              "      <th>worst compactness</th>\n",
              "      <th>worst concavity</th>\n",
              "      <th>worst concave points</th>\n",
              "      <th>worst symmetry</th>\n",
              "      <th>worst fractal dimension</th>\n",
              "      <th>label</th>\n",
              "    </tr>\n",
              "  </thead>\n",
              "  <tbody>\n",
              "    <tr>\n",
              "      <th>count</th>\n",
              "      <td>569.000000</td>\n",
              "      <td>569.000000</td>\n",
              "      <td>569.000000</td>\n",
              "      <td>569.000000</td>\n",
              "      <td>569.000000</td>\n",
              "      <td>569.000000</td>\n",
              "      <td>569.000000</td>\n",
              "      <td>569.000000</td>\n",
              "      <td>569.000000</td>\n",
              "      <td>569.000000</td>\n",
              "      <td>...</td>\n",
              "      <td>569.000000</td>\n",
              "      <td>569.000000</td>\n",
              "      <td>569.000000</td>\n",
              "      <td>569.000000</td>\n",
              "      <td>569.000000</td>\n",
              "      <td>569.000000</td>\n",
              "      <td>569.000000</td>\n",
              "      <td>569.000000</td>\n",
              "      <td>569.000000</td>\n",
              "      <td>569.000000</td>\n",
              "    </tr>\n",
              "    <tr>\n",
              "      <th>mean</th>\n",
              "      <td>14.127292</td>\n",
              "      <td>19.289649</td>\n",
              "      <td>91.969033</td>\n",
              "      <td>654.889104</td>\n",
              "      <td>0.096360</td>\n",
              "      <td>0.104341</td>\n",
              "      <td>0.088799</td>\n",
              "      <td>0.048919</td>\n",
              "      <td>0.181162</td>\n",
              "      <td>0.062798</td>\n",
              "      <td>...</td>\n",
              "      <td>25.677223</td>\n",
              "      <td>107.261213</td>\n",
              "      <td>880.583128</td>\n",
              "      <td>0.132369</td>\n",
              "      <td>0.254265</td>\n",
              "      <td>0.272188</td>\n",
              "      <td>0.114606</td>\n",
              "      <td>0.290076</td>\n",
              "      <td>0.083946</td>\n",
              "      <td>0.627417</td>\n",
              "    </tr>\n",
              "    <tr>\n",
              "      <th>std</th>\n",
              "      <td>3.524049</td>\n",
              "      <td>4.301036</td>\n",
              "      <td>24.298981</td>\n",
              "      <td>351.914129</td>\n",
              "      <td>0.014064</td>\n",
              "      <td>0.052813</td>\n",
              "      <td>0.079720</td>\n",
              "      <td>0.038803</td>\n",
              "      <td>0.027414</td>\n",
              "      <td>0.007060</td>\n",
              "      <td>...</td>\n",
              "      <td>6.146258</td>\n",
              "      <td>33.602542</td>\n",
              "      <td>569.356993</td>\n",
              "      <td>0.022832</td>\n",
              "      <td>0.157336</td>\n",
              "      <td>0.208624</td>\n",
              "      <td>0.065732</td>\n",
              "      <td>0.061867</td>\n",
              "      <td>0.018061</td>\n",
              "      <td>0.483918</td>\n",
              "    </tr>\n",
              "    <tr>\n",
              "      <th>min</th>\n",
              "      <td>6.981000</td>\n",
              "      <td>9.710000</td>\n",
              "      <td>43.790000</td>\n",
              "      <td>143.500000</td>\n",
              "      <td>0.052630</td>\n",
              "      <td>0.019380</td>\n",
              "      <td>0.000000</td>\n",
              "      <td>0.000000</td>\n",
              "      <td>0.106000</td>\n",
              "      <td>0.049960</td>\n",
              "      <td>...</td>\n",
              "      <td>12.020000</td>\n",
              "      <td>50.410000</td>\n",
              "      <td>185.200000</td>\n",
              "      <td>0.071170</td>\n",
              "      <td>0.027290</td>\n",
              "      <td>0.000000</td>\n",
              "      <td>0.000000</td>\n",
              "      <td>0.156500</td>\n",
              "      <td>0.055040</td>\n",
              "      <td>0.000000</td>\n",
              "    </tr>\n",
              "    <tr>\n",
              "      <th>25%</th>\n",
              "      <td>11.700000</td>\n",
              "      <td>16.170000</td>\n",
              "      <td>75.170000</td>\n",
              "      <td>420.300000</td>\n",
              "      <td>0.086370</td>\n",
              "      <td>0.064920</td>\n",
              "      <td>0.029560</td>\n",
              "      <td>0.020310</td>\n",
              "      <td>0.161900</td>\n",
              "      <td>0.057700</td>\n",
              "      <td>...</td>\n",
              "      <td>21.080000</td>\n",
              "      <td>84.110000</td>\n",
              "      <td>515.300000</td>\n",
              "      <td>0.116600</td>\n",
              "      <td>0.147200</td>\n",
              "      <td>0.114500</td>\n",
              "      <td>0.064930</td>\n",
              "      <td>0.250400</td>\n",
              "      <td>0.071460</td>\n",
              "      <td>0.000000</td>\n",
              "    </tr>\n",
              "    <tr>\n",
              "      <th>50%</th>\n",
              "      <td>13.370000</td>\n",
              "      <td>18.840000</td>\n",
              "      <td>86.240000</td>\n",
              "      <td>551.100000</td>\n",
              "      <td>0.095870</td>\n",
              "      <td>0.092630</td>\n",
              "      <td>0.061540</td>\n",
              "      <td>0.033500</td>\n",
              "      <td>0.179200</td>\n",
              "      <td>0.061540</td>\n",
              "      <td>...</td>\n",
              "      <td>25.410000</td>\n",
              "      <td>97.660000</td>\n",
              "      <td>686.500000</td>\n",
              "      <td>0.131300</td>\n",
              "      <td>0.211900</td>\n",
              "      <td>0.226700</td>\n",
              "      <td>0.099930</td>\n",
              "      <td>0.282200</td>\n",
              "      <td>0.080040</td>\n",
              "      <td>1.000000</td>\n",
              "    </tr>\n",
              "    <tr>\n",
              "      <th>75%</th>\n",
              "      <td>15.780000</td>\n",
              "      <td>21.800000</td>\n",
              "      <td>104.100000</td>\n",
              "      <td>782.700000</td>\n",
              "      <td>0.105300</td>\n",
              "      <td>0.130400</td>\n",
              "      <td>0.130700</td>\n",
              "      <td>0.074000</td>\n",
              "      <td>0.195700</td>\n",
              "      <td>0.066120</td>\n",
              "      <td>...</td>\n",
              "      <td>29.720000</td>\n",
              "      <td>125.400000</td>\n",
              "      <td>1084.000000</td>\n",
              "      <td>0.146000</td>\n",
              "      <td>0.339100</td>\n",
              "      <td>0.382900</td>\n",
              "      <td>0.161400</td>\n",
              "      <td>0.317900</td>\n",
              "      <td>0.092080</td>\n",
              "      <td>1.000000</td>\n",
              "    </tr>\n",
              "    <tr>\n",
              "      <th>max</th>\n",
              "      <td>28.110000</td>\n",
              "      <td>39.280000</td>\n",
              "      <td>188.500000</td>\n",
              "      <td>2501.000000</td>\n",
              "      <td>0.163400</td>\n",
              "      <td>0.345400</td>\n",
              "      <td>0.426800</td>\n",
              "      <td>0.201200</td>\n",
              "      <td>0.304000</td>\n",
              "      <td>0.097440</td>\n",
              "      <td>...</td>\n",
              "      <td>49.540000</td>\n",
              "      <td>251.200000</td>\n",
              "      <td>4254.000000</td>\n",
              "      <td>0.222600</td>\n",
              "      <td>1.058000</td>\n",
              "      <td>1.252000</td>\n",
              "      <td>0.291000</td>\n",
              "      <td>0.663800</td>\n",
              "      <td>0.207500</td>\n",
              "      <td>1.000000</td>\n",
              "    </tr>\n",
              "  </tbody>\n",
              "</table>\n",
              "<p>8 rows × 31 columns</p>\n",
              "</div>\n",
              "      <button class=\"colab-df-convert\" onclick=\"convertToInteractive('df-92afef2c-05c9-4707-8307-7a0786956f11')\"\n",
              "              title=\"Convert this dataframe to an interactive table.\"\n",
              "              style=\"display:none;\">\n",
              "        \n",
              "  <svg xmlns=\"http://www.w3.org/2000/svg\" height=\"24px\"viewBox=\"0 0 24 24\"\n",
              "       width=\"24px\">\n",
              "    <path d=\"M0 0h24v24H0V0z\" fill=\"none\"/>\n",
              "    <path d=\"M18.56 5.44l.94 2.06.94-2.06 2.06-.94-2.06-.94-.94-2.06-.94 2.06-2.06.94zm-11 1L8.5 8.5l.94-2.06 2.06-.94-2.06-.94L8.5 2.5l-.94 2.06-2.06.94zm10 10l.94 2.06.94-2.06 2.06-.94-2.06-.94-.94-2.06-.94 2.06-2.06.94z\"/><path d=\"M17.41 7.96l-1.37-1.37c-.4-.4-.92-.59-1.43-.59-.52 0-1.04.2-1.43.59L10.3 9.45l-7.72 7.72c-.78.78-.78 2.05 0 2.83L4 21.41c.39.39.9.59 1.41.59.51 0 1.02-.2 1.41-.59l7.78-7.78 2.81-2.81c.8-.78.8-2.07 0-2.86zM5.41 20L4 18.59l7.72-7.72 1.47 1.35L5.41 20z\"/>\n",
              "  </svg>\n",
              "      </button>\n",
              "      \n",
              "  <style>\n",
              "    .colab-df-container {\n",
              "      display:flex;\n",
              "      flex-wrap:wrap;\n",
              "      gap: 12px;\n",
              "    }\n",
              "\n",
              "    .colab-df-convert {\n",
              "      background-color: #E8F0FE;\n",
              "      border: none;\n",
              "      border-radius: 50%;\n",
              "      cursor: pointer;\n",
              "      display: none;\n",
              "      fill: #1967D2;\n",
              "      height: 32px;\n",
              "      padding: 0 0 0 0;\n",
              "      width: 32px;\n",
              "    }\n",
              "\n",
              "    .colab-df-convert:hover {\n",
              "      background-color: #E2EBFA;\n",
              "      box-shadow: 0px 1px 2px rgba(60, 64, 67, 0.3), 0px 1px 3px 1px rgba(60, 64, 67, 0.15);\n",
              "      fill: #174EA6;\n",
              "    }\n",
              "\n",
              "    [theme=dark] .colab-df-convert {\n",
              "      background-color: #3B4455;\n",
              "      fill: #D2E3FC;\n",
              "    }\n",
              "\n",
              "    [theme=dark] .colab-df-convert:hover {\n",
              "      background-color: #434B5C;\n",
              "      box-shadow: 0px 1px 3px 1px rgba(0, 0, 0, 0.15);\n",
              "      filter: drop-shadow(0px 1px 2px rgba(0, 0, 0, 0.3));\n",
              "      fill: #FFFFFF;\n",
              "    }\n",
              "  </style>\n",
              "\n",
              "      <script>\n",
              "        const buttonEl =\n",
              "          document.querySelector('#df-92afef2c-05c9-4707-8307-7a0786956f11 button.colab-df-convert');\n",
              "        buttonEl.style.display =\n",
              "          google.colab.kernel.accessAllowed ? 'block' : 'none';\n",
              "\n",
              "        async function convertToInteractive(key) {\n",
              "          const element = document.querySelector('#df-92afef2c-05c9-4707-8307-7a0786956f11');\n",
              "          const dataTable =\n",
              "            await google.colab.kernel.invokeFunction('convertToInteractive',\n",
              "                                                     [key], {});\n",
              "          if (!dataTable) return;\n",
              "\n",
              "          const docLinkHtml = 'Like what you see? Visit the ' +\n",
              "            '<a target=\"_blank\" href=https://colab.research.google.com/notebooks/data_table.ipynb>data table notebook</a>'\n",
              "            + ' to learn more about interactive tables.';\n",
              "          element.innerHTML = '';\n",
              "          dataTable['output_type'] = 'display_data';\n",
              "          await google.colab.output.renderOutput(dataTable, element);\n",
              "          const docLink = document.createElement('div');\n",
              "          docLink.innerHTML = docLinkHtml;\n",
              "          element.appendChild(docLink);\n",
              "        }\n",
              "      </script>\n",
              "    </div>\n",
              "  </div>\n",
              "  "
            ]
          },
          "metadata": {},
          "execution_count": 7
        }
      ],
      "source": [
        "# 데이터프레임의 통계 정보 \n",
        "breast_cancer_df.describe()"
      ]
    },
    {
      "cell_type": "markdown",
      "metadata": {
        "id": "0aw4zR796mbs"
      },
      "source": [
        "### [Q3] 분석 유형 확인\n",
        "분석할 타겟('label')은 몇 가지 종류로 구성되어 있습니까?"
      ]
    },
    {
      "cell_type": "code",
      "execution_count": 8,
      "metadata": {
        "colab": {
          "base_uri": "https://localhost:8080/"
        },
        "id": "nde0a6Qx6mbs",
        "outputId": "50b923ff-51ab-49b1-f45d-aee29eade611"
      },
      "outputs": [
        {
          "output_type": "execute_result",
          "data": {
            "text/plain": [
              "array([0, 1])"
            ]
          },
          "metadata": {},
          "execution_count": 8
        }
      ],
      "source": [
        "breast_cancer_df['label'].unique()"
      ]
    },
    {
      "cell_type": "markdown",
      "metadata": {
        "id": "9RSDMHB_6mbs"
      },
      "source": [
        "### [Q4] 결측치 처리\n",
        "분석할 데이터에 결측치가 있는지 확인하고, 결측치가 있는 데이터는 삭제하세요"
      ]
    },
    {
      "cell_type": "code",
      "execution_count": 9,
      "metadata": {
        "colab": {
          "base_uri": "https://localhost:8080/"
        },
        "id": "trLKLL0q6mbs",
        "outputId": "96520b37-3db6-444a-99ba-8e3e56938c0a"
      },
      "outputs": [
        {
          "output_type": "execute_result",
          "data": {
            "text/plain": [
              "mean radius                0\n",
              "mean texture               0\n",
              "mean perimeter             0\n",
              "mean area                  0\n",
              "mean smoothness            0\n",
              "mean compactness           0\n",
              "mean concavity             0\n",
              "mean concave points        0\n",
              "mean symmetry              0\n",
              "mean fractal dimension     0\n",
              "radius error               0\n",
              "texture error              0\n",
              "perimeter error            0\n",
              "area error                 0\n",
              "smoothness error           0\n",
              "compactness error          0\n",
              "concavity error            0\n",
              "concave points error       0\n",
              "symmetry error             0\n",
              "fractal dimension error    0\n",
              "worst radius               0\n",
              "worst texture              0\n",
              "worst perimeter            0\n",
              "worst area                 0\n",
              "worst smoothness           0\n",
              "worst compactness          0\n",
              "worst concavity            0\n",
              "worst concave points       0\n",
              "worst symmetry             0\n",
              "worst fractal dimension    0\n",
              "label                      0\n",
              "dtype: int64"
            ]
          },
          "metadata": {},
          "execution_count": 9
        }
      ],
      "source": [
        "# 결측치 확인\n",
        "breast_cancer_df.isnull().sum()"
      ]
    },
    {
      "cell_type": "markdown",
      "metadata": {
        "id": "xCmsfQiA6mbt"
      },
      "source": [
        "### [Q5] 데이터 분할\n"
      ]
    },
    {
      "cell_type": "code",
      "execution_count": 10,
      "metadata": {
        "id": "2rRV_QQ-6mbt"
      },
      "outputs": [],
      "source": [
        "# 독립변수와 종속변수 분할\n",
        "X = breast_cancer_df.iloc[:, :30]\n",
        "y = breast_cancer_df['label']"
      ]
    },
    {
      "cell_type": "markdown",
      "source": [
        "\n",
        "분석할 데이터를 train_test_split()함수를 사용하여 학습용과 테스트용으로 나누세요"
      ],
      "metadata": {
        "id": "sRjEcfG_Aql8"
      }
    },
    {
      "cell_type": "code",
      "source": [
        "from sklearn.model_selection import train_test_split\n",
        "# 학습용 데이터와 테스트용 데이터 분할\n",
        "X_train, X_test, y_train, y_test = train_test_split(X, y, random_state=0, stratify=y)\n",
        "\n",
        "print('학습용 데이터 {}개, 테스트용 데이터 {}개'.format(len(X_train), len(X_test)))"
      ],
      "metadata": {
        "colab": {
          "base_uri": "https://localhost:8080/"
        },
        "id": "1c0W0lfV_P6f",
        "outputId": "fc9d5e9d-d16e-4469-f8fd-9cdec099df7a"
      },
      "execution_count": 28,
      "outputs": [
        {
          "output_type": "stream",
          "name": "stdout",
          "text": [
            "학습용 데이터 426개, 테스트용 데이터 143개\n"
          ]
        }
      ]
    },
    {
      "cell_type": "markdown",
      "metadata": {
        "id": "msZKTRGq6mbu"
      },
      "source": [
        "## Step2. 학습"
      ]
    },
    {
      "cell_type": "markdown",
      "metadata": {
        "id": "Pt1G_k6A6mbu"
      },
      "source": [
        "### DecisionTreeClassifier\n",
        "분석할 데이터를 DecisionTreeClassifier를 사용하여 학습을 수행하세요"
      ]
    },
    {
      "cell_type": "code",
      "execution_count": 12,
      "metadata": {
        "colab": {
          "base_uri": "https://localhost:8080/",
          "height": 74
        },
        "id": "9prijuz36mbu",
        "outputId": "c33598ed-1e7a-4e5d-90cb-2e2b3ca0ece8"
      },
      "outputs": [
        {
          "output_type": "execute_result",
          "data": {
            "text/plain": [
              "DecisionTreeClassifier(random_state=42)"
            ],
            "text/html": [
              "<style>#sk-container-id-1 {color: black;background-color: white;}#sk-container-id-1 pre{padding: 0;}#sk-container-id-1 div.sk-toggleable {background-color: white;}#sk-container-id-1 label.sk-toggleable__label {cursor: pointer;display: block;width: 100%;margin-bottom: 0;padding: 0.3em;box-sizing: border-box;text-align: center;}#sk-container-id-1 label.sk-toggleable__label-arrow:before {content: \"▸\";float: left;margin-right: 0.25em;color: #696969;}#sk-container-id-1 label.sk-toggleable__label-arrow:hover:before {color: black;}#sk-container-id-1 div.sk-estimator:hover label.sk-toggleable__label-arrow:before {color: black;}#sk-container-id-1 div.sk-toggleable__content {max-height: 0;max-width: 0;overflow: hidden;text-align: left;background-color: #f0f8ff;}#sk-container-id-1 div.sk-toggleable__content pre {margin: 0.2em;color: black;border-radius: 0.25em;background-color: #f0f8ff;}#sk-container-id-1 input.sk-toggleable__control:checked~div.sk-toggleable__content {max-height: 200px;max-width: 100%;overflow: auto;}#sk-container-id-1 input.sk-toggleable__control:checked~label.sk-toggleable__label-arrow:before {content: \"▾\";}#sk-container-id-1 div.sk-estimator input.sk-toggleable__control:checked~label.sk-toggleable__label {background-color: #d4ebff;}#sk-container-id-1 div.sk-label input.sk-toggleable__control:checked~label.sk-toggleable__label {background-color: #d4ebff;}#sk-container-id-1 input.sk-hidden--visually {border: 0;clip: rect(1px 1px 1px 1px);clip: rect(1px, 1px, 1px, 1px);height: 1px;margin: -1px;overflow: hidden;padding: 0;position: absolute;width: 1px;}#sk-container-id-1 div.sk-estimator {font-family: monospace;background-color: #f0f8ff;border: 1px dotted black;border-radius: 0.25em;box-sizing: border-box;margin-bottom: 0.5em;}#sk-container-id-1 div.sk-estimator:hover {background-color: #d4ebff;}#sk-container-id-1 div.sk-parallel-item::after {content: \"\";width: 100%;border-bottom: 1px solid gray;flex-grow: 1;}#sk-container-id-1 div.sk-label:hover label.sk-toggleable__label {background-color: #d4ebff;}#sk-container-id-1 div.sk-serial::before {content: \"\";position: absolute;border-left: 1px solid gray;box-sizing: border-box;top: 0;bottom: 0;left: 50%;z-index: 0;}#sk-container-id-1 div.sk-serial {display: flex;flex-direction: column;align-items: center;background-color: white;padding-right: 0.2em;padding-left: 0.2em;position: relative;}#sk-container-id-1 div.sk-item {position: relative;z-index: 1;}#sk-container-id-1 div.sk-parallel {display: flex;align-items: stretch;justify-content: center;background-color: white;position: relative;}#sk-container-id-1 div.sk-item::before, #sk-container-id-1 div.sk-parallel-item::before {content: \"\";position: absolute;border-left: 1px solid gray;box-sizing: border-box;top: 0;bottom: 0;left: 50%;z-index: -1;}#sk-container-id-1 div.sk-parallel-item {display: flex;flex-direction: column;z-index: 1;position: relative;background-color: white;}#sk-container-id-1 div.sk-parallel-item:first-child::after {align-self: flex-end;width: 50%;}#sk-container-id-1 div.sk-parallel-item:last-child::after {align-self: flex-start;width: 50%;}#sk-container-id-1 div.sk-parallel-item:only-child::after {width: 0;}#sk-container-id-1 div.sk-dashed-wrapped {border: 1px dashed gray;margin: 0 0.4em 0.5em 0.4em;box-sizing: border-box;padding-bottom: 0.4em;background-color: white;}#sk-container-id-1 div.sk-label label {font-family: monospace;font-weight: bold;display: inline-block;line-height: 1.2em;}#sk-container-id-1 div.sk-label-container {text-align: center;}#sk-container-id-1 div.sk-container {/* jupyter's `normalize.less` sets `[hidden] { display: none; }` but bootstrap.min.css set `[hidden] { display: none !important; }` so we also need the `!important` here to be able to override the default hidden behavior on the sphinx rendered scikit-learn.org. See: https://github.com/scikit-learn/scikit-learn/issues/21755 */display: inline-block !important;position: relative;}#sk-container-id-1 div.sk-text-repr-fallback {display: none;}</style><div id=\"sk-container-id-1\" class=\"sk-top-container\"><div class=\"sk-text-repr-fallback\"><pre>DecisionTreeClassifier(random_state=42)</pre><b>In a Jupyter environment, please rerun this cell to show the HTML representation or trust the notebook. <br />On GitHub, the HTML representation is unable to render, please try loading this page with nbviewer.org.</b></div><div class=\"sk-container\" hidden><div class=\"sk-item\"><div class=\"sk-estimator sk-toggleable\"><input class=\"sk-toggleable__control sk-hidden--visually\" id=\"sk-estimator-id-1\" type=\"checkbox\" checked><label for=\"sk-estimator-id-1\" class=\"sk-toggleable__label sk-toggleable__label-arrow\">DecisionTreeClassifier</label><div class=\"sk-toggleable__content\"><pre>DecisionTreeClassifier(random_state=42)</pre></div></div></div></div></div>"
            ]
          },
          "metadata": {},
          "execution_count": 12
        }
      ],
      "source": [
        "from sklearn.tree import DecisionTreeClassifier\n",
        "dt_model = DecisionTreeClassifier(random_state=42)\n",
        "dt_model.fit(X_train , y_train)"
      ]
    },
    {
      "cell_type": "markdown",
      "metadata": {
        "id": "BHOsIdv86mbu"
      },
      "source": [
        "### KNeighborsClassifier\n"
      ]
    },
    {
      "cell_type": "code",
      "source": [
        "from sklearn.neighbors import KNeighborsClassifier\n",
        "\n",
        "neighbor_model = KNeighborsClassifier(n_neighbors=5)\n",
        "neighbor_model.fit(X_train , y_train)"
      ],
      "metadata": {
        "colab": {
          "base_uri": "https://localhost:8080/",
          "height": 74
        },
        "id": "-wFN3o3ZBQSj",
        "outputId": "c7f027ff-eef5-41ec-d43f-54cd8d6e6d68"
      },
      "execution_count": 13,
      "outputs": [
        {
          "output_type": "execute_result",
          "data": {
            "text/plain": [
              "KNeighborsClassifier()"
            ],
            "text/html": [
              "<style>#sk-container-id-2 {color: black;background-color: white;}#sk-container-id-2 pre{padding: 0;}#sk-container-id-2 div.sk-toggleable {background-color: white;}#sk-container-id-2 label.sk-toggleable__label {cursor: pointer;display: block;width: 100%;margin-bottom: 0;padding: 0.3em;box-sizing: border-box;text-align: center;}#sk-container-id-2 label.sk-toggleable__label-arrow:before {content: \"▸\";float: left;margin-right: 0.25em;color: #696969;}#sk-container-id-2 label.sk-toggleable__label-arrow:hover:before {color: black;}#sk-container-id-2 div.sk-estimator:hover label.sk-toggleable__label-arrow:before {color: black;}#sk-container-id-2 div.sk-toggleable__content {max-height: 0;max-width: 0;overflow: hidden;text-align: left;background-color: #f0f8ff;}#sk-container-id-2 div.sk-toggleable__content pre {margin: 0.2em;color: black;border-radius: 0.25em;background-color: #f0f8ff;}#sk-container-id-2 input.sk-toggleable__control:checked~div.sk-toggleable__content {max-height: 200px;max-width: 100%;overflow: auto;}#sk-container-id-2 input.sk-toggleable__control:checked~label.sk-toggleable__label-arrow:before {content: \"▾\";}#sk-container-id-2 div.sk-estimator input.sk-toggleable__control:checked~label.sk-toggleable__label {background-color: #d4ebff;}#sk-container-id-2 div.sk-label input.sk-toggleable__control:checked~label.sk-toggleable__label {background-color: #d4ebff;}#sk-container-id-2 input.sk-hidden--visually {border: 0;clip: rect(1px 1px 1px 1px);clip: rect(1px, 1px, 1px, 1px);height: 1px;margin: -1px;overflow: hidden;padding: 0;position: absolute;width: 1px;}#sk-container-id-2 div.sk-estimator {font-family: monospace;background-color: #f0f8ff;border: 1px dotted black;border-radius: 0.25em;box-sizing: border-box;margin-bottom: 0.5em;}#sk-container-id-2 div.sk-estimator:hover {background-color: #d4ebff;}#sk-container-id-2 div.sk-parallel-item::after {content: \"\";width: 100%;border-bottom: 1px solid gray;flex-grow: 1;}#sk-container-id-2 div.sk-label:hover label.sk-toggleable__label {background-color: #d4ebff;}#sk-container-id-2 div.sk-serial::before {content: \"\";position: absolute;border-left: 1px solid gray;box-sizing: border-box;top: 0;bottom: 0;left: 50%;z-index: 0;}#sk-container-id-2 div.sk-serial {display: flex;flex-direction: column;align-items: center;background-color: white;padding-right: 0.2em;padding-left: 0.2em;position: relative;}#sk-container-id-2 div.sk-item {position: relative;z-index: 1;}#sk-container-id-2 div.sk-parallel {display: flex;align-items: stretch;justify-content: center;background-color: white;position: relative;}#sk-container-id-2 div.sk-item::before, #sk-container-id-2 div.sk-parallel-item::before {content: \"\";position: absolute;border-left: 1px solid gray;box-sizing: border-box;top: 0;bottom: 0;left: 50%;z-index: -1;}#sk-container-id-2 div.sk-parallel-item {display: flex;flex-direction: column;z-index: 1;position: relative;background-color: white;}#sk-container-id-2 div.sk-parallel-item:first-child::after {align-self: flex-end;width: 50%;}#sk-container-id-2 div.sk-parallel-item:last-child::after {align-self: flex-start;width: 50%;}#sk-container-id-2 div.sk-parallel-item:only-child::after {width: 0;}#sk-container-id-2 div.sk-dashed-wrapped {border: 1px dashed gray;margin: 0 0.4em 0.5em 0.4em;box-sizing: border-box;padding-bottom: 0.4em;background-color: white;}#sk-container-id-2 div.sk-label label {font-family: monospace;font-weight: bold;display: inline-block;line-height: 1.2em;}#sk-container-id-2 div.sk-label-container {text-align: center;}#sk-container-id-2 div.sk-container {/* jupyter's `normalize.less` sets `[hidden] { display: none; }` but bootstrap.min.css set `[hidden] { display: none !important; }` so we also need the `!important` here to be able to override the default hidden behavior on the sphinx rendered scikit-learn.org. See: https://github.com/scikit-learn/scikit-learn/issues/21755 */display: inline-block !important;position: relative;}#sk-container-id-2 div.sk-text-repr-fallback {display: none;}</style><div id=\"sk-container-id-2\" class=\"sk-top-container\"><div class=\"sk-text-repr-fallback\"><pre>KNeighborsClassifier()</pre><b>In a Jupyter environment, please rerun this cell to show the HTML representation or trust the notebook. <br />On GitHub, the HTML representation is unable to render, please try loading this page with nbviewer.org.</b></div><div class=\"sk-container\" hidden><div class=\"sk-item\"><div class=\"sk-estimator sk-toggleable\"><input class=\"sk-toggleable__control sk-hidden--visually\" id=\"sk-estimator-id-2\" type=\"checkbox\" checked><label for=\"sk-estimator-id-2\" class=\"sk-toggleable__label sk-toggleable__label-arrow\">KNeighborsClassifier</label><div class=\"sk-toggleable__content\"><pre>KNeighborsClassifier()</pre></div></div></div></div></div>"
            ]
          },
          "metadata": {},
          "execution_count": 13
        }
      ]
    },
    {
      "cell_type": "markdown",
      "source": [
        "### SVC"
      ],
      "metadata": {
        "id": "6WVstgqEA8al"
      }
    },
    {
      "cell_type": "code",
      "source": [
        "from sklearn.svm import SVC\n",
        "svm_model = SVC()\n",
        "svm_model.fit(X_train , y_train)"
      ],
      "metadata": {
        "colab": {
          "base_uri": "https://localhost:8080/",
          "height": 74
        },
        "id": "YIJykdfoBp2-",
        "outputId": "a0b4afd5-ef78-482c-bdad-c07c4d4ab590"
      },
      "execution_count": 14,
      "outputs": [
        {
          "output_type": "execute_result",
          "data": {
            "text/plain": [
              "SVC()"
            ],
            "text/html": [
              "<style>#sk-container-id-3 {color: black;background-color: white;}#sk-container-id-3 pre{padding: 0;}#sk-container-id-3 div.sk-toggleable {background-color: white;}#sk-container-id-3 label.sk-toggleable__label {cursor: pointer;display: block;width: 100%;margin-bottom: 0;padding: 0.3em;box-sizing: border-box;text-align: center;}#sk-container-id-3 label.sk-toggleable__label-arrow:before {content: \"▸\";float: left;margin-right: 0.25em;color: #696969;}#sk-container-id-3 label.sk-toggleable__label-arrow:hover:before {color: black;}#sk-container-id-3 div.sk-estimator:hover label.sk-toggleable__label-arrow:before {color: black;}#sk-container-id-3 div.sk-toggleable__content {max-height: 0;max-width: 0;overflow: hidden;text-align: left;background-color: #f0f8ff;}#sk-container-id-3 div.sk-toggleable__content pre {margin: 0.2em;color: black;border-radius: 0.25em;background-color: #f0f8ff;}#sk-container-id-3 input.sk-toggleable__control:checked~div.sk-toggleable__content {max-height: 200px;max-width: 100%;overflow: auto;}#sk-container-id-3 input.sk-toggleable__control:checked~label.sk-toggleable__label-arrow:before {content: \"▾\";}#sk-container-id-3 div.sk-estimator input.sk-toggleable__control:checked~label.sk-toggleable__label {background-color: #d4ebff;}#sk-container-id-3 div.sk-label input.sk-toggleable__control:checked~label.sk-toggleable__label {background-color: #d4ebff;}#sk-container-id-3 input.sk-hidden--visually {border: 0;clip: rect(1px 1px 1px 1px);clip: rect(1px, 1px, 1px, 1px);height: 1px;margin: -1px;overflow: hidden;padding: 0;position: absolute;width: 1px;}#sk-container-id-3 div.sk-estimator {font-family: monospace;background-color: #f0f8ff;border: 1px dotted black;border-radius: 0.25em;box-sizing: border-box;margin-bottom: 0.5em;}#sk-container-id-3 div.sk-estimator:hover {background-color: #d4ebff;}#sk-container-id-3 div.sk-parallel-item::after {content: \"\";width: 100%;border-bottom: 1px solid gray;flex-grow: 1;}#sk-container-id-3 div.sk-label:hover label.sk-toggleable__label {background-color: #d4ebff;}#sk-container-id-3 div.sk-serial::before {content: \"\";position: absolute;border-left: 1px solid gray;box-sizing: border-box;top: 0;bottom: 0;left: 50%;z-index: 0;}#sk-container-id-3 div.sk-serial {display: flex;flex-direction: column;align-items: center;background-color: white;padding-right: 0.2em;padding-left: 0.2em;position: relative;}#sk-container-id-3 div.sk-item {position: relative;z-index: 1;}#sk-container-id-3 div.sk-parallel {display: flex;align-items: stretch;justify-content: center;background-color: white;position: relative;}#sk-container-id-3 div.sk-item::before, #sk-container-id-3 div.sk-parallel-item::before {content: \"\";position: absolute;border-left: 1px solid gray;box-sizing: border-box;top: 0;bottom: 0;left: 50%;z-index: -1;}#sk-container-id-3 div.sk-parallel-item {display: flex;flex-direction: column;z-index: 1;position: relative;background-color: white;}#sk-container-id-3 div.sk-parallel-item:first-child::after {align-self: flex-end;width: 50%;}#sk-container-id-3 div.sk-parallel-item:last-child::after {align-self: flex-start;width: 50%;}#sk-container-id-3 div.sk-parallel-item:only-child::after {width: 0;}#sk-container-id-3 div.sk-dashed-wrapped {border: 1px dashed gray;margin: 0 0.4em 0.5em 0.4em;box-sizing: border-box;padding-bottom: 0.4em;background-color: white;}#sk-container-id-3 div.sk-label label {font-family: monospace;font-weight: bold;display: inline-block;line-height: 1.2em;}#sk-container-id-3 div.sk-label-container {text-align: center;}#sk-container-id-3 div.sk-container {/* jupyter's `normalize.less` sets `[hidden] { display: none; }` but bootstrap.min.css set `[hidden] { display: none !important; }` so we also need the `!important` here to be able to override the default hidden behavior on the sphinx rendered scikit-learn.org. See: https://github.com/scikit-learn/scikit-learn/issues/21755 */display: inline-block !important;position: relative;}#sk-container-id-3 div.sk-text-repr-fallback {display: none;}</style><div id=\"sk-container-id-3\" class=\"sk-top-container\"><div class=\"sk-text-repr-fallback\"><pre>SVC()</pre><b>In a Jupyter environment, please rerun this cell to show the HTML representation or trust the notebook. <br />On GitHub, the HTML representation is unable to render, please try loading this page with nbviewer.org.</b></div><div class=\"sk-container\" hidden><div class=\"sk-item\"><div class=\"sk-estimator sk-toggleable\"><input class=\"sk-toggleable__control sk-hidden--visually\" id=\"sk-estimator-id-3\" type=\"checkbox\" checked><label for=\"sk-estimator-id-3\" class=\"sk-toggleable__label sk-toggleable__label-arrow\">SVC</label><div class=\"sk-toggleable__content\"><pre>SVC()</pre></div></div></div></div></div>"
            ]
          },
          "metadata": {},
          "execution_count": 14
        }
      ]
    },
    {
      "cell_type": "markdown",
      "source": [
        "\n",
        "### RandomForestClassifier"
      ],
      "metadata": {
        "id": "i517rZXrBkDq"
      }
    },
    {
      "cell_type": "code",
      "source": [
        "from sklearn.ensemble import RandomForestClassifier\n",
        "forest_model = RandomForestClassifier(n_estimators=300, random_state=42)\n",
        "forest_model.fit(X_train , y_train)"
      ],
      "metadata": {
        "colab": {
          "base_uri": "https://localhost:8080/",
          "height": 74
        },
        "id": "U_FgC67zBq9-",
        "outputId": "f0fd7a5a-3fad-488a-eeb8-dccbb9375c49"
      },
      "execution_count": 15,
      "outputs": [
        {
          "output_type": "execute_result",
          "data": {
            "text/plain": [
              "RandomForestClassifier(n_estimators=300, random_state=42)"
            ],
            "text/html": [
              "<style>#sk-container-id-4 {color: black;background-color: white;}#sk-container-id-4 pre{padding: 0;}#sk-container-id-4 div.sk-toggleable {background-color: white;}#sk-container-id-4 label.sk-toggleable__label {cursor: pointer;display: block;width: 100%;margin-bottom: 0;padding: 0.3em;box-sizing: border-box;text-align: center;}#sk-container-id-4 label.sk-toggleable__label-arrow:before {content: \"▸\";float: left;margin-right: 0.25em;color: #696969;}#sk-container-id-4 label.sk-toggleable__label-arrow:hover:before {color: black;}#sk-container-id-4 div.sk-estimator:hover label.sk-toggleable__label-arrow:before {color: black;}#sk-container-id-4 div.sk-toggleable__content {max-height: 0;max-width: 0;overflow: hidden;text-align: left;background-color: #f0f8ff;}#sk-container-id-4 div.sk-toggleable__content pre {margin: 0.2em;color: black;border-radius: 0.25em;background-color: #f0f8ff;}#sk-container-id-4 input.sk-toggleable__control:checked~div.sk-toggleable__content {max-height: 200px;max-width: 100%;overflow: auto;}#sk-container-id-4 input.sk-toggleable__control:checked~label.sk-toggleable__label-arrow:before {content: \"▾\";}#sk-container-id-4 div.sk-estimator input.sk-toggleable__control:checked~label.sk-toggleable__label {background-color: #d4ebff;}#sk-container-id-4 div.sk-label input.sk-toggleable__control:checked~label.sk-toggleable__label {background-color: #d4ebff;}#sk-container-id-4 input.sk-hidden--visually {border: 0;clip: rect(1px 1px 1px 1px);clip: rect(1px, 1px, 1px, 1px);height: 1px;margin: -1px;overflow: hidden;padding: 0;position: absolute;width: 1px;}#sk-container-id-4 div.sk-estimator {font-family: monospace;background-color: #f0f8ff;border: 1px dotted black;border-radius: 0.25em;box-sizing: border-box;margin-bottom: 0.5em;}#sk-container-id-4 div.sk-estimator:hover {background-color: #d4ebff;}#sk-container-id-4 div.sk-parallel-item::after {content: \"\";width: 100%;border-bottom: 1px solid gray;flex-grow: 1;}#sk-container-id-4 div.sk-label:hover label.sk-toggleable__label {background-color: #d4ebff;}#sk-container-id-4 div.sk-serial::before {content: \"\";position: absolute;border-left: 1px solid gray;box-sizing: border-box;top: 0;bottom: 0;left: 50%;z-index: 0;}#sk-container-id-4 div.sk-serial {display: flex;flex-direction: column;align-items: center;background-color: white;padding-right: 0.2em;padding-left: 0.2em;position: relative;}#sk-container-id-4 div.sk-item {position: relative;z-index: 1;}#sk-container-id-4 div.sk-parallel {display: flex;align-items: stretch;justify-content: center;background-color: white;position: relative;}#sk-container-id-4 div.sk-item::before, #sk-container-id-4 div.sk-parallel-item::before {content: \"\";position: absolute;border-left: 1px solid gray;box-sizing: border-box;top: 0;bottom: 0;left: 50%;z-index: -1;}#sk-container-id-4 div.sk-parallel-item {display: flex;flex-direction: column;z-index: 1;position: relative;background-color: white;}#sk-container-id-4 div.sk-parallel-item:first-child::after {align-self: flex-end;width: 50%;}#sk-container-id-4 div.sk-parallel-item:last-child::after {align-self: flex-start;width: 50%;}#sk-container-id-4 div.sk-parallel-item:only-child::after {width: 0;}#sk-container-id-4 div.sk-dashed-wrapped {border: 1px dashed gray;margin: 0 0.4em 0.5em 0.4em;box-sizing: border-box;padding-bottom: 0.4em;background-color: white;}#sk-container-id-4 div.sk-label label {font-family: monospace;font-weight: bold;display: inline-block;line-height: 1.2em;}#sk-container-id-4 div.sk-label-container {text-align: center;}#sk-container-id-4 div.sk-container {/* jupyter's `normalize.less` sets `[hidden] { display: none; }` but bootstrap.min.css set `[hidden] { display: none !important; }` so we also need the `!important` here to be able to override the default hidden behavior on the sphinx rendered scikit-learn.org. See: https://github.com/scikit-learn/scikit-learn/issues/21755 */display: inline-block !important;position: relative;}#sk-container-id-4 div.sk-text-repr-fallback {display: none;}</style><div id=\"sk-container-id-4\" class=\"sk-top-container\"><div class=\"sk-text-repr-fallback\"><pre>RandomForestClassifier(n_estimators=300, random_state=42)</pre><b>In a Jupyter environment, please rerun this cell to show the HTML representation or trust the notebook. <br />On GitHub, the HTML representation is unable to render, please try loading this page with nbviewer.org.</b></div><div class=\"sk-container\" hidden><div class=\"sk-item\"><div class=\"sk-estimator sk-toggleable\"><input class=\"sk-toggleable__control sk-hidden--visually\" id=\"sk-estimator-id-4\" type=\"checkbox\" checked><label for=\"sk-estimator-id-4\" class=\"sk-toggleable__label sk-toggleable__label-arrow\">RandomForestClassifier</label><div class=\"sk-toggleable__content\"><pre>RandomForestClassifier(n_estimators=300, random_state=42)</pre></div></div></div></div></div>"
            ]
          },
          "metadata": {},
          "execution_count": 15
        }
      ]
    },
    {
      "cell_type": "markdown",
      "source": [
        "\n",
        "### LogisticRegression"
      ],
      "metadata": {
        "id": "UHq17KvvBk1G"
      }
    },
    {
      "cell_type": "code",
      "source": [
        "from sklearn.linear_model import LogisticRegression\n",
        "logistic_model = LogisticRegression(random_state=42)\n",
        "logistic_model.fit(X_train , y_train)"
      ],
      "metadata": {
        "colab": {
          "base_uri": "https://localhost:8080/",
          "height": 248
        },
        "id": "h2hXUq_FBsCL",
        "outputId": "16d97600-9454-4807-acd7-06e534da9542"
      },
      "execution_count": 16,
      "outputs": [
        {
          "output_type": "stream",
          "name": "stderr",
          "text": [
            "/usr/local/lib/python3.9/dist-packages/sklearn/linear_model/_logistic.py:458: ConvergenceWarning: lbfgs failed to converge (status=1):\n",
            "STOP: TOTAL NO. of ITERATIONS REACHED LIMIT.\n",
            "\n",
            "Increase the number of iterations (max_iter) or scale the data as shown in:\n",
            "    https://scikit-learn.org/stable/modules/preprocessing.html\n",
            "Please also refer to the documentation for alternative solver options:\n",
            "    https://scikit-learn.org/stable/modules/linear_model.html#logistic-regression\n",
            "  n_iter_i = _check_optimize_result(\n"
          ]
        },
        {
          "output_type": "execute_result",
          "data": {
            "text/plain": [
              "LogisticRegression(random_state=42)"
            ],
            "text/html": [
              "<style>#sk-container-id-5 {color: black;background-color: white;}#sk-container-id-5 pre{padding: 0;}#sk-container-id-5 div.sk-toggleable {background-color: white;}#sk-container-id-5 label.sk-toggleable__label {cursor: pointer;display: block;width: 100%;margin-bottom: 0;padding: 0.3em;box-sizing: border-box;text-align: center;}#sk-container-id-5 label.sk-toggleable__label-arrow:before {content: \"▸\";float: left;margin-right: 0.25em;color: #696969;}#sk-container-id-5 label.sk-toggleable__label-arrow:hover:before {color: black;}#sk-container-id-5 div.sk-estimator:hover label.sk-toggleable__label-arrow:before {color: black;}#sk-container-id-5 div.sk-toggleable__content {max-height: 0;max-width: 0;overflow: hidden;text-align: left;background-color: #f0f8ff;}#sk-container-id-5 div.sk-toggleable__content pre {margin: 0.2em;color: black;border-radius: 0.25em;background-color: #f0f8ff;}#sk-container-id-5 input.sk-toggleable__control:checked~div.sk-toggleable__content {max-height: 200px;max-width: 100%;overflow: auto;}#sk-container-id-5 input.sk-toggleable__control:checked~label.sk-toggleable__label-arrow:before {content: \"▾\";}#sk-container-id-5 div.sk-estimator input.sk-toggleable__control:checked~label.sk-toggleable__label {background-color: #d4ebff;}#sk-container-id-5 div.sk-label input.sk-toggleable__control:checked~label.sk-toggleable__label {background-color: #d4ebff;}#sk-container-id-5 input.sk-hidden--visually {border: 0;clip: rect(1px 1px 1px 1px);clip: rect(1px, 1px, 1px, 1px);height: 1px;margin: -1px;overflow: hidden;padding: 0;position: absolute;width: 1px;}#sk-container-id-5 div.sk-estimator {font-family: monospace;background-color: #f0f8ff;border: 1px dotted black;border-radius: 0.25em;box-sizing: border-box;margin-bottom: 0.5em;}#sk-container-id-5 div.sk-estimator:hover {background-color: #d4ebff;}#sk-container-id-5 div.sk-parallel-item::after {content: \"\";width: 100%;border-bottom: 1px solid gray;flex-grow: 1;}#sk-container-id-5 div.sk-label:hover label.sk-toggleable__label {background-color: #d4ebff;}#sk-container-id-5 div.sk-serial::before {content: \"\";position: absolute;border-left: 1px solid gray;box-sizing: border-box;top: 0;bottom: 0;left: 50%;z-index: 0;}#sk-container-id-5 div.sk-serial {display: flex;flex-direction: column;align-items: center;background-color: white;padding-right: 0.2em;padding-left: 0.2em;position: relative;}#sk-container-id-5 div.sk-item {position: relative;z-index: 1;}#sk-container-id-5 div.sk-parallel {display: flex;align-items: stretch;justify-content: center;background-color: white;position: relative;}#sk-container-id-5 div.sk-item::before, #sk-container-id-5 div.sk-parallel-item::before {content: \"\";position: absolute;border-left: 1px solid gray;box-sizing: border-box;top: 0;bottom: 0;left: 50%;z-index: -1;}#sk-container-id-5 div.sk-parallel-item {display: flex;flex-direction: column;z-index: 1;position: relative;background-color: white;}#sk-container-id-5 div.sk-parallel-item:first-child::after {align-self: flex-end;width: 50%;}#sk-container-id-5 div.sk-parallel-item:last-child::after {align-self: flex-start;width: 50%;}#sk-container-id-5 div.sk-parallel-item:only-child::after {width: 0;}#sk-container-id-5 div.sk-dashed-wrapped {border: 1px dashed gray;margin: 0 0.4em 0.5em 0.4em;box-sizing: border-box;padding-bottom: 0.4em;background-color: white;}#sk-container-id-5 div.sk-label label {font-family: monospace;font-weight: bold;display: inline-block;line-height: 1.2em;}#sk-container-id-5 div.sk-label-container {text-align: center;}#sk-container-id-5 div.sk-container {/* jupyter's `normalize.less` sets `[hidden] { display: none; }` but bootstrap.min.css set `[hidden] { display: none !important; }` so we also need the `!important` here to be able to override the default hidden behavior on the sphinx rendered scikit-learn.org. See: https://github.com/scikit-learn/scikit-learn/issues/21755 */display: inline-block !important;position: relative;}#sk-container-id-5 div.sk-text-repr-fallback {display: none;}</style><div id=\"sk-container-id-5\" class=\"sk-top-container\"><div class=\"sk-text-repr-fallback\"><pre>LogisticRegression(random_state=42)</pre><b>In a Jupyter environment, please rerun this cell to show the HTML representation or trust the notebook. <br />On GitHub, the HTML representation is unable to render, please try loading this page with nbviewer.org.</b></div><div class=\"sk-container\" hidden><div class=\"sk-item\"><div class=\"sk-estimator sk-toggleable\"><input class=\"sk-toggleable__control sk-hidden--visually\" id=\"sk-estimator-id-5\" type=\"checkbox\" checked><label for=\"sk-estimator-id-5\" class=\"sk-toggleable__label sk-toggleable__label-arrow\">LogisticRegression</label><div class=\"sk-toggleable__content\"><pre>LogisticRegression(random_state=42)</pre></div></div></div></div></div>"
            ]
          },
          "metadata": {},
          "execution_count": 16
        }
      ]
    },
    {
      "cell_type": "markdown",
      "source": [
        "\n",
        "### GradientBoostingClassifier"
      ],
      "metadata": {
        "id": "8sbZmIHpBlt_"
      }
    },
    {
      "cell_type": "code",
      "source": [
        "from sklearn.ensemble import GradientBoostingClassifier\n",
        "gbm_model = GradientBoostingClassifier(random_state=42)\n",
        "gbm_model.fit(X_train , y_train)"
      ],
      "metadata": {
        "colab": {
          "base_uri": "https://localhost:8080/",
          "height": 74
        },
        "id": "BYIZPUPWBtpi",
        "outputId": "ccd6e837-e9e2-437f-bead-f58a0cb8c4df"
      },
      "execution_count": 17,
      "outputs": [
        {
          "output_type": "execute_result",
          "data": {
            "text/plain": [
              "GradientBoostingClassifier(random_state=42)"
            ],
            "text/html": [
              "<style>#sk-container-id-6 {color: black;background-color: white;}#sk-container-id-6 pre{padding: 0;}#sk-container-id-6 div.sk-toggleable {background-color: white;}#sk-container-id-6 label.sk-toggleable__label {cursor: pointer;display: block;width: 100%;margin-bottom: 0;padding: 0.3em;box-sizing: border-box;text-align: center;}#sk-container-id-6 label.sk-toggleable__label-arrow:before {content: \"▸\";float: left;margin-right: 0.25em;color: #696969;}#sk-container-id-6 label.sk-toggleable__label-arrow:hover:before {color: black;}#sk-container-id-6 div.sk-estimator:hover label.sk-toggleable__label-arrow:before {color: black;}#sk-container-id-6 div.sk-toggleable__content {max-height: 0;max-width: 0;overflow: hidden;text-align: left;background-color: #f0f8ff;}#sk-container-id-6 div.sk-toggleable__content pre {margin: 0.2em;color: black;border-radius: 0.25em;background-color: #f0f8ff;}#sk-container-id-6 input.sk-toggleable__control:checked~div.sk-toggleable__content {max-height: 200px;max-width: 100%;overflow: auto;}#sk-container-id-6 input.sk-toggleable__control:checked~label.sk-toggleable__label-arrow:before {content: \"▾\";}#sk-container-id-6 div.sk-estimator input.sk-toggleable__control:checked~label.sk-toggleable__label {background-color: #d4ebff;}#sk-container-id-6 div.sk-label input.sk-toggleable__control:checked~label.sk-toggleable__label {background-color: #d4ebff;}#sk-container-id-6 input.sk-hidden--visually {border: 0;clip: rect(1px 1px 1px 1px);clip: rect(1px, 1px, 1px, 1px);height: 1px;margin: -1px;overflow: hidden;padding: 0;position: absolute;width: 1px;}#sk-container-id-6 div.sk-estimator {font-family: monospace;background-color: #f0f8ff;border: 1px dotted black;border-radius: 0.25em;box-sizing: border-box;margin-bottom: 0.5em;}#sk-container-id-6 div.sk-estimator:hover {background-color: #d4ebff;}#sk-container-id-6 div.sk-parallel-item::after {content: \"\";width: 100%;border-bottom: 1px solid gray;flex-grow: 1;}#sk-container-id-6 div.sk-label:hover label.sk-toggleable__label {background-color: #d4ebff;}#sk-container-id-6 div.sk-serial::before {content: \"\";position: absolute;border-left: 1px solid gray;box-sizing: border-box;top: 0;bottom: 0;left: 50%;z-index: 0;}#sk-container-id-6 div.sk-serial {display: flex;flex-direction: column;align-items: center;background-color: white;padding-right: 0.2em;padding-left: 0.2em;position: relative;}#sk-container-id-6 div.sk-item {position: relative;z-index: 1;}#sk-container-id-6 div.sk-parallel {display: flex;align-items: stretch;justify-content: center;background-color: white;position: relative;}#sk-container-id-6 div.sk-item::before, #sk-container-id-6 div.sk-parallel-item::before {content: \"\";position: absolute;border-left: 1px solid gray;box-sizing: border-box;top: 0;bottom: 0;left: 50%;z-index: -1;}#sk-container-id-6 div.sk-parallel-item {display: flex;flex-direction: column;z-index: 1;position: relative;background-color: white;}#sk-container-id-6 div.sk-parallel-item:first-child::after {align-self: flex-end;width: 50%;}#sk-container-id-6 div.sk-parallel-item:last-child::after {align-self: flex-start;width: 50%;}#sk-container-id-6 div.sk-parallel-item:only-child::after {width: 0;}#sk-container-id-6 div.sk-dashed-wrapped {border: 1px dashed gray;margin: 0 0.4em 0.5em 0.4em;box-sizing: border-box;padding-bottom: 0.4em;background-color: white;}#sk-container-id-6 div.sk-label label {font-family: monospace;font-weight: bold;display: inline-block;line-height: 1.2em;}#sk-container-id-6 div.sk-label-container {text-align: center;}#sk-container-id-6 div.sk-container {/* jupyter's `normalize.less` sets `[hidden] { display: none; }` but bootstrap.min.css set `[hidden] { display: none !important; }` so we also need the `!important` here to be able to override the default hidden behavior on the sphinx rendered scikit-learn.org. See: https://github.com/scikit-learn/scikit-learn/issues/21755 */display: inline-block !important;position: relative;}#sk-container-id-6 div.sk-text-repr-fallback {display: none;}</style><div id=\"sk-container-id-6\" class=\"sk-top-container\"><div class=\"sk-text-repr-fallback\"><pre>GradientBoostingClassifier(random_state=42)</pre><b>In a Jupyter environment, please rerun this cell to show the HTML representation or trust the notebook. <br />On GitHub, the HTML representation is unable to render, please try loading this page with nbviewer.org.</b></div><div class=\"sk-container\" hidden><div class=\"sk-item\"><div class=\"sk-estimator sk-toggleable\"><input class=\"sk-toggleable__control sk-hidden--visually\" id=\"sk-estimator-id-6\" type=\"checkbox\" checked><label for=\"sk-estimator-id-6\" class=\"sk-toggleable__label sk-toggleable__label-arrow\">GradientBoostingClassifier</label><div class=\"sk-toggleable__content\"><pre>GradientBoostingClassifier(random_state=42)</pre></div></div></div></div></div>"
            ]
          },
          "metadata": {},
          "execution_count": 17
        }
      ]
    },
    {
      "cell_type": "markdown",
      "source": [
        "\n",
        "### XGBClassifier"
      ],
      "metadata": {
        "id": "-_A047IyBm-A"
      }
    },
    {
      "cell_type": "code",
      "source": [
        "from xgboost import XGBClassifier, plot_importance\n",
        "import matplotlib.pyplot as plt\n",
        "\n",
        "xgb_model = XGBClassifier(n_estimators=300, learning_rate=0.1, max_depth=3, random_state=42)\n",
        "xgb_model.fit(X_train , y_train)"
      ],
      "metadata": {
        "colab": {
          "base_uri": "https://localhost:8080/",
          "height": 248
        },
        "id": "8sdvGYkaBu8g",
        "outputId": "2e5dd440-cb5a-4ec8-c989-871f2924d2fa"
      },
      "execution_count": 18,
      "outputs": [
        {
          "output_type": "execute_result",
          "data": {
            "text/plain": [
              "XGBClassifier(base_score=None, booster=None, callbacks=None,\n",
              "              colsample_bylevel=None, colsample_bynode=None,\n",
              "              colsample_bytree=None, early_stopping_rounds=None,\n",
              "              enable_categorical=False, eval_metric=None, feature_types=None,\n",
              "              gamma=None, gpu_id=None, grow_policy=None, importance_type=None,\n",
              "              interaction_constraints=None, learning_rate=0.1, max_bin=None,\n",
              "              max_cat_threshold=None, max_cat_to_onehot=None,\n",
              "              max_delta_step=None, max_depth=3, max_leaves=None,\n",
              "              min_child_weight=None, missing=nan, monotone_constraints=None,\n",
              "              n_estimators=300, n_jobs=None, num_parallel_tree=None,\n",
              "              predictor=None, random_state=42, ...)"
            ],
            "text/html": [
              "<style>#sk-container-id-7 {color: black;background-color: white;}#sk-container-id-7 pre{padding: 0;}#sk-container-id-7 div.sk-toggleable {background-color: white;}#sk-container-id-7 label.sk-toggleable__label {cursor: pointer;display: block;width: 100%;margin-bottom: 0;padding: 0.3em;box-sizing: border-box;text-align: center;}#sk-container-id-7 label.sk-toggleable__label-arrow:before {content: \"▸\";float: left;margin-right: 0.25em;color: #696969;}#sk-container-id-7 label.sk-toggleable__label-arrow:hover:before {color: black;}#sk-container-id-7 div.sk-estimator:hover label.sk-toggleable__label-arrow:before {color: black;}#sk-container-id-7 div.sk-toggleable__content {max-height: 0;max-width: 0;overflow: hidden;text-align: left;background-color: #f0f8ff;}#sk-container-id-7 div.sk-toggleable__content pre {margin: 0.2em;color: black;border-radius: 0.25em;background-color: #f0f8ff;}#sk-container-id-7 input.sk-toggleable__control:checked~div.sk-toggleable__content {max-height: 200px;max-width: 100%;overflow: auto;}#sk-container-id-7 input.sk-toggleable__control:checked~label.sk-toggleable__label-arrow:before {content: \"▾\";}#sk-container-id-7 div.sk-estimator input.sk-toggleable__control:checked~label.sk-toggleable__label {background-color: #d4ebff;}#sk-container-id-7 div.sk-label input.sk-toggleable__control:checked~label.sk-toggleable__label {background-color: #d4ebff;}#sk-container-id-7 input.sk-hidden--visually {border: 0;clip: rect(1px 1px 1px 1px);clip: rect(1px, 1px, 1px, 1px);height: 1px;margin: -1px;overflow: hidden;padding: 0;position: absolute;width: 1px;}#sk-container-id-7 div.sk-estimator {font-family: monospace;background-color: #f0f8ff;border: 1px dotted black;border-radius: 0.25em;box-sizing: border-box;margin-bottom: 0.5em;}#sk-container-id-7 div.sk-estimator:hover {background-color: #d4ebff;}#sk-container-id-7 div.sk-parallel-item::after {content: \"\";width: 100%;border-bottom: 1px solid gray;flex-grow: 1;}#sk-container-id-7 div.sk-label:hover label.sk-toggleable__label {background-color: #d4ebff;}#sk-container-id-7 div.sk-serial::before {content: \"\";position: absolute;border-left: 1px solid gray;box-sizing: border-box;top: 0;bottom: 0;left: 50%;z-index: 0;}#sk-container-id-7 div.sk-serial {display: flex;flex-direction: column;align-items: center;background-color: white;padding-right: 0.2em;padding-left: 0.2em;position: relative;}#sk-container-id-7 div.sk-item {position: relative;z-index: 1;}#sk-container-id-7 div.sk-parallel {display: flex;align-items: stretch;justify-content: center;background-color: white;position: relative;}#sk-container-id-7 div.sk-item::before, #sk-container-id-7 div.sk-parallel-item::before {content: \"\";position: absolute;border-left: 1px solid gray;box-sizing: border-box;top: 0;bottom: 0;left: 50%;z-index: -1;}#sk-container-id-7 div.sk-parallel-item {display: flex;flex-direction: column;z-index: 1;position: relative;background-color: white;}#sk-container-id-7 div.sk-parallel-item:first-child::after {align-self: flex-end;width: 50%;}#sk-container-id-7 div.sk-parallel-item:last-child::after {align-self: flex-start;width: 50%;}#sk-container-id-7 div.sk-parallel-item:only-child::after {width: 0;}#sk-container-id-7 div.sk-dashed-wrapped {border: 1px dashed gray;margin: 0 0.4em 0.5em 0.4em;box-sizing: border-box;padding-bottom: 0.4em;background-color: white;}#sk-container-id-7 div.sk-label label {font-family: monospace;font-weight: bold;display: inline-block;line-height: 1.2em;}#sk-container-id-7 div.sk-label-container {text-align: center;}#sk-container-id-7 div.sk-container {/* jupyter's `normalize.less` sets `[hidden] { display: none; }` but bootstrap.min.css set `[hidden] { display: none !important; }` so we also need the `!important` here to be able to override the default hidden behavior on the sphinx rendered scikit-learn.org. See: https://github.com/scikit-learn/scikit-learn/issues/21755 */display: inline-block !important;position: relative;}#sk-container-id-7 div.sk-text-repr-fallback {display: none;}</style><div id=\"sk-container-id-7\" class=\"sk-top-container\"><div class=\"sk-text-repr-fallback\"><pre>XGBClassifier(base_score=None, booster=None, callbacks=None,\n",
              "              colsample_bylevel=None, colsample_bynode=None,\n",
              "              colsample_bytree=None, early_stopping_rounds=None,\n",
              "              enable_categorical=False, eval_metric=None, feature_types=None,\n",
              "              gamma=None, gpu_id=None, grow_policy=None, importance_type=None,\n",
              "              interaction_constraints=None, learning_rate=0.1, max_bin=None,\n",
              "              max_cat_threshold=None, max_cat_to_onehot=None,\n",
              "              max_delta_step=None, max_depth=3, max_leaves=None,\n",
              "              min_child_weight=None, missing=nan, monotone_constraints=None,\n",
              "              n_estimators=300, n_jobs=None, num_parallel_tree=None,\n",
              "              predictor=None, random_state=42, ...)</pre><b>In a Jupyter environment, please rerun this cell to show the HTML representation or trust the notebook. <br />On GitHub, the HTML representation is unable to render, please try loading this page with nbviewer.org.</b></div><div class=\"sk-container\" hidden><div class=\"sk-item\"><div class=\"sk-estimator sk-toggleable\"><input class=\"sk-toggleable__control sk-hidden--visually\" id=\"sk-estimator-id-7\" type=\"checkbox\" checked><label for=\"sk-estimator-id-7\" class=\"sk-toggleable__label sk-toggleable__label-arrow\">XGBClassifier</label><div class=\"sk-toggleable__content\"><pre>XGBClassifier(base_score=None, booster=None, callbacks=None,\n",
              "              colsample_bylevel=None, colsample_bynode=None,\n",
              "              colsample_bytree=None, early_stopping_rounds=None,\n",
              "              enable_categorical=False, eval_metric=None, feature_types=None,\n",
              "              gamma=None, gpu_id=None, grow_policy=None, importance_type=None,\n",
              "              interaction_constraints=None, learning_rate=0.1, max_bin=None,\n",
              "              max_cat_threshold=None, max_cat_to_onehot=None,\n",
              "              max_delta_step=None, max_depth=3, max_leaves=None,\n",
              "              min_child_weight=None, missing=nan, monotone_constraints=None,\n",
              "              n_estimators=300, n_jobs=None, num_parallel_tree=None,\n",
              "              predictor=None, random_state=42, ...)</pre></div></div></div></div></div>"
            ]
          },
          "metadata": {},
          "execution_count": 18
        }
      ]
    },
    {
      "cell_type": "code",
      "execution_count": 19,
      "metadata": {
        "colab": {
          "base_uri": "https://localhost:8080/",
          "height": 974
        },
        "id": "0DQey9l16mbv",
        "outputId": "ffff0159-5e84-453f-c11e-0c79070a2364"
      },
      "outputs": [
        {
          "output_type": "execute_result",
          "data": {
            "text/plain": [
              "<Axes: title={'center': 'Feature importance'}, xlabel='F score', ylabel='Features'>"
            ]
          },
          "metadata": {},
          "execution_count": 19
        },
        {
          "output_type": "display_data",
          "data": {
            "text/plain": [
              "<Figure size 1000x1200 with 1 Axes>"
            ],
            "image/png": "[encoded data removed]"
          },
          "metadata": {}
        }
      ],
      "source": [
        "fig, ax = plt.subplots(figsize=(10, 12))\n",
        "plot_importance(xgb_model, ax=ax)"
      ]
    },
    {
      "cell_type": "markdown",
      "source": [
        "\n",
        "### LGBMClassifier"
      ],
      "metadata": {
        "id": "hQna453wBn6g"
      }
    },
    {
      "cell_type": "code",
      "source": [
        "from lightgbm import LGBMClassifier, plot_importance\n",
        "from lightgbm import plot_importance\n",
        "\n",
        "lgb_model = LGBMClassifier(n_estimators=300, random_state=42)\n",
        "lgb_model.fit(X_train , y_train)\n",
        "\n",
        "# plot_importance()를 이용하여 feature 중요도 시각화\n",
        "fig, ax = plt.subplots(figsize=(10, 12))\n",
        "plot_importance(lgb_model, ax=ax)"
      ],
      "metadata": {
        "colab": {
          "base_uri": "https://localhost:8080/",
          "height": 970
        },
        "id": "P7jfJVjGBxFc",
        "outputId": "a8c8da6b-b84d-4904-81f2-4f18208e8b58"
      },
      "execution_count": 20,
      "outputs": [
        {
          "output_type": "execute_result",
          "data": {
            "text/plain": [
              "<Axes: title={'center': 'Feature importance'}, xlabel='Feature importance', ylabel='Features'>"
            ]
          },
          "metadata": {},
          "execution_count": 20
        },
        {
          "output_type": "display_data",
          "data": {
            "text/plain": [
              "<Figure size 1000x1200 with 1 Axes>"
            ],
            "image/png": "[encoded data removed]"
          },
          "metadata": {}
        }
      ]
    },
    {
      "cell_type": "markdown",
      "metadata": {
        "id": "eiaB222-6mbw"
      },
      "source": [
        "### 평가지표\n",
        "각 모델의  혼동행렬, 정확도, 정밀도, 재현율, F1 score, AUC를 구하세요\n"
      ]
    },
    {
      "cell_type": "code",
      "execution_count": 21,
      "metadata": {
        "id": "Xd87kx506mbw"
      },
      "outputs": [],
      "source": [
        "from sklearn.metrics import confusion_matrix, accuracy_score\n",
        "from sklearn.metrics import precision_score, recall_score\n",
        "from sklearn.metrics import f1_score, roc_auc_score\n",
        "\n",
        "def get_clf_eval(y_test, pred=None):\n",
        "    confusion = confusion_matrix(y_test, pred)\n",
        "    accuracy = accuracy_score(y_test , pred)\n",
        "    precision = precision_score(y_test , pred)\n",
        "    recall = recall_score(y_test , pred)\n",
        "    f1 = f1_score(y_test,pred)    \n",
        "    print('정확도: {0:.4f}, 정밀도: {1:.4f}, 재현율: {2:.4f}, F1: {3:.4f}'.format(accuracy, precision, recall, f1))\n",
        "    print('혼동행렬')\n",
        "    print(confusion)"
      ]
    },
    {
      "cell_type": "code",
      "execution_count": 22,
      "metadata": {
        "colab": {
          "base_uri": "https://localhost:8080/"
        },
        "id": "vF39WPGn6mbw",
        "outputId": "c2f3e498-2cb7-44bc-f7bb-031d1e5ee2cc"
      },
      "outputs": [
        {
          "output_type": "stream",
          "name": "stdout",
          "text": [
            "\n",
            "DecisionTreeClassifier 성능지표:\n",
            "정확도: 0.9301, 정밀도: 0.9540, 재현율: 0.9326, F1: 0.9432\n",
            "혼동행렬\n",
            "[[50  4]\n",
            " [ 6 83]]\n",
            "\n",
            "KNeighborsClassifier 성능지표:\n",
            "정확도: 0.9580, 정밀도: 0.9560, 재현율: 0.9775, F1: 0.9667\n",
            "혼동행렬\n",
            "[[50  4]\n",
            " [ 2 87]]\n",
            "\n",
            "SVC 성능지표:\n",
            "정확도: 0.8951, 정밀도: 0.8627, 재현율: 0.9888, F1: 0.9215\n",
            "혼동행렬\n",
            "[[40 14]\n",
            " [ 1 88]]\n",
            "\n",
            "RandomForestClassifier 성능지표:\n",
            "정확도: 0.9650, 정밀도: 0.9565, 재현율: 0.9888, F1: 0.9724\n",
            "혼동행렬\n",
            "[[50  4]\n",
            " [ 1 88]]\n",
            "\n",
            "LogisticRegression 성능지표:\n",
            "정확도: 0.9580, 정밀도: 0.9663, 재현율: 0.9663, F1: 0.9663\n",
            "혼동행렬\n",
            "[[51  3]\n",
            " [ 3 86]]\n",
            "\n",
            "GradientBoostingClassifier 성능지표:\n",
            "정확도: 0.9650, 정밀도: 0.9468, 재현율: 1.0000, F1: 0.9727\n",
            "혼동행렬\n",
            "[[49  5]\n",
            " [ 0 89]]\n",
            "\n",
            "XGBClassifier 성능지표:\n",
            "정확도: 0.9860, 정밀도: 0.9780, 재현율: 1.0000, F1: 0.9889\n",
            "혼동행렬\n",
            "[[52  2]\n",
            " [ 0 89]]\n",
            "\n",
            "LGBMClassifier 성능지표:\n",
            "정확도: 0.9790, 정밀도: 0.9674, 재현율: 1.0000, F1: 0.9834\n",
            "혼동행렬\n",
            "[[51  3]\n",
            " [ 0 89]]\n"
          ]
        }
      ],
      "source": [
        "model_list = [dt_model, neighbor_model, svm_model, forest_model, logistic_model, gbm_model, xgb_model, lgb_model]\n",
        "\n",
        "for model in model_list:\n",
        "    pred = model.predict(X_test)\n",
        "    #accuracy = accuracy_score(y_test, pred)\n",
        "    model_name = model.__class__.__name__\n",
        "    print('\\n{} 성능지표:'.format(model_name)) \n",
        "    get_clf_eval(y_test, pred)"
      ]
    },
    {
      "cell_type": "markdown",
      "metadata": {
        "id": "vHyx6L0Y6mbw"
      },
      "source": [
        "## Step3. 성능 개선"
      ]
    },
    {
      "cell_type": "markdown",
      "metadata": {
        "id": "ZtPw1Mcf6mbx"
      },
      "source": [
        "### Early stopping - XGBoost\n",
        "\n",
        "학습 조기 종료 방법을 사용하여 XGBClassifier의 성능을 개선하세요\n",
        " * (힌트) fit함수의 early_stopping_rounds 파라미터를 셋팅\n",
        " * fit함수의 verbose=True로 설정하여 학습 상태를 확인"
      ]
    },
    {
      "cell_type": "code",
      "execution_count": 23,
      "metadata": {
        "colab": {
          "base_uri": "https://localhost:8080/"
        },
        "id": "kvAyGta16mbx",
        "outputId": "da611e8f-759f-4719-b41f-891455e14e5a"
      },
      "outputs": [
        {
          "output_type": "stream",
          "name": "stdout",
          "text": [
            "[0]\tvalidation_0-logloss:0.61549\n",
            "[1]\tvalidation_0-logloss:0.55139\n",
            "[2]\tvalidation_0-logloss:0.50028\n",
            "[3]\tvalidation_0-logloss:0.45620\n",
            "[4]\tvalidation_0-logloss:0.41229\n",
            "[5]\tvalidation_0-logloss:0.37561\n",
            "[6]\tvalidation_0-logloss:0.34201\n",
            "[7]\tvalidation_0-logloss:0.31301\n",
            "[8]\tvalidation_0-logloss:0.28677\n",
            "[9]\tvalidation_0-logloss:0.26393\n",
            "[10]\tvalidation_0-logloss:0.24362\n",
            "[11]\tvalidation_0-logloss:0.22590\n",
            "[12]\tvalidation_0-logloss:0.21163\n",
            "[13]\tvalidation_0-logloss:0.19757\n",
            "[14]\tvalidation_0-logloss:0.18544\n"
          ]
        },
        {
          "output_type": "stream",
          "name": "stderr",
          "text": [
            "/usr/local/lib/python3.9/dist-packages/xgboost/sklearn.py:835: UserWarning: `early_stopping_rounds` in `fit` method is deprecated for better compatibility with scikit-learn, use `early_stopping_rounds` in constructor or`set_params` instead.\n",
            "  warnings.warn(\n"
          ]
        },
        {
          "output_type": "stream",
          "name": "stdout",
          "text": [
            "[15]\tvalidation_0-logloss:0.17511\n",
            "[16]\tvalidation_0-logloss:0.16540\n",
            "[17]\tvalidation_0-logloss:0.15615\n",
            "[18]\tvalidation_0-logloss:0.14892\n",
            "[19]\tvalidation_0-logloss:0.14087\n",
            "[20]\tvalidation_0-logloss:0.13504\n",
            "[21]\tvalidation_0-logloss:0.12931\n",
            "[22]\tvalidation_0-logloss:0.12347\n",
            "[23]\tvalidation_0-logloss:0.11678\n",
            "[24]\tvalidation_0-logloss:0.11227\n",
            "[25]\tvalidation_0-logloss:0.10812\n",
            "[26]\tvalidation_0-logloss:0.10391\n",
            "[27]\tvalidation_0-logloss:0.10033\n",
            "[28]\tvalidation_0-logloss:0.09646\n",
            "[29]\tvalidation_0-logloss:0.09382\n",
            "[30]\tvalidation_0-logloss:0.09109\n",
            "[31]\tvalidation_0-logloss:0.08894\n",
            "[32]\tvalidation_0-logloss:0.08564\n",
            "[33]\tvalidation_0-logloss:0.08311\n",
            "[34]\tvalidation_0-logloss:0.08135\n",
            "[35]\tvalidation_0-logloss:0.07969\n",
            "[36]\tvalidation_0-logloss:0.07721\n",
            "[37]\tvalidation_0-logloss:0.07648\n",
            "[38]\tvalidation_0-logloss:0.07327\n",
            "[39]\tvalidation_0-logloss:0.07199\n",
            "[40]\tvalidation_0-logloss:0.07076\n",
            "[41]\tvalidation_0-logloss:0.07038\n",
            "[42]\tvalidation_0-logloss:0.06871\n",
            "[43]\tvalidation_0-logloss:0.06722\n",
            "[44]\tvalidation_0-logloss:0.06705\n",
            "[45]\tvalidation_0-logloss:0.06616\n",
            "[46]\tvalidation_0-logloss:0.06607\n",
            "[47]\tvalidation_0-logloss:0.06542\n",
            "[48]\tvalidation_0-logloss:0.06480\n",
            "[49]\tvalidation_0-logloss:0.06465\n",
            "[50]\tvalidation_0-logloss:0.06489\n",
            "[51]\tvalidation_0-logloss:0.06451\n",
            "[52]\tvalidation_0-logloss:0.06362\n",
            "[53]\tvalidation_0-logloss:0.06348\n",
            "[54]\tvalidation_0-logloss:0.06281\n",
            "[55]\tvalidation_0-logloss:0.06338\n",
            "[56]\tvalidation_0-logloss:0.06290\n",
            "[57]\tvalidation_0-logloss:0.06268\n",
            "[58]\tvalidation_0-logloss:0.06291\n",
            "[59]\tvalidation_0-logloss:0.06257\n",
            "[60]\tvalidation_0-logloss:0.06170\n",
            "[61]\tvalidation_0-logloss:0.06129\n",
            "[62]\tvalidation_0-logloss:0.06079\n",
            "[63]\tvalidation_0-logloss:0.05998\n",
            "[64]\tvalidation_0-logloss:0.05930\n",
            "[65]\tvalidation_0-logloss:0.05862\n",
            "[66]\tvalidation_0-logloss:0.05858\n",
            "[67]\tvalidation_0-logloss:0.05872\n",
            "[68]\tvalidation_0-logloss:0.05724\n",
            "[69]\tvalidation_0-logloss:0.05715\n",
            "[70]\tvalidation_0-logloss:0.05686\n",
            "[71]\tvalidation_0-logloss:0.05660\n",
            "[72]\tvalidation_0-logloss:0.05606\n",
            "[73]\tvalidation_0-logloss:0.05614\n",
            "[74]\tvalidation_0-logloss:0.05588\n",
            "[75]\tvalidation_0-logloss:0.05598\n",
            "[76]\tvalidation_0-logloss:0.05647\n",
            "[77]\tvalidation_0-logloss:0.05657\n",
            "[78]\tvalidation_0-logloss:0.05590\n",
            "[79]\tvalidation_0-logloss:0.05511\n",
            "[80]\tvalidation_0-logloss:0.05563\n",
            "[81]\tvalidation_0-logloss:0.05520\n",
            "[82]\tvalidation_0-logloss:0.05466\n",
            "[83]\tvalidation_0-logloss:0.05409\n",
            "[84]\tvalidation_0-logloss:0.05393\n",
            "[85]\tvalidation_0-logloss:0.05380\n",
            "[86]\tvalidation_0-logloss:0.05401\n",
            "[87]\tvalidation_0-logloss:0.05330\n",
            "[88]\tvalidation_0-logloss:0.05285\n",
            "[89]\tvalidation_0-logloss:0.05359\n",
            "[90]\tvalidation_0-logloss:0.05308\n",
            "[91]\tvalidation_0-logloss:0.05254\n",
            "[92]\tvalidation_0-logloss:0.05210\n",
            "[93]\tvalidation_0-logloss:0.05201\n",
            "[94]\tvalidation_0-logloss:0.05194\n",
            "[95]\tvalidation_0-logloss:0.05143\n",
            "[96]\tvalidation_0-logloss:0.05154\n",
            "[97]\tvalidation_0-logloss:0.05224\n",
            "[98]\tvalidation_0-logloss:0.05157\n",
            "[99]\tvalidation_0-logloss:0.05156\n",
            "[100]\tvalidation_0-logloss:0.05109\n",
            "[101]\tvalidation_0-logloss:0.05087\n",
            "[102]\tvalidation_0-logloss:0.05096\n",
            "[103]\tvalidation_0-logloss:0.05094\n",
            "[104]\tvalidation_0-logloss:0.05079\n",
            "[105]\tvalidation_0-logloss:0.05078\n",
            "[106]\tvalidation_0-logloss:0.05081\n",
            "[107]\tvalidation_0-logloss:0.05148\n",
            "[108]\tvalidation_0-logloss:0.05126\n",
            "[109]\tvalidation_0-logloss:0.05128\n",
            "[110]\tvalidation_0-logloss:0.05194\n",
            "[111]\tvalidation_0-logloss:0.05138\n",
            "[112]\tvalidation_0-logloss:0.05164\n",
            "[113]\tvalidation_0-logloss:0.05141\n",
            "[114]\tvalidation_0-logloss:0.05088\n",
            "[115]\tvalidation_0-logloss:0.05118\n",
            "[116]\tvalidation_0-logloss:0.05062\n",
            "[117]\tvalidation_0-logloss:0.05036\n",
            "[118]\tvalidation_0-logloss:0.05040\n",
            "[119]\tvalidation_0-logloss:0.05072\n",
            "[120]\tvalidation_0-logloss:0.05050\n",
            "[121]\tvalidation_0-logloss:0.05036\n",
            "[122]\tvalidation_0-logloss:0.04980\n",
            "[123]\tvalidation_0-logloss:0.04985\n",
            "[124]\tvalidation_0-logloss:0.05047\n",
            "[125]\tvalidation_0-logloss:0.05029\n",
            "[126]\tvalidation_0-logloss:0.05011\n",
            "[127]\tvalidation_0-logloss:0.04991\n",
            "[128]\tvalidation_0-logloss:0.04995\n",
            "[129]\tvalidation_0-logloss:0.05027\n",
            "[130]\tvalidation_0-logloss:0.04981\n",
            "[131]\tvalidation_0-logloss:0.04964\n",
            "[132]\tvalidation_0-logloss:0.04969\n",
            "[133]\tvalidation_0-logloss:0.04947\n",
            "[134]\tvalidation_0-logloss:0.04973\n",
            "[135]\tvalidation_0-logloss:0.04928\n",
            "[136]\tvalidation_0-logloss:0.04953\n",
            "[137]\tvalidation_0-logloss:0.04932\n",
            "[138]\tvalidation_0-logloss:0.04989\n",
            "[139]\tvalidation_0-logloss:0.04946\n",
            "[140]\tvalidation_0-logloss:0.04975\n",
            "[141]\tvalidation_0-logloss:0.04928\n",
            "[142]\tvalidation_0-logloss:0.04907\n",
            "[143]\tvalidation_0-logloss:0.04895\n",
            "[144]\tvalidation_0-logloss:0.04884\n",
            "[145]\tvalidation_0-logloss:0.04908\n",
            "[146]\tvalidation_0-logloss:0.04876\n",
            "[147]\tvalidation_0-logloss:0.04859\n",
            "[148]\tvalidation_0-logloss:0.04887\n",
            "[149]\tvalidation_0-logloss:0.04843\n",
            "[150]\tvalidation_0-logloss:0.04840\n",
            "[151]\tvalidation_0-logloss:0.04837\n",
            "[152]\tvalidation_0-logloss:0.04798\n",
            "[153]\tvalidation_0-logloss:0.04795\n",
            "[154]\tvalidation_0-logloss:0.04786\n",
            "[155]\tvalidation_0-logloss:0.04818\n",
            "[156]\tvalidation_0-logloss:0.04842\n",
            "[157]\tvalidation_0-logloss:0.04798\n",
            "[158]\tvalidation_0-logloss:0.04796\n",
            "[159]\tvalidation_0-logloss:0.04783\n",
            "[160]\tvalidation_0-logloss:0.04774\n",
            "[161]\tvalidation_0-logloss:0.04728\n",
            "[162]\tvalidation_0-logloss:0.04719\n",
            "[163]\tvalidation_0-logloss:0.04719\n",
            "[164]\tvalidation_0-logloss:0.04680\n",
            "[165]\tvalidation_0-logloss:0.04675\n",
            "[166]\tvalidation_0-logloss:0.04704\n",
            "[167]\tvalidation_0-logloss:0.04667\n",
            "[168]\tvalidation_0-logloss:0.04662\n",
            "[169]\tvalidation_0-logloss:0.04654\n",
            "[170]\tvalidation_0-logloss:0.04666\n",
            "[171]\tvalidation_0-logloss:0.04690\n",
            "[172]\tvalidation_0-logloss:0.04696\n",
            "[173]\tvalidation_0-logloss:0.04708\n",
            "[174]\tvalidation_0-logloss:0.04679\n",
            "[175]\tvalidation_0-logloss:0.04675\n",
            "[176]\tvalidation_0-logloss:0.04645\n",
            "[177]\tvalidation_0-logloss:0.04643\n",
            "[178]\tvalidation_0-logloss:0.04650\n",
            "[179]\tvalidation_0-logloss:0.04677\n",
            "[180]\tvalidation_0-logloss:0.04649\n",
            "[181]\tvalidation_0-logloss:0.04620\n",
            "[182]\tvalidation_0-logloss:0.04647\n",
            "[183]\tvalidation_0-logloss:0.04649\n",
            "[184]\tvalidation_0-logloss:0.04672\n",
            "[185]\tvalidation_0-logloss:0.04670\n",
            "[186]\tvalidation_0-logloss:0.04641\n",
            "[187]\tvalidation_0-logloss:0.04648\n",
            "[188]\tvalidation_0-logloss:0.04674\n",
            "[189]\tvalidation_0-logloss:0.04650\n",
            "[190]\tvalidation_0-logloss:0.04645\n",
            "[191]\tvalidation_0-logloss:0.04617\n",
            "[192]\tvalidation_0-logloss:0.04642\n",
            "[193]\tvalidation_0-logloss:0.04645\n",
            "[194]\tvalidation_0-logloss:0.04667\n",
            "[195]\tvalidation_0-logloss:0.04693\n",
            "[196]\tvalidation_0-logloss:0.04671\n",
            "[197]\tvalidation_0-logloss:0.04673\n",
            "[198]\tvalidation_0-logloss:0.04671\n",
            "[199]\tvalidation_0-logloss:0.04643\n",
            "[200]\tvalidation_0-logloss:0.04667\n",
            "[201]\tvalidation_0-logloss:0.04638\n",
            "[202]\tvalidation_0-logloss:0.04662\n",
            "[203]\tvalidation_0-logloss:0.04657\n",
            "[204]\tvalidation_0-logloss:0.04634\n",
            "[205]\tvalidation_0-logloss:0.04640\n",
            "[206]\tvalidation_0-logloss:0.04662\n",
            "[207]\tvalidation_0-logloss:0.04641\n",
            "[208]\tvalidation_0-logloss:0.04664\n",
            "[209]\tvalidation_0-logloss:0.04661\n",
            "[210]\tvalidation_0-logloss:0.04632\n",
            "[211]\tvalidation_0-logloss:0.04634\n",
            "[212]\tvalidation_0-logloss:0.04658\n",
            "[213]\tvalidation_0-logloss:0.04630\n",
            "[214]\tvalidation_0-logloss:0.04648\n",
            "[215]\tvalidation_0-logloss:0.04625\n",
            "[216]\tvalidation_0-logloss:0.04631\n",
            "[217]\tvalidation_0-logloss:0.04628\n",
            "[218]\tvalidation_0-logloss:0.04601\n",
            "[219]\tvalidation_0-logloss:0.04624\n",
            "[220]\tvalidation_0-logloss:0.04596\n",
            "[221]\tvalidation_0-logloss:0.04598\n",
            "[222]\tvalidation_0-logloss:0.04615\n",
            "[223]\tvalidation_0-logloss:0.04601\n",
            "[224]\tvalidation_0-logloss:0.04598\n",
            "[225]\tvalidation_0-logloss:0.04620\n",
            "[226]\tvalidation_0-logloss:0.04606\n",
            "[227]\tvalidation_0-logloss:0.04605\n",
            "[228]\tvalidation_0-logloss:0.04591\n",
            "[229]\tvalidation_0-logloss:0.04571\n",
            "[230]\tvalidation_0-logloss:0.04563\n",
            "[231]\tvalidation_0-logloss:0.04585\n",
            "[232]\tvalidation_0-logloss:0.04558\n",
            "[233]\tvalidation_0-logloss:0.04544\n",
            "[234]\tvalidation_0-logloss:0.04519\n",
            "[235]\tvalidation_0-logloss:0.04540\n",
            "[236]\tvalidation_0-logloss:0.04543\n",
            "[237]\tvalidation_0-logloss:0.04518\n",
            "[238]\tvalidation_0-logloss:0.04516\n",
            "[239]\tvalidation_0-logloss:0.04509\n",
            "[240]\tvalidation_0-logloss:0.04509\n",
            "[241]\tvalidation_0-logloss:0.04496\n",
            "[242]\tvalidation_0-logloss:0.04476\n",
            "[243]\tvalidation_0-logloss:0.04498\n",
            "[244]\tvalidation_0-logloss:0.04492\n",
            "[245]\tvalidation_0-logloss:0.04495\n",
            "[246]\tvalidation_0-logloss:0.04482\n",
            "[247]\tvalidation_0-logloss:0.04459\n",
            "[248]\tvalidation_0-logloss:0.04480\n",
            "[249]\tvalidation_0-logloss:0.04454\n",
            "[250]\tvalidation_0-logloss:0.04447\n",
            "[251]\tvalidation_0-logloss:0.04434\n",
            "[252]\tvalidation_0-logloss:0.04430\n",
            "[253]\tvalidation_0-logloss:0.04433\n",
            "[254]\tvalidation_0-logloss:0.04454\n",
            "[255]\tvalidation_0-logloss:0.04442\n",
            "[256]\tvalidation_0-logloss:0.04440\n",
            "[257]\tvalidation_0-logloss:0.04440\n",
            "[258]\tvalidation_0-logloss:0.04435\n",
            "[259]\tvalidation_0-logloss:0.04438\n",
            "[260]\tvalidation_0-logloss:0.04420\n",
            "[261]\tvalidation_0-logloss:0.04420\n",
            "[262]\tvalidation_0-logloss:0.04416\n",
            "[263]\tvalidation_0-logloss:0.04414\n",
            "[264]\tvalidation_0-logloss:0.04417\n",
            "[265]\tvalidation_0-logloss:0.04413\n",
            "[266]\tvalidation_0-logloss:0.04413\n",
            "[267]\tvalidation_0-logloss:0.04396\n",
            "[268]\tvalidation_0-logloss:0.04385\n",
            "[269]\tvalidation_0-logloss:0.04399\n",
            "[270]\tvalidation_0-logloss:0.04387\n",
            "[271]\tvalidation_0-logloss:0.04381\n",
            "[272]\tvalidation_0-logloss:0.04370\n",
            "[273]\tvalidation_0-logloss:0.04376\n",
            "[274]\tvalidation_0-logloss:0.04376\n",
            "[275]\tvalidation_0-logloss:0.04359\n",
            "[276]\tvalidation_0-logloss:0.04355\n",
            "[277]\tvalidation_0-logloss:0.04358\n",
            "[278]\tvalidation_0-logloss:0.04356\n",
            "[279]\tvalidation_0-logloss:0.04378\n",
            "[280]\tvalidation_0-logloss:0.04367\n",
            "[281]\tvalidation_0-logloss:0.04363\n",
            "[282]\tvalidation_0-logloss:0.04368\n",
            "[283]\tvalidation_0-logloss:0.04358\n",
            "[284]\tvalidation_0-logloss:0.04361\n",
            "[285]\tvalidation_0-logloss:0.04357\n",
            "[286]\tvalidation_0-logloss:0.04358\n",
            "[287]\tvalidation_0-logloss:0.04341\n",
            "[288]\tvalidation_0-logloss:0.04331\n",
            "[289]\tvalidation_0-logloss:0.04353\n",
            "[290]\tvalidation_0-logloss:0.04349\n",
            "[291]\tvalidation_0-logloss:0.04355\n",
            "[292]\tvalidation_0-logloss:0.04344\n",
            "[293]\tvalidation_0-logloss:0.04334\n",
            "[294]\tvalidation_0-logloss:0.04347\n",
            "[295]\tvalidation_0-logloss:0.04351\n",
            "[296]\tvalidation_0-logloss:0.04347\n",
            "[297]\tvalidation_0-logloss:0.04347\n",
            "[298]\tvalidation_0-logloss:0.04347\n",
            "[299]\tvalidation_0-logloss:0.04331\n",
            "XGBoost EarlyStopping 정확도: 0.9860\n"
          ]
        }
      ],
      "source": [
        "from xgboost import XGBClassifier\n",
        "\n",
        "xgb_model2 = XGBClassifier(n_estimators=300, learning_rate=0.1, max_depth=3, random_state=42)\n",
        "evals = [(X_test, y_test)]\n",
        "xgb_model2.fit(X_train, y_train, early_stopping_rounds=100, eval_set=evals, verbose=True)\n",
        "xgb_pred = xgb_model2.predict(X_test)\n",
        "xgb_accuracy = accuracy_score(y_test, xgb_pred)\n",
        "print('XGBoost EarlyStopping 정확도: {0:.4f}'.format(xgb_accuracy))"
      ]
    },
    {
      "cell_type": "markdown",
      "metadata": {
        "id": "gxcXpKyt6mbx"
      },
      "source": [
        "### Early stopping - LGBM\n",
        "학습 조기 종료 방법을 사용하여 LGBMClassifier 성능을 개선하세요\n",
        " * (힌트) fit함수의 early_stopping_rounds 파라미터를 셋팅\n",
        " * fit함수의 verbose=True로 설정하여 학습 상태를 확인해봅니다 "
      ]
    },
    {
      "cell_type": "code",
      "execution_count": 24,
      "metadata": {
        "colab": {
          "base_uri": "https://localhost:8080/"
        },
        "id": "ifCiAzQf6mbx",
        "outputId": "a90e51bc-29e3-40b7-ca64-dc72862b2e97"
      },
      "outputs": [
        {
          "output_type": "stream",
          "name": "stdout",
          "text": [
            "[1]\tvalid_0's binary_logloss: 0.58467\n",
            "[2]\tvalid_0's binary_logloss: 0.522692\n",
            "[3]\tvalid_0's binary_logloss: 0.469942\n",
            "[4]\tvalid_0's binary_logloss: 0.426191\n",
            "[5]\tvalid_0's binary_logloss: 0.38678\n",
            "[6]\tvalid_0's binary_logloss: 0.350754\n",
            "[7]\tvalid_0's binary_logloss: 0.322384\n",
            "[8]\tvalid_0's binary_logloss: 0.29448\n",
            "[9]\tvalid_0's binary_logloss: 0.270879\n",
            "[10]\tvalid_0's binary_logloss: 0.253474\n",
            "[11]\tvalid_0's binary_logloss: 0.234085\n",
            "[12]\tvalid_0's binary_logloss: 0.216071\n",
            "[13]\tvalid_0's binary_logloss: 0.203645\n",
            "[14]\tvalid_0's binary_logloss: 0.190993\n",
            "[15]\tvalid_0's binary_logloss: 0.178996\n",
            "[16]\tvalid_0's binary_logloss: 0.167861\n",
            "[17]\tvalid_0's binary_logloss: 0.159976\n",
            "[18]\tvalid_0's binary_logloss: 0.150152\n",
            "[19]\tvalid_0's binary_logloss: 0.141688\n",
            "[20]\tvalid_0's binary_logloss: 0.132145\n",
            "[21]\tvalid_0's binary_logloss: 0.126037\n",
            "[22]\tvalid_0's binary_logloss: 0.118704\n",
            "[23]\tvalid_0's binary_logloss: 0.112274\n",
            "[24]\tvalid_0's binary_logloss: 0.107005\n",
            "[25]\tvalid_0's binary_logloss: 0.102923\n",
            "[26]\tvalid_0's binary_logloss: 0.0996177\n",
            "[27]\tvalid_0's binary_logloss: 0.0959746\n",
            "[28]\tvalid_0's binary_logloss: 0.0916826\n",
            "[29]\tvalid_0's binary_logloss: 0.0875123\n",
            "[30]\tvalid_0's binary_logloss: 0.0865985\n",
            "[31]\tvalid_0's binary_logloss: 0.084294\n",
            "[32]\tvalid_0's binary_logloss: 0.0810473\n",
            "[33]\tvalid_0's binary_logloss: 0.0802943\n",
            "[34]\tvalid_0's binary_logloss: 0.0786975\n",
            "[35]\tvalid_0's binary_logloss: 0.0754731\n",
            "[36]\tvalid_0's binary_logloss: 0.0738128\n",
            "[37]\tvalid_0's binary_logloss: 0.073051\n",
            "[38]\tvalid_0's binary_logloss: 0.07286\n",
            "[39]\tvalid_0's binary_logloss: 0.0717208\n",
            "[40]\tvalid_0's binary_logloss: 0.0686273\n",
            "[41]\tvalid_0's binary_logloss: 0.0681608\n",
            "[42]\tvalid_0's binary_logloss: 0.0663716\n",
            "[43]\tvalid_0's binary_logloss: 0.0654588\n",
            "[44]\tvalid_0's binary_logloss: 0.0643909\n",
            "[45]\tvalid_0's binary_logloss: 0.0633651\n",
            "[46]\tvalid_0's binary_logloss: 0.0636696\n",
            "[47]\tvalid_0's binary_logloss: 0.0634022\n",
            "[48]\tvalid_0's binary_logloss: 0.0637179\n",
            "[49]\tvalid_0's binary_logloss: 0.0647088\n",
            "[50]\tvalid_0's binary_logloss: 0.0636747\n",
            "[51]\tvalid_0's binary_logloss: 0.0639401\n",
            "[52]\tvalid_0's binary_logloss: 0.0630797\n",
            "[53]\tvalid_0's binary_logloss: 0.062561\n",
            "[54]\tvalid_0's binary_logloss: 0.061383\n",
            "[55]\tvalid_0's binary_logloss: 0.0607278\n",
            "[56]\tvalid_0's binary_logloss: 0.0606583\n",
            "[57]\tvalid_0's binary_logloss: 0.0607193\n",
            "[58]\tvalid_0's binary_logloss: 0.0612632\n",
            "[59]\tvalid_0's binary_logloss: 0.061569\n",
            "[60]\tvalid_0's binary_logloss: 0.062266\n",
            "[61]\tvalid_0's binary_logloss: 0.0622917\n",
            "[62]\tvalid_0's binary_logloss: 0.0628158\n",
            "[63]\tvalid_0's binary_logloss: 0.0632188\n"
          ]
        },
        {
          "output_type": "stream",
          "name": "stderr",
          "text": [
            "/usr/local/lib/python3.9/dist-packages/lightgbm/sklearn.py:726: UserWarning: 'early_stopping_rounds' argument is deprecated and will be removed in a future release of LightGBM. Pass 'early_stopping()' callback via 'callbacks' argument instead.\n",
            "  _log_warning(\"'early_stopping_rounds' argument is deprecated and will be removed in a future release of LightGBM. \"\n",
            "/usr/local/lib/python3.9/dist-packages/lightgbm/sklearn.py:736: UserWarning: 'verbose' argument is deprecated and will be removed in a future release of LightGBM. Pass 'log_evaluation()' callback via 'callbacks' argument instead.\n",
            "  _log_warning(\"'verbose' argument is deprecated and will be removed in a future release of LightGBM. \"\n"
          ]
        },
        {
          "output_type": "stream",
          "name": "stdout",
          "text": [
            "[64]\tvalid_0's binary_logloss: 0.0627863\n",
            "[65]\tvalid_0's binary_logloss: 0.0626865\n",
            "[66]\tvalid_0's binary_logloss: 0.0626608\n",
            "[67]\tvalid_0's binary_logloss: 0.0640082\n",
            "[68]\tvalid_0's binary_logloss: 0.0646423\n",
            "[69]\tvalid_0's binary_logloss: 0.0648492\n",
            "[70]\tvalid_0's binary_logloss: 0.0631471\n",
            "[71]\tvalid_0's binary_logloss: 0.0635314\n",
            "[72]\tvalid_0's binary_logloss: 0.0628524\n",
            "[73]\tvalid_0's binary_logloss: 0.0638194\n",
            "[74]\tvalid_0's binary_logloss: 0.0631848\n",
            "[75]\tvalid_0's binary_logloss: 0.0633369\n",
            "[76]\tvalid_0's binary_logloss: 0.0632126\n",
            "[77]\tvalid_0's binary_logloss: 0.0634581\n",
            "[78]\tvalid_0's binary_logloss: 0.0644985\n",
            "[79]\tvalid_0's binary_logloss: 0.0633665\n",
            "[80]\tvalid_0's binary_logloss: 0.0635355\n",
            "[81]\tvalid_0's binary_logloss: 0.0626744\n",
            "[82]\tvalid_0's binary_logloss: 0.0623555\n",
            "[83]\tvalid_0's binary_logloss: 0.0624902\n",
            "[84]\tvalid_0's binary_logloss: 0.0615779\n",
            "[85]\tvalid_0's binary_logloss: 0.0625718\n",
            "[86]\tvalid_0's binary_logloss: 0.0632274\n",
            "[87]\tvalid_0's binary_logloss: 0.062391\n",
            "[88]\tvalid_0's binary_logloss: 0.0609472\n",
            "[89]\tvalid_0's binary_logloss: 0.0599931\n",
            "[90]\tvalid_0's binary_logloss: 0.061314\n",
            "[91]\tvalid_0's binary_logloss: 0.0611554\n",
            "[92]\tvalid_0's binary_logloss: 0.0624562\n",
            "[93]\tvalid_0's binary_logloss: 0.062926\n",
            "[94]\tvalid_0's binary_logloss: 0.0644962\n",
            "[95]\tvalid_0's binary_logloss: 0.0638824\n",
            "[96]\tvalid_0's binary_logloss: 0.0620454\n",
            "[97]\tvalid_0's binary_logloss: 0.0619499\n",
            "[98]\tvalid_0's binary_logloss: 0.0624889\n",
            "[99]\tvalid_0's binary_logloss: 0.0608975\n",
            "[100]\tvalid_0's binary_logloss: 0.0593627\n",
            "[101]\tvalid_0's binary_logloss: 0.0580904\n",
            "[102]\tvalid_0's binary_logloss: 0.0595892\n",
            "[103]\tvalid_0's binary_logloss: 0.0602237\n",
            "[104]\tvalid_0's binary_logloss: 0.0586879\n",
            "[105]\tvalid_0's binary_logloss: 0.0603064\n",
            "[106]\tvalid_0's binary_logloss: 0.0604674\n",
            "[107]\tvalid_0's binary_logloss: 0.0607266\n",
            "[108]\tvalid_0's binary_logloss: 0.0614383\n",
            "[109]\tvalid_0's binary_logloss: 0.0601849\n",
            "[110]\tvalid_0's binary_logloss: 0.0600763\n",
            "[111]\tvalid_0's binary_logloss: 0.0598831\n",
            "[112]\tvalid_0's binary_logloss: 0.0584941\n",
            "[113]\tvalid_0's binary_logloss: 0.0600769\n",
            "[114]\tvalid_0's binary_logloss: 0.0610533\n",
            "[115]\tvalid_0's binary_logloss: 0.0617206\n",
            "[116]\tvalid_0's binary_logloss: 0.0623669\n",
            "[117]\tvalid_0's binary_logloss: 0.0628886\n",
            "[118]\tvalid_0's binary_logloss: 0.0615772\n",
            "[119]\tvalid_0's binary_logloss: 0.0628378\n",
            "[120]\tvalid_0's binary_logloss: 0.0619826\n",
            "[121]\tvalid_0's binary_logloss: 0.0631779\n",
            "[122]\tvalid_0's binary_logloss: 0.064111\n",
            "[123]\tvalid_0's binary_logloss: 0.0653524\n",
            "[124]\tvalid_0's binary_logloss: 0.0660944\n",
            "[125]\tvalid_0's binary_logloss: 0.0661365\n",
            "[126]\tvalid_0's binary_logloss: 0.066488\n",
            "[127]\tvalid_0's binary_logloss: 0.0657767\n",
            "[128]\tvalid_0's binary_logloss: 0.0656433\n",
            "[129]\tvalid_0's binary_logloss: 0.065002\n",
            "[130]\tvalid_0's binary_logloss: 0.0644445\n",
            "[131]\tvalid_0's binary_logloss: 0.0637634\n",
            "[132]\tvalid_0's binary_logloss: 0.0639111\n",
            "[133]\tvalid_0's binary_logloss: 0.0650806\n",
            "[134]\tvalid_0's binary_logloss: 0.0661582\n",
            "[135]\tvalid_0's binary_logloss: 0.0665434\n",
            "[136]\tvalid_0's binary_logloss: 0.0654626\n",
            "[137]\tvalid_0's binary_logloss: 0.0650882\n",
            "[138]\tvalid_0's binary_logloss: 0.0654695\n",
            "[139]\tvalid_0's binary_logloss: 0.064185\n",
            "[140]\tvalid_0's binary_logloss: 0.0631916\n",
            "[141]\tvalid_0's binary_logloss: 0.0648307\n",
            "[142]\tvalid_0's binary_logloss: 0.0652633\n",
            "[143]\tvalid_0's binary_logloss: 0.0650591\n",
            "[144]\tvalid_0's binary_logloss: 0.0651937\n",
            "[145]\tvalid_0's binary_logloss: 0.0644393\n",
            "[146]\tvalid_0's binary_logloss: 0.0653209\n",
            "[147]\tvalid_0's binary_logloss: 0.0651651\n",
            "[148]\tvalid_0's binary_logloss: 0.0663208\n",
            "[149]\tvalid_0's binary_logloss: 0.0660635\n",
            "[150]\tvalid_0's binary_logloss: 0.0659914\n",
            "[151]\tvalid_0's binary_logloss: 0.0655306\n",
            "[152]\tvalid_0's binary_logloss: 0.0644998\n",
            "[153]\tvalid_0's binary_logloss: 0.0637596\n",
            "[154]\tvalid_0's binary_logloss: 0.064438\n",
            "[155]\tvalid_0's binary_logloss: 0.064482\n",
            "[156]\tvalid_0's binary_logloss: 0.0645358\n",
            "[157]\tvalid_0's binary_logloss: 0.0647116\n",
            "[158]\tvalid_0's binary_logloss: 0.0648039\n",
            "[159]\tvalid_0's binary_logloss: 0.0652824\n",
            "[160]\tvalid_0's binary_logloss: 0.0654992\n",
            "[161]\tvalid_0's binary_logloss: 0.065529\n",
            "[162]\tvalid_0's binary_logloss: 0.0661356\n",
            "[163]\tvalid_0's binary_logloss: 0.0669546\n",
            "[164]\tvalid_0's binary_logloss: 0.0673365\n",
            "[165]\tvalid_0's binary_logloss: 0.0672308\n",
            "[166]\tvalid_0's binary_logloss: 0.0674645\n",
            "[167]\tvalid_0's binary_logloss: 0.0674507\n",
            "[168]\tvalid_0's binary_logloss: 0.0674629\n",
            "[169]\tvalid_0's binary_logloss: 0.0673095\n",
            "[170]\tvalid_0's binary_logloss: 0.0676866\n",
            "[171]\tvalid_0's binary_logloss: 0.0665617\n",
            "[172]\tvalid_0's binary_logloss: 0.0664501\n",
            "[173]\tvalid_0's binary_logloss: 0.0660949\n",
            "[174]\tvalid_0's binary_logloss: 0.0653351\n",
            "[175]\tvalid_0's binary_logloss: 0.0654435\n",
            "[176]\tvalid_0's binary_logloss: 0.0663229\n",
            "[177]\tvalid_0's binary_logloss: 0.0659351\n",
            "[178]\tvalid_0's binary_logloss: 0.066194\n",
            "[179]\tvalid_0's binary_logloss: 0.0660509\n",
            "[180]\tvalid_0's binary_logloss: 0.0650622\n",
            "[181]\tvalid_0's binary_logloss: 0.0646953\n",
            "[182]\tvalid_0's binary_logloss: 0.0646093\n",
            "[183]\tvalid_0's binary_logloss: 0.0647714\n",
            "[184]\tvalid_0's binary_logloss: 0.0654222\n",
            "[185]\tvalid_0's binary_logloss: 0.064945\n",
            "[186]\tvalid_0's binary_logloss: 0.0653536\n",
            "[187]\tvalid_0's binary_logloss: 0.0651523\n",
            "[188]\tvalid_0's binary_logloss: 0.0646236\n",
            "[189]\tvalid_0's binary_logloss: 0.0645845\n",
            "[190]\tvalid_0's binary_logloss: 0.0644839\n",
            "[191]\tvalid_0's binary_logloss: 0.0651034\n",
            "[192]\tvalid_0's binary_logloss: 0.0650977\n",
            "[193]\tvalid_0's binary_logloss: 0.065468\n",
            "[194]\tvalid_0's binary_logloss: 0.0656749\n",
            "[195]\tvalid_0's binary_logloss: 0.0661394\n",
            "[196]\tvalid_0's binary_logloss: 0.0657762\n",
            "[197]\tvalid_0's binary_logloss: 0.0649136\n",
            "[198]\tvalid_0's binary_logloss: 0.0651549\n",
            "[199]\tvalid_0's binary_logloss: 0.0650372\n",
            "[200]\tvalid_0's binary_logloss: 0.0652545\n",
            "[201]\tvalid_0's binary_logloss: 0.0650539\n",
            "LGBMClassifier EarlyStopping 정확도: 0.9790\n"
          ]
        }
      ],
      "source": [
        "from lightgbm import LGBMClassifier\n",
        "\n",
        "lgb_model2 = LGBMClassifier(n_estimators=300, random_state=42)\n",
        "evals = [(X_test, y_test)]\n",
        "lgb_model2.fit(X_train, y_train, early_stopping_rounds=100, eval_set=evals, verbose=True)\n",
        "lgb_pred = lgb_model2.predict(X_test)\n",
        "lgb_accuracy = accuracy_score(y_test, lgb_pred)\n",
        "print('LGBMClassifier EarlyStopping 정확도: {0:.4f}'.format(lgb_accuracy))"
      ]
    },
    {
      "cell_type": "markdown",
      "metadata": {
        "id": "U8V6ZZdy6mbx"
      },
      "source": [
        "### VotingClassifier\n",
        "앙상블 모델을 생성/학습/평가하세요.\n",
        " * 개별 모델 : LogisticRegression, KNeighborsClassifier 조합\n",
        " * voting='soft'"
      ]
    },
    {
      "cell_type": "code",
      "execution_count": 25,
      "metadata": {
        "colab": {
          "base_uri": "https://localhost:8080/"
        },
        "id": "Ea4rk1Fu6mby",
        "outputId": "66e93861-8b60-45bd-90ec-07e7da688504"
      },
      "outputs": [
        {
          "output_type": "stream",
          "name": "stdout",
          "text": [
            "VotingClassifier 정확도: 0.9580\n"
          ]
        },
        {
          "output_type": "stream",
          "name": "stderr",
          "text": [
            "/usr/local/lib/python3.9/dist-packages/sklearn/linear_model/_logistic.py:458: ConvergenceWarning: lbfgs failed to converge (status=1):\n",
            "STOP: TOTAL NO. of ITERATIONS REACHED LIMIT.\n",
            "\n",
            "Increase the number of iterations (max_iter) or scale the data as shown in:\n",
            "    https://scikit-learn.org/stable/modules/preprocessing.html\n",
            "Please also refer to the documentation for alternative solver options:\n",
            "    https://scikit-learn.org/stable/modules/linear_model.html#logistic-regression\n",
            "  n_iter_i = _check_optimize_result(\n"
          ]
        }
      ],
      "source": [
        "from sklearn.ensemble import VotingClassifier\n",
        "\n",
        "voting_model = VotingClassifier(estimators=[('LR',logistic_model),\\\n",
        "                                            ('KNN',neighbor_model)] , voting='soft' )\n",
        "voting_model.fit(X_train , y_train)\n",
        "pred = voting_model.predict(X_test)\n",
        "accuracy = accuracy_score(y_test , pred)\n",
        "print('VotingClassifier 정확도: {0:.4f}'.format(accuracy))"
      ]
    },
    {
      "cell_type": "markdown",
      "metadata": {
        "id": "atLpho5i6mby"
      },
      "source": [
        "### GridSearchCV - RandomForestClassifier\n",
        "\n",
        "RandomForestClassifier의 하이퍼파라미터를 튜닝하세요\n",
        " *     'n_estimators':[100],\n",
        " *   'max_depth' : [6, 8, 10, 12], \n",
        " *   'min_samples_leaf' : [8, 12, 18 ],\n",
        " *   'min_samples_split' : [8, 16, 20]"
      ]
    },
    {
      "cell_type": "code",
      "execution_count": 26,
      "metadata": {
        "colab": {
          "base_uri": "https://localhost:8080/"
        },
        "id": "C1ivjIIP6mby",
        "outputId": "8871ba3a-457d-4e52-c056-ad09bd091bab"
      },
      "outputs": [
        {
          "output_type": "stream",
          "name": "stdout",
          "text": [
            "최적 하이퍼 파라미터:\n",
            " {'max_depth': 6, 'min_samples_leaf': 8, 'min_samples_split': 8, 'n_estimators': 100}\n",
            "최고 예측 정확도: 0.9437\n"
          ]
        }
      ],
      "source": [
        "from sklearn.model_selection import GridSearchCV\n",
        "\n",
        "params = {\n",
        "    'n_estimators':[100],\n",
        "    'max_depth' : [6, 8, 10, 12], \n",
        "    'min_samples_leaf' : [8, 12, 18],\n",
        "    'min_samples_split' : [8, 16, 20]\n",
        "}\n",
        "# RandomForestClassifier 객체 생성 후 GridSearchCV 수행\n",
        "rf_clf = RandomForestClassifier(random_state=0, n_jobs=-1)\n",
        "grid_cv = GridSearchCV(rf_clf , param_grid=params , cv=2, n_jobs=-1 )\n",
        "grid_cv.fit(X_train , y_train)\n",
        "\n",
        "print('최적 하이퍼 파라미터:\\n', grid_cv.best_params_)\n",
        "print('최고 예측 정확도: {0:.4f}'.format(grid_cv.best_score_))"
      ]
    },
    {
      "cell_type": "markdown",
      "metadata": {
        "id": "TdaAMt226mby"
      },
      "source": [
        "### GridSearchCV - GBM\n",
        "\n",
        "GBM의 하이퍼파라미터를 튜닝하세요\n",
        "\n",
        "    * 'n_estimators':[100, 500],\n",
        "    * 'learning_rate' : [ 0.05, 0.1]"
      ]
    },
    {
      "cell_type": "code",
      "execution_count": 27,
      "metadata": {
        "colab": {
          "base_uri": "https://localhost:8080/"
        },
        "id": "kkruxHKR6mbz",
        "outputId": "02340bbc-1951-4e17-dfd5-ccf9356d796f"
      },
      "outputs": [
        {
          "output_type": "stream",
          "name": "stdout",
          "text": [
            "Fitting 2 folds for each of 4 candidates, totalling 8 fits\n",
            "최적 하이퍼 파라미터:\n",
            " {'learning_rate': 0.1, 'n_estimators': 500}\n",
            "최고 예측 정확도: 0.9531\n"
          ]
        }
      ],
      "source": [
        "from sklearn.model_selection import GridSearchCV\n",
        "\n",
        "params = {\n",
        "    'n_estimators':[100, 500],\n",
        "    'learning_rate' : [ 0.05, 0.1]\n",
        "}\n",
        "\n",
        "gbm_model = GradientBoostingClassifier(random_state=10)\n",
        "\n",
        "grid_cv = GridSearchCV(gbm_model , param_grid=params , cv=2 ,verbose=1)\n",
        "grid_cv.fit(X_train , y_train)\n",
        "print('최적 하이퍼 파라미터:\\n', grid_cv.best_params_)\n",
        "print('최고 예측 정확도: {0:.4f}'.format(grid_cv.best_score_))"
      ]
    }
  ],
  "metadata": {
    "kernelspec": {
      "display_name": "Python 3",
      "language": "python",
      "name": "python3"
    },
    "language_info": {
      "codemirror_mode": {
        "name": "ipython",
        "version": 3
      },
      "file_extension": ".py",
      "mimetype": "text/x-python",
      "name": "python",
      "nbconvert_exporter": "python",
      "pygments_lexer": "ipython3",
      "version": "3.8.5"
    },
    "toc": {
      "base_numbering": 1,
      "nav_menu": {},
      "number_sections": false,
      "sideBar": true,
      "skip_h1_title": false,
      "title_cell": "Table of Contents",
      "title_sidebar": "Contents",
      "toc_cell": false,
      "toc_position": {
        "height": "calc(100% - 180px)",
        "left": "10px",
        "top": "150px",
        "width": "639px"
      },
      "toc_section_display": true,
      "toc_window_display": false
    },
    "colab": {
      "provenance": [],
      "toc_visible": true,
      "include_colab_link": true
    }
  },
  "nbformat": 4,
  "nbformat_minor": 0
}