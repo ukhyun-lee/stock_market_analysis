{
  "cells": [
    {
      "cell_type": "markdown",
      "metadata": {
        "id": "view-in-github",
        "colab_type": "text"
      },
      "source": [
        "<a href=\"https://colab.research.google.com/github/ukhyun-lee/stock_market_analysis/blob/main/4%EC%A3%BC%EC%B0%A8/text_data_analysis_re.ipynb\" target=\"_parent\"><img src=\"https://colab.research.google.com/assets/colab-badge.svg\" alt=\"Open In Colab\"/></a>"
      ]
    },
    {
      "cell_type": "markdown",
      "source": [
        "# Week11. 텍스트 데이터의 분석\n",
        "---"
      ],
      "metadata": {
        "id": "o45OLDq7HPSf"
      }
    },
    {
      "cell_type": "markdown",
      "metadata": {
        "id": "sv8Y2nd77W58"
      },
      "source": [
        "## 기본 사용법"
      ]
    },
    {
      "cell_type": "code",
      "execution_count": 1,
      "metadata": {
        "colab": {
          "base_uri": "https://localhost:8080/",
          "height": 36
        },
        "id": "bWXLPMa97W56",
        "outputId": "3c3b0b75-2d73-4948-fa15-fc6c5705e472"
      },
      "outputs": [
        {
          "output_type": "execute_result",
          "data": {
            "text/plain": [
              "'010-1234-5678'"
            ],
            "application/vnd.google.colaboratory.intrinsic+json": {
              "type": "string"
            }
          },
          "metadata": {},
          "execution_count": 1
        }
      ],
      "source": [
        "import re\n",
        "str = '제 휴대폰번호는 010-1234-5678 입니다.'\n",
        "pattern = r'\\d{3}-\\d{4}-\\d{4}'\n",
        "match = re.search(pattern, str)\n",
        "match.group()"
      ]
    },
    {
      "cell_type": "code",
      "execution_count": 2,
      "metadata": {
        "colab": {
          "base_uri": "https://localhost:8080/"
        },
        "id": "r7utqaUQ7W59",
        "outputId": "161d69fb-4940-4913-9f2a-94dc4537180a"
      },
      "outputs": [
        {
          "output_type": "stream",
          "name": "stdout",
          "text": [
            "찾은 문자열: c@xyz\n"
          ]
        }
      ],
      "source": [
        "str = '내 이메일 주소는 abc@xyz.com 입니다. 친구 이메일 주소는 def@xyz.com 입니다.'\n",
        "# search() : 특정 패턴을 찾음\n",
        "# \\w : 문자 또는 숫자\n",
        "result = re.search(r'\\w@\\w.\\w', str)\n",
        "if result:\n",
        "    # group() : 일치하는 문자열을 구함\n",
        "    print('찾은 문자열:', result.group())\n",
        "else:\n",
        "    print('패턴이 존재하지 않습니다.')    "
      ]
    },
    {
      "cell_type": "code",
      "execution_count": 3,
      "metadata": {
        "colab": {
          "base_uri": "https://localhost:8080/",
          "height": 36
        },
        "id": "vbof-EdD7W5-",
        "outputId": "e9d8d028-bd83-44a4-b9a0-6bf1a93357e3"
      },
      "outputs": [
        {
          "output_type": "execute_result",
          "data": {
            "text/plain": [
              "'iig'"
            ],
            "application/vnd.google.colaboratory.intrinsic+json": {
              "type": "string"
            }
          },
          "metadata": {},
          "execution_count": 3
        }
      ],
      "source": [
        "# . : 임의의 문자\n",
        "result = re.search(r'..g', 'piiig')\n",
        "result.group()"
      ]
    },
    {
      "cell_type": "code",
      "execution_count": 4,
      "metadata": {
        "colab": {
          "base_uri": "https://localhost:8080/",
          "height": 36
        },
        "id": "5VFrej4q7W5_",
        "outputId": "ccfb2ba7-75b5-4325-c5df-40390173c836"
      },
      "outputs": [
        {
          "output_type": "execute_result",
          "data": {
            "text/plain": [
              "'123'"
            ],
            "application/vnd.google.colaboratory.intrinsic+json": {
              "type": "string"
            }
          },
          "metadata": {},
          "execution_count": 4
        }
      ],
      "source": [
        "# \\d : 숫자\n",
        "result = re.search(r'\\d\\d\\d', 'p123g')\n",
        "result.group()"
      ]
    },
    {
      "cell_type": "code",
      "execution_count": 5,
      "metadata": {
        "colab": {
          "base_uri": "https://localhost:8080/",
          "height": 36
        },
        "id": "qxw1VIBE7W6A",
        "outputId": "6390626b-ea55-4a35-eb12-760dfbd97661"
      },
      "outputs": [
        {
          "output_type": "execute_result",
          "data": {
            "text/plain": [
              "'a'"
            ],
            "application/vnd.google.colaboratory.intrinsic+json": {
              "type": "string"
            }
          },
          "metadata": {},
          "execution_count": 5
        }
      ],
      "source": [
        "# | : 둘 중에 하나\n",
        "result = re.search(r'a|z', 'abczde')\n",
        "result.group()"
      ]
    },
    {
      "cell_type": "code",
      "execution_count": 6,
      "metadata": {
        "colab": {
          "base_uri": "https://localhost:8080/"
        },
        "id": "ZYT3VQ9H7W6A",
        "outputId": "d83206e2-9028-4ac0-c929-efbf05a9b15a"
      },
      "outputs": [
        {
          "output_type": "stream",
          "name": "stdout",
          "text": [
            "found abc\n"
          ]
        }
      ],
      "source": [
        "# ^ : 가장 앞의 글자가 일치해야 함\n",
        "result = re.search(r'^abc', 'abcde')\n",
        "\n",
        "if result:\n",
        "    print('found', result.group())\n",
        "else:\n",
        "    print('did not find')    "
      ]
    },
    {
      "cell_type": "code",
      "execution_count": 7,
      "metadata": {
        "colab": {
          "base_uri": "https://localhost:8080/"
        },
        "id": "rVIEaPOs7W6B",
        "outputId": "1f014123-4306-49ea-d2f4-40b27cae3d1a"
      },
      "outputs": [
        {
          "output_type": "stream",
          "name": "stdout",
          "text": [
            "found bc\n"
          ]
        }
      ],
      "source": [
        "result = re.search(r'^bc', 'bcde')\n",
        "\n",
        "if result:\n",
        "    print('found', result.group())\n",
        "else:\n",
        "    print('did not find')    "
      ]
    },
    {
      "cell_type": "code",
      "execution_count": 8,
      "metadata": {
        "colab": {
          "base_uri": "https://localhost:8080/"
        },
        "id": "VMWlfG577W6C",
        "outputId": "f522cf5a-2c60-4a18-beaf-f7076f3081ad"
      },
      "outputs": [
        {
          "output_type": "stream",
          "name": "stdout",
          "text": [
            "found de\n"
          ]
        }
      ],
      "source": [
        "# $ : 가장 뒤의 글자가 일치해야 함\n",
        "result = re.search(r'de$', 'abcde')\n",
        "\n",
        "if result:\n",
        "    print('found', result.group())\n",
        "else:\n",
        "    print('did not find')    "
      ]
    },
    {
      "cell_type": "code",
      "execution_count": 9,
      "metadata": {
        "colab": {
          "base_uri": "https://localhost:8080/"
        },
        "id": "u_CYS2A87W6C",
        "outputId": "679bae3a-8498-4e5b-fe80-6ddb51b70e5e"
      },
      "outputs": [
        {
          "output_type": "stream",
          "name": "stdout",
          "text": [
            "found bc\n"
          ]
        }
      ],
      "source": [
        "result = re.search(r'bc$', 'abcdebc')\n",
        "\n",
        "if result:\n",
        "    print('found', result.group())\n",
        "else:\n",
        "    print('did not find')    "
      ]
    },
    {
      "cell_type": "markdown",
      "metadata": {
        "id": "rE2BgwU-7W6D"
      },
      "source": [
        "## 문자열의 r 기호"
      ]
    },
    {
      "cell_type": "code",
      "execution_count": 10,
      "metadata": {
        "colab": {
          "base_uri": "https://localhost:8080/"
        },
        "id": "UF0opFhL7W6D",
        "outputId": "1fbe03dc-71ab-4410-d635-8ebbeaf2e22d"
      },
      "outputs": [
        {
          "output_type": "stream",
          "name": "stdout",
          "text": [
            "hi\n",
            "hi\n"
          ]
        }
      ],
      "source": [
        "# \\n : 개행문자\n",
        "print('hi\\nhi')"
      ]
    },
    {
      "cell_type": "code",
      "execution_count": 11,
      "metadata": {
        "colab": {
          "base_uri": "https://localhost:8080/"
        },
        "id": "dofmxUUQ7W6D",
        "outputId": "ca3bb7f5-99af-45b7-9ed8-f51e3e7c09ba"
      },
      "outputs": [
        {
          "output_type": "stream",
          "name": "stdout",
          "text": [
            "hi\\nhi\n"
          ]
        }
      ],
      "source": [
        "# r을 붙이면 raw string으로 인식\n",
        "print(r'hi\\nhi')"
      ]
    },
    {
      "cell_type": "code",
      "execution_count": 12,
      "metadata": {
        "colab": {
          "base_uri": "https://localhost:8080/",
          "height": 36
        },
        "id": "VwmZBwOY7W6E",
        "outputId": "00608c9f-0460-4760-9d2b-b763e331c2f1"
      },
      "outputs": [
        {
          "output_type": "execute_result",
          "data": {
            "text/plain": [
              "'\\\\c'"
            ],
            "application/vnd.google.colaboratory.intrinsic+json": {
              "type": "string"
            }
          },
          "metadata": {},
          "execution_count": 12
        }
      ],
      "source": [
        "# \\를 캐릭터를 처리하려면 \\ 하나를 더 붙임\n",
        "result = re.search(r'\\\\c', 'ab\\c')\n",
        "result.group()"
      ]
    },
    {
      "cell_type": "code",
      "execution_count": 13,
      "metadata": {
        "colab": {
          "base_uri": "https://localhost:8080/",
          "height": 36
        },
        "id": "hLdLEWF27W6E",
        "outputId": "7cb1103f-73d1-401b-ba8b-4a74c1d526e9"
      },
      "outputs": [
        {
          "output_type": "execute_result",
          "data": {
            "text/plain": [
              "'\\\\c'"
            ],
            "application/vnd.google.colaboratory.intrinsic+json": {
              "type": "string"
            }
          },
          "metadata": {},
          "execution_count": 13
        }
      ],
      "source": [
        "# r을 사용하지 않으며 \\\\ 두 개를 붙여야 함\n",
        "result = re.search('\\\\\\c', 'ab\\c')\n",
        "result.group()"
      ]
    },
    {
      "cell_type": "markdown",
      "metadata": {
        "id": "6TMk5k2K7W6E"
      },
      "source": [
        "## 반복"
      ]
    },
    {
      "cell_type": "code",
      "execution_count": 14,
      "metadata": {
        "colab": {
          "base_uri": "https://localhost:8080/",
          "height": 36
        },
        "id": "-SkKnABa7W6E",
        "outputId": "381f75f3-ded4-4ac2-dc41-a375f01b7381"
      },
      "outputs": [
        {
          "output_type": "execute_result",
          "data": {
            "text/plain": [
              "'pi'"
            ],
            "application/vnd.google.colaboratory.intrinsic+json": {
              "type": "string"
            }
          },
          "metadata": {},
          "execution_count": 14
        }
      ],
      "source": [
        "# + : 하나 이상 반복\n",
        "result = re.search(r'pi+', 'pigg')\n",
        "result.group()"
      ]
    },
    {
      "cell_type": "code",
      "execution_count": 15,
      "metadata": {
        "colab": {
          "base_uri": "https://localhost:8080/",
          "height": 36
        },
        "id": "40MtIrJU7W6F",
        "outputId": "871c6ad1-2ebf-45b1-9721-25334d54d5d2"
      },
      "outputs": [
        {
          "output_type": "execute_result",
          "data": {
            "text/plain": [
              "'1 2   3'"
            ],
            "application/vnd.google.colaboratory.intrinsic+json": {
              "type": "string"
            }
          },
          "metadata": {},
          "execution_count": 15
        }
      ],
      "source": [
        "# * : 0 또는 하나 이상 반복\n",
        "# \\d : 숫자\n",
        "# \\s : 공백\n",
        "result = re.search(r'\\d\\s*\\d\\s*\\d', 'xx1 2   3xx')\n",
        "result.group()"
      ]
    },
    {
      "cell_type": "code",
      "execution_count": 16,
      "metadata": {
        "colab": {
          "base_uri": "https://localhost:8080/",
          "height": 36
        },
        "id": "2De2TsaV7W6F",
        "outputId": "5231e364-7d7c-4b18-8df1-8ab78ef97b0d"
      },
      "outputs": [
        {
          "output_type": "execute_result",
          "data": {
            "text/plain": [
              "'12  3'"
            ],
            "application/vnd.google.colaboratory.intrinsic+json": {
              "type": "string"
            }
          },
          "metadata": {},
          "execution_count": 16
        }
      ],
      "source": [
        "result = re.search(r'\\d\\s*\\d\\s*\\d', 'xx12  3xx')\n",
        "result.group()"
      ]
    },
    {
      "cell_type": "code",
      "execution_count": 17,
      "metadata": {
        "colab": {
          "base_uri": "https://localhost:8080/",
          "height": 36
        },
        "id": "UqamwP2O7W6F",
        "outputId": "189fe87b-5010-4556-86e9-07363e7bd8bd"
      },
      "outputs": [
        {
          "output_type": "execute_result",
          "data": {
            "text/plain": [
              "'123'"
            ],
            "application/vnd.google.colaboratory.intrinsic+json": {
              "type": "string"
            }
          },
          "metadata": {},
          "execution_count": 17
        }
      ],
      "source": [
        "result = re.search(r'\\d\\s*\\d\\s*\\d', 'xx123xx')\n",
        "result.group()"
      ]
    },
    {
      "cell_type": "code",
      "execution_count": 18,
      "metadata": {
        "colab": {
          "base_uri": "https://localhost:8080/",
          "height": 36
        },
        "id": "SarZIzaZ7W6G",
        "outputId": "3d707dce-96c5-49c4-bb46-a6d8aab7ed61"
      },
      "outputs": [
        {
          "output_type": "execute_result",
          "data": {
            "text/plain": [
              "'abc'"
            ],
            "application/vnd.google.colaboratory.intrinsic+json": {
              "type": "string"
            }
          },
          "metadata": {},
          "execution_count": 18
        }
      ],
      "source": [
        "# ? : 0 또는 하나\n",
        "result = re.search(r'ab?c', 'abcdef')\n",
        "result.group()"
      ]
    },
    {
      "cell_type": "code",
      "execution_count": 19,
      "metadata": {
        "colab": {
          "base_uri": "https://localhost:8080/",
          "height": 36
        },
        "id": "hfwpO4iT7W6G",
        "outputId": "6ad4ca5f-c9d3-474a-9b46-f5c76483c381"
      },
      "outputs": [
        {
          "output_type": "execute_result",
          "data": {
            "text/plain": [
              "'ac'"
            ],
            "application/vnd.google.colaboratory.intrinsic+json": {
              "type": "string"
            }
          },
          "metadata": {},
          "execution_count": 19
        }
      ],
      "source": [
        "result = re.search(r'ab?c', 'acdef')\n",
        "result.group()"
      ]
    },
    {
      "cell_type": "code",
      "execution_count": 20,
      "metadata": {
        "colab": {
          "base_uri": "https://localhost:8080/",
          "height": 36
        },
        "id": "xrCzX2NX7W6G",
        "outputId": "9b3c9809-c29e-4cc9-d680-436213426a11"
      },
      "outputs": [
        {
          "output_type": "execute_result",
          "data": {
            "text/plain": [
              "'bcc'"
            ],
            "application/vnd.google.colaboratory.intrinsic+json": {
              "type": "string"
            }
          },
          "metadata": {},
          "execution_count": 20
        }
      ],
      "source": [
        "# {} : 횟수만큼 반복\n",
        "result = re.search(r'bc{2}', 'abccd')\n",
        "result.group()"
      ]
    },
    {
      "cell_type": "code",
      "execution_count": 21,
      "metadata": {
        "colab": {
          "base_uri": "https://localhost:8080/",
          "height": 36
        },
        "id": "zZoa8JQh7W6G",
        "outputId": "59b629e5-2a69-4610-a2b0-d78b716bda31"
      },
      "outputs": [
        {
          "output_type": "execute_result",
          "data": {
            "text/plain": [
              "'bcccccccccccccc'"
            ],
            "application/vnd.google.colaboratory.intrinsic+json": {
              "type": "string"
            }
          },
          "metadata": {},
          "execution_count": 21
        }
      ],
      "source": [
        "result = re.search(r'bc{2,50}', 'abccccccccccccccd')\n",
        "result.group()"
      ]
    },
    {
      "cell_type": "code",
      "execution_count": 22,
      "metadata": {
        "colab": {
          "base_uri": "https://localhost:8080/",
          "height": 36
        },
        "id": "SR4T9NNz7W6H",
        "outputId": "3d46ca72-b4d2-4171-9213-b05fb1f23a77"
      },
      "outputs": [
        {
          "output_type": "execute_result",
          "data": {
            "text/plain": [
              "'b'"
            ],
            "application/vnd.google.colaboratory.intrinsic+json": {
              "type": "string"
            }
          },
          "metadata": {},
          "execution_count": 22
        }
      ],
      "source": [
        "# 0번 이상\n",
        "result = re.search(r'bc{0,}', 'abd')\n",
        "result.group()"
      ]
    },
    {
      "cell_type": "code",
      "execution_count": 24,
      "metadata": {
        "colab": {
          "base_uri": "https://localhost:8080/",
          "height": 36
        },
        "id": "zkJ60kTY7W6H",
        "outputId": "8231d536-f714-440e-997f-baf2de561773"
      },
      "outputs": [
        {
          "output_type": "execute_result",
          "data": {
            "text/plain": [
              "'bc'"
            ],
            "application/vnd.google.colaboratory.intrinsic+json": {
              "type": "string"
            }
          },
          "metadata": {},
          "execution_count": 24
        }
      ],
      "source": [
        "# 1번 이하\n",
        "result = re.search(r'bc{,1}', 'abcd')\n",
        "result.group()"
      ]
    },
    {
      "cell_type": "markdown",
      "metadata": {
        "id": "BOnIOXy_7W6H"
      },
      "source": [
        "## 이메일 예제"
      ]
    },
    {
      "cell_type": "code",
      "execution_count": 25,
      "metadata": {
        "colab": {
          "base_uri": "https://localhost:8080/",
          "height": 36
        },
        "id": "TYg8PvHn7W6H",
        "outputId": "ac4599e9-d064-4e69-d7ce-a48200ffad79"
      },
      "outputs": [
        {
          "output_type": "execute_result",
          "data": {
            "text/plain": [
              "'b@google'"
            ],
            "application/vnd.google.colaboratory.intrinsic+json": {
              "type": "string"
            }
          },
          "metadata": {},
          "execution_count": 25
        }
      ],
      "source": [
        "str = 'purple alice-b@google.com monkey dishwasher'\n",
        "\n",
        "result = re.search(r'\\w+@\\w+', str)\n",
        "result.group()"
      ]
    },
    {
      "cell_type": "code",
      "execution_count": 26,
      "metadata": {
        "colab": {
          "base_uri": "https://localhost:8080/",
          "height": 36
        },
        "id": "g2R-rWXs7W6H",
        "outputId": "bcf1a331-b206-492d-da98-c8a0018e86d9"
      },
      "outputs": [
        {
          "output_type": "execute_result",
          "data": {
            "text/plain": [
              "'alice-b@google.com'"
            ],
            "application/vnd.google.colaboratory.intrinsic+json": {
              "type": "string"
            }
          },
          "metadata": {},
          "execution_count": 26
        }
      ],
      "source": [
        "# [] : 괄호안에 있는 문자들 중 하나\n",
        "result = re.search(r'[\\w.-]+@[\\w.-]+', str)\n",
        "result.group()"
      ]
    },
    {
      "cell_type": "markdown",
      "metadata": {
        "id": "xht1zlrm7W6I"
      },
      "source": [
        "## 그룹 추출"
      ]
    },
    {
      "cell_type": "code",
      "execution_count": 27,
      "metadata": {
        "colab": {
          "base_uri": "https://localhost:8080/"
        },
        "id": "rD3A55H97W6I",
        "outputId": "99a20947-3cee-4dc9-8b60-b051ccb1cd5c"
      },
      "outputs": [
        {
          "output_type": "stream",
          "name": "stdout",
          "text": [
            "alice-b@google.com\n",
            "alice-b\n",
            "google.com\n"
          ]
        }
      ],
      "source": [
        "str = 'purple alice-b@google.com monkey dishwasher'\n",
        "\n",
        "# () : 그룹을 지정\n",
        "result = re.search(r'([\\w.-]+)@([\\w.-]+)', str)\n",
        "print(result.group())  # 전체\n",
        "print(result.group(1)) # 첫 번째 그룹\n",
        "print(result.group(2)) # 두 번째 그룹"
      ]
    },
    {
      "cell_type": "markdown",
      "metadata": {
        "id": "axcc34bQ7W6I"
      },
      "source": [
        "## 문자열의 위치"
      ]
    },
    {
      "cell_type": "code",
      "execution_count": 28,
      "metadata": {
        "colab": {
          "base_uri": "https://localhost:8080/",
          "height": 36
        },
        "id": "7PhW8Jqz7W6I",
        "outputId": "92adfae0-f38e-4533-e593-a434c984f6d1"
      },
      "outputs": [
        {
          "output_type": "execute_result",
          "data": {
            "text/plain": [
              "'bc'"
            ],
            "application/vnd.google.colaboratory.intrinsic+json": {
              "type": "string"
            }
          },
          "metadata": {},
          "execution_count": 28
        }
      ],
      "source": [
        "result = re.search(r'bc', 'abcde')\n",
        "result.group()"
      ]
    },
    {
      "cell_type": "code",
      "execution_count": 29,
      "metadata": {
        "colab": {
          "base_uri": "https://localhost:8080/"
        },
        "id": "YoMVNaqB7W6I",
        "outputId": "616e2de3-9454-4cec-f97a-08167f28c91c"
      },
      "outputs": [
        {
          "output_type": "execute_result",
          "data": {
            "text/plain": [
              "1"
            ]
          },
          "metadata": {},
          "execution_count": 29
        }
      ],
      "source": [
        "result = re.search(r'bc', 'abcde')\n",
        "result.start() # 시작 위치"
      ]
    },
    {
      "cell_type": "code",
      "execution_count": 30,
      "metadata": {
        "colab": {
          "base_uri": "https://localhost:8080/"
        },
        "id": "ojaP3CiE7W6I",
        "outputId": "1ab301ff-728b-4b90-d750-587263974135"
      },
      "outputs": [
        {
          "output_type": "execute_result",
          "data": {
            "text/plain": [
              "3"
            ]
          },
          "metadata": {},
          "execution_count": 30
        }
      ],
      "source": [
        "result = re.search(r'bc', 'abcde')\n",
        "result.end() # 끝 위치"
      ]
    },
    {
      "cell_type": "code",
      "execution_count": 31,
      "metadata": {
        "colab": {
          "base_uri": "https://localhost:8080/"
        },
        "id": "ZBYIdvZQ7W6J",
        "outputId": "67ff2497-b5f3-4db0-d197-286cc2957e14"
      },
      "outputs": [
        {
          "output_type": "execute_result",
          "data": {
            "text/plain": [
              "(1, 3)"
            ]
          },
          "metadata": {},
          "execution_count": 31
        }
      ],
      "source": [
        "result = re.search(r'bc', 'abcde')\n",
        "result.span() # 범위"
      ]
    },
    {
      "cell_type": "markdown",
      "metadata": {
        "id": "YpkfL5B57W6J"
      },
      "source": [
        "## 일치"
      ]
    },
    {
      "cell_type": "code",
      "execution_count": 32,
      "metadata": {
        "colab": {
          "base_uri": "https://localhost:8080/"
        },
        "id": "oEgFCKsu7W6J",
        "outputId": "ecbf732d-95a3-4c44-b26b-b343e0819fae"
      },
      "outputs": [
        {
          "output_type": "stream",
          "name": "stdout",
          "text": [
            "found python\n"
          ]
        }
      ],
      "source": [
        "# match() : 제일 앞부분부터 일치 판정\n",
        "result = re.match(r'python', 'python123')\n",
        "\n",
        "if result:\n",
        "    print('found', result.group())\n",
        "else:\n",
        "    print('did not find')    "
      ]
    },
    {
      "cell_type": "code",
      "execution_count": 33,
      "metadata": {
        "colab": {
          "base_uri": "https://localhost:8080/"
        },
        "id": "DRX9sFQA7W6J",
        "outputId": "c16cd339-b4af-4c36-dc93-489097cce3ba"
      },
      "outputs": [
        {
          "output_type": "stream",
          "name": "stdout",
          "text": [
            "did not find\n"
          ]
        }
      ],
      "source": [
        "result = re.match(r'123', 'python123')\n",
        "\n",
        "if result:\n",
        "    print('found', result.group())\n",
        "else:\n",
        "    print('did not find')    "
      ]
    },
    {
      "cell_type": "code",
      "execution_count": 34,
      "metadata": {
        "colab": {
          "base_uri": "https://localhost:8080/"
        },
        "id": "mXkqtV8g7W6J",
        "outputId": "74fa942f-7c44-4243-b754-ea346cfc1707"
      },
      "outputs": [
        {
          "output_type": "stream",
          "name": "stdout",
          "text": [
            "found 123\n"
          ]
        }
      ],
      "source": [
        "result = re.search(r'123', 'python123')\n",
        "\n",
        "if result:\n",
        "    print('found', result.group())\n",
        "else:\n",
        "    print('did not find')    "
      ]
    },
    {
      "cell_type": "markdown",
      "metadata": {
        "id": "ZpPbciqN7W6K"
      },
      "source": [
        "## 전체 검색"
      ]
    },
    {
      "cell_type": "code",
      "execution_count": 35,
      "metadata": {
        "colab": {
          "base_uri": "https://localhost:8080/"
        },
        "id": "aAI4dPEg7W6K",
        "outputId": "d9cad110-867f-413f-d98c-d66f80beeada"
      },
      "outputs": [
        {
          "output_type": "stream",
          "name": "stdout",
          "text": [
            "alice@google.com\n",
            "bob@abc.com\n"
          ]
        }
      ],
      "source": [
        "str = 'purple alice@google.com, blah monkey bob@abc.com blah dishwasher'\n",
        "\n",
        "# search() : 가장 왼쪽의 일치 부분만 구함\n",
        "# findall() : 일치하는 부분을 모두 구함\n",
        "emails = re.findall(r'[\\w.-]+@[\\w.-]+', str)\n",
        "# emails = re.search(r'[\\w.-]+@[\\w.-]+', str)\n",
        "for email in emails:\n",
        "    print(email)    "
      ]
    },
    {
      "cell_type": "markdown",
      "metadata": {
        "id": "qPgOHvvd7W6K"
      },
      "source": [
        "## 치환"
      ]
    },
    {
      "cell_type": "code",
      "execution_count": 36,
      "metadata": {
        "colab": {
          "base_uri": "https://localhost:8080/",
          "height": 36
        },
        "id": "QA9yzO2Y7W6K",
        "outputId": "02484cec-655c-45da-e5a0-431ead2361f1"
      },
      "outputs": [
        {
          "output_type": "execute_result",
          "data": {
            "text/plain": [
              "'앨리스의 이메일 주소는 alice@naver.com 이고, 밥의 이메일 주소는 bob@naver.com 입니다.'"
            ],
            "application/vnd.google.colaboratory.intrinsic+json": {
              "type": "string"
            }
          },
          "metadata": {},
          "execution_count": 36
        }
      ],
      "source": [
        "str = '앨리스의 이메일 주소는 alice@google.com 이고, 밥의 이메일 주소는 bob@abc.com 입니다.'\n",
        "\n",
        "# sub() : 문자열을 찾아서 치환\n",
        "# search()와 달리 치환된 문자열을 바로 리턴\n",
        "# \\1 : 그룹1의 문자열\n",
        "# \\2 : 그룹2의 문자열\n",
        "result = re.sub(r'([\\w.-]+)@([\\w.-]+)', r'\\1@naver.com', str)\n",
        "result"
      ]
    },
    {
      "cell_type": "markdown",
      "metadata": {
        "id": "OUKdSuEi7W6K"
      },
      "source": [
        "## 컴파일"
      ]
    },
    {
      "cell_type": "code",
      "execution_count": 37,
      "metadata": {
        "colab": {
          "base_uri": "https://localhost:8080/",
          "height": 36
        },
        "id": "OEgn-CJE7W6K",
        "outputId": "6ad87266-5353-4164-8ee1-6ce92888dd75"
      },
      "outputs": [
        {
          "output_type": "execute_result",
          "data": {
            "text/plain": [
              "'python'"
            ],
            "application/vnd.google.colaboratory.intrinsic+json": {
              "type": "string"
            }
          },
          "metadata": {},
          "execution_count": 37
        }
      ],
      "source": [
        "# 패턴을 미리 정의하고 재사용\n",
        "pattern = re.compile(r'[a-z]+')\n",
        "result = pattern.search('python123')\n",
        "result.group()"
      ]
    }
  ],
  "metadata": {
    "colab": {
      "provenance": [],
      "toc_visible": true,
      "include_colab_link": true
    },
    "kernelspec": {
      "display_name": "Python 3",
      "language": "python",
      "name": "python3"
    },
    "language_info": {
      "codemirror_mode": {
        "name": "ipython",
        "version": 3
      },
      "file_extension": ".py",
      "mimetype": "text/x-python",
      "name": "python",
      "nbconvert_exporter": "python",
      "pygments_lexer": "ipython3",
      "version": "3.8.5"
    },
    "toc": {
      "base_numbering": 1,
      "nav_menu": {},
      "number_sections": false,
      "sideBar": true,
      "skip_h1_title": false,
      "title_cell": "Table of Contents",
      "title_sidebar": "Contents",
      "toc_cell": false,
      "toc_position": {
        "height": "calc(100% - 180px)",
        "left": "10px",
        "top": "150px",
        "width": "136.58px"
      },
      "toc_section_display": true,
      "toc_window_display": true
    }
  },
  "nbformat": 4,
  "nbformat_minor": 0
}