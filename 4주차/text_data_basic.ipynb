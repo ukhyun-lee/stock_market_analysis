{
  "cells": [
    {
      "cell_type": "markdown",
      "metadata": {
        "id": "view-in-github",
        "colab_type": "text"
      },
      "source": [
        "<a href=\"https://colab.research.google.com/github/ukhyun-lee/stock_market_analysis/blob/main/4%EC%A3%BC%EC%B0%A8/text_data_basic.ipynb\" target=\"_parent\"><img src=\"https://colab.research.google.com/assets/colab-badge.svg\" alt=\"Open In Colab\"/></a>"
      ]
    },
    {
      "cell_type": "markdown",
      "metadata": {
        "id": "gPIQVWrVI8M3"
      },
      "source": [
        "# 문자열다루기"
      ]
    },
    {
      "cell_type": "markdown",
      "metadata": {
        "id": "dKZzmz0lI8M5"
      },
      "source": [
        "## split()\n",
        " - 구분자를 기준으로 문자열을 쪼개주는 함수\n",
        " - 리스트로 반환"
      ]
    },
    {
      "cell_type": "code",
      "execution_count": 1,
      "metadata": {
        "colab": {
          "base_uri": "https://localhost:8080/"
        },
        "id": "wHYHOmWeI8M5",
        "outputId": "9e20de7a-8b4b-4409-fc23-81952862480e"
      },
      "outputs": [
        {
          "output_type": "execute_result",
          "data": {
            "text/plain": [
              "['에스프레소', '아메리카노', '카페라테', '카푸치노']"
            ]
          },
          "metadata": {},
          "execution_count": 1
        }
      ],
      "source": [
        "#split\n",
        "\n",
        "str = \"에스프레소, 아메리카노, 카페라테, 카푸치노\"\n",
        "str.split(\", \")"
      ]
    },
    {
      "cell_type": "code",
      "execution_count": 2,
      "metadata": {
        "colab": {
          "base_uri": "https://localhost:8080/"
        },
        "id": "EX2uTC_qI8M7",
        "outputId": "9993c96d-5dbf-44b6-b69e-aeb614edf92d"
      },
      "outputs": [
        {
          "output_type": "execute_result",
          "data": {
            "text/plain": [
              "['+82', '10', '1234', '5678']"
            ]
          },
          "metadata": {},
          "execution_count": 2
        }
      ],
      "source": [
        "str1 = \"+82-10-1234-5678\"\n",
        "str1.split(\"-\")"
      ]
    },
    {
      "cell_type": "code",
      "execution_count": 3,
      "metadata": {
        "colab": {
          "base_uri": "https://localhost:8080/"
        },
        "id": "aBDPUkeLI8M7",
        "outputId": "2dd5bc1f-7e16-4e93-fd82-c50aae17fbcd"
      },
      "outputs": [
        {
          "output_type": "execute_result",
          "data": {
            "text/plain": [
              "['+82', '10-1234-5678']"
            ]
          },
          "metadata": {},
          "execution_count": 3
        }
      ],
      "source": [
        "str1.split(\"-\", 1)"
      ]
    },
    {
      "cell_type": "code",
      "execution_count": 4,
      "metadata": {
        "colab": {
          "base_uri": "https://localhost:8080/"
        },
        "id": "y4Xfl5uqI8M7",
        "outputId": "dba91ed3-a379-4234-be7a-cd18dea7367d"
      },
      "outputs": [
        {
          "output_type": "execute_result",
          "data": {
            "text/plain": [
              "['+82', '10', '1234-5678']"
            ]
          },
          "metadata": {},
          "execution_count": 4
        }
      ],
      "source": [
        "str1.split(\"-\", maxsplit=2)"
      ]
    },
    {
      "cell_type": "markdown",
      "metadata": {
        "id": "XRO4kqEbI8M8"
      },
      "source": [
        "## strip()\n",
        "\n",
        "- 문자열에 포함된 불필요한 문구를 벗겨내는 함수\n"
      ]
    },
    {
      "cell_type": "code",
      "execution_count": 5,
      "metadata": {
        "id": "I_WI8-sAI8M8"
      },
      "outputs": [],
      "source": [
        "# strip()\n",
        "\n",
        "str2 = \"aaaaPythonaaaa\".strip(\"a\")"
      ]
    },
    {
      "cell_type": "code",
      "execution_count": 6,
      "metadata": {
        "colab": {
          "base_uri": "https://localhost:8080/",
          "height": 36
        },
        "id": "AWTRMMg4I8M8",
        "outputId": "014b755b-97ce-4c58-e533-6edc3313f6a8"
      },
      "outputs": [
        {
          "output_type": "execute_result",
          "data": {
            "text/plain": [
              "'Python'"
            ],
            "application/vnd.google.colaboratory.intrinsic+json": {
              "type": "string"
            }
          },
          "metadata": {},
          "execution_count": 6
        }
      ],
      "source": [
        "str2"
      ]
    },
    {
      "cell_type": "code",
      "execution_count": 7,
      "metadata": {
        "colab": {
          "base_uri": "https://localhost:8080/",
          "height": 36
        },
        "id": "LgZskw82I8M8",
        "outputId": "0745d259-a549-4f84-b9ca-7c0c44100bcb"
      },
      "outputs": [
        {
          "output_type": "execute_result",
          "data": {
            "text/plain": [
              "'bbPythonaaaabb'"
            ],
            "application/vnd.google.colaboratory.intrinsic+json": {
              "type": "string"
            }
          },
          "metadata": {},
          "execution_count": 7
        }
      ],
      "source": [
        "str3 = \"aaabbPythonaaaabb\"\n",
        "str3.strip(\"a\")"
      ]
    },
    {
      "cell_type": "code",
      "execution_count": 8,
      "metadata": {
        "colab": {
          "base_uri": "https://localhost:8080/",
          "height": 36
        },
        "id": "stXLWJEGI8M8",
        "outputId": "5aba021b-cc64-4f63-af6c-02ca48069a21"
      },
      "outputs": [
        {
          "output_type": "execute_result",
          "data": {
            "text/plain": [
              "'bbPythonbb'"
            ],
            "application/vnd.google.colaboratory.intrinsic+json": {
              "type": "string"
            }
          },
          "metadata": {},
          "execution_count": 8
        }
      ],
      "source": [
        "str4 = \"aaabbPythonbbaaaa\"\n",
        "str4.strip(\"a\")"
      ]
    },
    {
      "cell_type": "code",
      "execution_count": 9,
      "metadata": {
        "colab": {
          "base_uri": "https://localhost:8080/",
          "height": 36
        },
        "id": "-HdM0roRI8M9",
        "outputId": "b9d8449e-4296-4417-e6bd-6c2ddc96dfb7"
      },
      "outputs": [
        {
          "output_type": "execute_result",
          "data": {
            "text/plain": [
              "'aaabbPythonbbaaaa'"
            ],
            "application/vnd.google.colaboratory.intrinsic+json": {
              "type": "string"
            }
          },
          "metadata": {},
          "execution_count": 9
        }
      ],
      "source": [
        "str4"
      ]
    },
    {
      "cell_type": "code",
      "execution_count": 10,
      "metadata": {
        "colab": {
          "base_uri": "https://localhost:8080/",
          "height": 36
        },
        "id": "WCcwvBb_I8M9",
        "outputId": "48f9f331-3ba7-4836-9163-210d2788b62e"
      },
      "outputs": [
        {
          "output_type": "execute_result",
          "data": {
            "text/plain": [
              "'Python'"
            ],
            "application/vnd.google.colaboratory.intrinsic+json": {
              "type": "string"
            }
          },
          "metadata": {},
          "execution_count": 10
        }
      ],
      "source": [
        "str4.strip(\"ab\")"
      ]
    },
    {
      "cell_type": "code",
      "execution_count": 11,
      "metadata": {
        "colab": {
          "base_uri": "https://localhost:8080/",
          "height": 36
        },
        "id": "AOJwj1qNI8M9",
        "outputId": "4a3c8200-a67d-4e85-d23e-5d8c808ac6fa"
      },
      "outputs": [
        {
          "output_type": "execute_result",
          "data": {
            "text/plain": [
              "'aaabbPythonbbaaaa'"
            ],
            "application/vnd.google.colaboratory.intrinsic+json": {
              "type": "string"
            }
          },
          "metadata": {},
          "execution_count": 11
        }
      ],
      "source": [
        "str4"
      ]
    },
    {
      "cell_type": "code",
      "execution_count": 12,
      "metadata": {
        "colab": {
          "base_uri": "https://localhost:8080/",
          "height": 36
        },
        "id": "Qalz4hujI8M9",
        "outputId": "63e70b82-87ac-408e-8b1b-bdef8cba4be3"
      },
      "outputs": [
        {
          "output_type": "execute_result",
          "data": {
            "text/plain": [
              "'Python'"
            ],
            "application/vnd.google.colaboratory.intrinsic+json": {
              "type": "string"
            }
          },
          "metadata": {},
          "execution_count": 12
        }
      ],
      "source": [
        "str4.strip(\"ba\")"
      ]
    },
    {
      "cell_type": "code",
      "execution_count": 13,
      "metadata": {
        "colab": {
          "base_uri": "https://localhost:8080/",
          "height": 36
        },
        "id": "PPvAyjRcI8M-",
        "outputId": "5d661602-2d29-46d5-e3d8-cda4d184a10d"
      },
      "outputs": [
        {
          "output_type": "execute_result",
          "data": {
            "text/plain": [
              "'Python'"
            ],
            "application/vnd.google.colaboratory.intrinsic+json": {
              "type": "string"
            }
          },
          "metadata": {},
          "execution_count": 13
        }
      ],
      "source": [
        "str5 = \"#####****!!!! Python !!!!%%%%!!###\"\n",
        "str5.strip(\"#*!% \")"
      ]
    },
    {
      "cell_type": "code",
      "execution_count": 14,
      "metadata": {
        "colab": {
          "base_uri": "https://localhost:8080/"
        },
        "id": "VG9YSlDvI8M-",
        "outputId": "4a77ad24-d2fb-40ad-ed74-c61da6566d19"
      },
      "outputs": [
        {
          "output_type": "stream",
          "name": "stdout",
          "text": [
            " Python \n",
            " Python 0000\n",
            "0000 Python \n"
          ]
        }
      ],
      "source": [
        "str6 = \"0000 Python 0000\"\n",
        "print(str6.strip('0'))\n",
        "print(str6.lstrip('0'))\n",
        "print(str6.rstrip('0'))"
      ]
    },
    {
      "cell_type": "markdown",
      "metadata": {
        "id": "J6_by7gcI8M-"
      },
      "source": [
        "## 더하기 연산자\n",
        "\n",
        " - 문자열 + 문자열 = 합쳐진 문자열"
      ]
    },
    {
      "cell_type": "code",
      "execution_count": 15,
      "metadata": {
        "colab": {
          "base_uri": "https://localhost:8080/"
        },
        "id": "GPxLovPOI8M-",
        "outputId": "b18d4652-7c54-40be-cc58-826b9667f034"
      },
      "outputs": [
        {
          "output_type": "stream",
          "name": "stdout",
          "text": [
            "철수님, 주소와 전화번호를 입력해주세요\n"
          ]
        }
      ],
      "source": [
        "name1 = \"철수\"\n",
        "name2 = \"영희\"\n",
        "hello = \"님, 주소와 전화번호를 입력해주세요\"\n",
        "\n",
        "print(name1 + hello)"
      ]
    },
    {
      "cell_type": "code",
      "execution_count": 16,
      "metadata": {
        "colab": {
          "base_uri": "https://localhost:8080/"
        },
        "id": "eKjzimSOI8M-",
        "outputId": "8eed74b5-cfcc-4cb5-9863-676407ba6305"
      },
      "outputs": [
        {
          "output_type": "stream",
          "name": "stdout",
          "text": [
            "영희님, 주소와 전화번호를 입력해주세요\n"
          ]
        }
      ],
      "source": [
        "print(name2+hello)"
      ]
    },
    {
      "cell_type": "markdown",
      "metadata": {
        "id": "VJMShxrpI8M_"
      },
      "source": [
        "## join()"
      ]
    },
    {
      "cell_type": "code",
      "execution_count": 17,
      "metadata": {
        "colab": {
          "base_uri": "https://localhost:8080/",
          "height": 36
        },
        "id": "V_Ymjv6KI8M_",
        "outputId": "5eea2cf3-8adb-4075-b9fe-7dc4410362b0"
      },
      "outputs": [
        {
          "output_type": "execute_result",
          "data": {
            "text/plain": [
              "'서울시 서초구 반포대로 반포동'"
            ],
            "application/vnd.google.colaboratory.intrinsic+json": {
              "type": "string"
            }
          },
          "metadata": {},
          "execution_count": 17
        }
      ],
      "source": [
        "address_list = [\"서울시\", \"서초구\", \"반포대로\", \"반포동\"]\n",
        "a = \" \"\n",
        "a.join(address_list)"
      ]
    },
    {
      "cell_type": "code",
      "execution_count": 18,
      "metadata": {
        "colab": {
          "base_uri": "https://localhost:8080/",
          "height": 36
        },
        "id": "RtVPwsqgI8M_",
        "outputId": "91b892fc-3d93-4a9f-b14a-e80357fb765f"
      },
      "outputs": [
        {
          "output_type": "execute_result",
          "data": {
            "text/plain": [
              "'서울시^^서초구^^반포대로^^반포동'"
            ],
            "application/vnd.google.colaboratory.intrinsic+json": {
              "type": "string"
            }
          },
          "metadata": {},
          "execution_count": 18
        }
      ],
      "source": [
        "b = \"^^\"\n",
        "b.join(address_list)"
      ]
    },
    {
      "cell_type": "markdown",
      "metadata": {
        "id": "gs82CGkSI8M_"
      },
      "source": [
        "## find()"
      ]
    },
    {
      "cell_type": "code",
      "execution_count": 19,
      "metadata": {
        "colab": {
          "base_uri": "https://localhost:8080/"
        },
        "id": "XBY8IJvoI8M_",
        "outputId": "a7721415-bc07-4550-9092-3915183d10cd"
      },
      "outputs": [
        {
          "output_type": "stream",
          "name": "stdout",
          "text": [
            "위치: 0\n"
          ]
        }
      ],
      "source": [
        "str6 = \"Python code\"\n",
        "print(\"위치:\", str6.find(\"Python\"))"
      ]
    },
    {
      "cell_type": "code",
      "execution_count": 20,
      "metadata": {
        "colab": {
          "base_uri": "https://localhost:8080/"
        },
        "id": "IgTaxz3TI8M_",
        "outputId": "9c525f02-1d80-4d45-ea67-1ced7bd3ed31"
      },
      "outputs": [
        {
          "output_type": "stream",
          "name": "stdout",
          "text": [
            "위치: -1\n"
          ]
        }
      ],
      "source": [
        "print(\"위치:\", str6.find(\"hahaha\"))"
      ]
    }
  ],
  "metadata": {
    "kernelspec": {
      "display_name": "Python 3",
      "language": "python",
      "name": "python3"
    },
    "language_info": {
      "codemirror_mode": {
        "name": "ipython",
        "version": 3
      },
      "file_extension": ".py",
      "mimetype": "text/x-python",
      "name": "python",
      "nbconvert_exporter": "python",
      "pygments_lexer": "ipython3",
      "version": "3.8.5"
    },
    "toc": {
      "base_numbering": 1,
      "nav_menu": {},
      "number_sections": false,
      "sideBar": true,
      "skip_h1_title": false,
      "title_cell": "Table of Contents",
      "title_sidebar": "Contents",
      "toc_cell": false,
      "toc_position": {},
      "toc_section_display": true,
      "toc_window_display": true
    },
    "colab": {
      "provenance": [],
      "toc_visible": true,
      "include_colab_link": true
    }
  },
  "nbformat": 4,
  "nbformat_minor": 0
}