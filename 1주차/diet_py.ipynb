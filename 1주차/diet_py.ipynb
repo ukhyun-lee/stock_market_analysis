{
  "nbformat": 4,
  "nbformat_minor": 0,
  "metadata": {
    "colab": {
      "provenance": [],
      "authorship_tag": "ABX9TyMfzPSFfEe6UGlkd4r1norg",
      "include_colab_link": true
    },
    "kernelspec": {
      "name": "python3",
      "display_name": "Python 3"
    },
    "language_info": {
      "name": "python"
    }
  },
  "cells": [
    {
      "cell_type": "markdown",
      "metadata": {
        "id": "view-in-github",
        "colab_type": "text"
      },
      "source": [
        "<a href=\"https://colab.research.google.com/github/ukhyun-lee/stock_market_analysis/blob/main/1%EC%A3%BC%EC%B0%A8/diet_py.ipynb\" target=\"_parent\"><img src=\"https://colab.research.google.com/assets/colab-badge.svg\" alt=\"Open In Colab\"/></a>"
      ]
    },
    {
      "cell_type": "code",
      "execution_count": null,
      "metadata": {
        "id": "atRRHN9BZQBs"
      },
      "outputs": [],
      "source": [
        "menu = {\"고구마\": 200, \"떡볶이\": 600, \"라면\": 800}\n",
        "\n",
        "def get_recommend_weight(height, man=True):\n",
        "    weight = 0\n",
        "    if(man):\n",
        "        weight = (height - 100) * 0.9\n",
        "    else:\n",
        "        weight = height - 100\n",
        "    print(\"권장 체중은 {}kg 입니다\".format(weight))\n",
        "    return weight\n",
        "\n",
        "def print_valid_menu():  \n",
        "    for key, value in menu.items():\n",
        "        if(value > 500):\n",
        "            print(\"{}:X\".format(key))\n",
        "        else:\n",
        "            print(\"{}:O\".format(key))\n"
      ]
    }
  ]
}