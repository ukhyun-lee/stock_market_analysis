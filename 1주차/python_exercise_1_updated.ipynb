{
  "nbformat": 4,
  "nbformat_minor": 0,
  "metadata": {
    "colab": {
      "provenance": [],
      "include_colab_link": true
    },
    "kernelspec": {
      "name": "python3",
      "display_name": "Python 3"
    },
    "language_info": {
      "name": "python"
    }
  },
  "cells": [
    {
      "cell_type": "markdown",
      "metadata": {
        "id": "view-in-github",
        "colab_type": "text"
      },
      "source": [
        "<a href=\"https://colab.research.google.com/github/ukhyun-lee/stock_market_analysis/blob/main/1%EC%A3%BC%EC%B0%A8/python_exercise_1_updated.ipynb\" target=\"_parent\"><img src=\"https://colab.research.google.com/assets/colab-badge.svg\" alt=\"Open In Colab\"/></a>"
      ]
    },
    {
      "cell_type": "markdown",
      "source": [
        "# 파이썬 자료형"
      ],
      "metadata": {
        "id": "Iau3EfMp8Epe"
      }
    },
    {
      "cell_type": "markdown",
      "source": [
        "##문자열\n",
        "Q1. 홍길동 씨의 주민등록번호는 881120-1068234이다. 홍길동씨의 주민등록번호를 연월일 [YYYYMMDD]  부분과 그 뒤의 숫자 부분으로 나누어 출력해 보자."
      ],
      "metadata": {
        "id": "yZSXObUT8LVB"
      }
    },
    {
      "cell_type": "code",
      "execution_count": null,
      "metadata": {
        "colab": {
          "base_uri": "https://localhost:8080/"
        },
        "id": "S6N5QsdY736G",
        "outputId": "adc7bef4-4faa-4799-abd4-1bd672f72b94"
      },
      "outputs": [
        {
          "output_type": "stream",
          "name": "stdout",
          "text": [
            "881120\n",
            "1068234\n"
          ]
        }
      ],
      "source": [
        "pin = \"881120-1068234\"\n",
        "yyyymmdd = pin[:6]\n",
        "num = pin[7:]\n",
        "print(yyyymmdd)\n",
        "print(num)\n",
        "\n",
        "# 결과값\n",
        "# 881120\n",
        "# 1068234"
      ]
    },
    {
      "cell_type": "code",
      "source": [
        "pin = \"881120-1068234\"\n",
        "\n",
        "# split() : 문자열의 구분자를 인자로 받아 나누는 함수\n",
        "pin_list = pin.split('-') # ['881120', '1068234']\n",
        "yyyymmdd = pin_list[0]\n",
        "num = pin_list[1]\n",
        "\n",
        "print(yyyymmdd)\n",
        "print(num)"
      ],
      "metadata": {
        "colab": {
          "base_uri": "https://localhost:8080/"
        },
        "id": "f1uzlJetoZ5O",
        "outputId": "ffd7c758-e277-45e0-b1bb-50647a977912"
      },
      "execution_count": null,
      "outputs": [
        {
          "output_type": "stream",
          "name": "stdout",
          "text": [
            "881120\n",
            "1068234\n"
          ]
        }
      ]
    },
    {
      "cell_type": "markdown",
      "source": [
        "Q2. 주민등록번호 뒷자리의 맨 첫 번째 숫자는 성별을 나타낸다. 주민등록번호에서 성별을 나타내는 숫자를 출력해 보자"
      ],
      "metadata": {
        "id": "APDcuvw-8r2L"
      }
    },
    {
      "cell_type": "code",
      "source": [
        "pin = \"881120-9068234\"\n",
        "print(pin[7])\n",
        "\n",
        "#결과값\n",
        "# 1"
      ],
      "metadata": {
        "colab": {
          "base_uri": "https://localhost:8080/"
        },
        "id": "bz5DLVgI865C",
        "outputId": "5d4bf52a-9ef4-413c-d2fb-3b9f5b6023c8"
      },
      "execution_count": null,
      "outputs": [
        {
          "output_type": "stream",
          "name": "stdout",
          "text": [
            "9\n"
          ]
        }
      ]
    },
    {
      "cell_type": "code",
      "source": [
        "num = pin.split('-')[1]\n",
        "num[0]"
      ],
      "metadata": {
        "colab": {
          "base_uri": "https://localhost:8080/",
          "height": 36
        },
        "id": "4XCJLBinvuLg",
        "outputId": "bf25281f-8197-47b4-f764-25e8862ab9ea"
      },
      "execution_count": null,
      "outputs": [
        {
          "output_type": "execute_result",
          "data": {
            "text/plain": [
              "'9'"
            ],
            "application/vnd.google.colaboratory.intrinsic+json": {
              "type": "string"
            }
          },
          "metadata": {},
          "execution_count": 78
        }
      ]
    },
    {
      "cell_type": "markdown",
      "source": [
        "##리스트\n",
        "Q1. [1,3,5,4,2]라는 리스트를 [5,4,3,2,1]로 만들어보자"
      ],
      "metadata": {
        "id": "OcZ0KdoK9COb"
      }
    },
    {
      "cell_type": "code",
      "source": [
        "a = [1,3,5,4,2]\n",
        "a.sort(reverse=True) # reverse=True, 내림차순으로 정렬\n",
        "print(a)"
      ],
      "metadata": {
        "id": "R9Kaa18V9JG_",
        "colab": {
          "base_uri": "https://localhost:8080/"
        },
        "outputId": "d11cb083-e760-4d7d-d8e2-beab02f29970"
      },
      "execution_count": null,
      "outputs": [
        {
          "output_type": "stream",
          "name": "stdout",
          "text": [
            "[5, 4, 3, 2, 1]\n"
          ]
        }
      ]
    },
    {
      "cell_type": "code",
      "source": [
        "a = [1,3,5,4,2]\n",
        "a.sort() # [1, 2, 3, 4, 5]\n",
        "print(a) \n",
        "a.reverse() # [5, 4, 3, 2, 1]\n",
        "print(a)"
      ],
      "metadata": {
        "colab": {
          "base_uri": "https://localhost:8080/"
        },
        "id": "oMFUi3cXol-m",
        "outputId": "0866e599-dfc5-41cb-cce7-2df2e69c858f"
      },
      "execution_count": null,
      "outputs": [
        {
          "output_type": "stream",
          "name": "stdout",
          "text": [
            "[1, 2, 3, 4, 5]\n",
            "[5, 4, 3, 2, 1]\n"
          ]
        }
      ]
    },
    {
      "cell_type": "markdown",
      "source": [
        "Q2. ['Life','is','too','short']라는 리스트를 Life is too short라는 문자열로 만들어 출력해 보자"
      ],
      "metadata": {
        "id": "5Qe1O5NV9Xm3"
      }
    },
    {
      "cell_type": "code",
      "source": [
        "a = ['Life','is','too', 'short']\n",
        "result = ' '.join(a)\n",
        "print(result)"
      ],
      "metadata": {
        "id": "RTjdG6n19ho7",
        "colab": {
          "base_uri": "https://localhost:8080/"
        },
        "outputId": "5388fa2b-ecb7-4886-8057-ef6ab49a5ac9"
      },
      "execution_count": null,
      "outputs": [
        {
          "output_type": "stream",
          "name": "stdout",
          "text": [
            "Life is too short\n"
          ]
        }
      ]
    },
    {
      "cell_type": "code",
      "source": [
        "a[0] + ' ' + a[1] + ' ' + a[2] + ' ' + a[3]"
      ],
      "metadata": {
        "colab": {
          "base_uri": "https://localhost:8080/",
          "height": 36
        },
        "id": "_lIC2ed7pENH",
        "outputId": "cb24d242-52ce-4c16-d9d5-91637eaee96c"
      },
      "execution_count": null,
      "outputs": [
        {
          "output_type": "execute_result",
          "data": {
            "text/plain": [
              "'Life is too short'"
            ],
            "application/vnd.google.colaboratory.intrinsic+json": {
              "type": "string"
            }
          },
          "metadata": {},
          "execution_count": 53
        }
      ]
    },
    {
      "cell_type": "markdown",
      "source": [
        "##튜플\n",
        "Q1. (1,2,3)이라는 튜플에 4라는 값을 추가하여 (1,2,3,4)처럼 만들어 출력해 보자"
      ],
      "metadata": {
        "id": "1d88TcE39yZd"
      }
    },
    {
      "cell_type": "code",
      "source": [
        "# tuple\n",
        "a = (1,2,3)\n",
        "\n",
        "# list로 변환\n",
        "a = list(a)\n",
        "\n",
        "# 4를 추가 - append(): 리스트의 가장 마지막 위치에 값을 추가\n",
        "a.append(4)\n",
        "\n",
        "# tuple로 변환\n",
        "a = tuple(a)\n",
        "\n",
        "print(a)"
      ],
      "metadata": {
        "id": "gIUAYi7G94Yl",
        "colab": {
          "base_uri": "https://localhost:8080/"
        },
        "outputId": "48f92527-1f80-4d3a-ecab-eecc7c0dd07d"
      },
      "execution_count": null,
      "outputs": [
        {
          "output_type": "stream",
          "name": "stdout",
          "text": [
            "(1, 2, 3, 4)\n"
          ]
        }
      ]
    },
    {
      "cell_type": "markdown",
      "source": [
        "##딕셔너리\n",
        "Q1. 딕셔너리 a에서 'B'에 해당되는 값을 추출하고 삭제해 보자.\n"
      ],
      "metadata": {
        "id": "3C94Sbxf9_u_"
      }
    },
    {
      "cell_type": "code",
      "source": [
        "a = {'A':90, 'B':80, 'C':70}\n",
        "result = a.pop('B')\n",
        "print(a) #B를 추출한 후 딕셔너리\n",
        "print(result) #B에 해당되는 값\n",
        "\n",
        "#결과값\n",
        "#{'A':90, 'C':70}\n",
        "# 80"
      ],
      "metadata": {
        "id": "yN_T1cpJ9--J",
        "colab": {
          "base_uri": "https://localhost:8080/"
        },
        "outputId": "f854148a-832e-43b9-a384-2e851dc13c20"
      },
      "execution_count": null,
      "outputs": [
        {
          "output_type": "stream",
          "name": "stdout",
          "text": [
            "{'A': 90, 'C': 70}\n",
            "80\n"
          ]
        }
      ]
    },
    {
      "cell_type": "markdown",
      "source": [
        "##세트\n",
        "Q1. a리스트에서 중복된 숫자들을 제거해보자"
      ],
      "metadata": {
        "id": "gRjViwRP-mAo"
      }
    },
    {
      "cell_type": "markdown",
      "source": [
        "(참고)\n",
        "\n",
        "범주형 데이터(예: 성별, 성적)의 유일값 확인시 중복제거 기능 활용"
      ],
      "metadata": {
        "id": "yNNuweKszXf_"
      }
    },
    {
      "cell_type": "code",
      "source": [
        "# a 리스트\n",
        "a = [1,1,1,2,2,3,3,3,4,4,5]\n",
        "\n",
        "# 중복제거를 위해서 set형으로 변환\n",
        "aSet = set(a) #{1,1,1,2,2,3,3,3,4,4,5}\n",
        "\n",
        "# 다시 list 형으로 변환\n",
        "b = list(aSet)\n",
        "\n",
        "print(b)\n",
        "\n",
        "#결과값\n",
        "#[1,2,3,4,5]"
      ],
      "metadata": {
        "id": "mNdO_on7-sZB",
        "colab": {
          "base_uri": "https://localhost:8080/"
        },
        "outputId": "462d9a78-e9ce-46f4-9028-181d5d1ec663"
      },
      "execution_count": null,
      "outputs": [
        {
          "output_type": "stream",
          "name": "stdout",
          "text": [
            "[1, 2, 3, 4, 5]\n"
          ]
        }
      ]
    },
    {
      "cell_type": "markdown",
      "source": [
        "##변수\n",
        "Q1. 파이썬은 다음처럼 동일한 값에 여러 개의 변수를 선언할 수 있다. 아래와 같이 a, b 변수를 선언한 후 a의 첫 번째 요소값을 변경하면 b의 값은 어떻게 될까? 그리고 이런 결과가 나오는 이유에 대해서 설명해 보자"
      ],
      "metadata": {
        "id": "Z50kCFGW-4ym"
      }
    },
    {
      "cell_type": "code",
      "source": [
        "a = b = [1, 2, 3]\n",
        "a[1] = 4\n",
        "print(b)"
      ],
      "metadata": {
        "id": "qVfGqp-r_FhI",
        "colab": {
          "base_uri": "https://localhost:8080/"
        },
        "outputId": "3c591d6c-fb2d-402d-dd88-1744ac9dd82d"
      },
      "execution_count": null,
      "outputs": [
        {
          "output_type": "stream",
          "name": "stdout",
          "text": [
            "[1, 4, 3]\n"
          ]
        }
      ]
    },
    {
      "cell_type": "markdown",
      "source": [
        "A1. a와 b가 [1,2,3]이라는 동일한 리스트를 참조하고 있음. 이때 a의 1번째 인덱스를 변경하면 동일한 리스트를 참조하고 있는 b의 1번째 인덱스도 변경됨."
      ],
      "metadata": {
        "id": "JA8WabTNNC2K"
      }
    },
    {
      "cell_type": "code",
      "source": [
        "id(a)"
      ],
      "metadata": {
        "colab": {
          "base_uri": "https://localhost:8080/"
        },
        "id": "8iq-FD3tq54I",
        "outputId": "dfe67081-be68-4c1c-ff2f-e826128adc3f"
      },
      "execution_count": null,
      "outputs": [
        {
          "output_type": "execute_result",
          "data": {
            "text/plain": [
              "140620861506816"
            ]
          },
          "metadata": {},
          "execution_count": 58
        }
      ]
    },
    {
      "cell_type": "code",
      "source": [
        "id(b)"
      ],
      "metadata": {
        "colab": {
          "base_uri": "https://localhost:8080/"
        },
        "id": "hlbUdROJrUWl",
        "outputId": "065d5ed3-d8ff-4e1e-ecdc-0d058668464d"
      },
      "execution_count": null,
      "outputs": [
        {
          "output_type": "execute_result",
          "data": {
            "text/plain": [
              "140620861506816"
            ]
          },
          "metadata": {},
          "execution_count": 59
        }
      ]
    },
    {
      "cell_type": "code",
      "source": [
        "x = 5\n",
        "y = 5"
      ],
      "metadata": {
        "id": "JI5kC1ZurV8D"
      },
      "execution_count": null,
      "outputs": []
    },
    {
      "cell_type": "code",
      "source": [
        "id(x)"
      ],
      "metadata": {
        "colab": {
          "base_uri": "https://localhost:8080/"
        },
        "id": "L9XLno46rZjh",
        "outputId": "2d52aebf-df38-400c-a6b8-ff739c441f57"
      },
      "execution_count": null,
      "outputs": [
        {
          "output_type": "execute_result",
          "data": {
            "text/plain": [
              "140621370735024"
            ]
          },
          "metadata": {},
          "execution_count": 84
        }
      ]
    },
    {
      "cell_type": "code",
      "source": [
        "id(y)"
      ],
      "metadata": {
        "colab": {
          "base_uri": "https://localhost:8080/"
        },
        "id": "aBetaa0vrc2Z",
        "outputId": "39276914-3b47-4275-b770-75ce26088a04"
      },
      "execution_count": null,
      "outputs": [
        {
          "output_type": "execute_result",
          "data": {
            "text/plain": [
              "140621370735024"
            ]
          },
          "metadata": {},
          "execution_count": 85
        }
      ]
    },
    {
      "cell_type": "code",
      "source": [
        "z = x\n",
        "print(z)\n",
        "x = 4\n",
        "print(x)"
      ],
      "metadata": {
        "colab": {
          "base_uri": "https://localhost:8080/"
        },
        "id": "LKx5916arhY5",
        "outputId": "dbd976c7-7359-42f3-ae4f-5e0da86c9482"
      },
      "execution_count": null,
      "outputs": [
        {
          "output_type": "stream",
          "name": "stdout",
          "text": [
            "5\n",
            "4\n"
          ]
        }
      ]
    },
    {
      "cell_type": "code",
      "source": [
        "id(z), id(x)"
      ],
      "metadata": {
        "colab": {
          "base_uri": "https://localhost:8080/"
        },
        "id": "hA_J8YxJrvsD",
        "outputId": "b96d4877-6042-4635-a36d-eacc1630cc42"
      },
      "execution_count": null,
      "outputs": [
        {
          "output_type": "execute_result",
          "data": {
            "text/plain": [
              "(140621370735024, 140621370734992)"
            ]
          },
          "metadata": {},
          "execution_count": 87
        }
      ]
    },
    {
      "cell_type": "markdown",
      "source": [
        "---"
      ],
      "metadata": {
        "id": "2_T_0ZacZxu2"
      }
    },
    {
      "cell_type": "markdown",
      "source": [
        "Q2.`x`원을 지불하기 위해서 `y`원 짜리(또는 `z`원 짜리) 동전을 몇 개 내야하는지 출력하시오.\n",
        "```\n",
        "x = 3928\n",
        "y = 500\n",
        "z = 100\n",
        "```\n",
        "**출력 예시**\n",
        "```\n",
        "500원짜리 동전 8개를 내세요\n",
        "```\n",
        "\n",
        "```\n",
        "100원짜리 동전 40개를 내세요\n",
        "```\n"
      ],
      "metadata": {
        "id": "0DWvankcZodM"
      }
    },
    {
      "cell_type": "markdown",
      "source": [
        "1. 몫을 구한다. :  `x // y`\n",
        "2. 나머지를 구한다. `x % y`\n",
        "3. 나머지가 0보다 큰지 확인한다.: `x % y > 0`\n",
        "4. 나머지가 0보다 크면 1을 더한다.\n",
        "    - True ==> 1, False ==> 0"
      ],
      "metadata": {
        "id": "c1RUrtBA2z6v"
      }
    },
    {
      "cell_type": "markdown",
      "source": [
        "`f\" \"`\n",
        " -문자열 내부에 {} 안에 설정된 값은 변수를 사용해서 출력 가능  \n"
      ],
      "metadata": {
        "id": "lku0zi243f7G"
      }
    },
    {
      "cell_type": "code",
      "source": [
        "x = 3928\n",
        "y = 500\n",
        "z = 100\n",
        "\n",
        "print(f\"{y}원 짜리 동전 {x // y + (x % y > 0)}개를 내세요\")\n",
        "print(f\"{z}원 짜리 동전 {x // z + (x % z > 0)}개를 내세요\")"
      ],
      "metadata": {
        "id": "d2axTElDZv5d",
        "colab": {
          "base_uri": "https://localhost:8080/"
        },
        "outputId": "0b774e2a-dec7-4972-ebbb-698ead96950f"
      },
      "execution_count": null,
      "outputs": [
        {
          "output_type": "stream",
          "name": "stdout",
          "text": [
            "500원 짜리 동전 8개를 내세요\n",
            "100원 짜리 동전 40개를 내세요\n"
          ]
        }
      ]
    },
    {
      "cell_type": "code",
      "source": [
        "3928 / 500  # 나누기"
      ],
      "metadata": {
        "colab": {
          "base_uri": "https://localhost:8080/"
        },
        "id": "ryFHn9Ox1-FG",
        "outputId": "2e01ac74-69d9-47dd-a30e-e3f5df2b4188"
      },
      "execution_count": null,
      "outputs": [
        {
          "output_type": "execute_result",
          "data": {
            "text/plain": [
              "7.856"
            ]
          },
          "metadata": {},
          "execution_count": 88
        }
      ]
    },
    {
      "cell_type": "code",
      "source": [
        "3928 // 500  # 몫"
      ],
      "metadata": {
        "colab": {
          "base_uri": "https://localhost:8080/"
        },
        "id": "L7jILREM2IZ3",
        "outputId": "bfed9cad-2533-4d8c-9722-bd102828b2aa"
      },
      "execution_count": null,
      "outputs": [
        {
          "output_type": "execute_result",
          "data": {
            "text/plain": [
              "7"
            ]
          },
          "metadata": {},
          "execution_count": 89
        }
      ]
    },
    {
      "cell_type": "code",
      "source": [
        "3928 % 500  # 나머지"
      ],
      "metadata": {
        "colab": {
          "base_uri": "https://localhost:8080/"
        },
        "id": "kqRfGoUb2P5n",
        "outputId": "ffa85207-cc08-4b28-a8a2-d4f34cb6e83e"
      },
      "execution_count": null,
      "outputs": [
        {
          "output_type": "execute_result",
          "data": {
            "text/plain": [
              "428"
            ]
          },
          "metadata": {},
          "execution_count": 90
        }
      ]
    },
    {
      "cell_type": "code",
      "source": [
        "x // y"
      ],
      "metadata": {
        "colab": {
          "base_uri": "https://localhost:8080/"
        },
        "id": "riHlG-u2r_JU",
        "outputId": "e4aac7d5-f216-42ef-c6a7-ebe3126c5c4f"
      },
      "execution_count": null,
      "outputs": [
        {
          "output_type": "execute_result",
          "data": {
            "text/plain": [
              "7"
            ]
          },
          "metadata": {},
          "execution_count": 66
        }
      ]
    },
    {
      "cell_type": "code",
      "source": [
        "x % y > 0"
      ],
      "metadata": {
        "colab": {
          "base_uri": "https://localhost:8080/"
        },
        "id": "ywuNtj2rsJ7Q",
        "outputId": "071135a8-2300-4cb9-cb20-01fa62536392"
      },
      "execution_count": null,
      "outputs": [
        {
          "output_type": "execute_result",
          "data": {
            "text/plain": [
              "True"
            ]
          },
          "metadata": {},
          "execution_count": 67
        }
      ]
    },
    {
      "cell_type": "markdown",
      "source": [
        "---"
      ],
      "metadata": {
        "id": "pIrpWHiuZ_m6"
      }
    },
    {
      "cell_type": "markdown",
      "source": [
        "Q3. 세 수의 평균을 구하시오\n",
        "\n",
        "```\n",
        "a = 21.9\n",
        "b = 37\n",
        "c = 13.6\n",
        "```"
      ],
      "metadata": {
        "id": "7RXxWL1xaBB-"
      }
    },
    {
      "cell_type": "code",
      "source": [
        "a = 21.9\n",
        "b = 37\n",
        "c = 13.6\n",
        "\n",
        "print((a+b+c)/3)\n",
        "\n",
        "# 소수점 아래 2자리에서 반올림\n",
        "print(round((a+b+c)/3, 2))"
      ],
      "metadata": {
        "id": "6XvwlCmzaAFD",
        "colab": {
          "base_uri": "https://localhost:8080/"
        },
        "outputId": "72b7cd59-4489-4894-85d8-5912980d6724"
      },
      "execution_count": null,
      "outputs": [
        {
          "output_type": "stream",
          "name": "stdout",
          "text": [
            "24.166666666666668\n",
            "24.17\n"
          ]
        }
      ]
    },
    {
      "cell_type": "code",
      "source": [],
      "metadata": {
        "id": "2Z1QmTZb33Wm"
      },
      "execution_count": null,
      "outputs": []
    }
  ]
}