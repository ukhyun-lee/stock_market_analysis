{
  "cells": [
    {
      "cell_type": "markdown",
      "metadata": {
        "id": "view-in-github",
        "colab_type": "text"
      },
      "source": [
        "<a href=\"https://colab.research.google.com/github/ukhyun-lee/stock_market_analysis/blob/main/1%EC%A3%BC%EC%B0%A8/%ED%8C%8C%EC%9D%B4%EC%8D%AC%EA%B8%B0%EC%B4%88_%EB%B3%80%EC%88%98.ipynb\" target=\"_parent\"><img src=\"https://colab.research.google.com/assets/colab-badge.svg\" alt=\"Open In Colab\"/></a>"
      ]
    },
    {
      "cell_type": "markdown",
      "metadata": {
        "id": "7IF9xbpaYD2H"
      },
      "source": [
        "# 2.1.1 변수란 무엇일까요?\n",
        "\n",
        "변수는 바구니이다.\n",
        "\n",
        "`변수이름 = 데이터`"
      ]
    },
    {
      "cell_type": "code",
      "execution_count": 1,
      "metadata": {
        "id": "KvOcii3pYD2L",
        "outputId": "2c8f5b35-015d-4e3c-e4f0-3fce58396d24",
        "colab": {
          "base_uri": "https://localhost:8080/"
        }
      },
      "outputs": [
        {
          "output_type": "execute_result",
          "data": {
            "text/plain": [
              "5"
            ]
          },
          "metadata": {},
          "execution_count": 1
        }
      ],
      "source": [
        "a = 5    # a라는 바구니에 값 5를 넣는다. [Enter]\n",
        "a         # a 안에 있는 값을 확인한다.     [▶Run 또는 Shift + Enter]"
      ]
    },
    {
      "cell_type": "code",
      "execution_count": 2,
      "metadata": {
        "id": "kdq0hhIOYD2N",
        "outputId": "5d4fb7b5-03a8-460a-a475-16a3c7a867be",
        "colab": {
          "base_uri": "https://localhost:8080/"
        }
      },
      "outputs": [
        {
          "output_type": "execute_result",
          "data": {
            "text/plain": [
              "3"
            ]
          },
          "metadata": {},
          "execution_count": 2
        }
      ],
      "source": [
        "b = 3    # b라는 바구니에 값 3을 넣는다. [Enter]\n",
        "b         # b 안에 있는 값을 확인한다.     [▶Run 또는 Shift + Enter]"
      ]
    },
    {
      "cell_type": "code",
      "execution_count": 3,
      "metadata": {
        "id": "SmPuVR1mYD2O",
        "outputId": "9a7b1112-8c61-4321-9a27-bae6f70f464f",
        "colab": {
          "base_uri": "https://localhost:8080/"
        }
      },
      "outputs": [
        {
          "output_type": "execute_result",
          "data": {
            "text/plain": [
              "8"
            ]
          },
          "metadata": {},
          "execution_count": 3
        }
      ],
      "source": [
        "a + b    # a 바구니에 있는 값과 b 바구니에 있는 값을 더한다.   [▶Run 또는 Shift + Enter]"
      ]
    },
    {
      "cell_type": "code",
      "execution_count": 4,
      "metadata": {
        "id": "z3hdiy4XYD2P",
        "outputId": "67fc6b53-da2e-4f7b-8901-0b9d7fdc888e",
        "colab": {
          "base_uri": "https://localhost:8080/",
          "height": 35
        }
      },
      "outputs": [
        {
          "output_type": "execute_result",
          "data": {
            "text/plain": [
              "'가나다'"
            ],
            "application/vnd.google.colaboratory.intrinsic+json": {
              "type": "string"
            }
          },
          "metadata": {},
          "execution_count": 4
        }
      ],
      "source": [
        "c = '가나다'\n",
        "c"
      ]
    },
    {
      "cell_type": "code",
      "execution_count": 5,
      "metadata": {
        "id": "gR__nUEQYD2P",
        "outputId": "e13ea797-f1fa-47ad-cf01-34c593abee3c",
        "colab": {
          "base_uri": "https://localhost:8080/"
        }
      },
      "outputs": [
        {
          "output_type": "execute_result",
          "data": {
            "text/plain": [
              "107.9"
            ]
          },
          "metadata": {},
          "execution_count": 5
        }
      ],
      "source": [
        "radio_freq = 107.9\n",
        "radio_freq"
      ]
    },
    {
      "cell_type": "markdown",
      "metadata": {
        "id": "SGMVd6rmYD2Q"
      },
      "source": [
        "# 2.1.2 변수 이름을 붙이는 규칙(1) \n",
        " - 꼭 지켜야 하는 규칙"
      ]
    },
    {
      "cell_type": "markdown",
      "source": [
        "**잘못된 변수명**\n",
        "- 숫자로 시작하는 변수\n",
        "- 공백이 포함된 변수\n",
        "- 기호가 포함된 변수(밑줄 제외)\n",
        "- 예약어\n"
      ],
      "metadata": {
        "id": "Q-cWhQr7YmWG"
      }
    },
    {
      "cell_type": "code",
      "execution_count": 6,
      "metadata": {
        "id": "e2f9fpmyYD2R",
        "outputId": "2dd1b133-770c-45b7-a72f-909bb705cb89",
        "colab": {
          "base_uri": "https://localhost:8080/",
          "height": 137
        }
      },
      "outputs": [
        {
          "output_type": "error",
          "ename": "SyntaxError",
          "evalue": "ignored",
          "traceback": [
            "\u001b[0;36m  File \u001b[0;32m\"<ipython-input-6-f08ab471a553>\"\u001b[0;36m, line \u001b[0;32m2\u001b[0m\n\u001b[0;31m    2var = \"행복\"\u001b[0m\n\u001b[0m     ^\u001b[0m\n\u001b[0;31mSyntaxError\u001b[0m\u001b[0;31m:\u001b[0m invalid syntax\n"
          ]
        }
      ],
      "source": [
        "# 잘못된 변수명: 숫자로 시작하는 변수\n",
        "2var = \"행복\""
      ]
    },
    {
      "cell_type": "code",
      "execution_count": 7,
      "metadata": {
        "id": "LT_wUXxFYD2R",
        "outputId": "54ba3043-bad9-471d-db8f-ad0fade0475d",
        "colab": {
          "base_uri": "https://localhost:8080/",
          "height": 137
        }
      },
      "outputs": [
        {
          "output_type": "error",
          "ename": "SyntaxError",
          "evalue": "ignored",
          "traceback": [
            "\u001b[0;36m  File \u001b[0;32m\"<ipython-input-7-57ed49f07157>\"\u001b[0;36m, line \u001b[0;32m2\u001b[0m\n\u001b[0;31m    happy var = \"행복\"\u001b[0m\n\u001b[0m          ^\u001b[0m\n\u001b[0;31mSyntaxError\u001b[0m\u001b[0;31m:\u001b[0m invalid syntax\n"
          ]
        }
      ],
      "source": [
        "# 잘못된 변수명: 공백이 포함된 변수\n",
        "happy var = \"행복\""
      ]
    },
    {
      "cell_type": "markdown",
      "metadata": {
        "id": "l7K43tNkYD2S"
      },
      "source": [
        "-----\n",
        "<div class=\"alert alert-warning\">\n",
        "[Tip]  이렇게 변수 이름을 만들면 좋아요\n",
        "</div>"
      ]
    },
    {
      "cell_type": "code",
      "execution_count": 8,
      "metadata": {
        "id": "NFqE4ORtYD2T"
      },
      "outputs": [],
      "source": [
        "# Camel Case\n",
        "happyVariable = \"행복\"\n",
        "# Snake Case\n",
        "happpy_variable = \"행복\""
      ]
    },
    {
      "cell_type": "code",
      "execution_count": 9,
      "metadata": {
        "id": "gRQHsV2XYD2T"
      },
      "outputs": [],
      "source": [
        "# Hungarian notation\n",
        "bHappyVariable = True"
      ]
    },
    {
      "cell_type": "markdown",
      "metadata": {
        "id": "LMaEIR59YD2U"
      },
      "source": [
        "-------"
      ]
    },
    {
      "cell_type": "code",
      "execution_count": 10,
      "metadata": {
        "id": "k9qO0d75YD2U",
        "outputId": "1ce039b9-b547-4dad-a933-6535ace2b4e2",
        "colab": {
          "base_uri": "https://localhost:8080/",
          "height": 137
        }
      },
      "outputs": [
        {
          "output_type": "error",
          "ename": "SyntaxError",
          "evalue": "ignored",
          "traceback": [
            "\u001b[0;36m  File \u001b[0;32m\"<ipython-input-10-4f1371600809>\"\u001b[0;36m, line \u001b[0;32m2\u001b[0m\n\u001b[0;31m    happyvar! = \"행복\"\u001b[0m\n\u001b[0m            ^\u001b[0m\n\u001b[0;31mSyntaxError\u001b[0m\u001b[0;31m:\u001b[0m invalid syntax\n"
          ]
        }
      ],
      "source": [
        "# 잘못된 변수명: 특수기호(!)가 포함된 변수\n",
        "happyvar! = \"행복\""
      ]
    },
    {
      "cell_type": "code",
      "execution_count": 11,
      "metadata": {
        "id": "BZxcVPSpYD2V",
        "outputId": "2b09df80-1ddc-4359-99a3-550d923f2c97",
        "colab": {
          "base_uri": "https://localhost:8080/",
          "height": 137
        }
      },
      "outputs": [
        {
          "output_type": "error",
          "ename": "SyntaxError",
          "evalue": "ignored",
          "traceback": [
            "\u001b[0;36m  File \u001b[0;32m\"<ipython-input-11-4ffb7deb5118>\"\u001b[0;36m, line \u001b[0;32m2\u001b[0m\n\u001b[0;31m    def = \"행복\"\u001b[0m\n\u001b[0m        ^\u001b[0m\n\u001b[0;31mSyntaxError\u001b[0m\u001b[0;31m:\u001b[0m invalid syntax\n"
          ]
        }
      ],
      "source": [
        "# 잘못된 변수명: 파이썬 예약어로 만든 변수\n",
        "def = \"행복\""
      ]
    },
    {
      "cell_type": "markdown",
      "metadata": {
        "id": "k3nNBYvMYD2V"
      },
      "source": [
        "# 2.1.3 변수 이름을 붙이는 규칙(2)\n",
        " - 에러는 발생하지 않지만 알아 두어야 하는 규칙"
      ]
    },
    {
      "cell_type": "markdown",
      "source": [
        "**파이썬 변수명 특징**\n",
        "- 대소문자 구분\n",
        "- 한 번에 여러 변수 선언 가능\n",
        "- 하나의 값을 여러 변수에 담을 수 있음\n"
      ],
      "metadata": {
        "id": "HGqhAC1TY1n6"
      }
    },
    {
      "cell_type": "markdown",
      "metadata": {
        "id": "rsmRlq0XYD2V"
      },
      "source": [
        "## ① 대소문자를 구분한다."
      ]
    },
    {
      "cell_type": "code",
      "execution_count": 12,
      "metadata": {
        "id": "Xsp1v5BWYD2V",
        "outputId": "19a2b1c8-cbab-45d9-a909-e53d4f9e4faa",
        "colab": {
          "base_uri": "https://localhost:8080/"
        }
      },
      "outputs": [
        {
          "output_type": "execute_result",
          "data": {
            "text/plain": [
              "5"
            ]
          },
          "metadata": {},
          "execution_count": 12
        }
      ],
      "source": [
        "abc = 5\n",
        "abc"
      ]
    },
    {
      "cell_type": "code",
      "execution_count": 13,
      "metadata": {
        "id": "gpww3SibYD2W",
        "outputId": "3dea1bcf-8b15-480d-a424-93f6a277a8f4",
        "colab": {
          "base_uri": "https://localhost:8080/",
          "height": 35
        }
      },
      "outputs": [
        {
          "output_type": "execute_result",
          "data": {
            "text/plain": [
              "'Apple'"
            ],
            "application/vnd.google.colaboratory.intrinsic+json": {
              "type": "string"
            }
          },
          "metadata": {},
          "execution_count": 13
        }
      ],
      "source": [
        "ABC = \"Apple\"\n",
        "ABC"
      ]
    },
    {
      "cell_type": "markdown",
      "metadata": {
        "id": "W3JKF-3iYD2W"
      },
      "source": [
        "## ② 한 번에 여러 변수를 선언할 수 있다."
      ]
    },
    {
      "cell_type": "code",
      "execution_count": 14,
      "metadata": {
        "id": "_RODr0-DYD2W"
      },
      "outputs": [],
      "source": [
        "x, y, z = \"Apple\", \"Banana\", \"Carrot\""
      ]
    },
    {
      "cell_type": "code",
      "execution_count": 15,
      "metadata": {
        "id": "j97eTc_SYD2W",
        "outputId": "b56d1a95-87c3-4ef0-9fce-0f27ce4c8e81",
        "colab": {
          "base_uri": "https://localhost:8080/",
          "height": 35
        }
      },
      "outputs": [
        {
          "output_type": "execute_result",
          "data": {
            "text/plain": [
              "'Apple'"
            ],
            "application/vnd.google.colaboratory.intrinsic+json": {
              "type": "string"
            }
          },
          "metadata": {},
          "execution_count": 15
        }
      ],
      "source": [
        "x"
      ]
    },
    {
      "cell_type": "code",
      "execution_count": 16,
      "metadata": {
        "id": "9SflzDAjYD2X",
        "outputId": "81710447-f6f7-4946-f500-a725428af6ca",
        "colab": {
          "base_uri": "https://localhost:8080/",
          "height": 35
        }
      },
      "outputs": [
        {
          "output_type": "execute_result",
          "data": {
            "text/plain": [
              "'Banana'"
            ],
            "application/vnd.google.colaboratory.intrinsic+json": {
              "type": "string"
            }
          },
          "metadata": {},
          "execution_count": 16
        }
      ],
      "source": [
        "y"
      ]
    },
    {
      "cell_type": "code",
      "execution_count": 17,
      "metadata": {
        "id": "YWGMixN6YD2X",
        "outputId": "3e2b59e1-b292-4a4e-d343-ac9cf2e40707",
        "colab": {
          "base_uri": "https://localhost:8080/",
          "height": 35
        }
      },
      "outputs": [
        {
          "output_type": "execute_result",
          "data": {
            "text/plain": [
              "'Carrot'"
            ],
            "application/vnd.google.colaboratory.intrinsic+json": {
              "type": "string"
            }
          },
          "metadata": {},
          "execution_count": 17
        }
      ],
      "source": [
        "z"
      ]
    },
    {
      "cell_type": "code",
      "execution_count": 18,
      "metadata": {
        "id": "1osy-pqwYD2X",
        "outputId": "0e015381-cd3b-41b9-80da-e30d01c181f6",
        "colab": {
          "base_uri": "https://localhost:8080/",
          "height": 35
        }
      },
      "outputs": [
        {
          "output_type": "execute_result",
          "data": {
            "text/plain": [
              "'Not Use'"
            ],
            "application/vnd.google.colaboratory.intrinsic+json": {
              "type": "string"
            }
          },
          "metadata": {},
          "execution_count": 18
        }
      ],
      "source": [
        "_, var = \"Not Use\", \"Use\"\n",
        "_"
      ]
    },
    {
      "cell_type": "code",
      "execution_count": 19,
      "metadata": {
        "id": "oQblffLjYD2X",
        "outputId": "e9c02470-a12e-4c1a-a147-c6673a03fe90",
        "colab": {
          "base_uri": "https://localhost:8080/",
          "height": 35
        }
      },
      "outputs": [
        {
          "output_type": "execute_result",
          "data": {
            "text/plain": [
              "'Use'"
            ],
            "application/vnd.google.colaboratory.intrinsic+json": {
              "type": "string"
            }
          },
          "metadata": {},
          "execution_count": 19
        }
      ],
      "source": [
        "var"
      ]
    },
    {
      "cell_type": "markdown",
      "metadata": {
        "id": "sNgdX-K0YD2X"
      },
      "source": [
        "## ③ 하나의 값을 여러 변수에 담을 수 있다."
      ]
    },
    {
      "cell_type": "code",
      "execution_count": 20,
      "metadata": {
        "id": "gTaEJNNpYD2Y",
        "outputId": "8ebeae26-35d5-4185-d35f-ff1c20f65ec2",
        "colab": {
          "base_uri": "https://localhost:8080/",
          "height": 35
        }
      },
      "outputs": [
        {
          "output_type": "execute_result",
          "data": {
            "text/plain": [
              "'Dog'"
            ],
            "application/vnd.google.colaboratory.intrinsic+json": {
              "type": "string"
            }
          },
          "metadata": {},
          "execution_count": 20
        }
      ],
      "source": [
        "x = y = z = \"Dog\"\n",
        "x"
      ]
    },
    {
      "cell_type": "code",
      "execution_count": 21,
      "metadata": {
        "id": "yBWSEv21YD2Y",
        "outputId": "8c8d4a0f-2118-4fed-f44d-a9d02791bfe3",
        "colab": {
          "base_uri": "https://localhost:8080/",
          "height": 35
        }
      },
      "outputs": [
        {
          "output_type": "execute_result",
          "data": {
            "text/plain": [
              "'Dog'"
            ],
            "application/vnd.google.colaboratory.intrinsic+json": {
              "type": "string"
            }
          },
          "metadata": {},
          "execution_count": 21
        }
      ],
      "source": [
        "y"
      ]
    },
    {
      "cell_type": "code",
      "execution_count": 22,
      "metadata": {
        "id": "7WeNGVq-YD2Y",
        "outputId": "a06f0531-d1b7-4c29-8d5b-dd6c764a5f82",
        "colab": {
          "base_uri": "https://localhost:8080/",
          "height": 35
        }
      },
      "outputs": [
        {
          "output_type": "execute_result",
          "data": {
            "text/plain": [
              "'Dog'"
            ],
            "application/vnd.google.colaboratory.intrinsic+json": {
              "type": "string"
            }
          },
          "metadata": {},
          "execution_count": 22
        }
      ],
      "source": [
        "z"
      ]
    }
  ],
  "metadata": {
    "kernelspec": {
      "display_name": "Python 3",
      "language": "python",
      "name": "python3"
    },
    "language_info": {
      "codemirror_mode": {
        "name": "ipython",
        "version": 3
      },
      "file_extension": ".py",
      "mimetype": "text/x-python",
      "name": "python",
      "nbconvert_exporter": "python",
      "pygments_lexer": "ipython3",
      "version": "3.8.5"
    },
    "toc": {
      "base_numbering": 1,
      "nav_menu": {},
      "number_sections": false,
      "sideBar": true,
      "skip_h1_title": false,
      "title_cell": "Table of Contents",
      "title_sidebar": "Contents",
      "toc_cell": false,
      "toc_position": {},
      "toc_section_display": true,
      "toc_window_display": false
    },
    "colab": {
      "provenance": [],
      "toc_visible": true,
      "include_colab_link": true
    }
  },
  "nbformat": 4,
  "nbformat_minor": 0
}