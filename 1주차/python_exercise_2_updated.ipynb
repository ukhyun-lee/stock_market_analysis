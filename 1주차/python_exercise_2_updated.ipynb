{
  "nbformat": 4,
  "nbformat_minor": 0,
  "metadata": {
    "colab": {
      "provenance": [],
      "toc_visible": true,
      "include_colab_link": true
    },
    "kernelspec": {
      "name": "python3",
      "display_name": "Python 3"
    },
    "language_info": {
      "name": "python"
    }
  },
  "cells": [
    {
      "cell_type": "markdown",
      "metadata": {
        "id": "view-in-github",
        "colab_type": "text"
      },
      "source": [
        "<a href=\"https://colab.research.google.com/github/ukhyun-lee/stock_market_analysis/blob/main/1%EC%A3%BC%EC%B0%A8/python_exercise_2_updated.ipynb\" target=\"_parent\"><img src=\"https://colab.research.google.com/assets/colab-badge.svg\" alt=\"Open In Colab\"/></a>"
      ]
    },
    {
      "cell_type": "markdown",
      "source": [
        "#제어문\n"
      ],
      "metadata": {
        "id": "N6jhKKBL_QoN"
      }
    },
    {
      "cell_type": "markdown",
      "source": [
        "##IF문\n",
        "Q1. 다음 코드의 결과값은 무엇일까?\n",
        "\n",
        "a = \"Life is too short, you need python\"\n",
        "\n",
        "if \"wife\" in a: print(\"wife\")\n",
        "\n",
        "elif \"python\" in a and \"you\" not in a: print(\"python\")\n",
        "\n",
        "elif \"shirt\" not in a:print(\"shirt\")\n",
        "\n",
        "elif \"need\" in a: print(\"need\")\n",
        "\n",
        "else: print(\"none\")"
      ],
      "metadata": {
        "id": "3ryjv2Ld_WDO"
      }
    },
    {
      "cell_type": "code",
      "source": [
        "a = \"Life is too short, you need python\"\n",
        "\n",
        "if \"wife\" in a: \n",
        "    print(\"wife\")\n",
        "elif \"python\" in a and \"you\" not in a: \n",
        "    print(\"python\")\n",
        "elif \"shirt\" not in a:\n",
        "    print(\"shirt\")\n",
        "elif \"need\" in a:\n",
        "    print(\"need\")\n",
        "else:\n",
        "    print(\"none\")"
      ],
      "metadata": {
        "colab": {
          "base_uri": "https://localhost:8080/"
        },
        "id": "63_vOryU9mlm",
        "outputId": "893f830e-cd39-4eda-a2ca-cb0c779f6325"
      },
      "execution_count": null,
      "outputs": [
        {
          "output_type": "stream",
          "name": "stdout",
          "text": [
            "shirt\n"
          ]
        }
      ]
    },
    {
      "cell_type": "markdown",
      "source": [
        "##While문\n",
        "Q1. while문을 이용하여 아래와 같이 별(*)을 표시하는 프로그램을 작성해보자\n"
      ],
      "metadata": {
        "id": "bsElD7Y2AJvC"
      }
    },
    {
      "cell_type": "code",
      "source": [
        "i=0\n",
        "while True:\n",
        "  # i를 하나씩 증가시킨다\n",
        "  i = i + 1\n",
        "\n",
        "  # i의 개수만큼 *을 출력한다.\n",
        "  print('*' * i)\n",
        "\n",
        "  # i가 5보다 큰지 아닌지 체크, i가 5보다 크면, 반복문 종료\n",
        "  if i >= 5:\n",
        "        break\n",
        "        \n",
        "#결과값\n",
        "#*\n",
        "#**\n",
        "#***\n",
        "#****\n",
        "#*****"
      ],
      "metadata": {
        "id": "FB4lbVsG_e6X",
        "colab": {
          "base_uri": "https://localhost:8080/"
        },
        "outputId": "6438c680-b440-479e-8a4c-6a733808387f"
      },
      "execution_count": null,
      "outputs": [
        {
          "output_type": "stream",
          "name": "stdout",
          "text": [
            "*\n",
            "**\n",
            "***\n",
            "****\n",
            "*****\n"
          ]
        }
      ]
    },
    {
      "cell_type": "markdown",
      "source": [
        "##For 문\n",
        "Q1. A학급에 총 10명의 학생이 있다. 이 학생들의 중간고사 점수는 다음과 같다\n",
        "\n",
        "[70, 60, 55, 75, 95, 90, 80, 80, 85, 100]\n",
        "\n",
        "for문을 이용하여 A학급의 평균 점수를 구해 보자"
      ],
      "metadata": {
        "id": "ZN-myqjRAkrG"
      }
    },
    {
      "cell_type": "code",
      "source": [
        "A = [70, 60, 55, 75, 95, 90, 80, 80, 85, 100]\n",
        "\n",
        "# '코드를 작성하시오'\n",
        "sum = 0 # A리스트에 담긴 아이템의 합계를 저장하기 위한 변수\n",
        "for i in A:\n",
        "    sum = sum + i  \n",
        "\n",
        "mean = sum / len(A)\n",
        "print(mean)\n",
        "\n",
        "#결과값\n",
        "#79.0"
      ],
      "metadata": {
        "id": "kwqG7nhdA0s8",
        "colab": {
          "base_uri": "https://localhost:8080/"
        },
        "outputId": "12a8cf92-f471-4ee2-aae3-0683b429be85"
      },
      "execution_count": null,
      "outputs": [
        {
          "output_type": "stream",
          "name": "stdout",
          "text": [
            "79.0\n"
          ]
        }
      ]
    },
    {
      "cell_type": "markdown",
      "source": [
        "#함수"
      ],
      "metadata": {
        "id": "nhSVzV71BKip"
      }
    },
    {
      "cell_type": "markdown",
      "source": [
        "## 피보나치 수열"
      ],
      "metadata": {
        "id": "mUzBtRxkXn2v"
      }
    },
    {
      "cell_type": "markdown",
      "source": [
        "\n",
        "Q1. 첫번째 항의 값이 0이고 두 번째 항의 값이 1일때, 이후에 이어지는 항들은 이전의 두 항을 더한 값으로 이루어지는 수열을 피보나치 수열이라고 한다.\n",
        "\n",
        "0, 1, 1, 2, 3, 5, 8, 13, ...\n",
        "\n",
        "입력을 정수n으로 받았을 때, n 개의 피보나치 수열을 출력하는 함수를 작성해보자"
      ],
      "metadata": {
        "id": "w6-sFvPeXm24"
      }
    },
    {
      "cell_type": "code",
      "source": [
        "def fib(n):\n",
        "  if '코드를 작성하시오'      #n이 0일 때는 0을 리턴\n",
        "  if '코드를 작성하시오'      #n이 1일 떄는 1을 리턴\n",
        "  return '코드를 작성하시오'  #n이 2이상일 때는 그 이전의 두 값을 더하여 리턴"
      ],
      "metadata": {
        "id": "xYHwfiuXJ39q"
      },
      "execution_count": null,
      "outputs": []
    },
    {
      "cell_type": "code",
      "source": [
        "# 작성 예시\n",
        "def fib(n):\n",
        "    if n==0:\n",
        "        return 0      #n이 0일 때는 0을 리턴\n",
        "    if n==1:\n",
        "        return 1      #n이 1일 때는 1을 리턴\n",
        "    if n >= 2: \n",
        "        return fib(n-1) + fib(n-2)  #n이 2이상일 때는 그 이전의 두 값을 더하여 리턴  "
      ],
      "metadata": {
        "id": "SuVHPY1zaQI6"
      },
      "execution_count": null,
      "outputs": []
    },
    {
      "cell_type": "code",
      "source": [
        "for i in range(10):\n",
        "  print(fib(i))"
      ],
      "metadata": {
        "id": "EtTo5Yi9Pn9L",
        "colab": {
          "base_uri": "https://localhost:8080/"
        },
        "outputId": "1bb79f25-84e8-4e92-8993-d68b0cbf46c1"
      },
      "execution_count": null,
      "outputs": [
        {
          "output_type": "stream",
          "name": "stdout",
          "text": [
            "0\n",
            "1\n",
            "1\n",
            "2\n",
            "3\n",
            "5\n",
            "8\n",
            "13\n",
            "21\n",
            "34\n"
          ]
        }
      ]
    },
    {
      "cell_type": "markdown",
      "source": [
        "##문자열 압축하기\n",
        "Q1. 문자열을 입력 받아 같은 문자가 연속적으로 반복되는 경우에 그 반복 횟수를 표시해 문자열을 압축하여 표시해 보자\n",
        "\n",
        "> 입력예시: aaabbcccccca\n",
        "\n",
        "> 출력예시: a3b2c6a1"
      ],
      "metadata": {
        "id": "_P4Zg35NL6Vm"
      }
    },
    {
      "cell_type": "code",
      "source": [
        "#'코드를 작성하시오'\n",
        "def compress_string(s):\n",
        "\n",
        "  return result"
      ],
      "metadata": {
        "id": "GsoG5EhNMJs4"
      },
      "execution_count": null,
      "outputs": []
    },
    {
      "cell_type": "code",
      "source": [
        "# 작성 예시\n",
        "# \"aaabbcccccca\"\n",
        "def compress_string(s):\n",
        "  result = s[0]  # 첫번째 값을 결과에 넣는다\n",
        "  count  = 0   #\n",
        "\n",
        "  for st in s:\n",
        "    if st == result[-1]:  #\n",
        "        count += 1\n",
        "    else:\n",
        "        result += str(count) + st\n",
        "        count = 1\n",
        "  result += str(count)\n",
        "  \n",
        "  return result"
      ],
      "metadata": {
        "id": "sbRgcIycaSaQ"
      },
      "execution_count": null,
      "outputs": []
    },
    {
      "cell_type": "code",
      "source": [
        "print(compress_string(\"aaabbcccccca\"))"
      ],
      "metadata": {
        "id": "H1E5BkuKPL69",
        "colab": {
          "base_uri": "https://localhost:8080/"
        },
        "outputId": "084b36e1-20e9-46ba-fa96-a4d143a3d9d6"
      },
      "execution_count": null,
      "outputs": [
        {
          "output_type": "stream",
          "name": "stdout",
          "text": [
            "a3b2c6a1\n"
          ]
        }
      ]
    },
    {
      "cell_type": "markdown",
      "source": [
        "##Duplicate Numbers\n",
        "Q1. 0 ~ 9 까지의 문자로 된 숫자를 입력받았을 때, 이 입력값이 0 ~ 9까지의 모든 숫자가 각각 한 번씩만 사용된 것인지 확인하는 함수를 작성해 보자.\n",
        "\n",
        ">입력예시 : 0123456789 01234 01234567890 6789012345 012322456789\n",
        "\n",
        ">출력예시 : true false false true false"
      ],
      "metadata": {
        "id": "fpfVW4qwMMO_"
      }
    },
    {
      "cell_type": "code",
      "source": [
        "#'코드를 작성하시오'\n",
        "\n",
        "def chkDupNum(s):\n",
        "  result = []"
      ],
      "metadata": {
        "id": "LuXD0E0yM0nS"
      },
      "execution_count": null,
      "outputs": []
    },
    {
      "cell_type": "code",
      "source": [
        "## 작성 예시\n",
        "\n",
        "def chkDupNum(s):\n",
        "  result=[]\n",
        "  for num in s:\n",
        "        if num not in result:\n",
        "            result.append(num)\n",
        "        else:\n",
        "            return False\n",
        "  return len(result)==10"
      ],
      "metadata": {
        "id": "7t7nbTnyZ86r"
      },
      "execution_count": null,
      "outputs": []
    },
    {
      "cell_type": "code",
      "source": [
        "print(chkDupNum(\"0123456789\"))\n",
        "print(chkDupNum(\"01234\"))\n",
        "print(chkDupNum(\"01234567890\"))\n",
        "print(chkDupNum(\"6789012345\"))\n",
        "print(chkDupNum(\"012322456789\"))"
      ],
      "metadata": {
        "id": "Mw7jJPwDPDLP",
        "colab": {
          "base_uri": "https://localhost:8080/"
        },
        "outputId": "6b6e2ea4-8fe4-4214-8819-3d06d1ceba45"
      },
      "execution_count": null,
      "outputs": [
        {
          "output_type": "stream",
          "name": "stdout",
          "text": [
            "True\n",
            "False\n",
            "False\n",
            "True\n",
            "False\n"
          ]
        }
      ]
    },
    {
      "cell_type": "markdown",
      "source": [
        "#프로그램 구조"
      ],
      "metadata": {
        "id": "ah4ZzlwWLVWE"
      }
    },
    {
      "cell_type": "markdown",
      "source": [
        "##클래스\n",
        "Q1. 다음과 같이 동작하는 클래스 Calculator를 작성해 보자.\n",
        "\n",
        ">cal1 = Calculator([1,2,3,4,5])\n",
        "\n",
        ">cal1.sum() # 15\n",
        "\n",
        ">cal1.avg() # 3.0\n",
        "\n",
        ">cal2 = Calculator([6,7,8,9,10])\n",
        "\n",
        ">cal2.sum() # 40\n",
        "\n",
        "> cal2.avg() #8.0"
      ],
      "metadata": {
        "id": "9jjNEFxuKPRt"
      }
    },
    {
      "cell_type": "code",
      "source": [
        "class Calculator:\n",
        "  def __init(self, numberList):\n",
        "    self.numberList = numberList\n",
        "  \n",
        "  def sum(self):\n",
        "    '코드를 작성하시오'\n",
        "\n",
        "  def avg(self):\n",
        "    '코드를 작성하시오'\n",
        "\n"
      ],
      "metadata": {
        "id": "X7-hWEfVKqgG"
      },
      "execution_count": null,
      "outputs": []
    },
    {
      "cell_type": "code",
      "source": [
        "## 작성 예시\n",
        "class Calculator:\n",
        "    def __init__(self, numberList):\n",
        "        self.numberList = numberList \n",
        "\n",
        "    def sum(self):\n",
        "        result = 0\n",
        "        for num in self.numberList:\n",
        "            result += num\n",
        "        return result \n",
        "\n",
        "    def avg(self):\n",
        "        total = self.sum()\n",
        "        return total / len(self.numberList)"
      ],
      "metadata": {
        "id": "EeG_yG2rZyDm"
      },
      "execution_count": null,
      "outputs": []
    },
    {
      "cell_type": "code",
      "source": [
        "cal1 = Calculator([1,2,3,4,5])\n",
        "print(cal1.sum()) # 15\n",
        "print(cal1.avg()) # 3.0"
      ],
      "metadata": {
        "id": "tParL02iLNGM"
      },
      "execution_count": null,
      "outputs": []
    },
    {
      "cell_type": "code",
      "source": [
        "cal2 = Calculator([6,7,8,9,10])\n",
        "print(cal2.sum()) # 40\n",
        "print(cal2.avg()) #8.0"
      ],
      "metadata": {
        "id": "IJmIXs2kLOu9"
      },
      "execution_count": null,
      "outputs": []
    },
    {
      "cell_type": "markdown",
      "source": [
        "##모듈\n",
        "Q1. 이전 문제에서 작성한 Calculator 클래스를 calculator.py 라는 파일로 저장하자, 그리고 이 파일을 모듈로 사용하려고 한다. 다음처럼 동작하도록 만들어 보자\n"
      ],
      "metadata": {
        "id": "dxlQTTR3LSTJ"
      }
    },
    {
      "cell_type": "code",
      "source": [
        "from calculator import Calculator\n",
        "\n",
        "cal1 = Calculator([1,2,3,4,5])\n",
        "cal1.sum()"
      ],
      "metadata": {
        "id": "pspQg_42LoSP"
      },
      "execution_count": null,
      "outputs": []
    }
  ]
}