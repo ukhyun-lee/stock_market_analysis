{
  "cells": [
    {
      "cell_type": "markdown",
      "metadata": {
        "id": "view-in-github",
        "colab_type": "text"
      },
      "source": [
        "<a href=\"https://colab.research.google.com/github/ukhyun-lee/stock_market_analysis/blob/main/1%EC%A3%BC%EC%B0%A8/%ED%8D%BC%EC%9D%B4%EC%8D%AC%EA%B8%B0%EC%B4%88_%EC%BB%A8%ED%85%8C%EC%9D%B4%EB%84%88_%ED%83%80%EC%9E%85.ipynb\" target=\"_parent\"><img src=\"https://colab.research.google.com/assets/colab-badge.svg\" alt=\"Open In Colab\"/></a>"
      ]
    },
    {
      "cell_type": "markdown",
      "metadata": {
        "id": "CmgaHkdtffRb"
      },
      "source": [
        "# 2.3.1 컨테이너 타입이란?"
      ]
    },
    {
      "cell_type": "markdown",
      "source": [
        "* 컨테이너 타입은 여러 개의 값을 다루는 자료형입니다. **list, tuple, set, dictionary**가 있습니다.\n",
        "    - **리스트(list)** : 데이터를 연속적으로 관리, 값을 바꿀 수 있음, 예:`['가', '나', '다', '라']`\n",
        "\n",
        "    - **튜플(tuple)** : 데이터를 연속적으로 관리, 값을 바꿀 수 없음, 예:`('가', '나', '다', '라')`\n",
        "    - **세트(set)** : 집합과 같은 속성, 예:`{'가', '나', '다', '라'}`\n",
        "    - **딕셔너리(dictionary)** : key-value 쌍, 예: `{'가':123, '나':456, '다':789}`"
      ],
      "metadata": {
        "id": "SXeowFfzflxQ"
      }
    },
    {
      "cell_type": "code",
      "execution_count": null,
      "metadata": {
        "id": "1G3vOEayffRe"
      },
      "outputs": [],
      "source": [
        "score_1 = 80\n",
        "score_2 = 90\n",
        "score_3 = 70\n",
        "score_4 = 65\n",
        "score_5 = 100\n",
        "score_6 = 95\n",
        "score_7 = 90\n",
        "score_8 = 80\n",
        "score_9 = 75\n",
        "score_10 = 80"
      ]
    },
    {
      "cell_type": "code",
      "execution_count": 1,
      "metadata": {
        "id": "nDZls1yoffRg"
      },
      "outputs": [],
      "source": [
        "scores = [80, 90, 70, 65, 100, 95, 90, 80, 75, 80]"
      ]
    },
    {
      "cell_type": "markdown",
      "metadata": {
        "id": "ZQsLlnDUffRg"
      },
      "source": [
        "# 2.3.2 리스트"
      ]
    },
    {
      "cell_type": "markdown",
      "source": [
        "![image-20230119191110398.png](data:image/png;base64,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)"
      ],
      "metadata": {
        "id": "-3ibWjnpiX4j"
      }
    },
    {
      "cell_type": "markdown",
      "metadata": {
        "id": "x8yItsAxffRh"
      },
      "source": [
        "## 2.3.2.1 리스트 생성"
      ]
    },
    {
      "cell_type": "markdown",
      "source": [
        "![image-20230119191143730.png](data:image/png;base64,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)"
      ],
      "metadata": {
        "id": "xrPYMpB7i_Lv"
      }
    },
    {
      "cell_type": "code",
      "execution_count": 2,
      "metadata": {
        "id": "lGV0qFQRffRh"
      },
      "outputs": [],
      "source": [
        "fruit_list = [\"apple\", \"banana\", \"orange\"]"
      ]
    },
    {
      "cell_type": "code",
      "execution_count": 3,
      "metadata": {
        "id": "Ndu-1ZeiffRh",
        "outputId": "a006254e-65be-49a4-f315-8e0d245dee08",
        "colab": {
          "base_uri": "https://localhost:8080/"
        }
      },
      "outputs": [
        {
          "output_type": "execute_result",
          "data": {
            "text/plain": [
              "['apple', 'banana', 'orange', 'apple', 'banana']"
            ]
          },
          "metadata": {},
          "execution_count": 3
        }
      ],
      "source": [
        "# 중복허용\n",
        "fruit_list = [\"apple\", \"banana\", \"orange\", \"apple\", \"banana\"]\n",
        "fruit_list"
      ]
    },
    {
      "cell_type": "markdown",
      "metadata": {
        "id": "EsLQWNsnffRj"
      },
      "source": [
        "## 2.3.2.2 아이템 선택"
      ]
    },
    {
      "cell_type": "markdown",
      "metadata": {
        "id": "lfSz2BloffRj"
      },
      "source": [
        "### ① 기본 인덱스"
      ]
    },
    {
      "cell_type": "markdown",
      "source": [
        "![image-20230119191143730.png](data:image/png;base64,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)"
      ],
      "metadata": {
        "id": "3p7kCCwTjHEn"
      }
    },
    {
      "cell_type": "code",
      "execution_count": 4,
      "metadata": {
        "id": "JkTjZ8-dffRj",
        "outputId": "a0f2b02d-6224-4fd1-9c43-ee9bf1355638",
        "colab": {
          "base_uri": "https://localhost:8080/",
          "height": 35
        }
      },
      "outputs": [
        {
          "output_type": "execute_result",
          "data": {
            "text/plain": [
              "'apple'"
            ],
            "application/vnd.google.colaboratory.intrinsic+json": {
              "type": "string"
            }
          },
          "metadata": {},
          "execution_count": 4
        }
      ],
      "source": [
        "fruit_list = [\"apple\", \"banana\", \"orange\"]\n",
        "fruit_list[0]"
      ]
    },
    {
      "cell_type": "code",
      "execution_count": 5,
      "metadata": {
        "id": "1paDdLwNffRk",
        "outputId": "e79c28fa-4759-4c57-b979-4410ed758a2e",
        "colab": {
          "base_uri": "https://localhost:8080/",
          "height": 35
        }
      },
      "outputs": [
        {
          "output_type": "execute_result",
          "data": {
            "text/plain": [
              "'banana'"
            ],
            "application/vnd.google.colaboratory.intrinsic+json": {
              "type": "string"
            }
          },
          "metadata": {},
          "execution_count": 5
        }
      ],
      "source": [
        "fruit_list[1]"
      ]
    },
    {
      "cell_type": "code",
      "execution_count": 6,
      "metadata": {
        "id": "AIyrqJQtffRk",
        "outputId": "84019bc4-a017-412a-ff68-25a248c904d7",
        "colab": {
          "base_uri": "https://localhost:8080/",
          "height": 35
        }
      },
      "outputs": [
        {
          "output_type": "execute_result",
          "data": {
            "text/plain": [
              "'orange'"
            ],
            "application/vnd.google.colaboratory.intrinsic+json": {
              "type": "string"
            }
          },
          "metadata": {},
          "execution_count": 6
        }
      ],
      "source": [
        "fruit_list[2]"
      ]
    },
    {
      "cell_type": "code",
      "execution_count": 7,
      "metadata": {
        "id": "wBVTA7wEffRl",
        "outputId": "1d61b29e-df81-4615-fda6-c0ebc9812602",
        "colab": {
          "base_uri": "https://localhost:8080/",
          "height": 174
        }
      },
      "outputs": [
        {
          "output_type": "error",
          "ename": "IndexError",
          "evalue": "ignored",
          "traceback": [
            "\u001b[0;31m---------------------------------------------------------------------------\u001b[0m",
            "\u001b[0;31mIndexError\u001b[0m                                Traceback (most recent call last)",
            "\u001b[0;32m<ipython-input-7-6f9a1405e6b2>\u001b[0m in \u001b[0;36m<module>\u001b[0;34m\u001b[0m\n\u001b[0;32m----> 1\u001b[0;31m \u001b[0mfruit_list\u001b[0m\u001b[0;34m[\u001b[0m\u001b[0;36m3\u001b[0m\u001b[0;34m]\u001b[0m\u001b[0;34m\u001b[0m\u001b[0;34m\u001b[0m\u001b[0m\n\u001b[0m",
            "\u001b[0;31mIndexError\u001b[0m: list index out of range"
          ]
        }
      ],
      "source": [
        "fruit_list[3]"
      ]
    },
    {
      "cell_type": "markdown",
      "metadata": {
        "id": "yLfEVfbgffRl"
      },
      "source": [
        "------\n",
        "<div class=\"alert alert-warning\">\n",
        "[Tip] 리스트 길이 확인하는 방법\n",
        "</div>"
      ]
    },
    {
      "cell_type": "code",
      "execution_count": 8,
      "metadata": {
        "id": "giKgkUNpffRl",
        "outputId": "6e4b7da4-7ade-4e85-dbbc-de8c4807b80c",
        "colab": {
          "base_uri": "https://localhost:8080/"
        }
      },
      "outputs": [
        {
          "output_type": "execute_result",
          "data": {
            "text/plain": [
              "3"
            ]
          },
          "metadata": {},
          "execution_count": 8
        }
      ],
      "source": [
        "fruit_list = [\"apple\", \"banana\", \"orange\"]\n",
        "len(fruit_list)"
      ]
    },
    {
      "cell_type": "markdown",
      "metadata": {
        "id": "zbYeBI3SffRl"
      },
      "source": [
        "----------"
      ]
    },
    {
      "cell_type": "markdown",
      "metadata": {
        "id": "zRu26P2mffRm"
      },
      "source": [
        "### ② 마이너스 인덱스"
      ]
    },
    {
      "cell_type": "markdown",
      "source": [
        "![image-20230119191219901.png](data:image/png;base64,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)"
      ],
      "metadata": {
        "id": "47uVIWChjLrQ"
      }
    },
    {
      "cell_type": "code",
      "execution_count": 9,
      "metadata": {
        "id": "nOw8_xWwffRm",
        "outputId": "2deac8ad-ae2a-4965-e545-f44bb512c52a",
        "colab": {
          "base_uri": "https://localhost:8080/",
          "height": 35
        }
      },
      "outputs": [
        {
          "output_type": "execute_result",
          "data": {
            "text/plain": [
              "'orange'"
            ],
            "application/vnd.google.colaboratory.intrinsic+json": {
              "type": "string"
            }
          },
          "metadata": {},
          "execution_count": 9
        }
      ],
      "source": [
        "fruit_list[-1]"
      ]
    },
    {
      "cell_type": "code",
      "execution_count": 10,
      "metadata": {
        "id": "sm0GBU7vffRm",
        "outputId": "7b635906-541d-4895-8570-c440ac232d6d",
        "colab": {
          "base_uri": "https://localhost:8080/",
          "height": 35
        }
      },
      "outputs": [
        {
          "output_type": "execute_result",
          "data": {
            "text/plain": [
              "'banana'"
            ],
            "application/vnd.google.colaboratory.intrinsic+json": {
              "type": "string"
            }
          },
          "metadata": {},
          "execution_count": 10
        }
      ],
      "source": [
        "fruit_list[-2]"
      ]
    },
    {
      "cell_type": "markdown",
      "metadata": {
        "id": "cNTVDmLyffRm"
      },
      "source": [
        "### ③ 콜론을 사용한 인덱스 범위 지정"
      ]
    },
    {
      "cell_type": "markdown",
      "source": [
        "![image-20230119191315334.png](data:image/png;base64,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)"
      ],
      "metadata": {
        "id": "dUHp1tIfjNf3"
      }
    },
    {
      "cell_type": "code",
      "execution_count": 11,
      "metadata": {
        "id": "BHhvWe9_ffRn",
        "outputId": "a60d6c51-7158-464e-9264-437775f6cbb1",
        "colab": {
          "base_uri": "https://localhost:8080/"
        }
      },
      "outputs": [
        {
          "output_type": "execute_result",
          "data": {
            "text/plain": [
              "['banana', 'orange']"
            ]
          },
          "metadata": {},
          "execution_count": 11
        }
      ],
      "source": [
        "fruit_list[1:3]"
      ]
    },
    {
      "cell_type": "code",
      "execution_count": 12,
      "metadata": {
        "id": "1xwWrIjeffRn",
        "outputId": "072a1b5b-5381-42c4-f66c-1ee35d3734bc",
        "colab": {
          "base_uri": "https://localhost:8080/"
        }
      },
      "outputs": [
        {
          "output_type": "execute_result",
          "data": {
            "text/plain": [
              "['apple', 'banana', 'orange']"
            ]
          },
          "metadata": {},
          "execution_count": 12
        }
      ],
      "source": [
        "fruit_list[:3]    # 시작 위치를 지정하지 않음"
      ]
    },
    {
      "cell_type": "code",
      "execution_count": 13,
      "metadata": {
        "id": "JP56HttrffRn",
        "outputId": "8851d13a-8639-495e-d175-bcae34da6885",
        "colab": {
          "base_uri": "https://localhost:8080/"
        }
      },
      "outputs": [
        {
          "output_type": "execute_result",
          "data": {
            "text/plain": [
              "['banana', 'orange']"
            ]
          },
          "metadata": {},
          "execution_count": 13
        }
      ],
      "source": [
        "fruit_list[1:]    # 종료 위치를 지정하지 않음"
      ]
    },
    {
      "cell_type": "code",
      "execution_count": 14,
      "metadata": {
        "id": "rvJOGM9YffRn",
        "outputId": "042b6062-6b1f-4882-ea7d-4c06231ad4d4",
        "colab": {
          "base_uri": "https://localhost:8080/"
        }
      },
      "outputs": [
        {
          "output_type": "execute_result",
          "data": {
            "text/plain": [
              "['apple', 'banana', 'orange']"
            ]
          },
          "metadata": {},
          "execution_count": 14
        }
      ],
      "source": [
        "fruit_list[:]     # 시작, 종료 위치를 지정하지 않음 = 전체 선택"
      ]
    },
    {
      "cell_type": "code",
      "execution_count": 15,
      "metadata": {
        "id": "rx87ees9ffRo",
        "outputId": "71a44647-daf9-48f2-a38d-ae49a8ceb737",
        "colab": {
          "base_uri": "https://localhost:8080/"
        }
      },
      "outputs": [
        {
          "output_type": "execute_result",
          "data": {
            "text/plain": [
              "['apple', 'kiwi', 'orange']"
            ]
          },
          "metadata": {},
          "execution_count": 15
        }
      ],
      "source": [
        "fruit_list[1] = \"kiwi\" # 1번 위치의 아이템에 새로운 값 할당\n",
        "fruit_list"
      ]
    },
    {
      "cell_type": "code",
      "execution_count": 16,
      "metadata": {
        "id": "LIUQkrHYffRo",
        "outputId": "3604ae90-d2f6-4ea0-f9b4-f4a6685db6a0",
        "colab": {
          "base_uri": "https://localhost:8080/"
        }
      },
      "outputs": [
        {
          "output_type": "execute_result",
          "data": {
            "text/plain": [
              "['apple', 'strawberry', 'blueberry']"
            ]
          },
          "metadata": {},
          "execution_count": 16
        }
      ],
      "source": [
        "fruit_list[1:3] = [\"strawberry\", \"blueberry\"]\n",
        "fruit_list"
      ]
    },
    {
      "cell_type": "markdown",
      "metadata": {
        "id": "t2LMTaWbffRo"
      },
      "source": [
        "## 2.3.2.3 아이템 추가"
      ]
    },
    {
      "cell_type": "markdown",
      "metadata": {
        "id": "4E1Y_iMkffRo"
      },
      "source": [
        "<div class=\"alert alert-success\">\n",
        "[문제]현재 fruit_list에는 ['apple', 'strawberry', 'blueberry'] 세 개의 값이 들어 있습니다. 2번 인덱스(즉, 세 번째) 위치에 “mango” 아이템을 추가하세요.\n",
        "</div>"
      ]
    },
    {
      "cell_type": "code",
      "execution_count": 17,
      "metadata": {
        "id": "wNr2ibnwffRo",
        "outputId": "792d5576-71c0-46de-a696-232209535f1d",
        "colab": {
          "base_uri": "https://localhost:8080/"
        }
      },
      "outputs": [
        {
          "output_type": "execute_result",
          "data": {
            "text/plain": [
              "['apple', 'strawberry', 'mango', 'blueberry']"
            ]
          },
          "metadata": {},
          "execution_count": 17
        }
      ],
      "source": [
        "fruit_list.insert(2, \"mango\")\n",
        "fruit_list"
      ]
    },
    {
      "cell_type": "markdown",
      "metadata": {
        "id": "24g_Hde0ffRo"
      },
      "source": [
        "<div class=\"alert alert-success\">\n",
        "[문제]현재 fruit_list에는 ['apple', 'strawberry', 'mango', 'blueberry']\n",
        "네 개의 값이 들어 있습니다. 마지막 위치에 “watermelon” 아이템을 추가하세요.\n",
        "</div>"
      ]
    },
    {
      "cell_type": "code",
      "execution_count": 18,
      "metadata": {
        "id": "2cXIDqHOffRp",
        "outputId": "0e555c8e-d471-46bd-efee-c8425eade242",
        "colab": {
          "base_uri": "https://localhost:8080/"
        }
      },
      "outputs": [
        {
          "output_type": "execute_result",
          "data": {
            "text/plain": [
              "['apple', 'strawberry', 'mango', 'blueberry', 'watermelon']"
            ]
          },
          "metadata": {},
          "execution_count": 18
        }
      ],
      "source": [
        "fruit_list.append(\"watermelon\")\n",
        "fruit_list"
      ]
    },
    {
      "cell_type": "markdown",
      "metadata": {
        "id": "N0Qf4Bt3ffRp"
      },
      "source": [
        "<div class=\"alert alert-success\">\n",
        "[문제]현재 fruit_list에는 ['apple', 'strawberry', 'mango', 'blueberry', 'watermelon'] 다섯 개의 아이템이 들어 있습니다. 그리고 vegetable_list에는 [\"carrot\", \"tomato\", \"onion\"] 세 개의 아이템이 들어 있습니다. fruit_list에 vegetable_list에 있는 아이템을 추가하세요.\n",
        "</div>"
      ]
    },
    {
      "cell_type": "code",
      "execution_count": 19,
      "metadata": {
        "id": "LFEMLKAFffRp",
        "outputId": "789d8d14-6a85-435f-c440-e4e9b30e50db",
        "colab": {
          "base_uri": "https://localhost:8080/"
        }
      },
      "outputs": [
        {
          "output_type": "execute_result",
          "data": {
            "text/plain": [
              "['apple',\n",
              " 'strawberry',\n",
              " 'mango',\n",
              " 'blueberry',\n",
              " 'watermelon',\n",
              " 'carrot',\n",
              " 'tomato',\n",
              " 'onion']"
            ]
          },
          "metadata": {},
          "execution_count": 19
        }
      ],
      "source": [
        "vegetable_list = [\"carrot\", \"tomato\", \"onion\"]\n",
        "fruit_list.extend(vegetable_list)\n",
        "fruit_list"
      ]
    },
    {
      "cell_type": "markdown",
      "metadata": {
        "id": "Ei0zoC29ffRp"
      },
      "source": [
        "<div class=\"alert alert-success\">\n",
        "[문제]list1에는 [1, 2, 3], list2에는  ['가', '나', '다']가 들어 있습니다. 이 두 리스트의 아이템을 모두 포함하는 list3를 만들어 보세요.\n",
        "</div>"
      ]
    },
    {
      "cell_type": "code",
      "execution_count": 20,
      "metadata": {
        "id": "1Xfc-1Y4ffRp",
        "outputId": "4a3547f6-7214-4855-91ee-0c588644374d",
        "colab": {
          "base_uri": "https://localhost:8080/"
        }
      },
      "outputs": [
        {
          "output_type": "execute_result",
          "data": {
            "text/plain": [
              "[1, 2, 3, '가', '나', '다']"
            ]
          },
          "metadata": {},
          "execution_count": 20
        }
      ],
      "source": [
        "list1 = [1, 2, 3]\n",
        "list2 = ['가', '나', '다']\n",
        "list3 = list1 + list2\n",
        "list3"
      ]
    },
    {
      "cell_type": "markdown",
      "metadata": {
        "id": "RZgE90I1ffRq"
      },
      "source": [
        "## 2.3.2.4 아이템 삭제"
      ]
    },
    {
      "cell_type": "markdown",
      "metadata": {
        "id": "tegBX3efffRq"
      },
      "source": [
        "<div class=\"alert alert-success\">\n",
        "[문제]현재 fruit_list에는 [\"apple\", \"tomato\", \"banana\", \"orange\"]네 개의 값이 들어 있습니다. “tomato” 값을 삭제하세요.\n",
        "</div>"
      ]
    },
    {
      "cell_type": "code",
      "execution_count": 21,
      "metadata": {
        "id": "PVhKcfhJffRq",
        "outputId": "281c595d-1439-44d5-bc8c-61ff854ccee5",
        "colab": {
          "base_uri": "https://localhost:8080/"
        }
      },
      "outputs": [
        {
          "output_type": "execute_result",
          "data": {
            "text/plain": [
              "['apple', 'banana', 'orange']"
            ]
          },
          "metadata": {},
          "execution_count": 21
        }
      ],
      "source": [
        "fruit_list = [\"apple\", \"tomato\", \"banana\", \"orange\"]\n",
        "fruit_list.remove(\"tomato\")\n",
        "fruit_list"
      ]
    },
    {
      "cell_type": "markdown",
      "metadata": {
        "id": "zPEbV-SAffRq"
      },
      "source": [
        "<div class=\"alert alert-success\">\n",
        "[문제]현재 fruit_list에는 ['apple', 'banana', 'orange'] 세 개의 값이 들어 있습니다. 리스트 가장 마지막에 위치한 아이템을 삭제하세요.\n",
        "</div"
      ]
    },
    {
      "cell_type": "code",
      "execution_count": 22,
      "metadata": {
        "id": "oT9LYGpaffRq",
        "outputId": "c59e4c10-b726-43c2-c72e-c5514f66216a",
        "colab": {
          "base_uri": "https://localhost:8080/"
        }
      },
      "outputs": [
        {
          "output_type": "execute_result",
          "data": {
            "text/plain": [
              "['apple', 'banana']"
            ]
          },
          "metadata": {},
          "execution_count": 22
        }
      ],
      "source": [
        "del fruit_list[-1]\n",
        "fruit_list"
      ]
    },
    {
      "cell_type": "markdown",
      "metadata": {
        "id": "rEOJGs1LffRq"
      },
      "source": [
        "<div class=\"alert alert-success\">\n",
        "현재 fruit_list에는 ['apple', 'banana'] 두 개의 값이 들어 있습니다. fruit_list리스트를 삭제하세요.\n",
        "</div>"
      ]
    },
    {
      "cell_type": "code",
      "execution_count": 23,
      "metadata": {
        "id": "I4Q9w4yCffRr",
        "outputId": "a76bff18-dc7f-4673-a2d3-5783de189474",
        "colab": {
          "base_uri": "https://localhost:8080/",
          "height": 193
        }
      },
      "outputs": [
        {
          "output_type": "error",
          "ename": "NameError",
          "evalue": "ignored",
          "traceback": [
            "\u001b[0;31m---------------------------------------------------------------------------\u001b[0m",
            "\u001b[0;31mNameError\u001b[0m                                 Traceback (most recent call last)",
            "\u001b[0;32m<ipython-input-23-959c847a65c7>\u001b[0m in \u001b[0;36m<module>\u001b[0;34m\u001b[0m\n\u001b[1;32m      1\u001b[0m \u001b[0;32mdel\u001b[0m \u001b[0mfruit_list\u001b[0m\u001b[0;34m\u001b[0m\u001b[0;34m\u001b[0m\u001b[0m\n\u001b[0;32m----> 2\u001b[0;31m \u001b[0mfruit_list\u001b[0m\u001b[0;34m\u001b[0m\u001b[0;34m\u001b[0m\u001b[0m\n\u001b[0m",
            "\u001b[0;31mNameError\u001b[0m: name 'fruit_list' is not defined"
          ]
        }
      ],
      "source": [
        "del fruit_list\n",
        "fruit_list"
      ]
    },
    {
      "cell_type": "markdown",
      "metadata": {
        "id": "vFeR0P1LffRr"
      },
      "source": [
        "<div class=\"alert alert-success\">\n",
        "현재 fruit_list에는 [\"apple\", \"banana\", \"orange\"] 세 개의 값이 들어 있습니다. fruit_list리스트 안에 있는 아이템을 모두 삭제하세요.\n",
        "</div>"
      ]
    },
    {
      "cell_type": "code",
      "execution_count": 24,
      "metadata": {
        "id": "eOtXpkOqffRr",
        "outputId": "a2143a1f-d2aa-4382-c285-ab2351a1074b",
        "colab": {
          "base_uri": "https://localhost:8080/"
        }
      },
      "outputs": [
        {
          "output_type": "execute_result",
          "data": {
            "text/plain": [
              "[]"
            ]
          },
          "metadata": {},
          "execution_count": 24
        }
      ],
      "source": [
        "fruit_list = [\"apple\", \"banana\", \"orange\"]\n",
        "fruit_list.clear()\n",
        "fruit_list"
      ]
    },
    {
      "cell_type": "markdown",
      "metadata": {
        "id": "8Yzc2bLrffRr"
      },
      "source": [
        "## 2.3.2.5 정렬"
      ]
    },
    {
      "cell_type": "code",
      "execution_count": 25,
      "metadata": {
        "id": "zVgz4k0offRr",
        "outputId": "7a09886f-688c-4bc6-fa3d-3bbef50c2774",
        "colab": {
          "base_uri": "https://localhost:8080/"
        }
      },
      "outputs": [
        {
          "output_type": "execute_result",
          "data": {
            "text/plain": [
              "['apple', 'banana', 'blueberry', 'mango', 'orange', 'strawberry', 'watermelon']"
            ]
          },
          "metadata": {},
          "execution_count": 25
        }
      ],
      "source": [
        "fruit_list = ['strawberry', 'mango', 'blueberry', 'watermelon', \"apple\", \"banana\", \"orange\"]\n",
        "fruit_list.sort()\n",
        "fruit_list"
      ]
    },
    {
      "cell_type": "code",
      "execution_count": 26,
      "metadata": {
        "id": "uF--ushsffRr",
        "outputId": "5cc3b816-e1b5-4765-ba02-5fca445de766",
        "colab": {
          "base_uri": "https://localhost:8080/"
        }
      },
      "outputs": [
        {
          "output_type": "execute_result",
          "data": {
            "text/plain": [
              "['watermelon', 'strawberry', 'orange', 'mango', 'blueberry', 'banana', 'apple']"
            ]
          },
          "metadata": {},
          "execution_count": 26
        }
      ],
      "source": [
        "fruit_list.sort(reverse = True)\n",
        "fruit_list"
      ]
    },
    {
      "cell_type": "markdown",
      "metadata": {
        "id": "Zvuh8ZJHffRs"
      },
      "source": [
        "# 2.3.3 튜플"
      ]
    },
    {
      "cell_type": "markdown",
      "source": [
        "![image-20230119191415872.png](data:image/png;base64,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)"
      ],
      "metadata": {
        "id": "qtrqqcLsjRt3"
      }
    },
    {
      "cell_type": "markdown",
      "metadata": {
        "id": "R61AdT1DffRs"
      },
      "source": [
        "## 2.3.3.1 튜플 생성"
      ]
    },
    {
      "cell_type": "code",
      "execution_count": 27,
      "metadata": {
        "id": "ncBSvDBTffRs"
      },
      "outputs": [],
      "source": [
        "fruit_tuple = (\"apple\", \"banana\", \"orange\")"
      ]
    },
    {
      "cell_type": "code",
      "execution_count": 28,
      "metadata": {
        "id": "AXYcq5-fffRs",
        "outputId": "9cf8beaf-1108-47eb-b98e-161e067f815d",
        "colab": {
          "base_uri": "https://localhost:8080/"
        }
      },
      "outputs": [
        {
          "output_type": "execute_result",
          "data": {
            "text/plain": [
              "('apple', 'banana', 'orange', 'apple', 'banana')"
            ]
          },
          "metadata": {},
          "execution_count": 28
        }
      ],
      "source": [
        "fruit_tuple = (\"apple\", \"banana\", \"orange\", \"apple\", \"banana\")\n",
        "fruit_tuple"
      ]
    },
    {
      "cell_type": "markdown",
      "metadata": {
        "id": "9h-scQaTffRs"
      },
      "source": [
        "## 2.3.3.2 아이템 선택"
      ]
    },
    {
      "cell_type": "code",
      "execution_count": 39,
      "metadata": {
        "id": "jr6qFBaVffRs",
        "outputId": "4dbddb37-2a62-4b03-a898-ca6dc1637b69",
        "colab": {
          "base_uri": "https://localhost:8080/",
          "height": 35
        }
      },
      "outputs": [
        {
          "output_type": "execute_result",
          "data": {
            "text/plain": [
              "'banana'"
            ],
            "application/vnd.google.colaboratory.intrinsic+json": {
              "type": "string"
            }
          },
          "metadata": {},
          "execution_count": 39
        }
      ],
      "source": [
        "fruit_tuple = (\"apple\", \"banana\", \"orange\")\n",
        "fruit_tuple[1]"
      ]
    },
    {
      "cell_type": "code",
      "execution_count": 30,
      "metadata": {
        "id": "L4hPnlprffRs",
        "outputId": "b23ef1df-a08b-4a24-d2fc-abde8b442516",
        "colab": {
          "base_uri": "https://localhost:8080/",
          "height": 193
        }
      },
      "outputs": [
        {
          "output_type": "error",
          "ename": "TypeError",
          "evalue": "ignored",
          "traceback": [
            "\u001b[0;31m---------------------------------------------------------------------------\u001b[0m",
            "\u001b[0;31mTypeError\u001b[0m                                 Traceback (most recent call last)",
            "\u001b[0;32m<ipython-input-30-a09fd5403afe>\u001b[0m in \u001b[0;36m<module>\u001b[0;34m\u001b[0m\n\u001b[1;32m      1\u001b[0m \u001b[0;31m# 아이템 변경 안됨\u001b[0m\u001b[0;34m\u001b[0m\u001b[0;34m\u001b[0m\u001b[0m\n\u001b[0;32m----> 2\u001b[0;31m \u001b[0mfruit_tuple\u001b[0m\u001b[0;34m[\u001b[0m\u001b[0;36m1\u001b[0m\u001b[0;34m]\u001b[0m \u001b[0;34m=\u001b[0m \u001b[0;34m\"kiwi\"\u001b[0m\u001b[0;34m\u001b[0m\u001b[0;34m\u001b[0m\u001b[0m\n\u001b[0m",
            "\u001b[0;31mTypeError\u001b[0m: 'tuple' object does not support item assignment"
          ]
        }
      ],
      "source": [
        "# 아이템 변경 안됨\n",
        "fruit_tuple[1] = \"kiwi\""
      ]
    },
    {
      "cell_type": "markdown",
      "metadata": {
        "id": "ZANdri90ffRt"
      },
      "source": [
        "## 2.3.3.3 아이템 추가/삭제"
      ]
    },
    {
      "cell_type": "code",
      "execution_count": 31,
      "metadata": {
        "id": "BEJBWHrPffRt",
        "outputId": "3b1f1b39-d632-4fa6-9627-8d8b66055f1f",
        "colab": {
          "base_uri": "https://localhost:8080/",
          "height": 174
        }
      },
      "outputs": [
        {
          "output_type": "error",
          "ename": "AttributeError",
          "evalue": "ignored",
          "traceback": [
            "\u001b[0;31m---------------------------------------------------------------------------\u001b[0m",
            "\u001b[0;31mAttributeError\u001b[0m                            Traceback (most recent call last)",
            "\u001b[0;32m<ipython-input-31-40d379ebc83b>\u001b[0m in \u001b[0;36m<module>\u001b[0;34m\u001b[0m\n\u001b[0;32m----> 1\u001b[0;31m \u001b[0mfruit_tuple\u001b[0m\u001b[0;34m.\u001b[0m\u001b[0mappend\u001b[0m\u001b[0;34m(\u001b[0m\u001b[0;34m\"watermelon\"\u001b[0m\u001b[0;34m)\u001b[0m\u001b[0;34m\u001b[0m\u001b[0;34m\u001b[0m\u001b[0m\n\u001b[0m",
            "\u001b[0;31mAttributeError\u001b[0m: 'tuple' object has no attribute 'append'"
          ]
        }
      ],
      "source": [
        "fruit_tuple.append(\"watermelon\")"
      ]
    },
    {
      "cell_type": "code",
      "execution_count": 32,
      "metadata": {
        "id": "VbNMS6voffRt",
        "outputId": "ccaa26a4-241c-4a28-9ac4-ab01d08bf328",
        "colab": {
          "base_uri": "https://localhost:8080/",
          "height": 174
        }
      },
      "outputs": [
        {
          "output_type": "error",
          "ename": "AttributeError",
          "evalue": "ignored",
          "traceback": [
            "\u001b[0;31m---------------------------------------------------------------------------\u001b[0m",
            "\u001b[0;31mAttributeError\u001b[0m                            Traceback (most recent call last)",
            "\u001b[0;32m<ipython-input-32-4689ee50c2cb>\u001b[0m in \u001b[0;36m<module>\u001b[0;34m\u001b[0m\n\u001b[0;32m----> 1\u001b[0;31m \u001b[0mfruit_tuple\u001b[0m\u001b[0;34m.\u001b[0m\u001b[0mremove\u001b[0m\u001b[0;34m(\u001b[0m\u001b[0;34m\"apple\"\u001b[0m\u001b[0;34m)\u001b[0m\u001b[0;34m\u001b[0m\u001b[0;34m\u001b[0m\u001b[0m\n\u001b[0m",
            "\u001b[0;31mAttributeError\u001b[0m: 'tuple' object has no attribute 'remove'"
          ]
        }
      ],
      "source": [
        "fruit_tuple.remove(\"apple\")"
      ]
    },
    {
      "cell_type": "markdown",
      "source": [
        "![image-20230119191447020.png](data:image/png;base64,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)"
      ],
      "metadata": {
        "id": "-ZVyZifrjVnK"
      }
    },
    {
      "cell_type": "code",
      "execution_count": 40,
      "metadata": {
        "id": "0v--QO-2ffRt",
        "outputId": "ea76fa76-0fa9-46a5-ff74-42ceae992f8f",
        "colab": {
          "base_uri": "https://localhost:8080/"
        }
      },
      "outputs": [
        {
          "output_type": "execute_result",
          "data": {
            "text/plain": [
              "('banana', 'orange', 'watermelon')"
            ]
          },
          "metadata": {},
          "execution_count": 40
        }
      ],
      "source": [
        "# 튜플을 리스트로 형 변환\n",
        "fruite_list = list(fruit_tuple)\n",
        "\n",
        "# 리스트의 값 편집, 추가 및 삭제\n",
        "fruite_list.append(\"watermelon\")\n",
        "fruite_list.remove(\"apple\")\n",
        "\n",
        "# 리스트를 다시 튜플로 형 변환\n",
        "fruit_tuple = tuple(fruite_list)\n",
        "fruit_tuple"
      ]
    },
    {
      "cell_type": "code",
      "execution_count": 41,
      "metadata": {
        "id": "1C2d4YByffRt"
      },
      "outputs": [],
      "source": [
        "# del로 튜플 삭제\n",
        "del fruit_tuple"
      ]
    },
    {
      "cell_type": "markdown",
      "metadata": {
        "id": "AYOpIpCxffRt"
      },
      "source": [
        "# 2.3.4 세트 "
      ]
    },
    {
      "cell_type": "markdown",
      "source": [
        "![image-20230119191501287.png](data:image/png;base64,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)"
      ],
      "metadata": {
        "id": "VFo9huRGjnp8"
      }
    },
    {
      "cell_type": "markdown",
      "metadata": {
        "id": "yKFbEu-vffRt"
      },
      "source": [
        "## 2.3.4.1 세트 생성"
      ]
    },
    {
      "cell_type": "code",
      "execution_count": 42,
      "metadata": {
        "id": "y65SgfINffRu"
      },
      "outputs": [],
      "source": [
        "fruit_set = {\"apple\", \"banana\", \"orange\"}"
      ]
    },
    {
      "cell_type": "code",
      "execution_count": 43,
      "metadata": {
        "id": "WqDTVHVIffRu",
        "outputId": "2cd13dc0-134f-437a-eaaa-ab95eea24dcd",
        "colab": {
          "base_uri": "https://localhost:8080/"
        }
      },
      "outputs": [
        {
          "output_type": "execute_result",
          "data": {
            "text/plain": [
              "{'apple', 'banana', 'orange'}"
            ]
          },
          "metadata": {},
          "execution_count": 43
        }
      ],
      "source": [
        "fruit_set = {\"apple\", \"banana\", \"orange\", \"apple\", \"banana\"}\n",
        "fruit_set  # 중복 허용하지 않음"
      ]
    },
    {
      "cell_type": "markdown",
      "metadata": {
        "id": "L2F2aGpPffRu"
      },
      "source": [
        "## 2.3.4.2 아이템 선택"
      ]
    },
    {
      "cell_type": "code",
      "execution_count": 44,
      "metadata": {
        "id": "yuFqGSy-ffRu",
        "outputId": "0172c727-fcdd-4675-95e4-38765b3c4523",
        "colab": {
          "base_uri": "https://localhost:8080/",
          "height": 193
        }
      },
      "outputs": [
        {
          "output_type": "error",
          "ename": "TypeError",
          "evalue": "ignored",
          "traceback": [
            "\u001b[0;31m---------------------------------------------------------------------------\u001b[0m",
            "\u001b[0;31mTypeError\u001b[0m                                 Traceback (most recent call last)",
            "\u001b[0;32m<ipython-input-44-14fd45b2ed30>\u001b[0m in \u001b[0;36m<module>\u001b[0;34m\u001b[0m\n\u001b[1;32m      1\u001b[0m \u001b[0;31m# Set는 순서가 없기 때문에, 특정 아이템을 선택할 수 없음\u001b[0m\u001b[0;34m\u001b[0m\u001b[0;34m\u001b[0m\u001b[0m\n\u001b[0;32m----> 2\u001b[0;31m \u001b[0mfruit_set\u001b[0m\u001b[0;34m[\u001b[0m\u001b[0;36m1\u001b[0m\u001b[0;34m]\u001b[0m\u001b[0;34m\u001b[0m\u001b[0;34m\u001b[0m\u001b[0m\n\u001b[0m",
            "\u001b[0;31mTypeError\u001b[0m: 'set' object is not subscriptable"
          ]
        }
      ],
      "source": [
        "# Set는 순서가 없기 때문에, 특정 아이템을 선택할 수 없음\n",
        "fruit_set[1]"
      ]
    },
    {
      "cell_type": "markdown",
      "metadata": {
        "id": "bJxy4Ag6ffRu"
      },
      "source": [
        "## 2.3.4.3 아이템 추가"
      ]
    },
    {
      "cell_type": "markdown",
      "metadata": {
        "id": "_MSz1Bq1ffRu"
      },
      "source": [
        "<div class=\"alert alert-success\">\n",
        "[문제]현재 fruit_set에는 {'apple', 'banana', 'orange'} 세 개의 값이 들어 있습니다. “kiwi” 아이템을 추가하세요.\n",
        "</div>"
      ]
    },
    {
      "cell_type": "code",
      "execution_count": 45,
      "metadata": {
        "id": "6RSlX8VUffRv",
        "outputId": "47ff37f7-75b6-479a-a0b4-6ecb60fa0aa2",
        "colab": {
          "base_uri": "https://localhost:8080/"
        }
      },
      "outputs": [
        {
          "output_type": "execute_result",
          "data": {
            "text/plain": [
              "{'apple', 'banana', 'kiwi', 'orange'}"
            ]
          },
          "metadata": {},
          "execution_count": 45
        }
      ],
      "source": [
        "fruit_set.add(\"kiwi\")\n",
        "fruit_set"
      ]
    },
    {
      "cell_type": "markdown",
      "metadata": {
        "id": "U8f9El5GffRv"
      },
      "source": [
        "<div class=\"alert alert-success\">\n",
        "[문제]현재 fruit_set에는 {'apple', 'banana', 'kiwi', 'orange'} 네 개의 값이 들어 있습니다. vegetable_set에는 (\"carrot\", \"tomato\", \"onion\") 세 개의 아이템이 들어 있습니다. fruit_set에 vegetable_set에 담긴 아이템을 넣어보세요.\n",
        "</div>"
      ]
    },
    {
      "cell_type": "code",
      "execution_count": 46,
      "metadata": {
        "id": "M_rZDX-7ffRv",
        "outputId": "fe5ca8e5-add0-4a13-ba75-2872712c89d9",
        "colab": {
          "base_uri": "https://localhost:8080/"
        }
      },
      "outputs": [
        {
          "output_type": "execute_result",
          "data": {
            "text/plain": [
              "{'apple', 'banana', 'carrot', 'kiwi', 'onion', 'orange', 'tomato'}"
            ]
          },
          "metadata": {},
          "execution_count": 46
        }
      ],
      "source": [
        "vegetable_set = (\"carrot\", \"tomato\", \"onion\")\n",
        "fruit_set.update(vegetable_set)\n",
        "fruit_set"
      ]
    },
    {
      "cell_type": "markdown",
      "metadata": {
        "id": "HSiX4JSWffRv"
      },
      "source": [
        "## 2.3.4.4 아이템 삭제"
      ]
    },
    {
      "cell_type": "code",
      "execution_count": 47,
      "metadata": {
        "id": "bd2m7Fq-ffRv",
        "outputId": "592f27e7-c76e-454e-82ba-d1be30fdeb81",
        "colab": {
          "base_uri": "https://localhost:8080/"
        }
      },
      "outputs": [
        {
          "output_type": "execute_result",
          "data": {
            "text/plain": [
              "{'apple', 'banana', 'carrot', 'kiwi', 'orange', 'tomato'}"
            ]
          },
          "metadata": {},
          "execution_count": 47
        }
      ],
      "source": [
        "fruit_set.remove(\"onion\")\n",
        "fruit_set"
      ]
    },
    {
      "cell_type": "code",
      "execution_count": 48,
      "metadata": {
        "id": "_aJuqynKffRv",
        "outputId": "034ea3b2-099e-4436-8a8f-68ac5b53bf82",
        "colab": {
          "base_uri": "https://localhost:8080/"
        }
      },
      "outputs": [
        {
          "output_type": "execute_result",
          "data": {
            "text/plain": [
              "set()"
            ]
          },
          "metadata": {},
          "execution_count": 48
        }
      ],
      "source": [
        "fruit_set.clear()\n",
        "fruit_set"
      ]
    },
    {
      "cell_type": "markdown",
      "metadata": {
        "id": "JBzhDD-qffRw"
      },
      "source": [
        "# 2.3.5 딕셔너리"
      ]
    },
    {
      "cell_type": "markdown",
      "source": [
        "![image-20230119191545861.png](data:image/png;base64,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)"
      ],
      "metadata": {
        "id": "Fc8Ga2TBjqcn"
      }
    },
    {
      "cell_type": "markdown",
      "metadata": {
        "id": "GZMijUi2ffRw"
      },
      "source": [
        "## 2.3.5.1 딕셔너리 생성"
      ]
    },
    {
      "cell_type": "code",
      "execution_count": 49,
      "metadata": {
        "id": "TmcmXRP0ffRw",
        "outputId": "9e519279-750b-46d5-c481-64918e8b83b7",
        "colab": {
          "base_uri": "https://localhost:8080/"
        }
      },
      "outputs": [
        {
          "output_type": "execute_result",
          "data": {
            "text/plain": [
              "{'name': 'Harry', 'age': 27, 'height': 190, 'weight': 99.9}"
            ]
          },
          "metadata": {},
          "execution_count": 49
        }
      ],
      "source": [
        "my_dict = {\n",
        "    \"name\": \"Harry\",\n",
        "    \"age\": 27,\n",
        "    \"height\" : 190,\n",
        "    \"weight\" : 99.9    \n",
        "}\n",
        "my_dict"
      ]
    },
    {
      "cell_type": "markdown",
      "metadata": {
        "id": "ofi8JdYaffRw"
      },
      "source": [
        "## 2.3.5.2 아이템 선택/추가"
      ]
    },
    {
      "cell_type": "code",
      "execution_count": 50,
      "metadata": {
        "id": "0VR7HceAffRw",
        "outputId": "3b862088-d0f2-4475-acbc-5b2a2a9532bb",
        "colab": {
          "base_uri": "https://localhost:8080/"
        }
      },
      "outputs": [
        {
          "output_type": "execute_result",
          "data": {
            "text/plain": [
              "dict_keys(['name', 'age', 'height', 'weight'])"
            ]
          },
          "metadata": {},
          "execution_count": 50
        }
      ],
      "source": [
        "my_dict.keys()"
      ]
    },
    {
      "cell_type": "code",
      "execution_count": 51,
      "metadata": {
        "id": "gNUGJjTnffRw",
        "outputId": "0674b8c0-0f25-42bf-f7e2-be7040eb2681",
        "colab": {
          "base_uri": "https://localhost:8080/"
        }
      },
      "outputs": [
        {
          "output_type": "execute_result",
          "data": {
            "text/plain": [
              "27"
            ]
          },
          "metadata": {},
          "execution_count": 51
        }
      ],
      "source": [
        "my_dict[\"age\"]"
      ]
    },
    {
      "cell_type": "code",
      "execution_count": 52,
      "metadata": {
        "id": "PBgtyVXSffRw",
        "outputId": "dc5a1c66-b8f8-4558-9ee5-3ed8c2078167",
        "colab": {
          "base_uri": "https://localhost:8080/"
        }
      },
      "outputs": [
        {
          "output_type": "execute_result",
          "data": {
            "text/plain": [
              "{'name': 'Harry', 'age': 28, 'height': 190, 'weight': 99.9}"
            ]
          },
          "metadata": {},
          "execution_count": 52
        }
      ],
      "source": [
        "my_dict[\"age\"] = 28\n",
        "my_dict"
      ]
    },
    {
      "cell_type": "code",
      "execution_count": 53,
      "metadata": {
        "id": "Zuc204vmffRx",
        "outputId": "bb8a0af7-0a52-4e48-eaa6-07bcd6f0a1f1",
        "colab": {
          "base_uri": "https://localhost:8080/"
        }
      },
      "outputs": [
        {
          "output_type": "execute_result",
          "data": {
            "text/plain": [
              "{'name': 'Harry', 'age': 28, 'height': 190, 'weight': 100}"
            ]
          },
          "metadata": {},
          "execution_count": 53
        }
      ],
      "source": [
        "my_dict.update({\"weight\": 100})\n",
        "my_dict"
      ]
    },
    {
      "cell_type": "code",
      "execution_count": 54,
      "metadata": {
        "id": "_ZVZdspgffRx",
        "outputId": "62ceb732-798d-4444-e0fb-c587c733bb8c",
        "colab": {
          "base_uri": "https://localhost:8080/"
        }
      },
      "outputs": [
        {
          "output_type": "execute_result",
          "data": {
            "text/plain": [
              "{'name': 'Harry', 'age': 28, 'height': 190, 'weight': 100, 'address': 'Busan'}"
            ]
          },
          "metadata": {},
          "execution_count": 54
        }
      ],
      "source": [
        "my_dict.update({\"address\": \"Busan\"})\n",
        "my_dict"
      ]
    },
    {
      "cell_type": "markdown",
      "metadata": {
        "id": "PDG5AZGbffRx"
      },
      "source": [
        "## 2.3.5.3 아이템 삭제"
      ]
    },
    {
      "cell_type": "markdown",
      "metadata": {
        "id": "TScc9BbKffRx"
      },
      "source": [
        "### ① popitem(): 마지막 아이템 삭제"
      ]
    },
    {
      "cell_type": "code",
      "execution_count": 55,
      "metadata": {
        "id": "ohEXNpcxffRx",
        "outputId": "c08510c3-644e-444b-ecaf-0b212da6fa8d",
        "colab": {
          "base_uri": "https://localhost:8080/"
        }
      },
      "outputs": [
        {
          "output_type": "execute_result",
          "data": {
            "text/plain": [
              "('address', 'Busan')"
            ]
          },
          "metadata": {},
          "execution_count": 55
        }
      ],
      "source": [
        "my_dict.popitem()"
      ]
    },
    {
      "cell_type": "code",
      "execution_count": 56,
      "metadata": {
        "id": "ghB_AP5iffRy",
        "outputId": "d2ba8115-e2c8-4fc4-dbe3-2142318e5276",
        "colab": {
          "base_uri": "https://localhost:8080/"
        }
      },
      "outputs": [
        {
          "output_type": "execute_result",
          "data": {
            "text/plain": [
              "{'name': 'Harry', 'age': 28, 'height': 190, 'weight': 100}"
            ]
          },
          "metadata": {},
          "execution_count": 56
        }
      ],
      "source": [
        "my_dict"
      ]
    },
    {
      "cell_type": "markdown",
      "metadata": {
        "id": "WFU6T8kJffRy"
      },
      "source": [
        "### ② pop(): 특정 키(“age”) 값을 지정하여 아이템 삭제 "
      ]
    },
    {
      "cell_type": "code",
      "execution_count": 57,
      "metadata": {
        "id": "0Pi078nbffRz",
        "outputId": "da2469d9-eec0-464c-b9bc-1ec7dbfde09e",
        "colab": {
          "base_uri": "https://localhost:8080/"
        }
      },
      "outputs": [
        {
          "output_type": "execute_result",
          "data": {
            "text/plain": [
              "28"
            ]
          },
          "metadata": {},
          "execution_count": 57
        }
      ],
      "source": [
        "my_dict.pop(\"age\")"
      ]
    },
    {
      "cell_type": "code",
      "execution_count": 58,
      "metadata": {
        "id": "OC3rUDYSffRz",
        "outputId": "18c52924-9467-4be7-fa06-af0ca60af5ef",
        "colab": {
          "base_uri": "https://localhost:8080/"
        }
      },
      "outputs": [
        {
          "output_type": "execute_result",
          "data": {
            "text/plain": [
              "{'name': 'Harry', 'height': 190, 'weight': 100}"
            ]
          },
          "metadata": {},
          "execution_count": 58
        }
      ],
      "source": [
        "my_dict"
      ]
    },
    {
      "cell_type": "markdown",
      "metadata": {
        "id": "7xuSddO1ffRz"
      },
      "source": [
        "### ③ clear(): 딕셔너리 안에 있는 아이템을 모두 삭제 "
      ]
    },
    {
      "cell_type": "code",
      "execution_count": 59,
      "metadata": {
        "id": "flszT-lwffRz",
        "outputId": "2716a790-a102-4e95-82bb-6bab99d109bd",
        "colab": {
          "base_uri": "https://localhost:8080/"
        }
      },
      "outputs": [
        {
          "output_type": "execute_result",
          "data": {
            "text/plain": [
              "{}"
            ]
          },
          "metadata": {},
          "execution_count": 59
        }
      ],
      "source": [
        "my_dict.clear()\n",
        "my_dict"
      ]
    }
  ],
  "metadata": {
    "kernelspec": {
      "display_name": "Python 3",
      "language": "python",
      "name": "python3"
    },
    "language_info": {
      "codemirror_mode": {
        "name": "ipython",
        "version": 3
      },
      "file_extension": ".py",
      "mimetype": "text/x-python",
      "name": "python",
      "nbconvert_exporter": "python",
      "pygments_lexer": "ipython3",
      "version": "3.8.5"
    },
    "toc": {
      "base_numbering": 1,
      "nav_menu": {},
      "number_sections": false,
      "sideBar": true,
      "skip_h1_title": false,
      "title_cell": "Table of Contents",
      "title_sidebar": "Contents",
      "toc_cell": false,
      "toc_position": {},
      "toc_section_display": true,
      "toc_window_display": true
    },
    "colab": {
      "provenance": [],
      "toc_visible": true,
      "include_colab_link": true
    }
  },
  "nbformat": 4,
  "nbformat_minor": 0
}