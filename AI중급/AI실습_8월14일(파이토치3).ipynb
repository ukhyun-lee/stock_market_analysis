{
  "nbformat": 4,
  "nbformat_minor": 0,
  "metadata": {
    "colab": {
      "provenance": [],
      "gpuType": "T4",
      "authorship_tag": "ABX9TyOxu7ijniUDmrg1KsLrX2MG",
      "include_colab_link": true
    },
    "kernelspec": {
      "name": "python3",
      "display_name": "Python 3"
    },
    "language_info": {
      "name": "python"
    },
    "accelerator": "GPU"
  },
  "cells": [
    {
      "cell_type": "markdown",
      "metadata": {
        "id": "view-in-github",
        "colab_type": "text"
      },
      "source": [
        "<a href=\"https://colab.research.google.com/github/ukhyun-lee/stock_market_analysis/blob/main/AI%EC%A4%91%EA%B8%89/AI%EC%8B%A4%EC%8A%B5_8%EC%9B%9414%EC%9D%BC(%ED%8C%8C%EC%9D%B4%ED%86%A0%EC%B9%983).ipynb\" target=\"_parent\"><img src=\"https://colab.research.google.com/assets/colab-badge.svg\" alt=\"Open In Colab\"/></a>"
      ]
    },
    {
      "cell_type": "code",
      "source": [
        "import numpy as np"
      ],
      "metadata": {
        "id": "l3NMGyskacvi"
      },
      "execution_count": 1,
      "outputs": []
    },
    {
      "cell_type": "code",
      "execution_count": 2,
      "metadata": {
        "id": "1qkY0qgPZ-h8"
      },
      "outputs": [],
      "source": [
        "a = np.array([[1,2],[3,4]])"
      ]
    },
    {
      "cell_type": "code",
      "source": [
        "b = np.array([[5,6],[7,8]])"
      ],
      "metadata": {
        "id": "4CP4gWL7aaHL"
      },
      "execution_count": 3,
      "outputs": []
    },
    {
      "cell_type": "code",
      "source": [
        "c = np.array([[5,6],[7,8], [9,10]])"
      ],
      "metadata": {
        "id": "w4ffLDh6aV-5"
      },
      "execution_count": 4,
      "outputs": []
    },
    {
      "cell_type": "code",
      "source": [
        "print(np.concatenate((a,b), axis=0))"
      ],
      "metadata": {
        "colab": {
          "base_uri": "https://localhost:8080/"
        },
        "id": "oYzNfzMGbrOq",
        "outputId": "c0240f49-43b8-4993-fd64-574e19c39a1f"
      },
      "execution_count": 5,
      "outputs": [
        {
          "output_type": "stream",
          "name": "stdout",
          "text": [
            "[[1 2]\n",
            " [3 4]\n",
            " [5 6]\n",
            " [7 8]]\n"
          ]
        }
      ]
    },
    {
      "cell_type": "code",
      "source": [
        "print(np.stack((a,b), axis=0))"
      ],
      "metadata": {
        "colab": {
          "base_uri": "https://localhost:8080/"
        },
        "id": "ixfOKaybcHwB",
        "outputId": "59570703-50fc-4edf-a8d4-2d66aacbf5b9"
      },
      "execution_count": 6,
      "outputs": [
        {
          "output_type": "stream",
          "name": "stdout",
          "text": [
            "[[[1 2]\n",
            "  [3 4]]\n",
            "\n",
            " [[5 6]\n",
            "  [7 8]]]\n"
          ]
        }
      ]
    },
    {
      "cell_type": "code",
      "source": [
        "print(np.concatenate((a,b), axis=1))"
      ],
      "metadata": {
        "colab": {
          "base_uri": "https://localhost:8080/"
        },
        "id": "hmXBveQUcSjS",
        "outputId": "a397e870-19fd-48db-9ec5-8570d1e3513a"
      },
      "execution_count": 7,
      "outputs": [
        {
          "output_type": "stream",
          "name": "stdout",
          "text": [
            "[[1 2 5 6]\n",
            " [3 4 7 8]]\n"
          ]
        }
      ]
    },
    {
      "cell_type": "code",
      "source": [
        "print(np.stack((a,b), axis=1))"
      ],
      "metadata": {
        "colab": {
          "base_uri": "https://localhost:8080/"
        },
        "id": "imG8wC-vcUkM",
        "outputId": "8f358cdb-9115-4ef1-92cd-9f22cf420427"
      },
      "execution_count": 8,
      "outputs": [
        {
          "output_type": "stream",
          "name": "stdout",
          "text": [
            "[[[1 2]\n",
            "  [5 6]]\n",
            "\n",
            " [[3 4]\n",
            "  [7 8]]]\n"
          ]
        }
      ]
    },
    {
      "cell_type": "code",
      "source": [
        "print(np.concatenate((a,c), axis=0))"
      ],
      "metadata": {
        "colab": {
          "base_uri": "https://localhost:8080/"
        },
        "id": "k1jb9ZQucgvR",
        "outputId": "88452262-3e21-498d-c165-e1103a00f1c4"
      },
      "execution_count": 9,
      "outputs": [
        {
          "output_type": "stream",
          "name": "stdout",
          "text": [
            "[[ 1  2]\n",
            " [ 3  4]\n",
            " [ 5  6]\n",
            " [ 7  8]\n",
            " [ 9 10]]\n"
          ]
        }
      ]
    },
    {
      "cell_type": "code",
      "source": [
        "print(np.stack((a,c), axis=0))   #차원이 다름"
      ],
      "metadata": {
        "colab": {
          "base_uri": "https://localhost:8080/",
          "height": 337
        },
        "id": "phQUzkE1cpOC",
        "outputId": "eea525c0-b0d8-4d87-a309-2ecf592873f8"
      },
      "execution_count": 10,
      "outputs": [
        {
          "output_type": "error",
          "ename": "ValueError",
          "evalue": "ignored",
          "traceback": [
            "\u001b[0;31m---------------------------------------------------------------------------\u001b[0m",
            "\u001b[0;31mValueError\u001b[0m                                Traceback (most recent call last)",
            "\u001b[0;32m<ipython-input-10-7ff611b8feb0>\u001b[0m in \u001b[0;36m<cell line: 1>\u001b[0;34m()\u001b[0m\n\u001b[0;32m----> 1\u001b[0;31m \u001b[0mprint\u001b[0m\u001b[0;34m(\u001b[0m\u001b[0mnp\u001b[0m\u001b[0;34m.\u001b[0m\u001b[0mstack\u001b[0m\u001b[0;34m(\u001b[0m\u001b[0;34m(\u001b[0m\u001b[0ma\u001b[0m\u001b[0;34m,\u001b[0m\u001b[0mc\u001b[0m\u001b[0;34m)\u001b[0m\u001b[0;34m,\u001b[0m \u001b[0maxis\u001b[0m\u001b[0;34m=\u001b[0m\u001b[0;36m0\u001b[0m\u001b[0;34m)\u001b[0m\u001b[0;34m)\u001b[0m   \u001b[0;31m#차원이 다름\u001b[0m\u001b[0;34m\u001b[0m\u001b[0;34m\u001b[0m\u001b[0m\n\u001b[0m",
            "\u001b[0;32m/usr/local/lib/python3.10/dist-packages/numpy/core/overrides.py\u001b[0m in \u001b[0;36mstack\u001b[0;34m(*args, **kwargs)\u001b[0m\n",
            "\u001b[0;32m/usr/local/lib/python3.10/dist-packages/numpy/core/shape_base.py\u001b[0m in \u001b[0;36mstack\u001b[0;34m(arrays, axis, out)\u001b[0m\n\u001b[1;32m    424\u001b[0m     \u001b[0mshapes\u001b[0m \u001b[0;34m=\u001b[0m \u001b[0;34m{\u001b[0m\u001b[0marr\u001b[0m\u001b[0;34m.\u001b[0m\u001b[0mshape\u001b[0m \u001b[0;32mfor\u001b[0m \u001b[0marr\u001b[0m \u001b[0;32min\u001b[0m \u001b[0marrays\u001b[0m\u001b[0;34m}\u001b[0m\u001b[0;34m\u001b[0m\u001b[0;34m\u001b[0m\u001b[0m\n\u001b[1;32m    425\u001b[0m     \u001b[0;32mif\u001b[0m \u001b[0mlen\u001b[0m\u001b[0;34m(\u001b[0m\u001b[0mshapes\u001b[0m\u001b[0;34m)\u001b[0m \u001b[0;34m!=\u001b[0m \u001b[0;36m1\u001b[0m\u001b[0;34m:\u001b[0m\u001b[0;34m\u001b[0m\u001b[0;34m\u001b[0m\u001b[0m\n\u001b[0;32m--> 426\u001b[0;31m         \u001b[0;32mraise\u001b[0m \u001b[0mValueError\u001b[0m\u001b[0;34m(\u001b[0m\u001b[0;34m'all input arrays must have the same shape'\u001b[0m\u001b[0;34m)\u001b[0m\u001b[0;34m\u001b[0m\u001b[0;34m\u001b[0m\u001b[0m\n\u001b[0m\u001b[1;32m    427\u001b[0m \u001b[0;34m\u001b[0m\u001b[0m\n\u001b[1;32m    428\u001b[0m     \u001b[0mresult_ndim\u001b[0m \u001b[0;34m=\u001b[0m \u001b[0marrays\u001b[0m\u001b[0;34m[\u001b[0m\u001b[0;36m0\u001b[0m\u001b[0;34m]\u001b[0m\u001b[0;34m.\u001b[0m\u001b[0mndim\u001b[0m \u001b[0;34m+\u001b[0m \u001b[0;36m1\u001b[0m\u001b[0;34m\u001b[0m\u001b[0;34m\u001b[0m\u001b[0m\n",
            "\u001b[0;31mValueError\u001b[0m: all input arrays must have the same shape"
          ]
        }
      ]
    },
    {
      "cell_type": "code",
      "source": [
        "import torch\n",
        "import torch.nn as nn\n",
        "import numpy as np\n",
        "import pandas as pd\n",
        "import matplotlib.pyplot as plt\n",
        "import seaborn as sns\n",
        "%matplotlib inline"
      ],
      "metadata": {
        "id": "9jfnzkSTqWmB"
      },
      "execution_count": 11,
      "outputs": []
    },
    {
      "cell_type": "code",
      "source": [
        "dataset = pd.read_csv('sample_data/car_evaluation.csv')\n",
        "dataset.head()\n",
        "\n",
        "fig_size = plt.rcParams[\"figure.figsize\"]\n",
        "fig_size[0] = 8\n",
        "fig_size[1] = 6\n",
        "plt.rcParams[\"figure.figsize\"] = fig_size\n",
        "dataset.output.value_counts().plot(kind='pie', autopct='%0.05f%%', colors=['lightblue', 'lightgreen', 'orange', 'pink'], explode=(0.05, 0.05, 0.05, 0.05))\n",
        "\n",
        "categorical_columns = ['price', 'maint', 'doors', 'persons', 'lug_capacity', 'safety']\n",
        "\n",
        "for category in categorical_columns:\n",
        "    dataset[category] = dataset[category].astype('category')\n",
        "\n",
        "price = dataset['price'].cat.codes.values\n",
        "maint = dataset['maint'].cat.codes.values\n",
        "doors = dataset['doors'].cat.codes.values\n",
        "persons = dataset['persons'].cat.codes.values\n",
        "lug_capacity = dataset['lug_capacity'].cat.codes.values\n",
        "safety = dataset['safety'].cat.codes.values\n",
        "\n",
        "categorical_data = np.stack([price, maint, doors, persons, lug_capacity, safety], 1)\n",
        "categorical_data[:10]\n",
        "\n",
        "categorical_data = torch.tensor(categorical_data, dtype=torch.int64)\n",
        "categorical_data[:10]\n",
        "\n",
        "outputs1 = pd.get_dummies(dataset.output)\n",
        "outputs2 = outputs1.values\n",
        "outputs3 = torch.tensor(outputs2).flatten()\n",
        "\n",
        "print(categorical_data.shape)\n",
        "print(outputs3.shape)\n",
        "\n",
        "categorical_column_sizes = [len(dataset[column].cat.categories) for column in categorical_columns]\n",
        "categorical_embedding_sizes = [(col_size, min(50, (col_size+1)//2)) for col_size in categorical_column_sizes]\n",
        "print(categorical_embedding_sizes)\n",
        "\n",
        "total_records = 1728\n",
        "test_records = int(total_records * .2)# ------ 전체 데이터 중 20%를 테스트 용도로 사용\n",
        "\n",
        "categorical_train_data = categorical_data[:total_records - test_records]\n",
        "categorical_test_data = categorical_data[total_records - test_records:total_records]\n",
        "train_outputs = outputs3[:total_records - test_records]\n",
        "test_outputs = outputs3[total_records - test_records:total_records]\n",
        "\n",
        "print(len(categorical_train_data))\n",
        "print(len(train_outputs))\n",
        "print(len(categorical_test_data))\n",
        "print(len(test_outputs))"
      ],
      "metadata": {
        "colab": {
          "base_uri": "https://localhost:8080/",
          "height": 628
        },
        "id": "Cw5AZ_4crNNI",
        "outputId": "0b86bfe5-b290-44e4-b496-01b94baa3191"
      },
      "execution_count": 12,
      "outputs": [
        {
          "output_type": "stream",
          "name": "stdout",
          "text": [
            "torch.Size([1728, 6])\n",
            "torch.Size([6912])\n",
            "[(4, 2), (4, 2), (4, 2), (3, 2), (3, 2), (3, 2)]\n",
            "1383\n",
            "1383\n",
            "345\n",
            "345\n"
          ]
        },
        {
          "output_type": "display_data",
          "data": {
            "text/plain": [
              "<Figure size 800x600 with 1 Axes>"
            ],
            "image/png": "[encoded data removed]"
          },
          "metadata": {}
        }
      ]
    },
    {
      "cell_type": "code",
      "source": [
        "class Model(nn.Module): #nn.Module 부모클래스 상속\n",
        "  def __init__ (self, embedding_size, output_size, layers, p=0.4):   #4, [200,100,50]\n",
        "      super().__init__() #self 사용안한다, 부모것(nnModlue init) 사용(초기화 완료)\n",
        "      self.all_embeddings = nn.ModuleList([nn.Embedding(ni, nf) for ni, nf in embedding_size])\n",
        "      self.all_embeddings.dropout = nn.Dropout(p)\n",
        "\n",
        "      all_layers = []\n",
        "      num_categirical_cols = sum(nf for ni, nf in embedding_size)\n",
        "      input_size = num_categirical_cols\n",
        "\n",
        "      for i in all_layers:\n",
        "          all_layers.append(nn.Linear(input_size, i))\n",
        "          all_layers.append(nn.ReLU(inplace=True))\n",
        "          all_layers.append(nn.BatchNormal1d(i))\n",
        "          all_layers.append(nn.Dropout(p))\n",
        "          input_size = i\n",
        "          all_layers.append(nn.Linear(layers[-1],output_size))\n",
        "          self.layers = nn.Sequential(*all_layers)\n",
        "\n",
        "  def forward(self, x_categorical):\n",
        "      embeddings = []\n",
        "      for i,e in enumerate(self, all_embeddings):\n",
        "          embeddings.append(e(x_categorical[:,i]))\n",
        "          x = torch.cat(embeddings, 1)\n",
        "          x = torch.embedding_dropout(x)\n",
        "          x = self.layers(x)\n",
        "          return x\n",
        "\n"
      ],
      "metadata": {
        "id": "RsMaqlM5sGpJ"
      },
      "execution_count": 13,
      "outputs": []
    },
    {
      "cell_type": "code",
      "source": [
        "model = Model(categorical_embedding_sizes, 4, [200,100,50], p=0.4) # 층별 노드 갯수, output 수\n",
        "print(model)"
      ],
      "metadata": {
        "colab": {
          "base_uri": "https://localhost:8080/"
        },
        "id": "9kn_QF_yvAOn",
        "outputId": "1f7b3eeb-c882-45be-8783-51639eea3c2b"
      },
      "execution_count": 19,
      "outputs": [
        {
          "output_type": "stream",
          "name": "stdout",
          "text": [
            "Model(\n",
            "  (all_embeddings): ModuleList(\n",
            "    (0-2): 3 x Embedding(4, 2)\n",
            "    (3-5): 3 x Embedding(3, 2)\n",
            "    (6): Dropout(p=0.4, inplace=False)\n",
            "  )\n",
            ")\n"
          ]
        }
      ]
    },
    {
      "cell_type": "code",
      "source": [
        "loss_function = nn.CrossEntropyLoss()\n",
        "optimizer = torch.optim.Adam(model.parameters(), lr=0.001)\n"
      ],
      "metadata": {
        "id": "2LKp6l9M83uu"
      },
      "execution_count": 20,
      "outputs": []
    },
    {
      "cell_type": "code",
      "source": [
        "#전체 코딩\n",
        "class Model(nn.Module):\n",
        "    def __init__(self, embedding_size, output_size, layers, p=0.4):\n",
        "        super().__init__()\n",
        "        self.all_embeddings = nn.ModuleList([nn.Embedding(ni, nf) for ni, nf in embedding_size])\n",
        "        self.embedding_dropout = nn.Dropout(p)\n",
        "\n",
        "        all_layers = []\n",
        "        num_categorical_cols = sum((nf for ni, nf in embedding_size))\n",
        "        input_size = num_categorical_cols\n",
        "\n",
        "        for i in layers:\n",
        "            all_layers.append(nn.Linear(input_size, i))\n",
        "            all_layers.append(nn.ReLU(inplace=True))\n",
        "            all_layers.append(nn.BatchNorm1d(i))\n",
        "            all_layers.append(nn.Dropout(p))\n",
        "            input_size = i\n",
        "\n",
        "        all_layers.append(nn.Linear(layers[-1], output_size))\n",
        "        self.layers = nn.Sequential(*all_layers)\n",
        "\n",
        "    def forward(self, x_categorical):\n",
        "        embeddings = []\n",
        "        for i,e in enumerate(self.all_embeddings):\n",
        "            embeddings.append(e(x_categorical[:,i]))\n",
        "        x = torch.cat(embeddings, 1)\n",
        "        x = self.embedding_dropout(x)\n",
        "        x = self.layers(x)\n",
        "        return x\n",
        "\n",
        "model = Model(categorical_embedding_sizes, 4, [200,100,50], p=0.4)\n",
        "print(model)\n",
        "\n",
        "loss_function = nn.CrossEntropyLoss()\n",
        "optimizer = torch.optim.Adam(model.parameters(), lr=0.001)\n",
        "\n",
        "if torch.cuda.is_available():\n",
        "    device = torch.device('cuda')\n",
        "else :\n",
        "    device = torch.device('cpu')\n",
        "\n",
        "epochs = 500\n",
        "aggregated_losses = []\n",
        "train_outputs = train_outputs.to(device=device, dtype=torch.int64)\n",
        "for i in range(epochs):\n",
        "    i += 1\n",
        "    y_pred = model(categorical_train_data).to(device)  #device 셋팅시 to(device) 꼭 작성\n",
        "    single_loss = loss_function(y_pred, train_outputs)\n",
        "    aggregated_losses.append(single_loss)\n",
        "\n",
        "    if i%25 == 1:\n",
        "        print(f'epoch: {i:3} loss: {single_loss.item():10.8f}')\n",
        "\n",
        "    optimizer.zero_grad()\n",
        "    single_loss.backward()\n",
        "    optimizer.step()\n",
        "\n",
        "print(f'epoch: {i:3} loss: {single_loss.item():10.10f}')"
      ],
      "metadata": {
        "colab": {
          "base_uri": "https://localhost:8080/"
        },
        "id": "OHqL3njybTGm",
        "outputId": "799e39fa-f027-48a0-9594-361f39c92f14"
      },
      "execution_count": 22,
      "outputs": [
        {
          "output_type": "stream",
          "name": "stdout",
          "text": [
            "Model(\n",
            "  (all_embeddings): ModuleList(\n",
            "    (0-2): 3 x Embedding(4, 2)\n",
            "    (3-5): 3 x Embedding(3, 2)\n",
            "  )\n",
            "  (embedding_dropout): Dropout(p=0.4, inplace=False)\n",
            "  (layers): Sequential(\n",
            "    (0): Linear(in_features=12, out_features=200, bias=True)\n",
            "    (1): ReLU(inplace=True)\n",
            "    (2): BatchNorm1d(200, eps=1e-05, momentum=0.1, affine=True, track_running_stats=True)\n",
            "    (3): Dropout(p=0.4, inplace=False)\n",
            "    (4): Linear(in_features=200, out_features=100, bias=True)\n",
            "    (5): ReLU(inplace=True)\n",
            "    (6): BatchNorm1d(100, eps=1e-05, momentum=0.1, affine=True, track_running_stats=True)\n",
            "    (7): Dropout(p=0.4, inplace=False)\n",
            "    (8): Linear(in_features=100, out_features=50, bias=True)\n",
            "    (9): ReLU(inplace=True)\n",
            "    (10): BatchNorm1d(50, eps=1e-05, momentum=0.1, affine=True, track_running_stats=True)\n",
            "    (11): Dropout(p=0.4, inplace=False)\n",
            "    (12): Linear(in_features=50, out_features=4, bias=True)\n",
            "  )\n",
            ")\n",
            "epoch:   1 loss: 1.52905488\n",
            "epoch:  26 loss: 1.29390073\n",
            "epoch:  51 loss: 1.22815168\n",
            "epoch:  76 loss: 1.11522329\n",
            "epoch: 101 loss: 1.01592064\n",
            "epoch: 126 loss: 0.90907031\n",
            "epoch: 151 loss: 0.81612802\n",
            "epoch: 176 loss: 0.73908472\n",
            "epoch: 201 loss: 0.68901199\n",
            "epoch: 226 loss: 0.66310066\n",
            "epoch: 251 loss: 0.63763779\n",
            "epoch: 276 loss: 0.62710261\n",
            "epoch: 301 loss: 0.59974116\n",
            "epoch: 326 loss: 0.58820277\n",
            "epoch: 351 loss: 0.59800053\n",
            "epoch: 376 loss: 0.59256661\n",
            "epoch: 401 loss: 0.57718360\n",
            "epoch: 426 loss: 0.57825106\n",
            "epoch: 451 loss: 0.57602555\n",
            "epoch: 476 loss: 0.56410366\n",
            "epoch: 500 loss: 0.5623975396\n"
          ]
        }
      ]
    },
    {
      "cell_type": "code",
      "source": [
        "test_outputs = test_outputs.to(device=device, dtype=torch.int64)\n",
        "with torch.no_grad():\n",
        "  y_val = model(categorical_test_data).to(device=device)  #device 셋팅시 to(device) 꼭 작성\n",
        "  loss = loss_function(y_val, test_outputs.to(device=device, dtype=torch.int64))\n",
        "  #loss = loss_function(y_val, test_outputs)\n",
        "print(f'Loss: {loss:.8f}')\n",
        "print(y_val[:5])"
      ],
      "metadata": {
        "colab": {
          "base_uri": "https://localhost:8080/"
        },
        "id": "IbxXUanrEsn0",
        "outputId": "df6a7850-7ab1-4572-d937-3e6f0d48cd88"
      },
      "execution_count": 72,
      "outputs": [
        {
          "output_type": "stream",
          "name": "stdout",
          "text": [
            "Loss: 0.55272591\n",
            "tensor([[ 2.6408,  1.5708, -2.6759, -3.0094],\n",
            "        [ 1.9318,  1.0124, -2.4920, -2.6784],\n",
            "        [ 1.3676,  0.8933, -1.8410, -1.9751],\n",
            "        [ 2.6349,  1.3978, -1.9517, -2.2353],\n",
            "        [ 3.0167,  1.7830, -3.1165, -3.1094]], device='cuda:0')\n"
          ]
        }
      ]
    },
    {
      "cell_type": "code",
      "source": [
        "#y_val = np.argmax(y_val, axis=1)\n",
        "#y_val = np.argmax(y_val.cpu().numpy(), axis=1)  #GPU사용시\n",
        "y_val = np.argmax(y_val.cpu(), axis=1)   #GPU사용시\n",
        "print(y_val[:5])"
      ],
      "metadata": {
        "colab": {
          "base_uri": "https://localhost:8080/"
        },
        "id": "wyf8AJqNcMKu",
        "outputId": "bc583b8c-a097-439e-dbec-5b4e0d32f858"
      },
      "execution_count": 71,
      "outputs": [
        {
          "output_type": "stream",
          "name": "stdout",
          "text": [
            "tensor([0, 0, 0, 0, 0])\n"
          ]
        }
      ]
    },
    {
      "cell_type": "code",
      "source": [
        "class Model(nn.Module):\n",
        "    def __init__(self, embedding_size, output_size, layers, p=0.4):\n",
        "        super().__init__()\n",
        "        self.all_embeddings = nn.ModuleList([nn.Embedding(ni, nf) for ni, nf in embedding_size])\n",
        "        self.embedding_dropout = nn.Dropout(p)\n",
        "\n",
        "        all_layers = []\n",
        "        num_categorical_cols = sum((nf for ni, nf in embedding_size))\n",
        "        input_size = num_categorical_cols\n",
        "\n",
        "        for i in layers:\n",
        "            all_layers.append(nn.Linear(input_size, i))\n",
        "            all_layers.append(nn.ReLU(inplace=True))\n",
        "            all_layers.append(nn.BatchNorm1d(i))\n",
        "            all_layers.append(nn.Dropout(p))\n",
        "            input_size = i\n",
        "\n",
        "        all_layers.append(nn.Linear(layers[-1], output_size))\n",
        "        self.layers = nn.Sequential(*all_layers)\n",
        "\n",
        "    def forward(self, x_categorical):\n",
        "        embeddings = []\n",
        "        for i,e in enumerate(self.all_embeddings):\n",
        "            embeddings.append(e(x_categorical[:,i]))\n",
        "        x = torch.cat(embeddings, 1)\n",
        "        x = self.embedding_dropout(x)\n",
        "        x = self.layers(x)\n",
        "        return x\n",
        "\n",
        "model = Model(categorical_embedding_sizes, 4, [200,100,50], p=0.4)\n",
        "print(model)\n",
        "\n",
        "loss_function = nn.CrossEntropyLoss()\n",
        "optimizer = torch.optim.Adam(model.parameters(), lr=0.001)\n",
        "\n",
        "if torch.cuda.is_available():\n",
        "    device = torch.device('cuda')\n",
        "else :\n",
        "    device = torch.device('cpu')\n",
        "\n",
        "epochs = 500\n",
        "aggregated_losses = []\n",
        "train_outputs = train_outputs.to(device=device, dtype=torch.int64)\n",
        "for i in range(epochs):\n",
        "    i += 1\n",
        "    y_pred = model(categorical_train_data).to(device)\n",
        "    single_loss = loss_function(y_pred, train_outputs)\n",
        "    aggregated_losses.append(single_loss)\n",
        "\n",
        "    if i % 25 == 1:\n",
        "        print(f'epoch: {i:3} loss: {single_loss.item():10.8f}')\n",
        "\n",
        "    optimizer.zero_grad()\n",
        "    single_loss.backward()\n",
        "    optimizer.step()\n",
        "\n",
        "print(f'epoch: {i:3} loss: {single_loss.item():10.10f}')\n",
        "\n",
        "test_outputs = test_outputs.to(device=device, dtype=torch.int64)\n",
        "with torch.no_grad():\n",
        "    y_val = model(categorical_test_data)\n",
        "    #GPU 사용 시 다음 코드\n",
        "    y_val = y_val.to(device=device)\n",
        "    loss = loss_function(y_val, test_outputs.to(device=device, dtype=torch.int64))\n",
        "    #CPU 사용 시 다음 코드\n",
        "    #y_val = model(categorical_test_data)\n",
        "    #loss = loss_function(y_val, test_outputs)\n",
        "print(f'Loss: {loss:.8f}')\n",
        "print(y_val[:5])\n",
        "#GPU 사용 시 다음 코드\n",
        "y_val = np.argmax(y_val.cpu(), axis=1)\n",
        "#CPU 사용 시 다음 코드\n",
        "#y_val = np.argmax(y_val, axis=1)\n",
        "print(y_val[:5])"
      ],
      "metadata": {
        "colab": {
          "base_uri": "https://localhost:8080/"
        },
        "id": "KiR9zVHehxGz",
        "outputId": "13fad425-299c-4d6c-ac00-95203fe8e14c"
      },
      "execution_count": 74,
      "outputs": [
        {
          "output_type": "stream",
          "name": "stdout",
          "text": [
            "Model(\n",
            "  (all_embeddings): ModuleList(\n",
            "    (0-2): 3 x Embedding(4, 2)\n",
            "    (3-5): 3 x Embedding(3, 2)\n",
            "  )\n",
            "  (embedding_dropout): Dropout(p=0.4, inplace=False)\n",
            "  (layers): Sequential(\n",
            "    (0): Linear(in_features=12, out_features=200, bias=True)\n",
            "    (1): ReLU(inplace=True)\n",
            "    (2): BatchNorm1d(200, eps=1e-05, momentum=0.1, affine=True, track_running_stats=True)\n",
            "    (3): Dropout(p=0.4, inplace=False)\n",
            "    (4): Linear(in_features=200, out_features=100, bias=True)\n",
            "    (5): ReLU(inplace=True)\n",
            "    (6): BatchNorm1d(100, eps=1e-05, momentum=0.1, affine=True, track_running_stats=True)\n",
            "    (7): Dropout(p=0.4, inplace=False)\n",
            "    (8): Linear(in_features=100, out_features=50, bias=True)\n",
            "    (9): ReLU(inplace=True)\n",
            "    (10): BatchNorm1d(50, eps=1e-05, momentum=0.1, affine=True, track_running_stats=True)\n",
            "    (11): Dropout(p=0.4, inplace=False)\n",
            "    (12): Linear(in_features=50, out_features=4, bias=True)\n",
            "  )\n",
            ")\n",
            "epoch:   1 loss: 1.54832399\n",
            "epoch:  26 loss: 1.40340686\n",
            "epoch:  51 loss: 1.29952765\n",
            "epoch:  76 loss: 1.20899868\n",
            "epoch: 101 loss: 1.07303286\n",
            "epoch: 126 loss: 0.93319929\n",
            "epoch: 151 loss: 0.79718727\n",
            "epoch: 176 loss: 0.74866050\n",
            "epoch: 201 loss: 0.69159549\n",
            "epoch: 226 loss: 0.64629287\n",
            "epoch: 251 loss: 0.63234830\n",
            "epoch: 276 loss: 0.62054837\n",
            "epoch: 301 loss: 0.60673559\n",
            "epoch: 326 loss: 0.59600085\n",
            "epoch: 351 loss: 0.58987248\n",
            "epoch: 376 loss: 0.58836740\n",
            "epoch: 401 loss: 0.58758539\n",
            "epoch: 426 loss: 0.58450300\n",
            "epoch: 451 loss: 0.58152628\n",
            "epoch: 476 loss: 0.57906985\n",
            "epoch: 500 loss: 0.5642758608\n",
            "Loss: 0.56568813\n",
            "tensor([[ 2.0395,  0.9619, -2.9587, -2.9285],\n",
            "        [ 4.4998,  3.0923, -4.3674, -5.0229],\n",
            "        [ 3.2273,  2.4005, -3.4538, -3.5027],\n",
            "        [ 2.5095,  1.2339, -3.3759, -3.0042],\n",
            "        [ 1.6055,  0.8492, -1.9886, -2.5651]], device='cuda:0')\n",
            "tensor([0, 0, 0, 0, 0])\n"
          ]
        }
      ]
    },
    {
      "cell_type": "code",
      "source": [
        "from sklearn.metrics import classification_report, confusion_matrix, accuracy_score\n"
      ],
      "metadata": {
        "id": "1BMGMagWfEGs"
      },
      "execution_count": 75,
      "outputs": []
    },
    {
      "cell_type": "code",
      "source": [
        "import warnings\n",
        "warnings.filterwarnings('ignore')\n",
        "print(confusion_matrix(test_outputs.cpu().numpy(), y_val))\n",
        "print(classification_report(test_outputs.cpu().numpy(), y_val))\n",
        "print(accuracy_score(test_outputs.cpu().numpy(), y_val))"
      ],
      "metadata": {
        "colab": {
          "base_uri": "https://localhost:8080/"
        },
        "id": "OS2cyPGWicPS",
        "outputId": "fa905c46-c876-4325-de3f-d03c0b96e02a"
      },
      "execution_count": 76,
      "outputs": [
        {
          "output_type": "stream",
          "name": "stdout",
          "text": [
            "[[259   0]\n",
            " [ 86   0]]\n",
            "              precision    recall  f1-score   support\n",
            "\n",
            "           0       0.75      1.00      0.86       259\n",
            "           1       0.00      0.00      0.00        86\n",
            "\n",
            "    accuracy                           0.75       345\n",
            "   macro avg       0.38      0.50      0.43       345\n",
            "weighted avg       0.56      0.75      0.64       345\n",
            "\n",
            "0.7507246376811594\n"
          ]
        }
      ]
    },
    {
      "cell_type": "markdown",
      "source": [
        "https://ai-com.tistory.com/entry/ML-%EB%B6%84%EB%A5%98-%EC%84%B1%EB%8A%A5-%EC%A7%80%ED%91%9C-Precision%EC%A0%95%EB%B0%80%EB%8F%84-Recall%EC%9E%AC%ED%98%84%EC%9C%A8"
      ],
      "metadata": {
        "id": "ZmHgjliQjSl8"
      }
    }
  ]
}