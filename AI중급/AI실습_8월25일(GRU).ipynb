{
  "nbformat": 4,
  "nbformat_minor": 0,
  "metadata": {
    "colab": {
      "provenance": [],
      "gpuType": "T4",
      "authorship_tag": "ABX9TyMWuMcSrjdi7K/0F2JEqEmw",
      "include_colab_link": true
    },
    "kernelspec": {
      "name": "python3",
      "display_name": "Python 3"
    },
    "language_info": {
      "name": "python"
    },
    "accelerator": "GPU"
  },
  "cells": [
    {
      "cell_type": "markdown",
      "metadata": {
        "id": "view-in-github",
        "colab_type": "text"
      },
      "source": [
        "<a href=\"https://colab.research.google.com/github/ukhyun-lee/stock_market_analysis/blob/main/AI%EC%A4%91%EA%B8%89/AI%EC%8B%A4%EC%8A%B5_8%EC%9B%9425%EC%9D%BC(GRU).ipynb\" target=\"_parent\"><img src=\"https://colab.research.google.com/assets/colab-badge.svg\" alt=\"Open In Colab\"/></a>"
      ]
    },
    {
      "cell_type": "markdown",
      "source": [
        "https://towardsdatascience.com/understanding-gru-networks-2ef37df6c9be"
      ],
      "metadata": {
        "id": "yPJfox7QWLbS"
      }
    },
    {
      "cell_type": "markdown",
      "source": [],
      "metadata": {
        "id": "HEjtTMkgWYCZ"
      }
    },
    {
      "cell_type": "code",
      "execution_count": 1,
      "metadata": {
        "id": "4QThkCaXWCk2"
      },
      "outputs": [],
      "source": [
        "import torch\n",
        "import torch.nn as nn\n",
        "import torchvision.transforms as transforms\n",
        "import torchvision.datasets as dataset\n",
        "from torch.autograd import Variable\n",
        "from torch.nn import Parameter\n",
        "from torch import Tensor\n",
        "import torch.nn.functional as F\n",
        "from torch.utils.data import DataLoader\n",
        "import math\n",
        "\n",
        "device = torch.device('cuda:0' if torch.cuda.is_available() else 'cpu')\n",
        "cuda = True if torch.cuda.is_available() else False\n",
        "\n",
        "Tensor = torch.cuda.FloatTensor if cuda else torch.FloatTensor\n",
        "\n",
        "torch.manual_seed(125)\n",
        "if torch.cuda.is_available():\n",
        "    torch.cuda.manual_seed_all(125)"
      ]
    },
    {
      "cell_type": "code",
      "source": [
        "mnist_transform = transforms.Compose([\n",
        "    transforms.ToTensor(),\n",
        "    transforms.Normalize((0.5,), (1.0,))\n",
        "])\n",
        "from torchvision.datasets import MNIST\n",
        "#download_root = 'MNIST_DATASET/'\n",
        "download_root = 'sample_data/MNIST_DATASET/'\n",
        "\n",
        "train_dataset = MNIST(download_root, transform=mnist_transform, train=True, download=True)\n",
        "valid_dataset = MNIST(download_root, transform=mnist_transform, train=False, download=True)\n",
        "test_dataset = MNIST(download_root, transform=mnist_transform, train=False, download=True)"
      ],
      "metadata": {
        "colab": {
          "base_uri": "https://localhost:8080/"
        },
        "id": "udXscBHiadZu",
        "outputId": "1aac76d3-3db5-4f7e-9c10-a5d56c2adf5f"
      },
      "execution_count": 2,
      "outputs": [
        {
          "output_type": "stream",
          "name": "stdout",
          "text": [
            "Downloading http://yann.lecun.com/exdb/mnist/train-images-idx3-ubyte.gz\n",
            "Downloading http://yann.lecun.com/exdb/mnist/train-images-idx3-ubyte.gz to sample_data/MNIST_DATASET/MNIST/raw/train-images-idx3-ubyte.gz\n"
          ]
        },
        {
          "output_type": "stream",
          "name": "stderr",
          "text": [
            "100%|██████████| 9912422/9912422 [00:00<00:00, 75054267.86it/s]\n"
          ]
        },
        {
          "output_type": "stream",
          "name": "stdout",
          "text": [
            "Extracting sample_data/MNIST_DATASET/MNIST/raw/train-images-idx3-ubyte.gz to sample_data/MNIST_DATASET/MNIST/raw\n",
            "\n",
            "Downloading http://yann.lecun.com/exdb/mnist/train-labels-idx1-ubyte.gz\n",
            "Downloading http://yann.lecun.com/exdb/mnist/train-labels-idx1-ubyte.gz to sample_data/MNIST_DATASET/MNIST/raw/train-labels-idx1-ubyte.gz\n"
          ]
        },
        {
          "output_type": "stream",
          "name": "stderr",
          "text": [
            "100%|██████████| 28881/28881 [00:00<00:00, 31877814.16it/s]\n"
          ]
        },
        {
          "output_type": "stream",
          "name": "stdout",
          "text": [
            "Extracting sample_data/MNIST_DATASET/MNIST/raw/train-labels-idx1-ubyte.gz to sample_data/MNIST_DATASET/MNIST/raw\n",
            "\n",
            "Downloading http://yann.lecun.com/exdb/mnist/t10k-images-idx3-ubyte.gz\n",
            "Downloading http://yann.lecun.com/exdb/mnist/t10k-images-idx3-ubyte.gz to sample_data/MNIST_DATASET/MNIST/raw/t10k-images-idx3-ubyte.gz\n"
          ]
        },
        {
          "output_type": "stream",
          "name": "stderr",
          "text": [
            "100%|██████████| 1648877/1648877 [00:00<00:00, 25078021.56it/s]\n"
          ]
        },
        {
          "output_type": "stream",
          "name": "stdout",
          "text": [
            "Extracting sample_data/MNIST_DATASET/MNIST/raw/t10k-images-idx3-ubyte.gz to sample_data/MNIST_DATASET/MNIST/raw\n",
            "\n",
            "Downloading http://yann.lecun.com/exdb/mnist/t10k-labels-idx1-ubyte.gz\n",
            "Downloading http://yann.lecun.com/exdb/mnist/t10k-labels-idx1-ubyte.gz to sample_data/MNIST_DATASET/MNIST/raw/t10k-labels-idx1-ubyte.gz\n"
          ]
        },
        {
          "output_type": "stream",
          "name": "stderr",
          "text": [
            "100%|██████████| 4542/4542 [00:00<00:00, 5588304.13it/s]\n"
          ]
        },
        {
          "output_type": "stream",
          "name": "stdout",
          "text": [
            "Extracting sample_data/MNIST_DATASET/MNIST/raw/t10k-labels-idx1-ubyte.gz to sample_data/MNIST_DATASET/MNIST/raw\n",
            "\n"
          ]
        }
      ]
    },
    {
      "cell_type": "code",
      "source": [
        "batch_size = 64\n",
        "train_loader = DataLoader(dataset=train_dataset,\n",
        "                         batch_size=batch_size,\n",
        "                         shuffle=True)\n",
        "valid_loader = DataLoader(dataset=valid_dataset,\n",
        "                         batch_size=batch_size,\n",
        "                         shuffle=True)\n",
        "test_loader = DataLoader(dataset=test_dataset,\n",
        "                         batch_size=batch_size,\n",
        "                         shuffle=True)\n",
        "batch_size = 100\n",
        "n_iters = 6000\n",
        "num_epochs = n_iters / (len(train_dataset) / batch_size)\n",
        "num_epochs = int(num_epochs)"
      ],
      "metadata": {
        "id": "zYO8oYGEer_C"
      },
      "execution_count": 4,
      "outputs": []
    },
    {
      "cell_type": "code",
      "source": [
        "class GRUCell(nn.Module):\n",
        "    def __init__(self, input_size, hidden_size, bias=True):\n",
        "        super(GRUCell, self).__init__()\n",
        "        self.input_size = input_size\n",
        "        self.hidden_size = hidden_size\n",
        "        self.bias = bias\n",
        "        self.x2h = nn.Linear(input_size, 3 * hidden_size, bias=bias)\n",
        "        self.h2h = nn.Linear(hidden_size, 3 * hidden_size, bias=bias)\n",
        "        self.reset_parameters()\n",
        "\n",
        "    def reset_parameters(self):\n",
        "        std = 1.0 / math.sqrt(self.hidden_size)\n",
        "        for w in self.parameters():\n",
        "            w.data.uniform_(-std, std)\n",
        "\n",
        "    def forward(self, x, hidden):\n",
        "        x = x.view(-1, x.size(1))\n",
        "\n",
        "        gate_x = self.x2h(x)\n",
        "        gate_h = self.h2h(hidden)\n",
        "\n",
        "        gate_x = gate_x.squeeze()\n",
        "        gate_h = gate_h.squeeze()\n",
        "\n",
        "        i_r, i_i, i_n = gate_x.chunk(3, 1)\n",
        "        h_r, h_i, h_n = gate_h.chunk(3, 1)\n",
        "\n",
        "        resetgate = F.sigmoid(i_r + h_r)\n",
        "        inputgate = F.sigmoid(i_i + h_i)\n",
        "        newgate = F.tanh(i_n + (resetgate * h_n))\n",
        "\n",
        "        hy = newgate + inputgate * (hidden - newgate)\n",
        "        return hy"
      ],
      "metadata": {
        "id": "yEZnbXM4is73"
      },
      "execution_count": 7,
      "outputs": []
    },
    {
      "cell_type": "code",
      "source": [
        "class GRUModel(nn.Module):\n",
        "    def __init__(self, input_dim, hidden_dim, layer_dim, output_dim, bias=True):\n",
        "        super(GRUModel, self).__init__()\n",
        "        self.hidden_dim = hidden_dim\n",
        "        self.layer_dim = layer_dim\n",
        "        self.gru_cell = GRUCell(input_dim, hidden_dim, layer_dim)\n",
        "        self.fc = nn.Linear(hidden_dim, output_dim)\n",
        "\n",
        "    def forward(self, x):\n",
        "        if torch.cuda.is_available():\n",
        "            h0 = Variable(torch.zeros(self.layer_dim, x.size(0), self.hidden_dim).cuda())\n",
        "        else:\n",
        "            h0 = Variable(torch.zeros(self.layer_dim, x.size(0), self.hidden_dim))\n",
        "\n",
        "        outs = []\n",
        "        hn = h0[0,:,:]\n",
        "\n",
        "        for seq in range(x.size(1)):\n",
        "            hn = self.gru_cell(x[:,seq,:], hn)\n",
        "            outs.append(hn)\n",
        "\n",
        "        out = outs[-1].squeeze()\n",
        "        out = self.fc(out)\n",
        "        return out\n",
        "input_dim = 28\n",
        "hidden_dim = 128\n",
        "layer_dim = 1\n",
        "output_dim = 10\n",
        "\n",
        "model = GRUModel(input_dim, hidden_dim, layer_dim, output_dim)\n",
        "\n",
        "if torch.cuda.is_available():\n",
        "    model.cuda()\n",
        "\n",
        "criterion = nn.CrossEntropyLoss()\n",
        "learning_rate = 0.1\n",
        "optimizer = torch.optim.SGD(model.parameters(), lr=learning_rate)\n",
        "seq_dim = 28\n",
        "loss_list = []\n",
        "iter = 0\n",
        "for epoch in range(num_epochs):\n",
        "    for i, (images, labels) in enumerate(train_loader):\n",
        "        if torch.cuda.is_available():\n",
        "            images = Variable(images.view(-1, seq_dim, input_dim).cuda())\n",
        "            labels = Variable(labels.cuda())\n",
        "        else:\n",
        "            images = Variable(images.view(-1, seq_dim, input_dim))\n",
        "            labels = Variable(labels)\n",
        "\n",
        "        optimizer.zero_grad()\n",
        "        outputs = model(images)\n",
        "        loss = criterion(outputs, labels)\n",
        "\n",
        "        if torch.cuda.is_available():\n",
        "            loss.cuda()\n",
        "\n",
        "        loss.backward()\n",
        "        optimizer.step()\n",
        "\n",
        "        loss_list.append(loss.item())\n",
        "        iter += 1\n",
        "\n",
        "        if iter % 500 == 0:\n",
        "            correct = 0\n",
        "            total = 0\n",
        "            for images, labels in valid_loader:\n",
        "                if torch.cuda.is_available():\n",
        "                    images = Variable(images.view(-1, seq_dim, input_dim).cuda())\n",
        "                else:\n",
        "                    images = Variable(images.view(-1 , seq_dim, input_dim))\n",
        "\n",
        "                outputs = model(images)\n",
        "                _, predicted = torch.max(outputs.data, 1)\n",
        "                total += labels.size(0)\n",
        "\n",
        "                if torch.cuda.is_available():\n",
        "                    correct += (predicted.cpu() == labels.cpu()).sum()\n",
        "                else:\n",
        "                    correct += (predicted == labels).sum()\n",
        "\n",
        "            accuracy = 100 * correct / total\n",
        "            print('Iteration: {}. Loss: {}. Accuracy: {}'.format(iter, loss.item(), accuracy))"
      ],
      "metadata": {
        "colab": {
          "base_uri": "https://localhost:8080/"
        },
        "id": "pKBFRg9wfQ-J",
        "outputId": "3c907c46-2a2d-4115-ac72-060b4a576b9f"
      },
      "execution_count": 8,
      "outputs": [
        {
          "output_type": "stream",
          "name": "stdout",
          "text": [
            "Iteration: 500. Loss: 1.6616928577423096. Accuracy: 43.59000015258789\n",
            "Iteration: 1000. Loss: 0.8945668935775757. Accuracy: 76.19999694824219\n",
            "Iteration: 1500. Loss: 0.29147759079933167. Accuracy: 89.7300033569336\n",
            "Iteration: 2000. Loss: 0.23627907037734985. Accuracy: 93.51000213623047\n",
            "Iteration: 2500. Loss: 0.03288722783327103. Accuracy: 95.05000305175781\n",
            "Iteration: 3000. Loss: 0.030374936759471893. Accuracy: 95.81999969482422\n",
            "Iteration: 3500. Loss: 0.1621057391166687. Accuracy: 96.33999633789062\n",
            "Iteration: 4000. Loss: 0.19308771193027496. Accuracy: 96.19000244140625\n",
            "Iteration: 4500. Loss: 0.05172014236450195. Accuracy: 97.0\n",
            "Iteration: 5000. Loss: 0.13900171220302582. Accuracy: 97.26000213623047\n",
            "Iteration: 5500. Loss: 0.08090294897556305. Accuracy: 97.62000274658203\n",
            "Iteration: 6000. Loss: 0.10488354414701462. Accuracy: 97.69000244140625\n",
            "Iteration: 6500. Loss: 0.07984036952257156. Accuracy: 97.80000305175781\n",
            "Iteration: 7000. Loss: 0.10250388830900192. Accuracy: 97.55999755859375\n",
            "Iteration: 7500. Loss: 0.06477995961904526. Accuracy: 97.86000061035156\n",
            "Iteration: 8000. Loss: 0.10547612607479095. Accuracy: 97.80000305175781\n",
            "Iteration: 8500. Loss: 0.042811453342437744. Accuracy: 98.0199966430664\n",
            "Iteration: 9000. Loss: 0.04198905825614929. Accuracy: 98.22000122070312\n"
          ]
        }
      ]
    },
    {
      "cell_type": "code",
      "source": [
        "def evaluate(model, val_iter):\n",
        "    corrects, total, total_loss = 0, 0, 0\n",
        "    model.eval()\n",
        "    for images, labels in val_iter:\n",
        "        if torch.cuda.is_available():\n",
        "            images = Variable(images.view(-1, seq_dim, input_dim).cuda())\n",
        "        else:\n",
        "            images = Variable(images.view(-1 , seq_dim, input_dim)).to(device)\n",
        "        #labels = labels.cuda()\n",
        "        #logit = model(images).cuda()\n",
        "        labels = labels\n",
        "        logit = model(images)\n",
        "        loss = F.cross_entropy(logit, labels, reduction = \"sum\")\n",
        "        _, predicted = torch.max(logit.data, 1)\n",
        "        total += labels.size(0)\n",
        "        total_loss += loss.item()\n",
        "        corrects += (predicted == labels).sum()\n",
        "\n",
        "    avg_loss = total_loss / len(val_iter.dataset)\n",
        "    avg_accuracy = corrects / total\n",
        "    return avg_loss, avg_accuracy\n",
        "test_loss, test_acc = evaluate(model,test_loader)\n",
        "print(\"Test Loss: %5.2f | Test Accuracy: %5.2f\" % (test_loss, test_acc))"
      ],
      "metadata": {
        "colab": {
          "base_uri": "https://localhost:8080/"
        },
        "id": "QhRE7aw1q57Y",
        "outputId": "a53d5135-3584-42e9-edc3-2fed3282d7a6"
      },
      "execution_count": 11,
      "outputs": [
        {
          "output_type": "stream",
          "name": "stdout",
          "text": [
            "Test Loss:  0.07 | Test Accuracy:  0.98\n"
          ]
        }
      ]
    },
    {
      "cell_type": "markdown",
      "source": [
        "#GRU계층"
      ],
      "metadata": {
        "id": "9YFRh_GJs8XG"
      }
    },
    {
      "cell_type": "code",
      "source": [
        "import os\n",
        "import time\n",
        "\n",
        "import numpy as np\n",
        "import pandas as pd\n",
        "import matplotlib.pyplot as plt\n",
        "\n",
        "import torch\n",
        "import torch.nn as nn\n",
        "from torch.utils.data import TensorDataset, DataLoader\n",
        "from torch.autograd import Variable\n",
        "from tqdm import tqdm_notebook\n",
        "from sklearn.preprocessing import StandardScaler, MinMaxScaler\n",
        "from sklearn.model_selection import train_test_split\n",
        "\n",
        "device = torch.device('cuda:0' if torch.cuda.is_available() else 'cpu')\n",
        "data=pd.read_csv('sample_data/SBUX.csv')\n",
        "print(data.dtypes)"
      ],
      "metadata": {
        "colab": {
          "base_uri": "https://localhost:8080/"
        },
        "id": "3SQVBfTSr_Ww",
        "outputId": "5afcc449-6da1-40f0-e677-5d7300eee44b"
      },
      "execution_count": 12,
      "outputs": [
        {
          "output_type": "stream",
          "name": "stdout",
          "text": [
            "Date          object\n",
            "Open         float64\n",
            "High         float64\n",
            "Low          float64\n",
            "Close        float64\n",
            "Adj Close    float64\n",
            "Volume         int64\n",
            "dtype: object\n"
          ]
        }
      ]
    },
    {
      "cell_type": "code",
      "source": [
        "data['Date'] = pd.to_datetime(data['Date'])\n",
        "data.set_index('Date', inplace=True)\n",
        "data['Volume'] = data['Volume'].astype(float)\n",
        "X=data.iloc[:,:-1]\n",
        "y=data.iloc[:,5:6]\n",
        "print(X)\n",
        "print(y)"
      ],
      "metadata": {
        "colab": {
          "base_uri": "https://localhost:8080/"
        },
        "id": "qBhCwXrNsAWX",
        "outputId": "6e1869e4-1603-42d3-9e8e-7e7b45c1ea38"
      },
      "execution_count": 13,
      "outputs": [
        {
          "output_type": "stream",
          "name": "stdout",
          "text": [
            "                  Open        High         Low       Close   Adj Close\n",
            "Date                                                                  \n",
            "2019-12-11   86.260002   86.870003   85.849998   86.589996   84.145752\n",
            "2019-12-12   88.000000   88.889999   87.540001   88.209999   85.720032\n",
            "2019-12-13   88.019997   88.790001   87.580002   88.669998   86.167046\n",
            "2019-12-16   89.139999   89.300003   88.430000   88.779999   86.273941\n",
            "2019-12-17   88.870003   88.970001   87.470001   88.129997   85.642288\n",
            "...                ...         ...         ...         ...         ...\n",
            "2020-12-04  101.349998  102.940002  101.070000  102.279999  101.442787\n",
            "2020-12-07  102.010002  102.220001  100.690002  101.410004  100.579918\n",
            "2020-12-08  100.370003  101.570000  100.010002  101.209999  100.381554\n",
            "2020-12-09  101.940002  102.209999  100.099998  100.400002   99.578186\n",
            "2020-12-10  103.510002  106.089996  102.750000  105.389999  104.527336\n",
            "\n",
            "[253 rows x 5 columns]\n",
            "                Volume\n",
            "Date                  \n",
            "2019-12-11   4921900.0\n",
            "2019-12-12  10282100.0\n",
            "2019-12-13   6714100.0\n",
            "2019-12-16   6705600.0\n",
            "2019-12-17   7296900.0\n",
            "...                ...\n",
            "2020-12-04   6952700.0\n",
            "2020-12-07   4514800.0\n",
            "2020-12-08   3911300.0\n",
            "2020-12-09   6629900.0\n",
            "2020-12-10  12939200.0\n",
            "\n",
            "[253 rows x 1 columns]\n"
          ]
        }
      ]
    },
    {
      "cell_type": "code",
      "source": [
        "ms = MinMaxScaler()\n",
        "ss = StandardScaler()\n",
        "\n",
        "X_ss = ss.fit_transform(X)\n",
        "y_ms = ms.fit_transform(y)\n",
        "\n",
        "X_train = X_ss[:200, :]\n",
        "X_test = X_ss[200:, :]\n",
        "\n",
        "y_train = y_ms[:200, :]\n",
        "y_test = y_ms[200:, :]\n",
        "\n",
        "print(\"Training Shape\", X_train.shape, y_train.shape)\n",
        "print(\"Testing Shape\", X_test.shape, y_test.shape)\n",
        "X_train_tensors = Variable(torch.Tensor(X_train))\n",
        "X_test_tensors = Variable(torch.Tensor(X_test))\n",
        "\n",
        "y_train_tensors = Variable(torch.Tensor(y_train))\n",
        "y_test_tensors = Variable(torch.Tensor(y_test))\n",
        "\n",
        "X_train_tensors_f = torch.reshape(X_train_tensors,   (X_train_tensors.shape[0], 1, X_train_tensors.shape[1]))\n",
        "X_test_tensors_f = torch.reshape(X_test_tensors,  (X_test_tensors.shape[0], 1, X_test_tensors.shape[1]))\n",
        "\n",
        "print(\"Training Shape\", X_train_tensors_f.shape, y_train_tensors.shape)\n",
        "print(\"Testing Shape\", X_test_tensors_f.shape, y_test_tensors.shape)"
      ],
      "metadata": {
        "colab": {
          "base_uri": "https://localhost:8080/"
        },
        "id": "6QDPFcAvsL53",
        "outputId": "41687a1e-801d-4ae6-facc-4403bc777a65"
      },
      "execution_count": 14,
      "outputs": [
        {
          "output_type": "stream",
          "name": "stdout",
          "text": [
            "Training Shape (200, 5) (200, 1)\n",
            "Testing Shape (53, 5) (53, 1)\n",
            "Training Shape torch.Size([200, 1, 5]) torch.Size([200, 1])\n",
            "Testing Shape torch.Size([53, 1, 5]) torch.Size([53, 1])\n"
          ]
        }
      ]
    },
    {
      "cell_type": "code",
      "source": [
        "class GRU(nn.Module):\n",
        "    def __init__(self, num_classes, input_size, hidden_size, num_layers, seq_length):\n",
        "        super(GRU, self).__init__()\n",
        "        self.num_classes = num_classes\n",
        "        self.num_layers = num_layers\n",
        "        self.input_size = input_size\n",
        "        self.hidden_size = hidden_size\n",
        "        self.seq_length = seq_length\n",
        "\n",
        "        self.gru = nn.GRU(input_size=input_size, hidden_size=hidden_size,\n",
        "                          num_layers=num_layers, batch_first=True)\n",
        "        self.fc_1 =  nn.Linear(hidden_size, 128)\n",
        "        self.fc = nn.Linear(128, num_classes)\n",
        "        self.relu = nn.ReLU()\n",
        "\n",
        "    def forward(self,x):\n",
        "        h_0 = Variable(torch.zeros(self.num_layers, x.size(0), self.hidden_size))\n",
        "        output, (hn) = self.gru(x, (h_0))\n",
        "        hn = hn.view(-1, self.hidden_size)\n",
        "        out = self.relu(hn)\n",
        "        out = self.fc_1(out)\n",
        "        out = self.relu(out)\n",
        "        out = self.fc(out)\n",
        "        return out"
      ],
      "metadata": {
        "id": "OgV7Is9NsS34"
      },
      "execution_count": 15,
      "outputs": []
    },
    {
      "cell_type": "code",
      "source": [
        "num_epochs = 10000\n",
        "learning_rate = 0.0001\n",
        "\n",
        "input_size = 5\n",
        "hidden_size = 2\n",
        "num_layers = 1\n",
        "\n",
        "num_classes = 1\n",
        "model = GRU(num_classes, input_size, hidden_size, num_layers, X_train_tensors_f.shape[1])\n",
        "\n",
        "criterion = torch.nn.MSELoss()\n",
        "optimizer = torch.optim.Adam(model.parameters(), lr=learning_rate)\n",
        "for epoch in range(num_epochs):\n",
        "    outputs = model.forward(X_train_tensors_f)\n",
        "    optimizer.zero_grad()\n",
        "    loss = criterion(outputs, y_train_tensors)\n",
        "    loss.backward()\n",
        "\n",
        "    optimizer.step()\n",
        "    if epoch % 100 == 0:\n",
        "        print(\"Epoch: %d, loss: %1.5f\" % (epoch, loss.item()))\n",
        "df_x_ss = ss.transform(data.iloc[:, :-1])\n",
        "df_y_ms = ms.transform(data.iloc[:, -1:])\n",
        "\n",
        "df_x_ss = Variable(torch.Tensor(df_x_ss))\n",
        "df_y_ms = Variable(torch.Tensor(df_y_ms))\n",
        "df_x_ss = torch.reshape(df_x_ss, (df_x_ss.shape[0], 1, df_x_ss.shape[1]))\n",
        "train_predict = model(df_x_ss)\n",
        "predicted = train_predict.data.numpy()\n",
        "label_y = df_y_ms.data.numpy()\n",
        "\n",
        "predicted = ms.inverse_transform(predicted)\n",
        "label_y = ms.inverse_transform(label_y)\n",
        "plt.figure(figsize=(10,6))\n",
        "plt.axvline(x=200, c='r', linestyle='--')\n",
        "\n",
        "plt.plot(label_y, label='Actual Data')\n",
        "plt.plot(predicted, label='Predicted Data')\n",
        "plt.title('Time-Series Prediction')\n",
        "plt.legend()\n",
        "plt.show()"
      ],
      "metadata": {
        "colab": {
          "base_uri": "https://localhost:8080/",
          "height": 1000
        },
        "id": "AxaIf84Gsasm",
        "outputId": "d7b2d896-6f56-4557-c4cd-417732937ce2"
      },
      "execution_count": 17,
      "outputs": [
        {
          "output_type": "stream",
          "name": "stdout",
          "text": [
            "Epoch: 0, loss: 0.09458\n",
            "Epoch: 100, loss: 0.04280\n",
            "Epoch: 200, loss: 0.03771\n",
            "Epoch: 300, loss: 0.03502\n",
            "Epoch: 400, loss: 0.03373\n",
            "Epoch: 500, loss: 0.03336\n",
            "Epoch: 600, loss: 0.03324\n",
            "Epoch: 700, loss: 0.03316\n",
            "Epoch: 800, loss: 0.03309\n",
            "Epoch: 900, loss: 0.03302\n",
            "Epoch: 1000, loss: 0.03295\n",
            "Epoch: 1100, loss: 0.03289\n",
            "Epoch: 1200, loss: 0.03284\n",
            "Epoch: 1300, loss: 0.03279\n",
            "Epoch: 1400, loss: 0.03274\n",
            "Epoch: 1500, loss: 0.03269\n",
            "Epoch: 1600, loss: 0.03264\n",
            "Epoch: 1700, loss: 0.03258\n",
            "Epoch: 1800, loss: 0.03253\n",
            "Epoch: 1900, loss: 0.03249\n",
            "Epoch: 2000, loss: 0.03244\n",
            "Epoch: 2100, loss: 0.03239\n",
            "Epoch: 2200, loss: 0.03235\n",
            "Epoch: 2300, loss: 0.03231\n",
            "Epoch: 2400, loss: 0.03228\n",
            "Epoch: 2500, loss: 0.03226\n",
            "Epoch: 2600, loss: 0.03224\n",
            "Epoch: 2700, loss: 0.03222\n",
            "Epoch: 2800, loss: 0.03220\n",
            "Epoch: 2900, loss: 0.03218\n",
            "Epoch: 3000, loss: 0.03216\n",
            "Epoch: 3100, loss: 0.03214\n",
            "Epoch: 3200, loss: 0.03212\n",
            "Epoch: 3300, loss: 0.03210\n",
            "Epoch: 3400, loss: 0.03208\n",
            "Epoch: 3500, loss: 0.03206\n",
            "Epoch: 3600, loss: 0.03204\n",
            "Epoch: 3700, loss: 0.03202\n",
            "Epoch: 3800, loss: 0.03200\n",
            "Epoch: 3900, loss: 0.03198\n",
            "Epoch: 4000, loss: 0.03195\n",
            "Epoch: 4100, loss: 0.03193\n",
            "Epoch: 4200, loss: 0.03190\n",
            "Epoch: 4300, loss: 0.03188\n",
            "Epoch: 4400, loss: 0.03185\n",
            "Epoch: 4500, loss: 0.03182\n",
            "Epoch: 4600, loss: 0.03179\n",
            "Epoch: 4700, loss: 0.03176\n",
            "Epoch: 4800, loss: 0.03171\n",
            "Epoch: 4900, loss: 0.03167\n",
            "Epoch: 5000, loss: 0.03163\n",
            "Epoch: 5100, loss: 0.03159\n",
            "Epoch: 5200, loss: 0.03155\n",
            "Epoch: 5300, loss: 0.03145\n",
            "Epoch: 5400, loss: 0.02601\n",
            "Epoch: 5500, loss: 0.02141\n",
            "Epoch: 5600, loss: 0.01863\n",
            "Epoch: 5700, loss: 0.01711\n",
            "Epoch: 5800, loss: 0.01623\n",
            "Epoch: 5900, loss: 0.01567\n",
            "Epoch: 6000, loss: 0.01525\n",
            "Epoch: 6100, loss: 0.01491\n",
            "Epoch: 6200, loss: 0.01463\n",
            "Epoch: 6300, loss: 0.01439\n",
            "Epoch: 6400, loss: 0.01417\n",
            "Epoch: 6500, loss: 0.01397\n",
            "Epoch: 6600, loss: 0.01379\n",
            "Epoch: 6700, loss: 0.01364\n",
            "Epoch: 6800, loss: 0.01350\n",
            "Epoch: 6900, loss: 0.01338\n",
            "Epoch: 7000, loss: 0.01326\n",
            "Epoch: 7100, loss: 0.01316\n",
            "Epoch: 7200, loss: 0.01306\n",
            "Epoch: 7300, loss: 0.01297\n",
            "Epoch: 7400, loss: 0.01289\n",
            "Epoch: 7500, loss: 0.01280\n",
            "Epoch: 7600, loss: 0.01272\n",
            "Epoch: 7700, loss: 0.01265\n",
            "Epoch: 7800, loss: 0.01257\n",
            "Epoch: 7900, loss: 0.01250\n",
            "Epoch: 8000, loss: 0.01244\n",
            "Epoch: 8100, loss: 0.01237\n",
            "Epoch: 8200, loss: 0.01231\n",
            "Epoch: 8300, loss: 0.01225\n",
            "Epoch: 8400, loss: 0.01219\n",
            "Epoch: 8500, loss: 0.01213\n",
            "Epoch: 8600, loss: 0.01207\n",
            "Epoch: 8700, loss: 0.01200\n",
            "Epoch: 8800, loss: 0.01194\n",
            "Epoch: 8900, loss: 0.01188\n",
            "Epoch: 9000, loss: 0.01180\n",
            "Epoch: 9100, loss: 0.01172\n",
            "Epoch: 9200, loss: 0.01166\n",
            "Epoch: 9300, loss: 0.01160\n",
            "Epoch: 9400, loss: 0.01155\n",
            "Epoch: 9500, loss: 0.01150\n",
            "Epoch: 9600, loss: 0.01145\n",
            "Epoch: 9700, loss: 0.01140\n",
            "Epoch: 9800, loss: 0.01135\n",
            "Epoch: 9900, loss: 0.01130\n"
          ]
        },
        {
          "output_type": "display_data",
          "data": {
            "text/plain": [
              "<Figure size 1000x600 with 1 Axes>"
            ],
            "image/png": "[encoded data removed]"
          },
          "metadata": {}
        }
      ]
    }
  ]
}