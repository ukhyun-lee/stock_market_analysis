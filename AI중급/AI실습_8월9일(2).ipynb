{
  "nbformat": 4,
  "nbformat_minor": 0,
  "metadata": {
    "colab": {
      "provenance": [],
      "authorship_tag": "ABX9TyOKb28x9og98c0cMm8SklRG",
      "include_colab_link": true
    },
    "kernelspec": {
      "name": "python3",
      "display_name": "Python 3"
    },
    "language_info": {
      "name": "python"
    }
  },
  "cells": [
    {
      "cell_type": "markdown",
      "metadata": {
        "id": "view-in-github",
        "colab_type": "text"
      },
      "source": [
        "<a href=\"https://colab.research.google.com/github/ukhyun-lee/stock_market_analysis/blob/main/AI%EC%A4%91%EA%B8%89/AI%EC%8B%A4%EC%8A%B5_8%EC%9B%949%EC%9D%BC(2).ipynb\" target=\"_parent\"><img src=\"https://colab.research.google.com/assets/colab-badge.svg\" alt=\"Open In Colab\"/></a>"
      ]
    },
    {
      "cell_type": "code",
      "execution_count": null,
      "metadata": {
        "id": "fWW9cnorWPtB"
      },
      "outputs": [],
      "source": [
        "from tensorflow.keras.models import Sequential, load_model\n",
        "from tensorflow.keras.layers import Dense\n",
        "from sklearn.model_selection import train_test_split"
      ]
    },
    {
      "cell_type": "code",
      "source": [
        "import pandas as pd"
      ],
      "metadata": {
        "id": "3VxypWvkW1_f"
      },
      "execution_count": null,
      "outputs": []
    },
    {
      "cell_type": "code",
      "source": [
        "df = pd.read_csv('sample_data/wine.csv', header=None)"
      ],
      "metadata": {
        "id": "vGxMZezVWdyY"
      },
      "execution_count": null,
      "outputs": []
    },
    {
      "cell_type": "code",
      "source": [
        "x = df.iloc[:,0:12]\n",
        "y = df.iloc[:, 12]"
      ],
      "metadata": {
        "id": "35F0zbdDW_XO"
      },
      "execution_count": null,
      "outputs": []
    },
    {
      "cell_type": "code",
      "source": [
        "x_train, x_test, y_train, y_test = train_test_split(x, y, test_size=0.3, shuffle=True)"
      ],
      "metadata": {
        "id": "tsxWsuxpXGTX"
      },
      "execution_count": null,
      "outputs": []
    },
    {
      "cell_type": "code",
      "source": [
        "print(x_train.shape)"
      ],
      "metadata": {
        "colab": {
          "base_uri": "https://localhost:8080/"
        },
        "id": "zU7DvSgVpagM",
        "outputId": "1e555426-2316-4ff1-e34d-81b9ae011c60"
      },
      "execution_count": null,
      "outputs": [
        {
          "output_type": "stream",
          "name": "stdout",
          "text": [
            "(145, 60)\n"
          ]
        }
      ]
    },
    {
      "cell_type": "code",
      "source": [
        "print(x_test.shape)"
      ],
      "metadata": {
        "colab": {
          "base_uri": "https://localhost:8080/"
        },
        "id": "hTthKEZXpfB1",
        "outputId": "3802855f-a97d-463f-a4b9-4053cba9a210"
      },
      "execution_count": null,
      "outputs": [
        {
          "output_type": "stream",
          "name": "stdout",
          "text": [
            "(63, 60)\n"
          ]
        }
      ]
    },
    {
      "cell_type": "code",
      "source": [
        "l_model = load_model('sample_data/sonar_model.hdf5')"
      ],
      "metadata": {
        "id": "0V0z2y2AXa12"
      },
      "execution_count": null,
      "outputs": []
    },
    {
      "cell_type": "code",
      "source": [
        "l_model.summary()"
      ],
      "metadata": {
        "colab": {
          "base_uri": "https://localhost:8080/"
        },
        "id": "ZLSGGRM-ZZ68",
        "outputId": "6806a51b-f70c-4d03-b200-68c98b4b1141"
      },
      "execution_count": null,
      "outputs": [
        {
          "output_type": "stream",
          "name": "stdout",
          "text": [
            "Model: \"sequential_2\"\n",
            "_________________________________________________________________\n",
            " Layer (type)                Output Shape              Param #   \n",
            "=================================================================\n",
            " dense_8 (Dense)             (None, 24)                1464      \n",
            "                                                                 \n",
            " dense_9 (Dense)             (None, 10)                250       \n",
            "                                                                 \n",
            " dense_10 (Dense)            (None, 1)                 11        \n",
            "                                                                 \n",
            "=================================================================\n",
            "Total params: 1,725\n",
            "Trainable params: 1,725\n",
            "Non-trainable params: 0\n",
            "_________________________________________________________________\n"
          ]
        }
      ]
    },
    {
      "cell_type": "code",
      "source": [
        "#기존 모델을 사용해서 예측 수행(즉, 테스트 수행)\n",
        "pred = l_model.predict(x_test)"
      ],
      "metadata": {
        "colab": {
          "base_uri": "https://localhost:8080/"
        },
        "id": "aESI-TQqZb-U",
        "outputId": "3067dd76-3fbb-449c-a2d0-b47c3592b036"
      },
      "execution_count": null,
      "outputs": [
        {
          "output_type": "stream",
          "name": "stdout",
          "text": [
            "2/2 [==============================] - 0s 6ms/step\n"
          ]
        }
      ]
    },
    {
      "cell_type": "code",
      "source": [
        "bi_pred = (pred > 0.5).astype(int)"
      ],
      "metadata": {
        "id": "0FQypq0vZgkF"
      },
      "execution_count": null,
      "outputs": []
    },
    {
      "cell_type": "code",
      "source": [
        "l_score = l_model.evaluate(x_test, y_test)"
      ],
      "metadata": {
        "colab": {
          "base_uri": "https://localhost:8080/"
        },
        "id": "v8Wl0BwkZjRl",
        "outputId": "04df5cd4-0797-488b-f528-3fee710597e3"
      },
      "execution_count": null,
      "outputs": [
        {
          "output_type": "stream",
          "name": "stdout",
          "text": [
            "2/2 [==============================] - 0s 7ms/step - loss: 0.0183 - accuracy: 0.9841\n"
          ]
        }
      ]
    },
    {
      "cell_type": "code",
      "source": [
        "print(\"불러온 모델에 대한 손실 및 정확도 : \", l_score)"
      ],
      "metadata": {
        "colab": {
          "base_uri": "https://localhost:8080/"
        },
        "id": "gcv_mE_VZky1",
        "outputId": "d80a3918-5d2b-4729-ac83-46d0610e8cad"
      },
      "execution_count": null,
      "outputs": [
        {
          "output_type": "stream",
          "name": "stdout",
          "text": [
            "불러온 모델에 대한 손실 및 정확도 :  [0.018286027014255524, 0.9841269850730896]\n"
          ]
        }
      ]
    },
    {
      "cell_type": "code",
      "source": [
        "from sklearn.model_selection import KFold"
      ],
      "metadata": {
        "id": "QUgDUu1DZwaG"
      },
      "execution_count": null,
      "outputs": []
    },
    {
      "cell_type": "code",
      "source": [
        "k=5"
      ],
      "metadata": {
        "id": "-q-IaBVhZwXu"
      },
      "execution_count": null,
      "outputs": []
    },
    {
      "cell_type": "code",
      "source": [
        "kfold = KFold(n_splits=k, shuffle=True)"
      ],
      "metadata": {
        "id": "edR2kzt0ZwQl"
      },
      "execution_count": null,
      "outputs": []
    },
    {
      "cell_type": "code",
      "source": [
        "acc_score = []"
      ],
      "metadata": {
        "id": "a6afxbaiZwI9"
      },
      "execution_count": null,
      "outputs": []
    },
    {
      "cell_type": "code",
      "source": [
        "for train_index, test_index in kfold.split(x) :\n",
        "    x_train, x_test = x.iloc[train_index, :], x.iloc[test_index, :]\n",
        "    y_train, y_test = y.iloc[train_index], y.iloc[test_index]\n",
        "    l_model.compile(loss='binary_crossentropy', optimizer='adam', metrics=['accuracy'])\n",
        "    history = l_model.fit(x_train, y_train, epochs=200, batch_size=10,verbose=0)   #verbose 0(생략) 1(기본, 자세히) 2(덜자세히)\n",
        "    accuracy = l_model.evaluate(x_test, y_test)[1]\n",
        "    acc_score.append(accuracy)"
      ],
      "metadata": {
        "colab": {
          "base_uri": "https://localhost:8080/"
        },
        "id": "nD2Pt8aLZ5Rt",
        "outputId": "f73020ad-ecca-4b97-e6c7-b631e2cde94d"
      },
      "execution_count": null,
      "outputs": [
        {
          "output_type": "stream",
          "name": "stdout",
          "text": [
            "2/2 [==============================] - 0s 10ms/step - loss: 0.0228 - accuracy: 0.9762\n",
            "2/2 [==============================] - 0s 12ms/step - loss: 3.6327e-04 - accuracy: 1.0000\n",
            "2/2 [==============================] - 0s 11ms/step - loss: 7.0249e-04 - accuracy: 1.0000\n",
            "2/2 [==============================] - 0s 10ms/step - loss: 8.8750e-06 - accuracy: 1.0000\n",
            "2/2 [==============================] - 0s 10ms/step - loss: 2.3428e-06 - accuracy: 1.0000\n"
          ]
        }
      ]
    },
    {
      "cell_type": "code",
      "source": [
        "#k번 평균정확도\n",
        "avg_acc_score = sum(acc_score) / k"
      ],
      "metadata": {
        "id": "URo25lJZsuDK"
      },
      "execution_count": null,
      "outputs": []
    },
    {
      "cell_type": "code",
      "source": [
        "avg_acc_score"
      ],
      "metadata": {
        "colab": {
          "base_uri": "https://localhost:8080/"
        },
        "id": "2W5d11XIsuAa",
        "outputId": "72561313-ef6a-4114-95d0-13f57fb7f60b"
      },
      "execution_count": null,
      "outputs": [
        {
          "output_type": "execute_result",
          "data": {
            "text/plain": [
              "0.9952380895614624"
            ]
          },
          "metadata": {},
          "execution_count": 84
        }
      ]
    }
  ]
}