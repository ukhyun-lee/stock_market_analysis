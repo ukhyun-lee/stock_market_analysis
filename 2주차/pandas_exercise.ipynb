{
  "cells": [
    {
      "cell_type": "markdown",
      "metadata": {
        "id": "view-in-github",
        "colab_type": "text"
      },
      "source": [
        "<a href=\"https://colab.research.google.com/github/ukhyun-lee/stock_market_analysis/blob/main/2%EC%A3%BC%EC%B0%A8/pandas_exercise.ipynb\" target=\"_parent\"><img src=\"https://colab.research.google.com/assets/colab-badge.svg\" alt=\"Open In Colab\"/></a>"
      ]
    },
    {
      "cell_type": "code",
      "execution_count": 3,
      "metadata": {
        "id": "sb8ZMxouSyms"
      },
      "outputs": [],
      "source": [
        "import numpy as np\n",
        "import pandas as pd\n",
        "import matplotlib.pyplot as plt\n",
        "import seaborn as sns\n",
        "\n",
        "np.random.seed(0)"
      ]
    },
    {
      "cell_type": "markdown",
      "metadata": {
        "id": "Zuknp1H-Symv"
      },
      "source": [
        "# 과제 1\n",
        "## Q1. \n",
        "\n",
        "\n",
        "<div class=\"alert alert-success\">\n",
        "[문제1]     \n",
        "    \n",
        "insurance.csv'파일 읽어서 df에 할당하고, 상위 5개 항목 출력하기\n",
        "</div>\n",
        "\n",
        "------------\n",
        "\n",
        "[힌트]\n",
        "\n",
        "pd.read_csv()"
      ]
    },
    {
      "cell_type": "code",
      "execution_count": 7,
      "metadata": {
        "id": "OiHmDWloSymx",
        "colab": {
          "base_uri": "https://localhost:8080/",
          "height": 206
        },
        "outputId": "3ce7f702-d475-4986-bc5c-43cac9b09b4a"
      },
      "outputs": [
        {
          "output_type": "execute_result",
          "data": {
            "text/plain": [
              "   age     sex     bmi  children smoker     region      charges\n",
              "0   19  female  27.900         0    yes  southwest  16884.92400\n",
              "1   18    male  33.770         1     no  southeast   1725.55230\n",
              "2   28    male  33.000         3     no  southeast   4449.46200\n",
              "3   33    male  22.705         0     no  northwest  21984.47061\n",
              "4   32    male  28.880         0     no  northwest   3866.85520"
            ],
            "text/html": [
              "\n",
              "  <div id=\"df-d9dc549f-4cbe-4adb-985c-b4adf7ef8c5d\">\n",
              "    <div class=\"colab-df-container\">\n",
              "      <div>\n",
              "<style scoped>\n",
              "    .dataframe tbody tr th:only-of-type {\n",
              "        vertical-align: middle;\n",
              "    }\n",
              "\n",
              "    .dataframe tbody tr th {\n",
              "        vertical-align: top;\n",
              "    }\n",
              "\n",
              "    .dataframe thead th {\n",
              "        text-align: right;\n",
              "    }\n",
              "</style>\n",
              "<table border=\"1\" class=\"dataframe\">\n",
              "  <thead>\n",
              "    <tr style=\"text-align: right;\">\n",
              "      <th></th>\n",
              "      <th>age</th>\n",
              "      <th>sex</th>\n",
              "      <th>bmi</th>\n",
              "      <th>children</th>\n",
              "      <th>smoker</th>\n",
              "      <th>region</th>\n",
              "      <th>charges</th>\n",
              "    </tr>\n",
              "  </thead>\n",
              "  <tbody>\n",
              "    <tr>\n",
              "      <th>0</th>\n",
              "      <td>19</td>\n",
              "      <td>female</td>\n",
              "      <td>27.900</td>\n",
              "      <td>0</td>\n",
              "      <td>yes</td>\n",
              "      <td>southwest</td>\n",
              "      <td>16884.92400</td>\n",
              "    </tr>\n",
              "    <tr>\n",
              "      <th>1</th>\n",
              "      <td>18</td>\n",
              "      <td>male</td>\n",
              "      <td>33.770</td>\n",
              "      <td>1</td>\n",
              "      <td>no</td>\n",
              "      <td>southeast</td>\n",
              "      <td>1725.55230</td>\n",
              "    </tr>\n",
              "    <tr>\n",
              "      <th>2</th>\n",
              "      <td>28</td>\n",
              "      <td>male</td>\n",
              "      <td>33.000</td>\n",
              "      <td>3</td>\n",
              "      <td>no</td>\n",
              "      <td>southeast</td>\n",
              "      <td>4449.46200</td>\n",
              "    </tr>\n",
              "    <tr>\n",
              "      <th>3</th>\n",
              "      <td>33</td>\n",
              "      <td>male</td>\n",
              "      <td>22.705</td>\n",
              "      <td>0</td>\n",
              "      <td>no</td>\n",
              "      <td>northwest</td>\n",
              "      <td>21984.47061</td>\n",
              "    </tr>\n",
              "    <tr>\n",
              "      <th>4</th>\n",
              "      <td>32</td>\n",
              "      <td>male</td>\n",
              "      <td>28.880</td>\n",
              "      <td>0</td>\n",
              "      <td>no</td>\n",
              "      <td>northwest</td>\n",
              "      <td>3866.85520</td>\n",
              "    </tr>\n",
              "  </tbody>\n",
              "</table>\n",
              "</div>\n",
              "      <button class=\"colab-df-convert\" onclick=\"convertToInteractive('df-d9dc549f-4cbe-4adb-985c-b4adf7ef8c5d')\"\n",
              "              title=\"Convert this dataframe to an interactive table.\"\n",
              "              style=\"display:none;\">\n",
              "        \n",
              "  <svg xmlns=\"http://www.w3.org/2000/svg\" height=\"24px\"viewBox=\"0 0 24 24\"\n",
              "       width=\"24px\">\n",
              "    <path d=\"M0 0h24v24H0V0z\" fill=\"none\"/>\n",
              "    <path d=\"M18.56 5.44l.94 2.06.94-2.06 2.06-.94-2.06-.94-.94-2.06-.94 2.06-2.06.94zm-11 1L8.5 8.5l.94-2.06 2.06-.94-2.06-.94L8.5 2.5l-.94 2.06-2.06.94zm10 10l.94 2.06.94-2.06 2.06-.94-2.06-.94-.94-2.06-.94 2.06-2.06.94z\"/><path d=\"M17.41 7.96l-1.37-1.37c-.4-.4-.92-.59-1.43-.59-.52 0-1.04.2-1.43.59L10.3 9.45l-7.72 7.72c-.78.78-.78 2.05 0 2.83L4 21.41c.39.39.9.59 1.41.59.51 0 1.02-.2 1.41-.59l7.78-7.78 2.81-2.81c.8-.78.8-2.07 0-2.86zM5.41 20L4 18.59l7.72-7.72 1.47 1.35L5.41 20z\"/>\n",
              "  </svg>\n",
              "      </button>\n",
              "      \n",
              "  <style>\n",
              "    .colab-df-container {\n",
              "      display:flex;\n",
              "      flex-wrap:wrap;\n",
              "      gap: 12px;\n",
              "    }\n",
              "\n",
              "    .colab-df-convert {\n",
              "      background-color: #E8F0FE;\n",
              "      border: none;\n",
              "      border-radius: 50%;\n",
              "      cursor: pointer;\n",
              "      display: none;\n",
              "      fill: #1967D2;\n",
              "      height: 32px;\n",
              "      padding: 0 0 0 0;\n",
              "      width: 32px;\n",
              "    }\n",
              "\n",
              "    .colab-df-convert:hover {\n",
              "      background-color: #E2EBFA;\n",
              "      box-shadow: 0px 1px 2px rgba(60, 64, 67, 0.3), 0px 1px 3px 1px rgba(60, 64, 67, 0.15);\n",
              "      fill: #174EA6;\n",
              "    }\n",
              "\n",
              "    [theme=dark] .colab-df-convert {\n",
              "      background-color: #3B4455;\n",
              "      fill: #D2E3FC;\n",
              "    }\n",
              "\n",
              "    [theme=dark] .colab-df-convert:hover {\n",
              "      background-color: #434B5C;\n",
              "      box-shadow: 0px 1px 3px 1px rgba(0, 0, 0, 0.15);\n",
              "      filter: drop-shadow(0px 1px 2px rgba(0, 0, 0, 0.3));\n",
              "      fill: #FFFFFF;\n",
              "    }\n",
              "  </style>\n",
              "\n",
              "      <script>\n",
              "        const buttonEl =\n",
              "          document.querySelector('#df-d9dc549f-4cbe-4adb-985c-b4adf7ef8c5d button.colab-df-convert');\n",
              "        buttonEl.style.display =\n",
              "          google.colab.kernel.accessAllowed ? 'block' : 'none';\n",
              "\n",
              "        async function convertToInteractive(key) {\n",
              "          const element = document.querySelector('#df-d9dc549f-4cbe-4adb-985c-b4adf7ef8c5d');\n",
              "          const dataTable =\n",
              "            await google.colab.kernel.invokeFunction('convertToInteractive',\n",
              "                                                     [key], {});\n",
              "          if (!dataTable) return;\n",
              "\n",
              "          const docLinkHtml = 'Like what you see? Visit the ' +\n",
              "            '<a target=\"_blank\" href=https://colab.research.google.com/notebooks/data_table.ipynb>data table notebook</a>'\n",
              "            + ' to learn more about interactive tables.';\n",
              "          element.innerHTML = '';\n",
              "          dataTable['output_type'] = 'display_data';\n",
              "          await google.colab.output.renderOutput(dataTable, element);\n",
              "          const docLink = document.createElement('div');\n",
              "          docLink.innerHTML = docLinkHtml;\n",
              "          element.appendChild(docLink);\n",
              "        }\n",
              "      </script>\n",
              "    </div>\n",
              "  </div>\n",
              "  "
            ]
          },
          "metadata": {},
          "execution_count": 7
        }
      ],
      "source": [
        " df = pd.read_csv('https://raw.githubusercontent.com/zzhining/ml_basic/main/dataset/insurance.csv')\n",
        " df.head()"
      ]
    },
    {
      "cell_type": "markdown",
      "metadata": {
        "id": "CxaOfLkjSymx"
      },
      "source": [
        "## Q2. \n",
        "\n",
        "\n",
        "<div class=\"alert alert-success\">\n",
        "[문제2]     \n",
        "    \n",
        "df의 요약(평균, 4분위수, 전체 갯수 등)정보 확인하기\n",
        "</div>\n",
        "\n",
        "------------"
      ]
    },
    {
      "cell_type": "code",
      "execution_count": null,
      "metadata": {
        "id": "NcQL-hQMSymy"
      },
      "outputs": [],
      "source": []
    },
    {
      "cell_type": "markdown",
      "metadata": {
        "id": "rlEU5FMSSymy"
      },
      "source": [
        "## Q3. \n",
        "\n",
        "\n",
        "<div class=\"alert alert-success\">\n",
        "[문제3]     \n",
        "    \n",
        "신규 컬럼(double bmi)을 생성하고, bmi의 2배가 되는 값을 할당하기\n",
        "</div>\n",
        "\n",
        "------------"
      ]
    },
    {
      "cell_type": "code",
      "execution_count": null,
      "metadata": {
        "id": "HfrxyjKTSymy"
      },
      "outputs": [],
      "source": []
    },
    {
      "cell_type": "markdown",
      "metadata": {
        "id": "1ZJWpJDjSymz"
      },
      "source": [
        "## Q4. \n",
        "\n",
        "\n",
        "<div class=\"alert alert-success\">\n",
        "[문제4]     \n",
        "    \n",
        "신규 컬럼(debt)을 생성하고, 0으로 채우기\n",
        "</div>\n",
        "\n",
        "------------"
      ]
    },
    {
      "cell_type": "code",
      "execution_count": null,
      "metadata": {
        "id": "yv2auFqQSymz"
      },
      "outputs": [],
      "source": []
    },
    {
      "cell_type": "markdown",
      "metadata": {
        "id": "6uVpBuNoSymz"
      },
      "source": [
        "## Q5. \n",
        "\n",
        "\n",
        "<div class=\"alert alert-success\">\n",
        "[문제5]     \n",
        "    \n",
        "debt에 0부터 값이 증가하도록 채우기\n",
        "</div>\n",
        "\n",
        "------------"
      ]
    },
    {
      "cell_type": "code",
      "execution_count": null,
      "metadata": {
        "id": "xwSSjn9bSym0"
      },
      "outputs": [],
      "source": []
    },
    {
      "cell_type": "markdown",
      "metadata": {
        "id": "Nozo2vD4Sym0"
      },
      "source": [
        "## Q6. \n",
        "\n",
        "\n",
        "<div class=\"alert alert-success\">\n",
        "[문제6]     \n",
        "    \n",
        "1번 인덱스의 정보 출력\n",
        "</div>\n",
        "\n",
        "------------\n",
        "\n",
        "[힌트]\n",
        "iloc\n",
        "\n",
        "\n",
        "\n",
        "age                  18  \n",
        "sex                male  \n",
        "bmi               33.77  \n",
        "children              1  \n",
        "smoker               no  \n",
        "region        southeast  \n",
        "charges         1725.55  \n",
        "double bmi        67.54  \n",
        "debt                  1  "
      ]
    },
    {
      "cell_type": "code",
      "execution_count": null,
      "metadata": {
        "id": "MyX4-_qrSym0"
      },
      "outputs": [],
      "source": []
    },
    {
      "cell_type": "markdown",
      "metadata": {
        "id": "GAXMcD8CSym0"
      },
      "source": [
        "## Q7. \n",
        "\n",
        "\n",
        "<div class=\"alert alert-success\">\n",
        "[문제7]     \n",
        "    \n",
        "'double bmi'열 삭제하기\n",
        "</div>"
      ]
    },
    {
      "cell_type": "code",
      "execution_count": null,
      "metadata": {
        "id": "XawCoeJRSym1"
      },
      "outputs": [],
      "source": []
    },
    {
      "cell_type": "markdown",
      "metadata": {
        "id": "VrbIHq_NSym1"
      },
      "source": [
        "## Q8. \n",
        "\n",
        "\n",
        "<div class=\"alert alert-success\">\n",
        "[문제8]     \n",
        "    \n",
        " 'age'열, 'sex'열만 출력하기\n",
        "</div>"
      ]
    },
    {
      "cell_type": "code",
      "execution_count": null,
      "metadata": {
        "id": "wWdFGo0cSym1"
      },
      "outputs": [],
      "source": []
    },
    {
      "cell_type": "markdown",
      "metadata": {
        "id": "w3z2xK4CSym1"
      },
      "source": [
        "# 과제2\n",
        "## Q9.\n",
        "<div class=\"alert alert-success\">\n",
        "[문제9]     \n",
        "    \n",
        "나이를 1살씩 증가시키기\n",
        "</div>"
      ]
    },
    {
      "cell_type": "code",
      "execution_count": null,
      "metadata": {
        "id": "eIZkMPyRSym1"
      },
      "outputs": [],
      "source": []
    },
    {
      "cell_type": "code",
      "execution_count": null,
      "metadata": {
        "id": "Vs_KuBbWSym1"
      },
      "outputs": [],
      "source": []
    },
    {
      "cell_type": "markdown",
      "metadata": {
        "id": "YR7kdcd2Sym2"
      },
      "source": [
        "## Q10.\n",
        "<div class=\"alert alert-success\">\n",
        "[문제10]     \n",
        "    \n",
        "charges의 표시형식을 소수점 아래 2자리로 바꾸기\n",
        "</div>\n",
        "\n",
        "[힌트]\n",
        "\n",
        "함수 생성, 적용(apply/map)"
      ]
    },
    {
      "cell_type": "code",
      "execution_count": null,
      "metadata": {
        "id": "oca4eyx5Sym2"
      },
      "outputs": [],
      "source": []
    },
    {
      "cell_type": "markdown",
      "metadata": {
        "id": "fAWFG4KOSym2"
      },
      "source": [
        "## Q11.\n",
        "<div class=\"alert alert-success\">\n",
        "[문제11]     \n",
        "    \n",
        "컬럼 정렬(알파벳 순서대로) : age, bmi, charges... 순으로 정렬\n",
        "</div>\n",
        "\n",
        "[Hint]\n",
        "sort_index()\n"
      ]
    },
    {
      "cell_type": "code",
      "execution_count": null,
      "metadata": {
        "id": "XKS8Rhb8Sym2"
      },
      "outputs": [],
      "source": []
    },
    {
      "cell_type": "markdown",
      "metadata": {
        "id": "eBEljgBYSym2"
      },
      "source": [
        "## Q12.\n",
        "<div class=\"alert alert-success\">\n",
        "[문제12]     \n",
        "    \n",
        "값 정렬(age) : 나이 순으로 정렬\n",
        "</div>\n",
        "\n",
        "[Hint]\n",
        "sort_values\n"
      ]
    },
    {
      "cell_type": "code",
      "execution_count": null,
      "metadata": {
        "id": "csbByWQJSym3"
      },
      "outputs": [],
      "source": []
    },
    {
      "cell_type": "markdown",
      "metadata": {
        "id": "CR_Nv2vhSym3"
      },
      "source": [
        "## Q13.\n",
        "<div class=\"alert alert-success\">\n",
        "[문제13]     \n",
        "    \n",
        "나이('age') 평균구하기\n",
        "</div>\n",
        "\n",
        "[Hint]\n",
        "mean"
      ]
    },
    {
      "cell_type": "code",
      "execution_count": null,
      "metadata": {
        "id": "NkTlb1O7Sym3"
      },
      "outputs": [],
      "source": []
    },
    {
      "cell_type": "markdown",
      "metadata": {
        "id": "9nD4NeOQSym3"
      },
      "source": [
        "## Q14.\n",
        "<div class=\"alert alert-success\">\n",
        "[문제14]     \n",
        "    \n",
        "보험료('charges')와 가장 상관관계가 높은 변수는?\n",
        "</div>\n",
        "\n",
        "[Hint]\n",
        " - 공분산: df.cov()\n",
        " - 상관계수: df.corr()"
      ]
    },
    {
      "cell_type": "code",
      "execution_count": null,
      "metadata": {
        "id": "vAOvFQ4gSym3"
      },
      "outputs": [],
      "source": []
    },
    {
      "cell_type": "code",
      "execution_count": null,
      "metadata": {
        "id": "yESJueu6Sym3"
      },
      "outputs": [],
      "source": []
    },
    {
      "cell_type": "markdown",
      "metadata": {
        "id": "yzBCgRfGSym3"
      },
      "source": [
        "# 과제 3\n",
        "## Q15.\n",
        "<div class=\"alert alert-success\">\n",
        "[문제15]     \n",
        "    \n",
        " 남자, 여자가 각각 몇명있는지 구하기\n",
        "</div>\n",
        "\n",
        "[Hint]\n",
        "pd.value_counts\n"
      ]
    },
    {
      "cell_type": "code",
      "execution_count": null,
      "metadata": {
        "id": "flvcVvOaSym4"
      },
      "outputs": [],
      "source": []
    },
    {
      "cell_type": "code",
      "execution_count": null,
      "metadata": {
        "id": "d1LodzOGSym4"
      },
      "outputs": [],
      "source": []
    },
    {
      "cell_type": "markdown",
      "metadata": {
        "id": "cS-6vyE3Sym4"
      },
      "source": [
        "## Q16.\n",
        "<div class=\"alert alert-success\">\n",
        "[문제16]     \n",
        "    \n",
        "자녀(children)가 3명인 데이터 출력하기\n",
        "</div>"
      ]
    },
    {
      "cell_type": "code",
      "execution_count": null,
      "metadata": {
        "id": "Xl3UyVeaSym4"
      },
      "outputs": [],
      "source": []
    },
    {
      "cell_type": "code",
      "execution_count": null,
      "metadata": {
        "id": "7Kja-RUWSym4"
      },
      "outputs": [],
      "source": []
    },
    {
      "cell_type": "markdown",
      "metadata": {
        "id": "99JW6dm_Sym4"
      },
      "source": [
        "## Q16.\n",
        "<div class=\"alert alert-success\">\n",
        "[문제16]     \n",
        "    \n",
        "자녀(children)가  5명 이상인 데이터 출력하기\n",
        "</div>"
      ]
    },
    {
      "cell_type": "code",
      "execution_count": null,
      "metadata": {
        "id": "qgC9GcwMSym4"
      },
      "outputs": [],
      "source": []
    },
    {
      "cell_type": "markdown",
      "metadata": {
        "id": "mHSF2EyZSym4"
      },
      "source": [
        "## Q17.\n",
        "<div class=\"alert alert-success\">\n",
        "[문제17]     \n",
        "    \n",
        " bmi가  17 미만인 데이터 출력하기\n",
        "</div>"
      ]
    },
    {
      "cell_type": "code",
      "execution_count": null,
      "metadata": {
        "id": "dCm_wjIJSym5"
      },
      "outputs": [],
      "source": []
    },
    {
      "cell_type": "markdown",
      "metadata": {
        "id": "OZqzyKT3Sym5"
      },
      "source": [
        "# 과제 4 \n",
        "## Q18.\n",
        "<div class=\"alert alert-success\">\n",
        "[문제18]     \n",
        "    \n",
        "성별에 따른 보험료 평균\n",
        "</div>"
      ]
    },
    {
      "cell_type": "code",
      "execution_count": null,
      "metadata": {
        "id": "zEdlTV1LSym5"
      },
      "outputs": [],
      "source": []
    },
    {
      "cell_type": "markdown",
      "metadata": {
        "id": "F3nEGlBQSym5"
      },
      "source": [
        "## Q19.\n",
        "<div class=\"alert alert-success\">\n",
        "[문제19]     \n",
        "    \n",
        "흡연여부에 따른 보험료 평균\n",
        "</div>"
      ]
    },
    {
      "cell_type": "code",
      "execution_count": null,
      "metadata": {
        "id": "tIQBkdlLSym5"
      },
      "outputs": [],
      "source": []
    },
    {
      "cell_type": "markdown",
      "metadata": {
        "id": "-8u1gXqfSym5"
      },
      "source": [
        "## Q20.\n",
        "<div class=\"alert alert-success\">\n",
        "[문제20]     \n",
        "    \n",
        "지역별 보험료 평균\n",
        "</div>"
      ]
    },
    {
      "cell_type": "code",
      "execution_count": null,
      "metadata": {
        "id": "G7TN-B8MSym5"
      },
      "outputs": [],
      "source": []
    },
    {
      "cell_type": "markdown",
      "metadata": {
        "id": "PbWuGw9wSym5"
      },
      "source": [
        "## Q21.\n",
        "<div class=\"alert alert-success\">\n",
        "[문제21]     \n",
        "    \n",
        "흡연여부 + 지역별 데이터 평균\n",
        "</div>"
      ]
    },
    {
      "cell_type": "code",
      "execution_count": null,
      "metadata": {
        "id": "1D8GMqIJSym6"
      },
      "outputs": [],
      "source": []
    },
    {
      "cell_type": "markdown",
      "metadata": {
        "id": "14kuCN1rSym6"
      },
      "source": [
        "## Q22.\n",
        "<div class=\"alert alert-success\">\n",
        "[문제22]     \n",
        "    \n",
        " 흡연여부 + 지역별 데이터 평균에서 'charges' 만 츨력하기\n",
        "</div>"
      ]
    },
    {
      "cell_type": "code",
      "execution_count": null,
      "metadata": {
        "id": "tQZwgvwASym6"
      },
      "outputs": [],
      "source": []
    },
    {
      "cell_type": "markdown",
      "metadata": {
        "id": "jMvim1N3Sym6"
      },
      "source": [
        "## Q23.\n",
        "<div class=\"alert alert-success\">\n",
        "[문제23]     \n",
        "    \n",
        " 흡연여부 + 지역별 데이터 크기(size)\n",
        "</div>"
      ]
    },
    {
      "cell_type": "code",
      "execution_count": null,
      "metadata": {
        "id": "sEs_2N6lSym6"
      },
      "outputs": [],
      "source": []
    },
    {
      "cell_type": "markdown",
      "metadata": {
        "id": "Xecgqc-VSym6"
      },
      "source": [
        "## Q24.\n",
        "<div class=\"alert alert-success\">\n",
        "[문제24]     \n",
        "    \n",
        "smoker 여부에 따라, group_val 컬럼에 '흡연자', '비흡연자' 표시하기\n",
        "</div>"
      ]
    },
    {
      "cell_type": "code",
      "execution_count": null,
      "metadata": {
        "id": "N-HRlzW3Sym6"
      },
      "outputs": [],
      "source": []
    },
    {
      "cell_type": "code",
      "execution_count": null,
      "metadata": {
        "id": "RSdAOjzVSym6"
      },
      "outputs": [],
      "source": []
    },
    {
      "cell_type": "code",
      "execution_count": null,
      "metadata": {
        "id": "PvF5YaHPSym6"
      },
      "outputs": [],
      "source": []
    }
  ],
  "metadata": {
    "kernelspec": {
      "display_name": "Python 3",
      "language": "python",
      "name": "python3"
    },
    "language_info": {
      "codemirror_mode": {
        "name": "ipython",
        "version": 3
      },
      "file_extension": ".py",
      "mimetype": "text/x-python",
      "name": "python",
      "nbconvert_exporter": "python",
      "pygments_lexer": "ipython3",
      "version": "3.8.5"
    },
    "toc": {
      "base_numbering": 1,
      "nav_menu": {},
      "number_sections": false,
      "sideBar": true,
      "skip_h1_title": false,
      "title_cell": "Table of Contents",
      "title_sidebar": "Contents",
      "toc_cell": false,
      "toc_position": {
        "height": "calc(100% - 180px)",
        "left": "10px",
        "top": "150px",
        "width": "332.547px"
      },
      "toc_section_display": true,
      "toc_window_display": true
    },
    "colab": {
      "provenance": [],
      "include_colab_link": true
    }
  },
  "nbformat": 4,
  "nbformat_minor": 0
}