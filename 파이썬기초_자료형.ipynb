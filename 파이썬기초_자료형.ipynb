{
  "cells": [
    {
      "cell_type": "markdown",
      "metadata": {
        "id": "view-in-github",
        "colab_type": "text"
      },
      "source": [
        "<a href=\"https://colab.research.google.com/github/ukhyun-lee/stock_market_analysis/blob/main/%ED%8C%8C%EC%9D%B4%EC%8D%AC%EA%B8%B0%EC%B4%88_%EC%9E%90%EB%A3%8C%ED%98%95.ipynb\" target=\"_parent\"><img src=\"https://colab.research.google.com/assets/colab-badge.svg\" alt=\"Open In Colab\"/></a>"
      ]
    },
    {
      "cell_type": "markdown",
      "metadata": {
        "id": "6JBhoBgFa1Lj"
      },
      "source": [
        "# 2.2.1 기본 데이터 타입"
      ]
    },
    {
      "cell_type": "markdown",
      "source": [
        "**type(변수이름)**\n",
        "\n",
        "- 변수의 자료형을 반환하는 함수\n",
        "<br><br>\n",
        "\n",
        "**파이썬의 기본 자료형**\n",
        "\n",
        "- 숫자(numeric): 정수(integer), 실수(float)\n",
        "- 불리언(boolean): True, False\n",
        "- 문자형(String)"
      ],
      "metadata": {
        "id": "z4rzt8LObPOo"
      }
    },
    {
      "cell_type": "markdown",
      "metadata": {
        "id": "iDWCo7iba1Lm"
      },
      "source": [
        "## ① 숫자형(numeric)\n",
        " 정수(integer), 실수(float)"
      ]
    },
    {
      "cell_type": "code",
      "execution_count": 1,
      "metadata": {
        "colab": {
          "base_uri": "https://localhost:8080/"
        },
        "id": "lcFf0IZ0a1Ln",
        "outputId": "02ff9535-578d-4cba-a379-6cb69953d0b4"
      },
      "outputs": [
        {
          "output_type": "execute_result",
          "data": {
            "text/plain": [
              "int"
            ]
          },
          "metadata": {},
          "execution_count": 1
        }
      ],
      "source": [
        "x, y, z = 10, 3.14, -25\n",
        "type(x)"
      ]
    },
    {
      "cell_type": "code",
      "execution_count": 2,
      "metadata": {
        "colab": {
          "base_uri": "https://localhost:8080/"
        },
        "id": "zhGWv9D1a1Lp",
        "outputId": "b0f4129e-bc6f-4b9f-b661-26a41388e440"
      },
      "outputs": [
        {
          "output_type": "execute_result",
          "data": {
            "text/plain": [
              "float"
            ]
          },
          "metadata": {},
          "execution_count": 2
        }
      ],
      "source": [
        "type(y)"
      ]
    },
    {
      "cell_type": "code",
      "execution_count": 3,
      "metadata": {
        "colab": {
          "base_uri": "https://localhost:8080/"
        },
        "id": "ucOC6Qgxa1Lp",
        "outputId": "4898aa89-b1c1-4c96-9dfe-f44f051fe424"
      },
      "outputs": [
        {
          "output_type": "execute_result",
          "data": {
            "text/plain": [
              "int"
            ]
          },
          "metadata": {},
          "execution_count": 3
        }
      ],
      "source": [
        "type(z)"
      ]
    },
    {
      "cell_type": "code",
      "execution_count": 4,
      "metadata": {
        "colab": {
          "base_uri": "https://localhost:8080/"
        },
        "id": "LxG5U-X3a1Lq",
        "outputId": "f2a9cd59-d588-4b93-a1fa-0969e06b073c"
      },
      "outputs": [
        {
          "output_type": "execute_result",
          "data": {
            "text/plain": [
              "17000.0"
            ]
          },
          "metadata": {},
          "execution_count": 4
        }
      ],
      "source": [
        "a = 17e3\n",
        "a"
      ]
    },
    {
      "cell_type": "code",
      "execution_count": 5,
      "metadata": {
        "colab": {
          "base_uri": "https://localhost:8080/"
        },
        "id": "m7mYMfKba1Lq",
        "outputId": "46a64cfc-7a97-4d6c-dacc-f0ec80fef71a"
      },
      "outputs": [
        {
          "output_type": "execute_result",
          "data": {
            "text/plain": [
              "17000.0"
            ]
          },
          "metadata": {},
          "execution_count": 5
        }
      ],
      "source": [
        "b = 17E3 #대문자 E를 사용 할 수도 있습니다.\n",
        "b"
      ]
    },
    {
      "cell_type": "code",
      "execution_count": 6,
      "metadata": {
        "colab": {
          "base_uri": "https://localhost:8080/"
        },
        "id": "WpTxbp2Ua1Lq",
        "outputId": "02210107-9a2c-490b-a382-68ce2799046b"
      },
      "outputs": [
        {
          "output_type": "execute_result",
          "data": {
            "text/plain": [
              "-3520.0"
            ]
          },
          "metadata": {},
          "execution_count": 6
        }
      ],
      "source": [
        "c = -35.2e2\n",
        "c"
      ]
    },
    {
      "cell_type": "code",
      "execution_count": 7,
      "metadata": {
        "colab": {
          "base_uri": "https://localhost:8080/"
        },
        "id": "jMuLQ7Saa1Lr",
        "outputId": "f957c482-766d-4240-c7b0-e0dc941cef55"
      },
      "outputs": [
        {
          "output_type": "execute_result",
          "data": {
            "text/plain": [
              "2.75"
            ]
          },
          "metadata": {},
          "execution_count": 7
        }
      ],
      "source": [
        "d = 275e-2\n",
        "d"
      ]
    },
    {
      "cell_type": "markdown",
      "metadata": {
        "id": "hg0emplra1Lr"
      },
      "source": [
        "## ② 불리언(boolean)\n",
        "참(True)/거짓(False)"
      ]
    },
    {
      "cell_type": "code",
      "execution_count": 8,
      "metadata": {
        "colab": {
          "base_uri": "https://localhost:8080/"
        },
        "id": "ADXaOwRZa1Lr",
        "outputId": "f6b4d44d-cd59-4cc5-974e-434d61826ae8"
      },
      "outputs": [
        {
          "output_type": "execute_result",
          "data": {
            "text/plain": [
              "True"
            ]
          },
          "metadata": {},
          "execution_count": 8
        }
      ],
      "source": [
        "a = 100 > 50\n",
        "a"
      ]
    },
    {
      "cell_type": "code",
      "execution_count": 9,
      "metadata": {
        "colab": {
          "base_uri": "https://localhost:8080/"
        },
        "id": "G8vH3Lema1Lr",
        "outputId": "243c8925-ea6a-4d3c-cb16-53e73640966f"
      },
      "outputs": [
        {
          "output_type": "execute_result",
          "data": {
            "text/plain": [
              "False"
            ]
          },
          "metadata": {},
          "execution_count": 9
        }
      ],
      "source": [
        "b = 100 < 50\n",
        "b"
      ]
    },
    {
      "cell_type": "code",
      "execution_count": 10,
      "metadata": {
        "colab": {
          "base_uri": "https://localhost:8080/"
        },
        "id": "LjfVlzVja1Ls",
        "outputId": "40a10cbc-be66-4d0b-f840-69ac30f6a36f"
      },
      "outputs": [
        {
          "output_type": "execute_result",
          "data": {
            "text/plain": [
              "False"
            ]
          },
          "metadata": {},
          "execution_count": 10
        }
      ],
      "source": [
        "c = 100 == 50 # 등호 두 개(==)는 좌측의 값과 우측의 값이 같은지 아닌지를 판단하는 조건식\n",
        "c"
      ]
    },
    {
      "cell_type": "code",
      "execution_count": 11,
      "metadata": {
        "colab": {
          "base_uri": "https://localhost:8080/"
        },
        "id": "4G4n0-8Ca1Ls",
        "outputId": "858b1702-2029-4999-8310-4de0055ac132"
      },
      "outputs": [
        {
          "output_type": "execute_result",
          "data": {
            "text/plain": [
              "bool"
            ]
          },
          "metadata": {},
          "execution_count": 11
        }
      ],
      "source": [
        "type(c)"
      ]
    },
    {
      "cell_type": "markdown",
      "metadata": {
        "id": "qFtUROg4a1Ls"
      },
      "source": [
        "## ③ 문자형(string, str) "
      ]
    },
    {
      "cell_type": "code",
      "execution_count": 12,
      "metadata": {
        "colab": {
          "base_uri": "https://localhost:8080/"
        },
        "id": "R7DE1KOza1Ls",
        "outputId": "80e64483-303d-4b53-cc32-748b6565e288"
      },
      "outputs": [
        {
          "output_type": "execute_result",
          "data": {
            "text/plain": [
              "str"
            ]
          },
          "metadata": {},
          "execution_count": 12
        }
      ],
      "source": [
        "# 따옴표로 감싼 문자, 'Hello'와 \"Hello\"는 동일\n",
        "a = 'Hello'\n",
        "type(a)"
      ]
    },
    {
      "cell_type": "code",
      "execution_count": 13,
      "metadata": {
        "colab": {
          "base_uri": "https://localhost:8080/"
        },
        "id": "8ymj3f_ta1Ls",
        "outputId": "abb033cc-fc8d-44bf-a407-356db8e93495"
      },
      "outputs": [
        {
          "output_type": "execute_result",
          "data": {
            "text/plain": [
              "str"
            ]
          },
          "metadata": {},
          "execution_count": 13
        }
      ],
      "source": [
        "# 따옴표로 감싼 숫자는 문자\n",
        "b = '123'\n",
        "type(b)"
      ]
    },
    {
      "cell_type": "code",
      "execution_count": 14,
      "metadata": {
        "colab": {
          "base_uri": "https://localhost:8080/"
        },
        "id": "xKJxSW5Ca1Lt",
        "outputId": "4be0a4ad-af03-4ddc-f8bd-425351e1a409"
      },
      "outputs": [
        {
          "output_type": "execute_result",
          "data": {
            "text/plain": [
              "str"
            ]
          },
          "metadata": {},
          "execution_count": 14
        }
      ],
      "source": [
        "# 띄어쓰기가 포함된 문자열\n",
        "c = \"How are you?\"\n",
        "type(c)"
      ]
    },
    {
      "cell_type": "markdown",
      "source": [
        "여러 줄로 이루어진 문자열은 따옴표를 세 개 연달아 이어서(`\"\"\" \"\"\"`) 선언합니다. "
      ],
      "metadata": {
        "id": "kWHeXtKScZMI"
      }
    },
    {
      "cell_type": "code",
      "execution_count": 15,
      "metadata": {
        "colab": {
          "base_uri": "https://localhost:8080/",
          "height": 137
        },
        "id": "MEk5Up-Sa1Lt",
        "outputId": "8ef95828-932b-4e3c-ee46-cd542208278c"
      },
      "outputs": [
        {
          "output_type": "error",
          "ename": "SyntaxError",
          "evalue": "ignored",
          "traceback": [
            "\u001b[0;36m  File \u001b[0;32m\"<ipython-input-15-1ed65e62d316>\"\u001b[0;36m, line \u001b[0;32m1\u001b[0m\n\u001b[0;31m    x = \"Twinkle, twinkle, little star,\u001b[0m\n\u001b[0m                                       ^\u001b[0m\n\u001b[0;31mSyntaxError\u001b[0m\u001b[0;31m:\u001b[0m EOL while scanning string literal\n"
          ]
        }
      ],
      "source": [
        "x = \"Twinkle, twinkle, little star,\n",
        "How I wonder what you are!\n",
        "Up above the world so high,\n",
        "Like a diamond in the sky.\"\n",
        "x"
      ]
    },
    {
      "cell_type": "code",
      "execution_count": 16,
      "metadata": {
        "colab": {
          "base_uri": "https://localhost:8080/",
          "height": 35
        },
        "id": "u8gAQKSFa1Lt",
        "outputId": "84aac6ce-fec9-4ab6-8f6c-1a3d6e0cd942"
      },
      "outputs": [
        {
          "output_type": "execute_result",
          "data": {
            "text/plain": [
              "'Twinkle, twinkle, little star,\\nHow I wonder what you are!\\nUp above the world so high,\\nLike a diamond in the sky.'"
            ],
            "application/vnd.google.colaboratory.intrinsic+json": {
              "type": "string"
            }
          },
          "metadata": {},
          "execution_count": 16
        }
      ],
      "source": [
        "x = \"\"\"Twinkle, twinkle, little star,\n",
        "How I wonder what you are!\n",
        "Up above the world so high,\n",
        "Like a diamond in the sky.\"\"\"\n",
        "x"
      ]
    },
    {
      "cell_type": "markdown",
      "source": [
        "문자열 안에 따옴표가 들어간다면? `'`와 `\"`를 번갈아서 사용해보세요."
      ],
      "metadata": {
        "id": "IaCpd2fpcmtM"
      }
    },
    {
      "cell_type": "code",
      "execution_count": 17,
      "metadata": {
        "colab": {
          "base_uri": "https://localhost:8080/",
          "height": 137
        },
        "id": "nPBu28wVa1Lt",
        "outputId": "eb679514-5f26-499e-a88d-5180e0bd487e"
      },
      "outputs": [
        {
          "output_type": "error",
          "ename": "SyntaxError",
          "evalue": "ignored",
          "traceback": [
            "\u001b[0;36m  File \u001b[0;32m\"<ipython-input-17-4275bbce3138>\"\u001b[0;36m, line \u001b[0;32m1\u001b[0m\n\u001b[0;31m    y = \"He said, \"I love you.\"\"\u001b[0m\n\u001b[0m                   ^\u001b[0m\n\u001b[0;31mSyntaxError\u001b[0m\u001b[0;31m:\u001b[0m invalid syntax\n"
          ]
        }
      ],
      "source": [
        "y = \"He said, \"I love you.\"\"\n",
        "y"
      ]
    },
    {
      "cell_type": "code",
      "execution_count": 18,
      "metadata": {
        "colab": {
          "base_uri": "https://localhost:8080/",
          "height": 35
        },
        "id": "8WMgj9vCa1Lt",
        "outputId": "b26bd5e3-0124-4c55-eb3f-4475d908e430"
      },
      "outputs": [
        {
          "output_type": "execute_result",
          "data": {
            "text/plain": [
              "'He said, \"I love you.\"'"
            ],
            "application/vnd.google.colaboratory.intrinsic+json": {
              "type": "string"
            }
          },
          "metadata": {},
          "execution_count": 18
        }
      ],
      "source": [
        "y = 'He said, \"I love you.\"'\n",
        "y"
      ]
    },
    {
      "cell_type": "code",
      "execution_count": 19,
      "metadata": {
        "colab": {
          "base_uri": "https://localhost:8080/",
          "height": 35
        },
        "id": "W6NP9BXxa1Lt",
        "outputId": "d4dd405e-e1d9-4412-9487-0ecf408950af"
      },
      "outputs": [
        {
          "output_type": "execute_result",
          "data": {
            "text/plain": [
              "'He said, \"I love you.\"'"
            ],
            "application/vnd.google.colaboratory.intrinsic+json": {
              "type": "string"
            }
          },
          "metadata": {},
          "execution_count": 19
        }
      ],
      "source": [
        "y = \"He said, \\\"I love you.\\\"\"\n",
        "y"
      ]
    },
    {
      "cell_type": "markdown",
      "metadata": {
        "id": "rvhoXKZYa1Lu"
      },
      "source": [
        "# 2.2.2 데이터 타입의 형 변환"
      ]
    },
    {
      "cell_type": "markdown",
      "source": [
        "- int(): 정수형으로 변환\n",
        "- float(): 실수형으로 변환\n",
        "- bool(): 불리언형으로 변환\n",
        "- str(): 문자열로 변환"
      ],
      "metadata": {
        "id": "5-8GTaxzb3mJ"
      }
    },
    {
      "cell_type": "code",
      "execution_count": 20,
      "metadata": {
        "colab": {
          "base_uri": "https://localhost:8080/",
          "height": 35
        },
        "id": "XbqbB2mta1Lu",
        "outputId": "d55dffa0-6b0b-4774-ed99-24f6c191a906"
      },
      "outputs": [
        {
          "output_type": "execute_result",
          "data": {
            "text/plain": [
              "'2050'"
            ],
            "application/vnd.google.colaboratory.intrinsic+json": {
              "type": "string"
            }
          },
          "metadata": {},
          "execution_count": 20
        }
      ],
      "source": [
        "temperature = '20'\n",
        "humidity = '50'\n",
        "\n",
        "temperature + humidity"
      ]
    },
    {
      "cell_type": "code",
      "execution_count": 21,
      "metadata": {
        "colab": {
          "base_uri": "https://localhost:8080/"
        },
        "id": "SgZKhTVTa1Lu",
        "outputId": "c87a2a3c-52af-4cfa-b653-d454cfb7b4df"
      },
      "outputs": [
        {
          "output_type": "execute_result",
          "data": {
            "text/plain": [
              "70"
            ]
          },
          "metadata": {},
          "execution_count": 21
        }
      ],
      "source": [
        "int(temperature) + int(humidity)"
      ]
    },
    {
      "cell_type": "code",
      "execution_count": 23,
      "metadata": {
        "id": "MjgNhn-ra1Lu"
      },
      "outputs": [],
      "source": [
        "a = 0\n",
        "b = 500\n",
        "c = ''\n",
        "d = '하하호호'"
      ]
    },
    {
      "cell_type": "markdown",
      "source": [
        "-숫자의 경우, 0은 False로, 0이 아닌 수는 True\n",
        "-문자의 경우, 공백은 False로 아니면 True"
      ],
      "metadata": {
        "id": "Hy_TUYD_5OGn"
      }
    },
    {
      "cell_type": "code",
      "execution_count": 24,
      "metadata": {
        "colab": {
          "base_uri": "https://localhost:8080/"
        },
        "id": "GG_OxIFla1Lu",
        "outputId": "7914fab8-03dd-4a89-867d-445935e9db26"
      },
      "outputs": [
        {
          "output_type": "execute_result",
          "data": {
            "text/plain": [
              "False"
            ]
          },
          "metadata": {},
          "execution_count": 24
        }
      ],
      "source": [
        "bool(a)"
      ]
    },
    {
      "cell_type": "code",
      "execution_count": 25,
      "metadata": {
        "colab": {
          "base_uri": "https://localhost:8080/"
        },
        "id": "MqDrYe8da1Lu",
        "outputId": "4cba34c3-e896-4911-8db2-05bc1b0340d5"
      },
      "outputs": [
        {
          "output_type": "execute_result",
          "data": {
            "text/plain": [
              "True"
            ]
          },
          "metadata": {},
          "execution_count": 25
        }
      ],
      "source": [
        "bool(b)"
      ]
    },
    {
      "cell_type": "code",
      "execution_count": 26,
      "metadata": {
        "colab": {
          "base_uri": "https://localhost:8080/"
        },
        "id": "naWVGNwAa1Lu",
        "outputId": "6d7f0ea5-8aa1-4f1e-dbea-51c4d95d9d4b"
      },
      "outputs": [
        {
          "output_type": "execute_result",
          "data": {
            "text/plain": [
              "False"
            ]
          },
          "metadata": {},
          "execution_count": 26
        }
      ],
      "source": [
        "bool(c)"
      ]
    },
    {
      "cell_type": "code",
      "execution_count": 27,
      "metadata": {
        "colab": {
          "base_uri": "https://localhost:8080/"
        },
        "id": "6hp4Xegna1Lv",
        "outputId": "ccc67715-b58c-47a1-fceb-ab52216e0d5b"
      },
      "outputs": [
        {
          "output_type": "execute_result",
          "data": {
            "text/plain": [
              "True"
            ]
          },
          "metadata": {},
          "execution_count": 27
        }
      ],
      "source": [
        "bool(d)"
      ]
    },
    {
      "cell_type": "markdown",
      "metadata": {
        "id": "7r5zgcAsa1Lv"
      },
      "source": [
        "# (참고)\n",
        "\n",
        "다음 데이터 형변환의 결과가 어떻게 될지 예상해 보세요"
      ]
    },
    {
      "cell_type": "code",
      "execution_count": 28,
      "metadata": {
        "id": "7TwPXRHSa1Lv"
      },
      "outputs": [],
      "source": [
        "# int() 형변환\n",
        "x = int(100)\n",
        "y = int(29.8)\n",
        "z = int(\"50\")"
      ]
    },
    {
      "cell_type": "code",
      "source": [
        "x, y, z"
      ],
      "metadata": {
        "colab": {
          "base_uri": "https://localhost:8080/"
        },
        "id": "flH9v70U5g-4",
        "outputId": "32e7ea10-7701-430e-e743-6b9a42a3732f"
      },
      "execution_count": 29,
      "outputs": [
        {
          "output_type": "execute_result",
          "data": {
            "text/plain": [
              "(100, 29, 50)"
            ]
          },
          "metadata": {},
          "execution_count": 29
        }
      ]
    },
    {
      "cell_type": "code",
      "execution_count": 30,
      "metadata": {
        "id": "uqrKNQCAa1Lv"
      },
      "outputs": [],
      "source": [
        "# float() 형변환\n",
        "a = float(100)\n",
        "b = float(29.8)\n",
        "c = float(\"50\")\n",
        "d = float(\"3.14\")"
      ]
    },
    {
      "cell_type": "code",
      "source": [
        "a, b, c, d"
      ],
      "metadata": {
        "colab": {
          "base_uri": "https://localhost:8080/"
        },
        "id": "fsDpuuFc5l9u",
        "outputId": "64ba548c-6268-48aa-8de4-20d733a535a1"
      },
      "execution_count": 31,
      "outputs": [
        {
          "output_type": "execute_result",
          "data": {
            "text/plain": [
              "(100.0, 29.8, 50.0, 3.14)"
            ]
          },
          "metadata": {},
          "execution_count": 31
        }
      ]
    },
    {
      "cell_type": "code",
      "execution_count": 33,
      "metadata": {
        "id": "21pV5vEMa1Lv"
      },
      "outputs": [],
      "source": [
        "# float() 형변환\n",
        "x = str(\"text\")\n",
        "y = str(100)\n",
        "z = str(3.14)"
      ]
    },
    {
      "cell_type": "code",
      "source": [
        "x, y, z"
      ],
      "metadata": {
        "colab": {
          "base_uri": "https://localhost:8080/"
        },
        "id": "qEjKPJqY5r9n",
        "outputId": "21c91971-2174-4558-fb0a-a049c2b2d279"
      },
      "execution_count": 34,
      "outputs": [
        {
          "output_type": "execute_result",
          "data": {
            "text/plain": [
              "('text', '100', '3.14')"
            ]
          },
          "metadata": {},
          "execution_count": 34
        }
      ]
    }
  ],
  "metadata": {
    "kernelspec": {
      "display_name": "Python 3",
      "language": "python",
      "name": "python3"
    },
    "language_info": {
      "codemirror_mode": {
        "name": "ipython",
        "version": 3
      },
      "file_extension": ".py",
      "mimetype": "text/x-python",
      "name": "python",
      "nbconvert_exporter": "python",
      "pygments_lexer": "ipython3",
      "version": "3.8.5"
    },
    "toc": {
      "base_numbering": 1,
      "nav_menu": {},
      "number_sections": false,
      "sideBar": true,
      "skip_h1_title": false,
      "title_cell": "Table of Contents",
      "title_sidebar": "Contents",
      "toc_cell": false,
      "toc_position": {},
      "toc_section_display": true,
      "toc_window_display": true
    },
    "colab": {
      "provenance": [],
      "toc_visible": true,
      "include_colab_link": true
    }
  },
  "nbformat": 4,
  "nbformat_minor": 0
}